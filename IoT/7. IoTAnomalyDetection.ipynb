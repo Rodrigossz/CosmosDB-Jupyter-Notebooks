{
  "cells": [
    {
      "cell_type": "markdown",
      "metadata": {
        "nteract": {
          "transient": {
            "deleting": false
          }
        }
      },
      "source": "# IoT Anomaly Detection with Azure Cosmos DB and Cognitive Services\n\nIn this notebook, we'll simulate IoT devices, visualize the data in [Azure Cosmos DB](https://www.gotcosmos.com/tools), use [Cognitive Service](https://azure.microsoft.com/en-us/services/cognitive-services/anomaly-detector/) to perform anomaly detection, and finalize using [nteract](https://nteract.io/) and [Matplotlib](https://matplotlib.org/) visualizations.\n\n&nbsp;\n\nYou can customize the code as necessary, changing the units, measures, number of devices, and outliers' behavior. Tips will and best practices will be shared in the code comments and **\"Did you know?\"** sections. \n\n## Business Scenario\n\nThe hypothetical scenario is Power Plant, where IoT devices are monitoring [steam turbines](https://en.wikipedia.org/wiki/Steam_turbine). The code will create realistic Revolutions per minute (RPM) and Megawatts (MW) data for each turbine. \n\n&nbsp;\n\nThere will be one outlier per minute, in random frequency. In those situations, RPM values will go up and MW output will go down, for circuit protection. The idea is to see the data varying at the same time, but with different signals. Suggested analytics scenarios are [Predictive Maintenance](https://docs.microsoft.com/en-us/azure/machine-learning/team-data-science-process/predictive-maintenance-playbook) and [Anomaly Detection](https://docs.microsoft.com/en-us/azure/machine-learning/team-data-science-process/apps-anomaly-detection-api).\n\n\n&nbsp;\n\n<img src=\"https://cosmosnotebooksdata.blob.core.windows.net/notebookdata/iot-ai-notebook-1.png\" alt=\"Built-in nteract \" width=\"50%\"/>\n\n&nbsp;\n\n>**Did you know?**  This code is not production grade, it was created as a demo and tutorial. In a production scenario, this notebook code should be enriched with error handling, [global data distribution](https://docs.microsoft.com/en-us/azure/cosmos-db/distribute-data-globally), etc. \n\n&nbsp;\n\n>**Did you know?** Azure Cosmos DB is a great fit for IoT workloads. Click [here](https://docs.microsoft.com/en-us/azure/cosmos-db/use-cases) to learn more about Cosmos Db recommended use cases.\n"
    },
    {
      "cell_type": "markdown",
      "metadata": {
        "nteract": {
          "transient": {
            "deleting": false
          }
        }
      },
      "source": "## Step 1 - Initialization \n\nWe will start by importing the required libraries and creating the database and the container. To connect to the service, you can use our built-in instance of ```cosmos_client```. This is a ready to use instance of [CosmosClient](https://docs.microsoft.com/python/api/azure-cosmos/azure.cosmos.cosmos_client.cosmosclient?view=azure-python) from our Python SDK. It already has the context of this account baked in.\n\n&nbsp;\n\nIn this step we will:\n\n&nbsp;\n\n+ Create a database.\n+ Create a container with 400 RU/s. In Azure Cosmos Db, each write uses 5 RUs for each 1 KB. For more details, check the **3.RequestUnit** notebook.\n+ Because of the 400 RU/s, we will simulate up to 20 IoT devices at the same time. \n+ Each one of them will create 2 data points (RPM and MW) per second. \n\n&nbsp;\n\n>**Did you know?** If you run the ```dir()``` python command, you will see which libraries are loaded. Libraries like ```json``` and ```azure-cosmos``` are pre-loaded."
    },
    {
      "cell_type": "code",
      "execution_count": null,
      "metadata": {
        "collapsed": false,
        "execution": {
          "iopub.execute_input": "2020-05-01T18:33:11.910Z",
          "iopub.status.busy": "2020-05-01T18:33:11.881Z",
          "iopub.status.idle": "2020-05-01T18:33:12.032Z",
          "shell.execute_reply": "2020-05-01T18:33:12.106Z"
        },
        "jupyter": {
          "outputs_hidden": false,
          "source_hidden": false
        },
        "nteract": {
          "transient": {
            "deleting": false
          }
        },
        "trusted": false
      },
      "outputs": [],
      "source": "import random # to create random IoT measures based on random variations\nimport datetime\nimport time\nimport azure.cosmos as cosmos\nimport azure.cosmos.exceptions as exceptions\nfrom azure.cosmos.partition_key import PartitionKey\nimport uuid # to create an unique id for each data point\nimport warnings \n\n# Turning off unnecessary warnings\nwarnings.filterwarnings(\"ignore\")\n\n#  Initialization\ndb_name = \"CosmosAnalyticsDemoDb\"\ncontainer_name = \"IotData\"\npartition_key_value = \"/deviceId\"\n\n# Key Objects Creation\ndatabase_client = cosmos_client.create_database_if_not_exists(db_name)\nprint('Database with id \\'{0}\\' created'.format(db_name))\n\ncontainer_client = database_client.create_container_if_not_exists(id=container_name, partition_key=PartitionKey(path=partition_key_value),offer_throughput=400)\nprint('Container with id \\'{0}\\' created'.format(container_name))"
    },
    {
      "cell_type": "markdown",
      "metadata": {
        "nteract": {
          "transient": {
            "deleting": false
          }
        }
      },
      "source": "## Step 2 - Creating the IoT Values Function\n\nThis is the function that creates the IoT values for each unit. Some important details are:\n\n&nbsp;\n\n+ Each measured unit (RPM and MW) has a base value and a variation percentage, that can be positive or negative.\n+ Outliers will have a bigger base value and a bigger variation.\n\n&nbsp;\n\nThe expexted output of this function is:\n\n```json\n{'id': 'bb33b139-b2bb-4110-8cc5-47c47d324599', \n 'dateTime': '2020-04-17 02:04:09', \n 'deviceId': 'dev-1', \n 'measureType': 'Rotation Speed', \n 'unitSymbol': 'RPM', \n 'unit': 'Revolutions per Minute', \n 'measureValue': 3124}\n```"
    },
    {
      "cell_type": "code",
      "execution_count": null,
      "metadata": {
        "collapsed": false,
        "execution": {
          "iopub.execute_input": "2020-05-01T18:33:16.849Z",
          "iopub.status.busy": "2020-05-01T18:33:16.833Z",
          "iopub.status.idle": "2020-05-01T18:33:16.951Z",
          "shell.execute_reply": "2020-05-01T18:33:17.193Z"
        },
        "jupyter": {
          "outputs_hidden": false,
          "source_hidden": false
        },
        "nteract": {
          "transient": {
            "deleting": false
          }
        },
        "trusted": false
      },
      "outputs": [],
      "source": "###########################################################################################\n# The function that creates and returns IoT values\n###########################################################################################\ndef retunrIotValues(deviceId, measureType, unitSymbol, unit, baseValue, variationPercentage, isOutlier, outlierSignal):\n    if (isOutlier == 0):\n        value = random.randint(int(baseValue - (baseValue * (variationPercentage)/100)), int(baseValue + (baseValue * (variationPercentage)/100 )))\n    else: #Outlier!    \n        variationPercentage = int(variationPercentage*1.3) # 30% bigger Variation\n        if (outlierSignal == 'Positive'):\n            baseValue = int(baseValue*1.3) # 30% bigger base value\n            value = random.randint(int(baseValue), int(baseValue + (baseValue * (variationPercentage)/100 )))\n        else:\n            baseValue = int(baseValue *0.7) # 30% smaller base value\n            value = random.randint(int(baseValue - (baseValue * (variationPercentage)/100)), int(baseValue))\n\n    docId = str(uuid.uuid4())\n\n    iotData = {\n    'id' : docId,\n    'dateTime' : datetime.datetime.now().strftime(\"%Y-%m-%d %H:%M:%S\"),\n    'deviceId' : deviceId,\n    'measureType' : measureType,\n    'unitSymbol' : unitSymbol,\n    'unit' : unit,\n    'measureValue' : value\n    }\n\n    return iotData\n        \n\n\nprint('Functions retunrIotValues ok')"
    },
    {
      "cell_type": "markdown",
      "metadata": {
        "nteract": {
          "transient": {
            "deleting": false
          }
        }
      },
      "source": "## Step 3 - Creating the Data Generator\n\nThis is the main function. Some important details are:\n\n&nbsp\n\n+ It runs for the number of minutes you want or until you stop it. Minimum value is 1 minute.\n+ There will be 1 random outlier per minute. \n+ For 2+ minutes executions, the outliers may happen in sequence or not.\n+ All devices have outliers at the same time, but with different variations and signals (positive x negative)."
    },
    {
      "cell_type": "code",
      "execution_count": 4,
      "metadata": {
        "collapsed": false,
        "execution": {
          "iopub.execute_input": "2020-05-01T18:33:20.271Z",
          "iopub.status.busy": "2020-05-01T18:33:20.249Z",
          "iopub.status.idle": "2020-05-01T18:33:20.342Z",
          "shell.execute_reply": "2020-05-01T18:33:20.371Z"
        },
        "jupyter": {
          "outputs_hidden": false,
          "source_hidden": false
        },
        "nteract": {
          "transient": {
            "deleting": false
          }
        },
        "trusted": false
      },
      "outputs": [
        {
          "name": "stdout",
          "output_type": "stream",
          "text": "Function iotSimulator ok\n"
        }
      ],
      "source": "###########################################################################################\n# The Main function\n###########################################################################################\ndef iotSimulator(numDevs=20, minutes=1, printOutput=0): \n\n    # Initial validations\n    \n    if (numDevs > 20):\n        print (\"First parameter: Too many devices, maximum = 20\")\n        return\n    \n    if (minutes == 0):\n        print (\"Second parameter: Minimum minutes = 1\")\n        return\n\n    if (printOutput != 1) and (printOutput != 0):\n        print (\"Third parameter: Only 1 (yes) and 0 (no) are accepted for terminal output printing\")\n        return\n\n    print ('Validation passed! Starting the process at: ',datetime.datetime.now().strftime(\"%Y-%m-%d %H:%M:%S\"))\n    print ('Simulation for '+ str(numDevs)+' and '+ str(minutes)+' minutes.')\n\n    # Devices list, startint with dev-1\n    devPrefix = 'dev-'\n    devicesList = [ ] \n    for i in range(1,numDevs+1):\n        deviceId = devPrefix + str(i)\n        devicesList.append(deviceId)\n\n    # Units list\n    # This is a Power Plant Scenario. Chage as you want\n    # layoyt is: measureType, unitSymbol, unit,baseValue, variationPercentage, outlierSignal\n    # reference: https://www.mhps.com/products/steamturbines/lineup/thermal-power/1200/\n    unitList = [('Rotation Speed','RPM','Revolutions per Minute',3000,10, 'Positive'), ('Output','MW','MegaWatts',1500,10,'Negative')]\n\n    \n    # How many measures based on the number per minutes?\n    numberMeasures = int(minutes)*60 \n    accNumberMeasures = 0\n    \n    # Outliers\n    accOutliers = 0\n    ouliersSet = set()\n    while len(ouliersSet) < int(minutes):\n        outlier = random.randint(1, int(minutes)*60)\n        ouliersSet.add(outlier)\n    print ('The random outlier(s) will happen at these excution seconds: ',ouliersSet)\n    \n    # Create IoT Values based on a base value and a variation. Every device will return 1 value per unit per second.\n    # Data is printed and saved into a Cosmos DB Container\n    # Data modeling: We could have one document per device. But this approach is addressed in the data modeling notebook.\n    while (accNumberMeasures <= numberMeasures):\n        time.sleep(1)\n        for deviceId in devicesList:\n            for unit in unitList:\n                if (accNumberMeasures in ouliersSet):  # If yes, time for an outlier\n                    iotData = retunrIotValues (deviceId,unit[0],unit[1],unit[2],unit[3],unit[4],1,unit[5])\n                    print('Outlier:',deviceId,unit[2])\n                else: # Regular measure\n                    iotData = retunrIotValues (deviceId,unit[0],unit[1],unit[2],unit[3],unit[4],0,unit[5])\n                container_client.create_item(body=iotData)\n                if (printOutput == 1):\n                    print(iotData)\n        accNumberMeasures +=1 \n    print ('Finishing process at: ',datetime.datetime.now().strftime(\"%Y-%m-%d %H:%M:%S\"))\n        \nprint ('Function iotSimulator ok')"
    },
    {
      "cell_type": "markdown",
      "metadata": {
        "nteract": {
          "transient": {
            "deleting": false
          }
        }
      },
      "source": "## Step 4 - Running the Data Generator\n\n&nbsp\n\n+ 1st parameter is the number of devices.\n+ 2nd parameter is the number of minutes. Minimum is 1 minute.\n+ 3rd parameter is a Boolean, if you want to print the IoT Data to your terminal. It is a good idea to turn it off for +5 minutes executions."
    },
    {
      "cell_type": "code",
      "execution_count": 6,
      "metadata": {
        "collapsed": false,
        "execution": {
          "iopub.execute_input": "2020-05-01T18:33:58.264Z",
          "iopub.status.busy": "2020-05-01T18:33:58.252Z",
          "iopub.status.idle": "2020-05-01T18:35:11.606Z",
          "shell.execute_reply": "2020-05-01T18:35:11.620Z"
        },
        "jupyter": {
          "outputs_hidden": false,
          "source_hidden": false
        },
        "nteract": {
          "transient": {
            "deleting": false
          }
        },
        "trusted": false
      },
      "outputs": [
        {
          "name": "stdout",
          "output_type": "stream",
          "text": "Validation passed! Starting the process at:  2020-05-01 18:33:49\nSimulation for 10 and 1 minutes.\nThe random outlier(s) will happen at these excution seconds:  {49}\n{'id': 'a0aa9f7c-848b-40b0-a2e6-5f8474868667', 'dateTime': '2020-05-01 18:33:50', 'deviceId': 'dev-1', 'measureType': 'Rotation Speed', 'unitSymbol': 'RPM', 'unit': 'Revolutions per Minute', 'measureValue': 2893}\n{'id': '3126630c-ad35-4f0c-829b-d5b9f0e55320', 'dateTime': '2020-05-01 18:33:50', 'deviceId': 'dev-1', 'measureType': 'Output', 'unitSymbol': 'MW', 'unit': 'MegaWatts', 'measureValue': 1367}\n{'id': '81f0b2e8-4959-47ae-9727-8b32c1abddf7', 'dateTime': '2020-05-01 18:33:50', 'deviceId': 'dev-2', 'measureType': 'Rotation Speed', 'unitSymbol': 'RPM', 'unit': 'Revolutions per Minute', 'measureValue': 3120}\n{'id': '964049eb-1492-4065-bdaa-e63fe93d6ebe', 'dateTime': '2020-05-01 18:33:50', 'deviceId': 'dev-2', 'measureType': 'Output', 'unitSymbol': 'MW', 'unit': 'MegaWatts', 'measureValue': 1557}\n{'id': '4bf6da1c-28ce-4775-9f1f-5eee2e21d80d', 'dateTime': '2020-05-01 18:33:50', 'deviceId': 'dev-3', 'measureType': 'Rotation Speed', 'unitSymbol': 'RPM', 'unit': 'Revolutions per Minute', 'measureValue': 3013}\n{'id': '919c712a-182c-4c4b-bbe9-3aae130e8fd8', 'dateTime': '2020-05-01 18:33:50', 'deviceId': 'dev-3', 'measureType': 'Output', 'unitSymbol': 'MW', 'unit': 'MegaWatts', 'measureValue': 1429}\n{'id': '08695151-ca2d-438f-ba1e-ae7106df0f87', 'dateTime': '2020-05-01 18:33:50', 'deviceId': 'dev-4', 'measureType': 'Rotation Speed', 'unitSymbol': 'RPM', 'unit': 'Revolutions per Minute', 'measureValue': 2986}\n{'id': 'eec2b37e-03e6-4fe5-9927-d4e9a4ac6c96', 'dateTime': '2020-05-01 18:33:50', 'deviceId': 'dev-4', 'measureType': 'Output', 'unitSymbol': 'MW', 'unit': 'MegaWatts', 'measureValue': 1461}\n{'id': '4a62559e-a55d-430a-849d-5547023b9903', 'dateTime': '2020-05-01 18:33:50', 'deviceId': 'dev-5', 'measureType': 'Rotation Speed', 'unitSymbol': 'RPM', 'unit': 'Revolutions per Minute', 'measureValue': 2863}\n{'id': '584010f4-003b-4c79-976e-5c5eb300940c', 'dateTime': '2020-05-01 18:33:50', 'deviceId': 'dev-5', 'measureType': 'Output', 'unitSymbol': 'MW', 'unit': 'MegaWatts', 'measureValue': 1478}\n{'id': 'a0a1f9c7-5953-4737-8596-23df4b4b1159', 'dateTime': '2020-05-01 18:33:50', 'deviceId': 'dev-6', 'measureType': 'Rotation Speed', 'unitSymbol': 'RPM', 'unit': 'Revolutions per Minute', 'measureValue': 2781}\n{'id': 'ce97d503-d7fc-447a-b6d3-8091439b7396', 'dateTime': '2020-05-01 18:33:50', 'deviceId': 'dev-6', 'measureType': 'Output', 'unitSymbol': 'MW', 'unit': 'MegaWatts', 'measureValue': 1450}\n{'id': '7d11e679-b89f-4fa6-8800-8f6ef9b2ca14', 'dateTime': '2020-05-01 18:33:51', 'deviceId': 'dev-7', 'measureType': 'Rotation Speed', 'unitSymbol': 'RPM', 'unit': 'Revolutions per Minute', 'measureValue': 3174}\n{'id': '0d888641-4c18-4821-975f-3e79f5b7f6d1', 'dateTime': '2020-05-01 18:33:51', 'deviceId': 'dev-7', 'measureType': 'Output', 'unitSymbol': 'MW', 'unit': 'MegaWatts', 'measureValue': 1365}\n{'id': '3604e940-6c3f-47a3-917c-a1de10d08e15', 'dateTime': '2020-05-01 18:33:51', 'deviceId': 'dev-8', 'measureType': 'Rotation Speed', 'unitSymbol': 'RPM', 'unit': 'Revolutions per Minute', 'measureValue': 2829}\n{'id': '30d91f91-3ea2-453a-98ab-689a508f7575', 'dateTime': '2020-05-01 18:33:51', 'deviceId': 'dev-8', 'measureType': 'Output', 'unitSymbol': 'MW', 'unit': 'MegaWatts', 'measureValue': 1516}\n{'id': '451c7087-c0e5-4f84-8fc3-5d9d017153ee', 'dateTime': '2020-05-01 18:33:51', 'deviceId': 'dev-9', 'measureType': 'Rotation Speed', 'unitSymbol': 'RPM', 'unit': 'Revolutions per Minute', 'measureValue': 2964}\n{'id': 'ca99e764-eb40-4e7a-907b-e8e68369bc9b', 'dateTime': '2020-05-01 18:33:51', 'deviceId': 'dev-9', 'measureType': 'Output', 'unitSymbol': 'MW', 'unit': 'MegaWatts', 'measureValue': 1569}\n{'id': 'eb04414c-ac2d-42a2-a823-58d1ea89a8a7', 'dateTime': '2020-05-01 18:33:51', 'deviceId': 'dev-10', 'measureType': 'Rotation Speed', 'unitSymbol': 'RPM', 'unit': 'Revolutions per Minute', 'measureValue': 2872}\n{'id': 'cfe905ae-7f18-4fd2-8a2b-e4dc8b601bc0', 'dateTime': '2020-05-01 18:33:51', 'deviceId': 'dev-10', 'measureType': 'Output', 'unitSymbol': 'MW', 'unit': 'MegaWatts', 'measureValue': 1589}\n{'id': '6af8aa6c-d6ac-41e2-a01c-738718345034', 'dateTime': '2020-05-01 18:33:52', 'deviceId': 'dev-1', 'measureType': 'Rotation Speed', 'unitSymbol': 'RPM', 'unit': 'Revolutions per Minute', 'measureValue': 2893}\n{'id': '2a7157ef-5f5f-4e7d-b34c-3cda22ff5b1b', 'dateTime': '2020-05-01 18:33:52', 'deviceId': 'dev-1', 'measureType': 'Output', 'unitSymbol': 'MW', 'unit': 'MegaWatts', 'measureValue': 1350}\n{'id': '63eea99e-aa40-4e35-90d6-30c5ffa55d54', 'dateTime': '2020-05-01 18:33:52', 'deviceId': 'dev-2', 'measureType': 'Rotation Speed', 'unitSymbol': 'RPM', 'unit': 'Revolutions per Minute', 'measureValue': 3254}\n{'id': '9b723875-779d-46af-b3c2-962955076ce9', 'dateTime': '2020-05-01 18:33:52', 'deviceId': 'dev-2', 'measureType': 'Output', 'unitSymbol': 'MW', 'unit': 'MegaWatts', 'measureValue': 1631}\n{'id': 'b09d3929-9b0a-41ae-815c-479e316cbf01', 'dateTime': '2020-05-01 18:33:52', 'deviceId': 'dev-3', 'measureType': 'Rotation Speed', 'unitSymbol': 'RPM', 'unit': 'Revolutions per Minute', 'measureValue': 3130}\n{'id': 'd2cdf321-5c48-4913-9890-6df6a95e6ae6', 'dateTime': '2020-05-01 18:33:52', 'deviceId': 'dev-3', 'measureType': 'Output', 'unitSymbol': 'MW', 'unit': 'MegaWatts', 'measureValue': 1367}\n{'id': '6fdfc438-ded7-4673-838b-beff29bda3a4', 'dateTime': '2020-05-01 18:33:52', 'deviceId': 'dev-4', 'measureType': 'Rotation Speed', 'unitSymbol': 'RPM', 'unit': 'Revolutions per Minute', 'measureValue': 3061}\n{'id': '80376934-a311-4d84-a7ba-d651c99750ee', 'dateTime': '2020-05-01 18:33:52', 'deviceId': 'dev-4', 'measureType': 'Output', 'unitSymbol': 'MW', 'unit': 'MegaWatts', 'measureValue': 1420}\n{'id': '703dcf71-a14b-4008-a843-a8ee7bc08053', 'dateTime': '2020-05-01 18:33:52', 'deviceId': 'dev-5', 'measureType': 'Rotation Speed', 'unitSymbol': 'RPM', 'unit': 'Revolutions per Minute', 'measureValue': 2990}\n{'id': 'caf5d826-7aaa-40a5-b37a-f8a726948ea7', 'dateTime': '2020-05-01 18:33:52', 'deviceId': 'dev-5', 'measureType': 'Output', 'unitSymbol': 'MW', 'unit': 'MegaWatts', 'measureValue': 1380}\n{'id': '65c95f3f-8ce6-452e-853f-dc56bea6235d', 'dateTime': '2020-05-01 18:33:52', 'deviceId': 'dev-6', 'measureType': 'Rotation Speed', 'unitSymbol': 'RPM', 'unit': 'Revolutions per Minute', 'measureValue': 3027}\n{'id': '2f9f3975-be16-436e-88a4-23f2ff071292', 'dateTime': '2020-05-01 18:33:52', 'deviceId': 'dev-6', 'measureType': 'Output', 'unitSymbol': 'MW', 'unit': 'MegaWatts', 'measureValue': 1550}\n{'id': 'f9264d36-dd06-4656-a48b-f8d0e9d69790', 'dateTime': '2020-05-01 18:33:52', 'deviceId': 'dev-7', 'measureType': 'Rotation Speed', 'unitSymbol': 'RPM', 'unit': 'Revolutions per Minute', 'measureValue': 2976}\n{'id': '5f352f3a-daca-41bc-8a77-f8dc326b770e', 'dateTime': '2020-05-01 18:33:52', 'deviceId': 'dev-7', 'measureType': 'Output', 'unitSymbol': 'MW', 'unit': 'MegaWatts', 'measureValue': 1380}\n{'id': '2920e650-54f9-484f-a988-ac464c3a1c01', 'dateTime': '2020-05-01 18:33:52', 'deviceId': 'dev-8', 'measureType': 'Rotation Speed', 'unitSymbol': 'RPM', 'unit': 'Revolutions per Minute', 'measureValue': 3200}\n{'id': '65c1b07c-b8fd-4d05-8ce9-7ca18a1a7730', 'dateTime': '2020-05-01 18:33:52', 'deviceId': 'dev-8', 'measureType': 'Output', 'unitSymbol': 'MW', 'unit': 'MegaWatts', 'measureValue': 1352}\n{'id': 'cc679ba9-c983-4ed7-9ddc-05fd7ef457e0', 'dateTime': '2020-05-01 18:33:52', 'deviceId': 'dev-9', 'measureType': 'Rotation Speed', 'unitSymbol': 'RPM', 'unit': 'Revolutions per Minute', 'measureValue': 3014}\n{'id': '269ca1bb-c79e-4d2b-b6e6-83fa06c904c7', 'dateTime': '2020-05-01 18:33:52', 'deviceId': 'dev-9', 'measureType': 'Output', 'unitSymbol': 'MW', 'unit': 'MegaWatts', 'measureValue': 1453}\n{'id': '0ef1c202-6b98-41e6-ac4d-32ea85b28631', 'dateTime': '2020-05-01 18:33:52', 'deviceId': 'dev-10', 'measureType': 'Rotation Speed', 'unitSymbol': 'RPM', 'unit': 'Revolutions per Minute', 'measureValue': 3042}\n{'id': '4d55c8c2-e76e-4c16-877d-bd2d457fe6bf', 'dateTime': '2020-05-01 18:33:52', 'deviceId': 'dev-10', 'measureType': 'Output', 'unitSymbol': 'MW', 'unit': 'MegaWatts', 'measureValue': 1557}\n{'id': '649a0032-a620-45e8-940d-5f58f77398f7', 'dateTime': '2020-05-01 18:33:53', 'deviceId': 'dev-1', 'measureType': 'Rotation Speed', 'unitSymbol': 'RPM', 'unit': 'Revolutions per Minute', 'measureValue': 3044}\n{'id': 'b986972e-2ba2-4295-9682-2897798dce30', 'dateTime': '2020-05-01 18:33:53', 'deviceId': 'dev-1', 'measureType': 'Output', 'unitSymbol': 'MW', 'unit': 'MegaWatts', 'measureValue': 1575}\n{'id': 'fec5745f-3fbf-4343-898b-d237cfc4c253', 'dateTime': '2020-05-01 18:33:53', 'deviceId': 'dev-2', 'measureType': 'Rotation Speed', 'unitSymbol': 'RPM', 'unit': 'Revolutions per Minute', 'measureValue': 3007}\n{'id': '976f6332-b9f2-4a9b-bc8f-c6999208f47e', 'dateTime': '2020-05-01 18:33:53', 'deviceId': 'dev-2', 'measureType': 'Output', 'unitSymbol': 'MW', 'unit': 'MegaWatts', 'measureValue': 1466}\n{'id': '84461b7e-c8a5-4f26-b68a-59d8b72f00fd', 'dateTime': '2020-05-01 18:33:53', 'deviceId': 'dev-3', 'measureType': 'Rotation Speed', 'unitSymbol': 'RPM', 'unit': 'Revolutions per Minute', 'measureValue': 2924}\n{'id': 'a423ec15-ffb5-4936-bcca-fd71d72369ff', 'dateTime': '2020-05-01 18:33:53', 'deviceId': 'dev-3', 'measureType': 'Output', 'unitSymbol': 'MW', 'unit': 'MegaWatts', 'measureValue': 1455}\n{'id': '5f3c49d7-7164-4e9f-a203-954ecefd1c2c', 'dateTime': '2020-05-01 18:33:53', 'deviceId': 'dev-4', 'measureType': 'Rotation Speed', 'unitSymbol': 'RPM', 'unit': 'Revolutions per Minute', 'measureValue': 2919}\n{'id': 'c73ac8df-176d-4d5d-875f-584758a72b89', 'dateTime': '2020-05-01 18:33:53', 'deviceId': 'dev-4', 'measureType': 'Output', 'unitSymbol': 'MW', 'unit': 'MegaWatts', 'measureValue': 1525}\n{'id': '3ad81518-1edc-4688-8b12-08e7cbad0e7c', 'dateTime': '2020-05-01 18:33:53', 'deviceId': 'dev-5', 'measureType': 'Rotation Speed', 'unitSymbol': 'RPM', 'unit': 'Revolutions per Minute', 'measureValue': 2732}\n{'id': '8c6e611d-bdcd-4683-a40a-3c9ac594c49f', 'dateTime': '2020-05-01 18:33:53', 'deviceId': 'dev-5', 'measureType': 'Output', 'unitSymbol': 'MW', 'unit': 'MegaWatts', 'measureValue': 1363}\n{'id': 'be114617-f3a3-45b8-8bcd-ea22fee35b29', 'dateTime': '2020-05-01 18:33:53', 'deviceId': 'dev-6', 'measureType': 'Rotation Speed', 'unitSymbol': 'RPM', 'unit': 'Revolutions per Minute', 'measureValue': 3274}\n{'id': '5ec576ff-5f64-4765-8386-8a30368c60cf', 'dateTime': '2020-05-01 18:33:53', 'deviceId': 'dev-6', 'measureType': 'Output', 'unitSymbol': 'MW', 'unit': 'MegaWatts', 'measureValue': 1359}\n{'id': 'b6c7a771-364b-4922-8b74-4698ea09488a', 'dateTime': '2020-05-01 18:33:53', 'deviceId': 'dev-7', 'measureType': 'Rotation Speed', 'unitSymbol': 'RPM', 'unit': 'Revolutions per Minute', 'measureValue': 2714}\n{'id': '32e143ce-b07e-439c-99f5-001882060254', 'dateTime': '2020-05-01 18:33:53', 'deviceId': 'dev-7', 'measureType': 'Output', 'unitSymbol': 'MW', 'unit': 'MegaWatts', 'measureValue': 1379}\n{'id': '9775ed62-3c11-4175-a736-3dff9b224c46', 'dateTime': '2020-05-01 18:33:53', 'deviceId': 'dev-8', 'measureType': 'Rotation Speed', 'unitSymbol': 'RPM', 'unit': 'Revolutions per Minute', 'measureValue': 2815}\n{'id': 'e00cc041-5bfc-406b-be9c-d1fb41e79ea1', 'dateTime': '2020-05-01 18:33:53', 'deviceId': 'dev-8', 'measureType': 'Output', 'unitSymbol': 'MW', 'unit': 'MegaWatts', 'measureValue': 1646}\n{'id': '0d066046-2360-480a-8515-abc6a6999635', 'dateTime': '2020-05-01 18:33:53', 'deviceId': 'dev-9', 'measureType': 'Rotation Speed', 'unitSymbol': 'RPM', 'unit': 'Revolutions per Minute', 'measureValue': 3053}\n{'id': '33ab136c-a2ad-422e-bcfb-e8572dbbc7d8', 'dateTime': '2020-05-01 18:33:53', 'deviceId': 'dev-9', 'measureType': 'Output', 'unitSymbol': 'MW', 'unit': 'MegaWatts', 'measureValue': 1568}\n{'id': 'cf00e42d-220c-4400-8984-04425043490a', 'dateTime': '2020-05-01 18:33:53', 'deviceId': 'dev-10', 'measureType': 'Rotation Speed', 'unitSymbol': 'RPM', 'unit': 'Revolutions per Minute', 'measureValue': 3136}\n{'id': '15f0da1b-cc4b-4cc9-a3fb-9b77c6e8524d', 'dateTime': '2020-05-01 18:33:53', 'deviceId': 'dev-10', 'measureType': 'Output', 'unitSymbol': 'MW', 'unit': 'MegaWatts', 'measureValue': 1421}\n{'id': '59e5b9a1-af04-49ba-8e4b-28a0744d6151', 'dateTime': '2020-05-01 18:33:54', 'deviceId': 'dev-1', 'measureType': 'Rotation Speed', 'unitSymbol': 'RPM', 'unit': 'Revolutions per Minute', 'measureValue': 2729}\n{'id': 'c842df73-f8a4-4fba-af1c-25522c8f4a48', 'dateTime': '2020-05-01 18:33:54', 'deviceId': 'dev-1', 'measureType': 'Output', 'unitSymbol': 'MW', 'unit': 'MegaWatts', 'measureValue': 1510}\n{'id': '5b3deef1-a0c6-4022-a30d-3637558398ea', 'dateTime': '2020-05-01 18:33:54', 'deviceId': 'dev-2', 'measureType': 'Rotation Speed', 'unitSymbol': 'RPM', 'unit': 'Revolutions per Minute', 'measureValue': 2906}\n{'id': '48ebdd6b-d23c-4198-9ce4-177ae038abc6', 'dateTime': '2020-05-01 18:33:54', 'deviceId': 'dev-2', 'measureType': 'Output', 'unitSymbol': 'MW', 'unit': 'MegaWatts', 'measureValue': 1431}\n{'id': 'c21ddd31-6930-4520-b00f-6d2f234417ff', 'dateTime': '2020-05-01 18:33:54', 'deviceId': 'dev-3', 'measureType': 'Rotation Speed', 'unitSymbol': 'RPM', 'unit': 'Revolutions per Minute', 'measureValue': 3215}\n{'id': '5f99883b-07ee-449a-b9d9-f1e4d82d9d10', 'dateTime': '2020-05-01 18:33:54', 'deviceId': 'dev-3', 'measureType': 'Output', 'unitSymbol': 'MW', 'unit': 'MegaWatts', 'measureValue': 1412}\n{'id': '37445462-2ca8-4a2c-865d-e79cba743e1d', 'dateTime': '2020-05-01 18:33:54', 'deviceId': 'dev-4', 'measureType': 'Rotation Speed', 'unitSymbol': 'RPM', 'unit': 'Revolutions per Minute', 'measureValue': 3210}\n{'id': '9da5b53d-c55f-481b-bb55-dbaa0278a28b', 'dateTime': '2020-05-01 18:33:54', 'deviceId': 'dev-4', 'measureType': 'Output', 'unitSymbol': 'MW', 'unit': 'MegaWatts', 'measureValue': 1619}\n{'id': 'd8959fcf-1ce3-4f2a-b7a9-2befd7ce3101', 'dateTime': '2020-05-01 18:33:54', 'deviceId': 'dev-5', 'measureType': 'Rotation Speed', 'unitSymbol': 'RPM', 'unit': 'Revolutions per Minute', 'measureValue': 2998}\n{'id': 'c83bb8f3-8f98-44f5-b007-098262d1ed3c', 'dateTime': '2020-05-01 18:33:54', 'deviceId': 'dev-5', 'measureType': 'Output', 'unitSymbol': 'MW', 'unit': 'MegaWatts', 'measureValue': 1422}\n{'id': '7e995752-ccc9-4470-be4d-e65b787779f1', 'dateTime': '2020-05-01 18:33:54', 'deviceId': 'dev-6', 'measureType': 'Rotation Speed', 'unitSymbol': 'RPM', 'unit': 'Revolutions per Minute', 'measureValue': 2905}\n{'id': 'd156076c-9b2f-4733-b27a-4f7b3177c1b7', 'dateTime': '2020-05-01 18:33:54', 'deviceId': 'dev-6', 'measureType': 'Output', 'unitSymbol': 'MW', 'unit': 'MegaWatts', 'measureValue': 1619}\n{'id': '3a2ecb5a-a5b1-437e-8401-d5eff146085a', 'dateTime': '2020-05-01 18:33:54', 'deviceId': 'dev-7', 'measureType': 'Rotation Speed', 'unitSymbol': 'RPM', 'unit': 'Revolutions per Minute', 'measureValue': 2712}\n{'id': '66635fa2-f641-46a9-893f-936b14c8a397', 'dateTime': '2020-05-01 18:33:54', 'deviceId': 'dev-7', 'measureType': 'Output', 'unitSymbol': 'MW', 'unit': 'MegaWatts', 'measureValue': 1598}\n{'id': 'f6118c6d-1c5b-44a0-8e4c-4387e9ec2e83', 'dateTime': '2020-05-01 18:33:54', 'deviceId': 'dev-8', 'measureType': 'Rotation Speed', 'unitSymbol': 'RPM', 'unit': 'Revolutions per Minute', 'measureValue': 3263}\n{'id': 'da68bcb1-cd33-47da-96ad-50d5cf40580f', 'dateTime': '2020-05-01 18:33:54', 'deviceId': 'dev-8', 'measureType': 'Output', 'unitSymbol': 'MW', 'unit': 'MegaWatts', 'measureValue': 1497}\n{'id': 'a76395e2-6c3b-433c-bbc7-7f267a24dd31', 'dateTime': '2020-05-01 18:33:54', 'deviceId': 'dev-9', 'measureType': 'Rotation Speed', 'unitSymbol': 'RPM', 'unit': 'Revolutions per Minute', 'measureValue': 3101}\n{'id': 'b6499eac-a17e-4f6f-b418-5c8b30b16a40', 'dateTime': '2020-05-01 18:33:54', 'deviceId': 'dev-9', 'measureType': 'Output', 'unitSymbol': 'MW', 'unit': 'MegaWatts', 'measureValue': 1400}\n{'id': '36dd1573-03f4-4fbb-a53f-9191ba1d9442', 'dateTime': '2020-05-01 18:33:54', 'deviceId': 'dev-10', 'measureType': 'Rotation Speed', 'unitSymbol': 'RPM', 'unit': 'Revolutions per Minute', 'measureValue': 2981}\n{'id': '3f1b3920-2510-4e6b-a905-9d6960167bbe', 'dateTime': '2020-05-01 18:33:54', 'deviceId': 'dev-10', 'measureType': 'Output', 'unitSymbol': 'MW', 'unit': 'MegaWatts', 'measureValue': 1355}\n{'id': '48aaa5e7-c452-481d-9dd2-b0d03600cb28', 'dateTime': '2020-05-01 18:33:55', 'deviceId': 'dev-1', 'measureType': 'Rotation Speed', 'unitSymbol': 'RPM', 'unit': 'Revolutions per Minute', 'measureValue': 3094}\n{'id': '4ee2cba9-58a7-4207-ad8a-afc2edec964a', 'dateTime': '2020-05-01 18:33:55', 'deviceId': 'dev-1', 'measureType': 'Output', 'unitSymbol': 'MW', 'unit': 'MegaWatts', 'measureValue': 1479}\n{'id': '7a640736-4090-435b-ac01-806689f9f6ba', 'dateTime': '2020-05-01 18:33:55', 'deviceId': 'dev-2', 'measureType': 'Rotation Speed', 'unitSymbol': 'RPM', 'unit': 'Revolutions per Minute', 'measureValue': 2916}\n{'id': 'b2307d24-7e22-4ee9-910a-fd1a579501dd', 'dateTime': '2020-05-01 18:33:55', 'deviceId': 'dev-2', 'measureType': 'Output', 'unitSymbol': 'MW', 'unit': 'MegaWatts', 'measureValue': 1378}\n{'id': 'fc9d5047-2294-4999-8969-1e0485f1a51d', 'dateTime': '2020-05-01 18:33:55', 'deviceId': 'dev-3', 'measureType': 'Rotation Speed', 'unitSymbol': 'RPM', 'unit': 'Revolutions per Minute', 'measureValue': 3012}\n{'id': 'd490d881-055f-4ae1-aa48-1d6aec5c6255', 'dateTime': '2020-05-01 18:33:55', 'deviceId': 'dev-3', 'measureType': 'Output', 'unitSymbol': 'MW', 'unit': 'MegaWatts', 'measureValue': 1435}\n{'id': 'f2e55db6-bb6e-4bc2-a92a-af7a1c1037ed', 'dateTime': '2020-05-01 18:33:55', 'deviceId': 'dev-4', 'measureType': 'Rotation Speed', 'unitSymbol': 'RPM', 'unit': 'Revolutions per Minute', 'measureValue': 2781}\n{'id': '22e95374-e434-4dfb-a049-0c7593e69568', 'dateTime': '2020-05-01 18:33:55', 'deviceId': 'dev-4', 'measureType': 'Output', 'unitSymbol': 'MW', 'unit': 'MegaWatts', 'measureValue': 1494}\n{'id': 'c52a6a1a-31b0-4eff-972f-c00477dc44cf', 'dateTime': '2020-05-01 18:33:55', 'deviceId': 'dev-5', 'measureType': 'Rotation Speed', 'unitSymbol': 'RPM', 'unit': 'Revolutions per Minute', 'measureValue': 2739}\n{'id': '90113ad6-026f-4e57-98c4-23ff4259a785', 'dateTime': '2020-05-01 18:33:55', 'deviceId': 'dev-5', 'measureType': 'Output', 'unitSymbol': 'MW', 'unit': 'MegaWatts', 'measureValue': 1384}\n{'id': '7b2dd858-98de-445c-aa9d-7dfac81b6c5a', 'dateTime': '2020-05-01 18:33:55', 'deviceId': 'dev-6', 'measureType': 'Rotation Speed', 'unitSymbol': 'RPM', 'unit': 'Revolutions per Minute', 'measureValue': 3097}\n{'id': '211c9664-1e58-4e73-87c8-b89f4a202e56', 'dateTime': '2020-05-01 18:33:55', 'deviceId': 'dev-6', 'measureType': 'Output', 'unitSymbol': 'MW', 'unit': 'MegaWatts', 'measureValue': 1506}\n{'id': 'afeedf1d-0fdf-48f8-8f85-f3e80922906f', 'dateTime': '2020-05-01 18:33:55', 'deviceId': 'dev-7', 'measureType': 'Rotation Speed', 'unitSymbol': 'RPM', 'unit': 'Revolutions per Minute', 'measureValue': 3040}\n{'id': '2ad6642d-95b7-4610-acd5-e3c58e33fbfb', 'dateTime': '2020-05-01 18:33:55', 'deviceId': 'dev-7', 'measureType': 'Output', 'unitSymbol': 'MW', 'unit': 'MegaWatts', 'measureValue': 1389}\n{'id': 'c20410e5-a045-4a58-b3fd-b17756ae4b42', 'dateTime': '2020-05-01 18:33:55', 'deviceId': 'dev-8', 'measureType': 'Rotation Speed', 'unitSymbol': 'RPM', 'unit': 'Revolutions per Minute', 'measureValue': 3264}\n{'id': '4e08714f-dd29-4dbd-95dc-5f8c375bb0a0', 'dateTime': '2020-05-01 18:33:55', 'deviceId': 'dev-8', 'measureType': 'Output', 'unitSymbol': 'MW', 'unit': 'MegaWatts', 'measureValue': 1520}\n{'id': '77e41431-9914-4af7-ac44-bd7d3d71a9d2', 'dateTime': '2020-05-01 18:33:55', 'deviceId': 'dev-9', 'measureType': 'Rotation Speed', 'unitSymbol': 'RPM', 'unit': 'Revolutions per Minute', 'measureValue': 2890}\n{'id': 'bd8563e9-446b-40c3-8409-f0263df603bb', 'dateTime': '2020-05-01 18:33:55', 'deviceId': 'dev-9', 'measureType': 'Output', 'unitSymbol': 'MW', 'unit': 'MegaWatts', 'measureValue': 1454}\n{'id': 'fe33c704-d683-4719-91c7-d6420e38b26d', 'dateTime': '2020-05-01 18:33:55', 'deviceId': 'dev-10', 'measureType': 'Rotation Speed', 'unitSymbol': 'RPM', 'unit': 'Revolutions per Minute', 'measureValue': 2917}\n{'id': '3b25715e-9354-471f-bf45-818169914f1c', 'dateTime': '2020-05-01 18:33:55', 'deviceId': 'dev-10', 'measureType': 'Output', 'unitSymbol': 'MW', 'unit': 'MegaWatts', 'measureValue': 1529}\n{'id': '129f0c41-88a7-4a80-be0f-41812a6ba38f', 'dateTime': '2020-05-01 18:33:56', 'deviceId': 'dev-1', 'measureType': 'Rotation Speed', 'unitSymbol': 'RPM', 'unit': 'Revolutions per Minute', 'measureValue': 2774}\n{'id': 'ad427edf-034a-4c9d-bc12-b18664b5d518', 'dateTime': '2020-05-01 18:33:56', 'deviceId': 'dev-1', 'measureType': 'Output', 'unitSymbol': 'MW', 'unit': 'MegaWatts', 'measureValue': 1595}\n{'id': '7bfa9260-80d9-430a-a26d-3520c57b2a90', 'dateTime': '2020-05-01 18:33:56', 'deviceId': 'dev-2', 'measureType': 'Rotation Speed', 'unitSymbol': 'RPM', 'unit': 'Revolutions per Minute', 'measureValue': 2806}\n{'id': 'bb579580-8e80-48b5-9668-cf0bab7e70e7', 'dateTime': '2020-05-01 18:33:56', 'deviceId': 'dev-2', 'measureType': 'Output', 'unitSymbol': 'MW', 'unit': 'MegaWatts', 'measureValue': 1402}\n{'id': '43662cb8-e301-4e0a-923a-ac0ae1b6276c', 'dateTime': '2020-05-01 18:33:56', 'deviceId': 'dev-3', 'measureType': 'Rotation Speed', 'unitSymbol': 'RPM', 'unit': 'Revolutions per Minute', 'measureValue': 3129}\n{'id': '0422d161-9c07-44ac-99f8-5ec55f4d3fd3', 'dateTime': '2020-05-01 18:33:56', 'deviceId': 'dev-3', 'measureType': 'Output', 'unitSymbol': 'MW', 'unit': 'MegaWatts', 'measureValue': 1377}\n{'id': '97d79672-0497-42ab-b137-7c04b8e8f9bf', 'dateTime': '2020-05-01 18:33:56', 'deviceId': 'dev-4', 'measureType': 'Rotation Speed', 'unitSymbol': 'RPM', 'unit': 'Revolutions per Minute', 'measureValue': 2805}\n{'id': '920b8bea-f05e-4444-9c7f-110638918018', 'dateTime': '2020-05-01 18:33:56', 'deviceId': 'dev-4', 'measureType': 'Output', 'unitSymbol': 'MW', 'unit': 'MegaWatts', 'measureValue': 1383}\n{'id': 'b38666b9-f7ea-46ba-99b8-bb8dabbed8be', 'dateTime': '2020-05-01 18:33:56', 'deviceId': 'dev-5', 'measureType': 'Rotation Speed', 'unitSymbol': 'RPM', 'unit': 'Revolutions per Minute', 'measureValue': 3142}\n{'id': '3ea8b8a1-d18d-49c9-a7b7-33bc1929585b', 'dateTime': '2020-05-01 18:33:56', 'deviceId': 'dev-5', 'measureType': 'Output', 'unitSymbol': 'MW', 'unit': 'MegaWatts', 'measureValue': 1354}\n{'id': 'f4c9a85a-e0bd-4ac5-b9c9-23f1e3782787', 'dateTime': '2020-05-01 18:33:56', 'deviceId': 'dev-6', 'measureType': 'Rotation Speed', 'unitSymbol': 'RPM', 'unit': 'Revolutions per Minute', 'measureValue': 2822}\n{'id': '534922b8-aae7-4bf4-aef1-220d78066ab3', 'dateTime': '2020-05-01 18:33:56', 'deviceId': 'dev-6', 'measureType': 'Output', 'unitSymbol': 'MW', 'unit': 'MegaWatts', 'measureValue': 1354}\n{'id': 'cd943ea5-df23-45e8-8ef1-e09d7c58b046', 'dateTime': '2020-05-01 18:33:56', 'deviceId': 'dev-7', 'measureType': 'Rotation Speed', 'unitSymbol': 'RPM', 'unit': 'Revolutions per Minute', 'measureValue': 2805}\n{'id': '3250692c-dcef-4a35-8bb3-04d170106470', 'dateTime': '2020-05-01 18:33:56', 'deviceId': 'dev-7', 'measureType': 'Output', 'unitSymbol': 'MW', 'unit': 'MegaWatts', 'measureValue': 1426}\n{'id': '22f154f8-eade-470c-a0e6-ff5473f8ff16', 'dateTime': '2020-05-01 18:33:56', 'deviceId': 'dev-8', 'measureType': 'Rotation Speed', 'unitSymbol': 'RPM', 'unit': 'Revolutions per Minute', 'measureValue': 3038}\n{'id': '9b512d6e-6e31-4095-972c-d90d7665d4df', 'dateTime': '2020-05-01 18:33:57', 'deviceId': 'dev-8', 'measureType': 'Output', 'unitSymbol': 'MW', 'unit': 'MegaWatts', 'measureValue': 1369}\n{'id': '5a198975-5c4b-4374-a6ac-502a48536aac', 'dateTime': '2020-05-01 18:33:57', 'deviceId': 'dev-9', 'measureType': 'Rotation Speed', 'unitSymbol': 'RPM', 'unit': 'Revolutions per Minute', 'measureValue': 2798}\n{'id': 'b0f7e618-80bc-4bc1-abcf-91a1a8fdf9a5', 'dateTime': '2020-05-01 18:33:57', 'deviceId': 'dev-9', 'measureType': 'Output', 'unitSymbol': 'MW', 'unit': 'MegaWatts', 'measureValue': 1415}\n{'id': '56e90be0-58c1-418c-b829-621a6782d1ba', 'dateTime': '2020-05-01 18:33:57', 'deviceId': 'dev-10', 'measureType': 'Rotation Speed', 'unitSymbol': 'RPM', 'unit': 'Revolutions per Minute', 'measureValue': 3300}\n{'id': '367481cf-ade9-43fe-ad77-0a46813834f2', 'dateTime': '2020-05-01 18:33:57', 'deviceId': 'dev-10', 'measureType': 'Output', 'unitSymbol': 'MW', 'unit': 'MegaWatts', 'measureValue': 1585}\n{'id': 'ab97d17f-3e2c-449f-a39e-517ac521d0bc', 'dateTime': '2020-05-01 18:33:58', 'deviceId': 'dev-1', 'measureType': 'Rotation Speed', 'unitSymbol': 'RPM', 'unit': 'Revolutions per Minute', 'measureValue': 3088}\n{'id': '0cf8124c-d35c-48c7-a121-b77434c94d37', 'dateTime': '2020-05-01 18:33:58', 'deviceId': 'dev-1', 'measureType': 'Output', 'unitSymbol': 'MW', 'unit': 'MegaWatts', 'measureValue': 1427}\n{'id': 'b26d3a9d-1198-4327-b233-a2f3ef755c7f', 'dateTime': '2020-05-01 18:33:58', 'deviceId': 'dev-2', 'measureType': 'Rotation Speed', 'unitSymbol': 'RPM', 'unit': 'Revolutions per Minute', 'measureValue': 2716}\n{'id': '59ed2962-f143-4264-9de8-53df4cda08e3', 'dateTime': '2020-05-01 18:33:58', 'deviceId': 'dev-2', 'measureType': 'Output', 'unitSymbol': 'MW', 'unit': 'MegaWatts', 'measureValue': 1501}\n{'id': '949afd6c-6273-4551-ac70-af513892540f', 'dateTime': '2020-05-01 18:33:58', 'deviceId': 'dev-3', 'measureType': 'Rotation Speed', 'unitSymbol': 'RPM', 'unit': 'Revolutions per Minute', 'measureValue': 3082}\n{'id': 'fbcd06a4-9794-40fe-a421-94750a26286f', 'dateTime': '2020-05-01 18:33:58', 'deviceId': 'dev-3', 'measureType': 'Output', 'unitSymbol': 'MW', 'unit': 'MegaWatts', 'measureValue': 1511}\n{'id': 'ab8bd326-6777-4a88-af01-9fbdc185a1e5', 'dateTime': '2020-05-01 18:33:58', 'deviceId': 'dev-4', 'measureType': 'Rotation Speed', 'unitSymbol': 'RPM', 'unit': 'Revolutions per Minute', 'measureValue': 3205}\n{'id': 'd872f2bf-13f5-4be4-bae4-a1119ab42caa', 'dateTime': '2020-05-01 18:33:58', 'deviceId': 'dev-4', 'measureType': 'Output', 'unitSymbol': 'MW', 'unit': 'MegaWatts', 'measureValue': 1540}\n{'id': '85f257b5-734c-472b-958a-78efc14b7662', 'dateTime': '2020-05-01 18:33:58', 'deviceId': 'dev-5', 'measureType': 'Rotation Speed', 'unitSymbol': 'RPM', 'unit': 'Revolutions per Minute', 'measureValue': 3017}\n{'id': '077ee94d-d141-431f-9477-726b396d5c5f', 'dateTime': '2020-05-01 18:33:58', 'deviceId': 'dev-5', 'measureType': 'Output', 'unitSymbol': 'MW', 'unit': 'MegaWatts', 'measureValue': 1467}\n{'id': '6b656edc-71ea-4e4d-9e9f-99da6fadb570', 'dateTime': '2020-05-01 18:33:58', 'deviceId': 'dev-6', 'measureType': 'Rotation Speed', 'unitSymbol': 'RPM', 'unit': 'Revolutions per Minute', 'measureValue': 2982}\n{'id': '04e40a53-f199-484e-b37b-068911d9947c', 'dateTime': '2020-05-01 18:33:58', 'deviceId': 'dev-6', 'measureType': 'Output', 'unitSymbol': 'MW', 'unit': 'MegaWatts', 'measureValue': 1567}\n{'id': 'a15b2c55-c220-455b-9fcb-8bc4afceeba7', 'dateTime': '2020-05-01 18:33:58', 'deviceId': 'dev-7', 'measureType': 'Rotation Speed', 'unitSymbol': 'RPM', 'unit': 'Revolutions per Minute', 'measureValue': 2819}\n{'id': 'a9f97d24-f286-4db3-a5b9-40bd0fe26194', 'dateTime': '2020-05-01 18:33:58', 'deviceId': 'dev-7', 'measureType': 'Output', 'unitSymbol': 'MW', 'unit': 'MegaWatts', 'measureValue': 1430}\n{'id': 'ab29fb99-cc54-42d6-ae61-91ad302c1b0b', 'dateTime': '2020-05-01 18:33:58', 'deviceId': 'dev-8', 'measureType': 'Rotation Speed', 'unitSymbol': 'RPM', 'unit': 'Revolutions per Minute', 'measureValue': 2736}\n{'id': 'e8866270-c256-4eec-ae78-799c45ba0b2c', 'dateTime': '2020-05-01 18:33:58', 'deviceId': 'dev-8', 'measureType': 'Output', 'unitSymbol': 'MW', 'unit': 'MegaWatts', 'measureValue': 1588}\n{'id': '3fff9672-f625-4bdf-a182-351d469c1074', 'dateTime': '2020-05-01 18:33:58', 'deviceId': 'dev-9', 'measureType': 'Rotation Speed', 'unitSymbol': 'RPM', 'unit': 'Revolutions per Minute', 'measureValue': 3211}\n{'id': '50a4eb92-6d10-498c-8d6e-69e4a8251774', 'dateTime': '2020-05-01 18:33:58', 'deviceId': 'dev-9', 'measureType': 'Output', 'unitSymbol': 'MW', 'unit': 'MegaWatts', 'measureValue': 1359}\n{'id': '93e70c9d-0530-40dc-ad7f-f188c39d3f1a', 'dateTime': '2020-05-01 18:33:58', 'deviceId': 'dev-10', 'measureType': 'Rotation Speed', 'unitSymbol': 'RPM', 'unit': 'Revolutions per Minute', 'measureValue': 3194}\n{'id': '72c06108-e07c-47f0-996d-f4d40ef3a173', 'dateTime': '2020-05-01 18:33:58', 'deviceId': 'dev-10', 'measureType': 'Output', 'unitSymbol': 'MW', 'unit': 'MegaWatts', 'measureValue': 1448}\n{'id': '3884223b-976b-4492-85ba-b109ba7c0ace', 'dateTime': '2020-05-01 18:33:59', 'deviceId': 'dev-1', 'measureType': 'Rotation Speed', 'unitSymbol': 'RPM', 'unit': 'Revolutions per Minute', 'measureValue': 2955}\n{'id': 'ebdd684d-57b0-4706-bace-f9b5417d236a', 'dateTime': '2020-05-01 18:33:59', 'deviceId': 'dev-1', 'measureType': 'Output', 'unitSymbol': 'MW', 'unit': 'MegaWatts', 'measureValue': 1488}\n{'id': '4b545b88-b89e-4e0a-95ff-54c779f800cd', 'dateTime': '2020-05-01 18:33:59', 'deviceId': 'dev-2', 'measureType': 'Rotation Speed', 'unitSymbol': 'RPM', 'unit': 'Revolutions per Minute', 'measureValue': 3070}\n{'id': 'b16b17ed-608a-4885-a6be-ae3e4a572b0c', 'dateTime': '2020-05-01 18:33:59', 'deviceId': 'dev-2', 'measureType': 'Output', 'unitSymbol': 'MW', 'unit': 'MegaWatts', 'measureValue': 1498}\n{'id': '588ffa73-f167-44e3-bef2-b88fa01b9b0c', 'dateTime': '2020-05-01 18:33:59', 'deviceId': 'dev-3', 'measureType': 'Rotation Speed', 'unitSymbol': 'RPM', 'unit': 'Revolutions per Minute', 'measureValue': 3061}\n{'id': 'ae40f839-8f54-4555-b3a3-941b4cda354c', 'dateTime': '2020-05-01 18:33:59', 'deviceId': 'dev-3', 'measureType': 'Output', 'unitSymbol': 'MW', 'unit': 'MegaWatts', 'measureValue': 1553}\n{'id': '95ce10a5-6c8b-4490-9294-87d6f83f7cd3', 'dateTime': '2020-05-01 18:33:59', 'deviceId': 'dev-4', 'measureType': 'Rotation Speed', 'unitSymbol': 'RPM', 'unit': 'Revolutions per Minute', 'measureValue': 2817}\n{'id': '4a96cace-3d94-47e0-acad-7234c7644282', 'dateTime': '2020-05-01 18:33:59', 'deviceId': 'dev-4', 'measureType': 'Output', 'unitSymbol': 'MW', 'unit': 'MegaWatts', 'measureValue': 1631}\n{'id': '5dd3fc82-ad84-458c-9ec9-8b64591aa0ae', 'dateTime': '2020-05-01 18:33:59', 'deviceId': 'dev-5', 'measureType': 'Rotation Speed', 'unitSymbol': 'RPM', 'unit': 'Revolutions per Minute', 'measureValue': 2728}\n{'id': '794d9b4b-dec8-4242-9797-c265697b2d35', 'dateTime': '2020-05-01 18:33:59', 'deviceId': 'dev-5', 'measureType': 'Output', 'unitSymbol': 'MW', 'unit': 'MegaWatts', 'measureValue': 1419}\n{'id': 'b961b86f-18b6-4c2c-8d68-120003e3590b', 'dateTime': '2020-05-01 18:33:59', 'deviceId': 'dev-6', 'measureType': 'Rotation Speed', 'unitSymbol': 'RPM', 'unit': 'Revolutions per Minute', 'measureValue': 3079}\n{'id': 'bc5391e1-9528-42ba-be84-3d88639b7518', 'dateTime': '2020-05-01 18:33:59', 'deviceId': 'dev-6', 'measureType': 'Output', 'unitSymbol': 'MW', 'unit': 'MegaWatts', 'measureValue': 1638}\n{'id': 'e21d90e2-2225-4d3c-b680-2ef34866a928', 'dateTime': '2020-05-01 18:33:59', 'deviceId': 'dev-7', 'measureType': 'Rotation Speed', 'unitSymbol': 'RPM', 'unit': 'Revolutions per Minute', 'measureValue': 3121}\n{'id': '4cb023c4-3a83-4e3f-9766-560cfb24db40', 'dateTime': '2020-05-01 18:33:59', 'deviceId': 'dev-7', 'measureType': 'Output', 'unitSymbol': 'MW', 'unit': 'MegaWatts', 'measureValue': 1623}\n{'id': 'e23cf47c-6338-4c9a-842e-2a543f846938', 'dateTime': '2020-05-01 18:33:59', 'deviceId': 'dev-8', 'measureType': 'Rotation Speed', 'unitSymbol': 'RPM', 'unit': 'Revolutions per Minute', 'measureValue': 3208}\n{'id': '193716f2-df75-48bf-9e4c-920ea2c3775d', 'dateTime': '2020-05-01 18:33:59', 'deviceId': 'dev-8', 'measureType': 'Output', 'unitSymbol': 'MW', 'unit': 'MegaWatts', 'measureValue': 1368}\n{'id': 'edc90503-f2c6-42e4-b7cf-c61eddd856bc', 'dateTime': '2020-05-01 18:33:59', 'deviceId': 'dev-9', 'measureType': 'Rotation Speed', 'unitSymbol': 'RPM', 'unit': 'Revolutions per Minute', 'measureValue': 2791}\n{'id': '3b02e61a-3f8b-489c-90df-b698c5f7532d', 'dateTime': '2020-05-01 18:33:59', 'deviceId': 'dev-9', 'measureType': 'Output', 'unitSymbol': 'MW', 'unit': 'MegaWatts', 'measureValue': 1406}\n{'id': 'e57d2ed8-1ac1-4f49-ae00-43ab3968ec9b', 'dateTime': '2020-05-01 18:33:59', 'deviceId': 'dev-10', 'measureType': 'Rotation Speed', 'unitSymbol': 'RPM', 'unit': 'Revolutions per Minute', 'measureValue': 3175}\n{'id': '36002120-038e-42f6-aa69-6e7e79543731', 'dateTime': '2020-05-01 18:33:59', 'deviceId': 'dev-10', 'measureType': 'Output', 'unitSymbol': 'MW', 'unit': 'MegaWatts', 'measureValue': 1487}\n{'id': 'b6900ea4-eebc-4509-b6dc-1bee446af275', 'dateTime': '2020-05-01 18:34:00', 'deviceId': 'dev-1', 'measureType': 'Rotation Speed', 'unitSymbol': 'RPM', 'unit': 'Revolutions per Minute', 'measureValue': 3292}\n{'id': 'bda1c33f-8bd9-4c5c-8a24-f090a886ae53', 'dateTime': '2020-05-01 18:34:00', 'deviceId': 'dev-1', 'measureType': 'Output', 'unitSymbol': 'MW', 'unit': 'MegaWatts', 'measureValue': 1627}\n{'id': 'fb8c65dd-bab1-4041-a966-513a17dc65a0', 'dateTime': '2020-05-01 18:34:00', 'deviceId': 'dev-2', 'measureType': 'Rotation Speed', 'unitSymbol': 'RPM', 'unit': 'Revolutions per Minute', 'measureValue': 3252}\n{'id': '079656d6-8622-48d9-a96f-fab9a3a24545', 'dateTime': '2020-05-01 18:34:00', 'deviceId': 'dev-2', 'measureType': 'Output', 'unitSymbol': 'MW', 'unit': 'MegaWatts', 'measureValue': 1360}\n{'id': '73eda18b-218f-4f58-bfed-3043c8f9d3c7', 'dateTime': '2020-05-01 18:34:00', 'deviceId': 'dev-3', 'measureType': 'Rotation Speed', 'unitSymbol': 'RPM', 'unit': 'Revolutions per Minute', 'measureValue': 3288}\n{'id': 'f48a47ee-dd4c-4cb1-a57d-d1aad71ed688', 'dateTime': '2020-05-01 18:34:00', 'deviceId': 'dev-3', 'measureType': 'Output', 'unitSymbol': 'MW', 'unit': 'MegaWatts', 'measureValue': 1552}\n{'id': '96e8f81c-4df9-420b-b0a7-b6a34d18630d', 'dateTime': '2020-05-01 18:34:00', 'deviceId': 'dev-4', 'measureType': 'Rotation Speed', 'unitSymbol': 'RPM', 'unit': 'Revolutions per Minute', 'measureValue': 2845}\n{'id': '29f23c52-b46c-4160-b7ae-37f49af3a92d', 'dateTime': '2020-05-01 18:34:00', 'deviceId': 'dev-4', 'measureType': 'Output', 'unitSymbol': 'MW', 'unit': 'MegaWatts', 'measureValue': 1448}\n{'id': '4994f582-6ae1-4012-835c-d225fa75d086', 'dateTime': '2020-05-01 18:34:00', 'deviceId': 'dev-5', 'measureType': 'Rotation Speed', 'unitSymbol': 'RPM', 'unit': 'Revolutions per Minute', 'measureValue': 3205}\n{'id': '7bf56bee-5d1a-4f9d-a91c-3bb09a2ec915', 'dateTime': '2020-05-01 18:34:00', 'deviceId': 'dev-5', 'measureType': 'Output', 'unitSymbol': 'MW', 'unit': 'MegaWatts', 'measureValue': 1388}\n{'id': '4311017a-f7a0-4829-b294-70f8b972111c', 'dateTime': '2020-05-01 18:34:00', 'deviceId': 'dev-6', 'measureType': 'Rotation Speed', 'unitSymbol': 'RPM', 'unit': 'Revolutions per Minute', 'measureValue': 3160}\n{'id': '080de8c5-8afc-412a-83ef-faa1a94da126', 'dateTime': '2020-05-01 18:34:00', 'deviceId': 'dev-6', 'measureType': 'Output', 'unitSymbol': 'MW', 'unit': 'MegaWatts', 'measureValue': 1457}\n{'id': '3c795cdd-a855-4f66-b3aa-946063c9edd5', 'dateTime': '2020-05-01 18:34:00', 'deviceId': 'dev-7', 'measureType': 'Rotation Speed', 'unitSymbol': 'RPM', 'unit': 'Revolutions per Minute', 'measureValue': 2833}\n{'id': 'acca16a9-71df-4274-9438-70656a9c971e', 'dateTime': '2020-05-01 18:34:00', 'deviceId': 'dev-7', 'measureType': 'Output', 'unitSymbol': 'MW', 'unit': 'MegaWatts', 'measureValue': 1469}\n{'id': '92badf57-d676-441c-83d3-822bd3bc6a38', 'dateTime': '2020-05-01 18:34:00', 'deviceId': 'dev-8', 'measureType': 'Rotation Speed', 'unitSymbol': 'RPM', 'unit': 'Revolutions per Minute', 'measureValue': 2857}\n{'id': 'a24b5592-4f33-4c5a-88aa-db90e870b7a4', 'dateTime': '2020-05-01 18:34:00', 'deviceId': 'dev-8', 'measureType': 'Output', 'unitSymbol': 'MW', 'unit': 'MegaWatts', 'measureValue': 1522}\n{'id': '582c8790-a9fc-4fb6-a6bb-6ec92a69ca3a', 'dateTime': '2020-05-01 18:34:00', 'deviceId': 'dev-9', 'measureType': 'Rotation Speed', 'unitSymbol': 'RPM', 'unit': 'Revolutions per Minute', 'measureValue': 3248}\n{'id': '4959f764-4c07-425c-9232-38c906d7b4a2', 'dateTime': '2020-05-01 18:34:00', 'deviceId': 'dev-9', 'measureType': 'Output', 'unitSymbol': 'MW', 'unit': 'MegaWatts', 'measureValue': 1445}\n{'id': 'd3c624f6-0d60-42c4-96d6-c1e8014c6bc1', 'dateTime': '2020-05-01 18:34:00', 'deviceId': 'dev-10', 'measureType': 'Rotation Speed', 'unitSymbol': 'RPM', 'unit': 'Revolutions per Minute', 'measureValue': 2921}\n{'id': 'c8c5e63a-c6b5-461b-8710-a47785f73fd3', 'dateTime': '2020-05-01 18:34:00', 'deviceId': 'dev-10', 'measureType': 'Output', 'unitSymbol': 'MW', 'unit': 'MegaWatts', 'measureValue': 1407}\n{'id': '914c0b84-fccf-4c32-8e7c-30ca0da2fa3d', 'dateTime': '2020-05-01 18:34:01', 'deviceId': 'dev-1', 'measureType': 'Rotation Speed', 'unitSymbol': 'RPM', 'unit': 'Revolutions per Minute', 'measureValue': 3056}\n{'id': '9fb4b000-bd4e-4222-b7ca-b82e4a7db585', 'dateTime': '2020-05-01 18:34:01', 'deviceId': 'dev-1', 'measureType': 'Output', 'unitSymbol': 'MW', 'unit': 'MegaWatts', 'measureValue': 1420}\n{'id': '8482e2a2-4dae-4ef4-a172-67bac9b1d817', 'dateTime': '2020-05-01 18:34:01', 'deviceId': 'dev-2', 'measureType': 'Rotation Speed', 'unitSymbol': 'RPM', 'unit': 'Revolutions per Minute', 'measureValue': 3190}\n{'id': 'f302d7ae-c8ee-4529-aa8e-7dd1e132e03b', 'dateTime': '2020-05-01 18:34:01', 'deviceId': 'dev-2', 'measureType': 'Output', 'unitSymbol': 'MW', 'unit': 'MegaWatts', 'measureValue': 1648}\n{'id': '2959ac2d-9aac-442a-8d81-19985f324d9c', 'dateTime': '2020-05-01 18:34:01', 'deviceId': 'dev-3', 'measureType': 'Rotation Speed', 'unitSymbol': 'RPM', 'unit': 'Revolutions per Minute', 'measureValue': 3251}\n{'id': '6c76b7db-a91e-4302-a61a-4a1e6e970375', 'dateTime': '2020-05-01 18:34:01', 'deviceId': 'dev-3', 'measureType': 'Output', 'unitSymbol': 'MW', 'unit': 'MegaWatts', 'measureValue': 1606}\n{'id': '0b07f5f6-a2b5-47e2-93d8-ec6100370fc2', 'dateTime': '2020-05-01 18:34:01', 'deviceId': 'dev-4', 'measureType': 'Rotation Speed', 'unitSymbol': 'RPM', 'unit': 'Revolutions per Minute', 'measureValue': 3036}\n{'id': '2b2f04fa-f433-455e-a3ce-4f9c87aae27e', 'dateTime': '2020-05-01 18:34:01', 'deviceId': 'dev-4', 'measureType': 'Output', 'unitSymbol': 'MW', 'unit': 'MegaWatts', 'measureValue': 1400}\n{'id': '4e25a8cc-f67c-4543-95c2-296c2e355e3b', 'dateTime': '2020-05-01 18:34:01', 'deviceId': 'dev-5', 'measureType': 'Rotation Speed', 'unitSymbol': 'RPM', 'unit': 'Revolutions per Minute', 'measureValue': 2784}\n{'id': 'a582fb09-941f-4ccc-bd3e-2b937ac1e070', 'dateTime': '2020-05-01 18:34:01', 'deviceId': 'dev-5', 'measureType': 'Output', 'unitSymbol': 'MW', 'unit': 'MegaWatts', 'measureValue': 1437}\n{'id': '0297ca32-a938-4b88-89a7-6f3b98dc123e', 'dateTime': '2020-05-01 18:34:01', 'deviceId': 'dev-6', 'measureType': 'Rotation Speed', 'unitSymbol': 'RPM', 'unit': 'Revolutions per Minute', 'measureValue': 2993}\n{'id': 'd71c7f13-7ecf-4280-bdd7-cfdcf785abde', 'dateTime': '2020-05-01 18:34:01', 'deviceId': 'dev-6', 'measureType': 'Output', 'unitSymbol': 'MW', 'unit': 'MegaWatts', 'measureValue': 1522}\n{'id': 'a9807043-d587-4f4b-8943-b388483fb55c', 'dateTime': '2020-05-01 18:34:01', 'deviceId': 'dev-7', 'measureType': 'Rotation Speed', 'unitSymbol': 'RPM', 'unit': 'Revolutions per Minute', 'measureValue': 2712}\n{'id': '5c7ee094-27df-4e3b-a321-96283afde659', 'dateTime': '2020-05-01 18:34:01', 'deviceId': 'dev-7', 'measureType': 'Output', 'unitSymbol': 'MW', 'unit': 'MegaWatts', 'measureValue': 1416}\n{'id': 'c4028ab8-3bcc-4f81-8764-7fcc26f3fb58', 'dateTime': '2020-05-01 18:34:01', 'deviceId': 'dev-8', 'measureType': 'Rotation Speed', 'unitSymbol': 'RPM', 'unit': 'Revolutions per Minute', 'measureValue': 3139}\n{'id': '1226a93d-4db4-4c8a-9a67-953ac2d2e900', 'dateTime': '2020-05-01 18:34:01', 'deviceId': 'dev-8', 'measureType': 'Output', 'unitSymbol': 'MW', 'unit': 'MegaWatts', 'measureValue': 1623}\n{'id': '6462a030-5b63-43a0-a92f-3963daab835d', 'dateTime': '2020-05-01 18:34:01', 'deviceId': 'dev-9', 'measureType': 'Rotation Speed', 'unitSymbol': 'RPM', 'unit': 'Revolutions per Minute', 'measureValue': 3253}\n{'id': 'fc6a391d-9064-4228-8b03-86e95958e2c4', 'dateTime': '2020-05-01 18:34:01', 'deviceId': 'dev-9', 'measureType': 'Output', 'unitSymbol': 'MW', 'unit': 'MegaWatts', 'measureValue': 1426}\n{'id': '2fe9f691-f91f-4c73-9217-01b40b81e24d', 'dateTime': '2020-05-01 18:34:01', 'deviceId': 'dev-10', 'measureType': 'Rotation Speed', 'unitSymbol': 'RPM', 'unit': 'Revolutions per Minute', 'measureValue': 3253}\n{'id': '41cdc50f-5d27-4b96-b6e9-02bef6eec3be', 'dateTime': '2020-05-01 18:34:01', 'deviceId': 'dev-10', 'measureType': 'Output', 'unitSymbol': 'MW', 'unit': 'MegaWatts', 'measureValue': 1585}\n{'id': 'dfb5d8cf-7741-4830-9023-438f31fc960f', 'dateTime': '2020-05-01 18:34:02', 'deviceId': 'dev-1', 'measureType': 'Rotation Speed', 'unitSymbol': 'RPM', 'unit': 'Revolutions per Minute', 'measureValue': 2708}\n{'id': '91de2cea-eb9f-4cd6-93e8-136094ac976a', 'dateTime': '2020-05-01 18:34:02', 'deviceId': 'dev-1', 'measureType': 'Output', 'unitSymbol': 'MW', 'unit': 'MegaWatts', 'measureValue': 1383}\n{'id': '6988cade-e0ac-46ff-996c-8debe519eaba', 'dateTime': '2020-05-01 18:34:02', 'deviceId': 'dev-2', 'measureType': 'Rotation Speed', 'unitSymbol': 'RPM', 'unit': 'Revolutions per Minute', 'measureValue': 2793}\n{'id': 'f0f141c0-f9fc-49d6-a0c3-a53de8b00c24', 'dateTime': '2020-05-01 18:34:02', 'deviceId': 'dev-2', 'measureType': 'Output', 'unitSymbol': 'MW', 'unit': 'MegaWatts', 'measureValue': 1564}\n{'id': '7c3ae5d5-b9c4-4794-9783-69e81fe55ace', 'dateTime': '2020-05-01 18:34:02', 'deviceId': 'dev-3', 'measureType': 'Rotation Speed', 'unitSymbol': 'RPM', 'unit': 'Revolutions per Minute', 'measureValue': 2937}\n{'id': '53a10663-b4b5-4339-b7e3-6ddbc83d7c7a', 'dateTime': '2020-05-01 18:34:02', 'deviceId': 'dev-3', 'measureType': 'Output', 'unitSymbol': 'MW', 'unit': 'MegaWatts', 'measureValue': 1452}\n{'id': 'c10ac3e3-c7db-4459-bc14-65f78b5fbd04', 'dateTime': '2020-05-01 18:34:02', 'deviceId': 'dev-4', 'measureType': 'Rotation Speed', 'unitSymbol': 'RPM', 'unit': 'Revolutions per Minute', 'measureValue': 2904}\n{'id': 'cccef1c7-c6b3-45b6-b4d3-a65b542351fc', 'dateTime': '2020-05-01 18:34:02', 'deviceId': 'dev-4', 'measureType': 'Output', 'unitSymbol': 'MW', 'unit': 'MegaWatts', 'measureValue': 1473}\n{'id': '779ded23-36be-4850-840c-4c07cf446cdb', 'dateTime': '2020-05-01 18:34:02', 'deviceId': 'dev-5', 'measureType': 'Rotation Speed', 'unitSymbol': 'RPM', 'unit': 'Revolutions per Minute', 'measureValue': 3026}\n{'id': 'f8327739-e7e9-4dd4-b99e-19f5a3313659', 'dateTime': '2020-05-01 18:34:02', 'deviceId': 'dev-5', 'measureType': 'Output', 'unitSymbol': 'MW', 'unit': 'MegaWatts', 'measureValue': 1619}\n{'id': 'd58b08a7-2b4a-4421-b222-3cbed5c9287e', 'dateTime': '2020-05-01 18:34:02', 'deviceId': 'dev-6', 'measureType': 'Rotation Speed', 'unitSymbol': 'RPM', 'unit': 'Revolutions per Minute', 'measureValue': 3246}\n{'id': '87174e71-f3fc-42ad-a007-a758700e2c17', 'dateTime': '2020-05-01 18:34:02', 'deviceId': 'dev-6', 'measureType': 'Output', 'unitSymbol': 'MW', 'unit': 'MegaWatts', 'measureValue': 1543}\n{'id': 'b62fd3eb-7119-4df4-968f-0dbfea16d43c', 'dateTime': '2020-05-01 18:34:02', 'deviceId': 'dev-7', 'measureType': 'Rotation Speed', 'unitSymbol': 'RPM', 'unit': 'Revolutions per Minute', 'measureValue': 2906}\n{'id': 'e281945a-2467-4a11-807f-c0c798a1dc6f', 'dateTime': '2020-05-01 18:34:02', 'deviceId': 'dev-7', 'measureType': 'Output', 'unitSymbol': 'MW', 'unit': 'MegaWatts', 'measureValue': 1497}\n{'id': '1f20c205-6af9-4ed9-add3-98fc43bcd87b', 'dateTime': '2020-05-01 18:34:02', 'deviceId': 'dev-8', 'measureType': 'Rotation Speed', 'unitSymbol': 'RPM', 'unit': 'Revolutions per Minute', 'measureValue': 3024}\n{'id': '4da12090-baea-4a2a-89be-77018f9ae80a', 'dateTime': '2020-05-01 18:34:02', 'deviceId': 'dev-8', 'measureType': 'Output', 'unitSymbol': 'MW', 'unit': 'MegaWatts', 'measureValue': 1398}\n{'id': 'c0f48346-929f-410c-b64b-cd5425f163c9', 'dateTime': '2020-05-01 18:34:02', 'deviceId': 'dev-9', 'measureType': 'Rotation Speed', 'unitSymbol': 'RPM', 'unit': 'Revolutions per Minute', 'measureValue': 2816}\n{'id': '35e3950c-bd97-41b5-bdf6-1d7326948401', 'dateTime': '2020-05-01 18:34:02', 'deviceId': 'dev-9', 'measureType': 'Output', 'unitSymbol': 'MW', 'unit': 'MegaWatts', 'measureValue': 1408}\n{'id': 'c5a5b8ee-7acf-44b7-8c0a-49b699f6a401', 'dateTime': '2020-05-01 18:34:03', 'deviceId': 'dev-10', 'measureType': 'Rotation Speed', 'unitSymbol': 'RPM', 'unit': 'Revolutions per Minute', 'measureValue': 2950}\n{'id': '3fed6212-b103-4f0b-ac0f-effea5eff224', 'dateTime': '2020-05-01 18:34:03', 'deviceId': 'dev-10', 'measureType': 'Output', 'unitSymbol': 'MW', 'unit': 'MegaWatts', 'measureValue': 1408}\n{'id': '6c9086c3-53e8-45f9-aa46-5c5005d37af8', 'dateTime': '2020-05-01 18:34:04', 'deviceId': 'dev-1', 'measureType': 'Rotation Speed', 'unitSymbol': 'RPM', 'unit': 'Revolutions per Minute', 'measureValue': 2816}\n{'id': '2231fc36-6dc7-4f56-9120-7639251b6902', 'dateTime': '2020-05-01 18:34:04', 'deviceId': 'dev-1', 'measureType': 'Output', 'unitSymbol': 'MW', 'unit': 'MegaWatts', 'measureValue': 1365}\n{'id': '234c0dfb-d1c9-4e17-946e-b4f76a673ee8', 'dateTime': '2020-05-01 18:34:04', 'deviceId': 'dev-2', 'measureType': 'Rotation Speed', 'unitSymbol': 'RPM', 'unit': 'Revolutions per Minute', 'measureValue': 3169}\n{'id': '3d825911-627e-4dc5-9adc-3aa6b7f628b4', 'dateTime': '2020-05-01 18:34:04', 'deviceId': 'dev-2', 'measureType': 'Output', 'unitSymbol': 'MW', 'unit': 'MegaWatts', 'measureValue': 1409}\n{'id': '9b0233f9-6207-400f-b5c7-69ac486f286b', 'dateTime': '2020-05-01 18:34:04', 'deviceId': 'dev-3', 'measureType': 'Rotation Speed', 'unitSymbol': 'RPM', 'unit': 'Revolutions per Minute', 'measureValue': 2978}\n{'id': 'e114890a-7a08-49b1-ab3e-be754257d5c1', 'dateTime': '2020-05-01 18:34:04', 'deviceId': 'dev-3', 'measureType': 'Output', 'unitSymbol': 'MW', 'unit': 'MegaWatts', 'measureValue': 1632}\n{'id': '1f95e4e4-33e1-4e86-8eeb-fb2f4375dfec', 'dateTime': '2020-05-01 18:34:04', 'deviceId': 'dev-4', 'measureType': 'Rotation Speed', 'unitSymbol': 'RPM', 'unit': 'Revolutions per Minute', 'measureValue': 3084}\n{'id': '84d4ba8e-8ba3-46e4-8f97-9a3a6edc9608', 'dateTime': '2020-05-01 18:34:04', 'deviceId': 'dev-4', 'measureType': 'Output', 'unitSymbol': 'MW', 'unit': 'MegaWatts', 'measureValue': 1650}\n{'id': 'a26b6860-1b77-4b34-a051-7e81bb659729', 'dateTime': '2020-05-01 18:34:04', 'deviceId': 'dev-5', 'measureType': 'Rotation Speed', 'unitSymbol': 'RPM', 'unit': 'Revolutions per Minute', 'measureValue': 2730}\n{'id': 'd7753f72-6e47-4a95-b745-fc3b177f07fd', 'dateTime': '2020-05-01 18:34:04', 'deviceId': 'dev-5', 'measureType': 'Output', 'unitSymbol': 'MW', 'unit': 'MegaWatts', 'measureValue': 1486}\n{'id': '3184a336-17cd-488a-b332-d6e4b6c5f22b', 'dateTime': '2020-05-01 18:34:04', 'deviceId': 'dev-6', 'measureType': 'Rotation Speed', 'unitSymbol': 'RPM', 'unit': 'Revolutions per Minute', 'measureValue': 2842}\n{'id': 'be095eb5-a3c3-4e2d-8dd3-a22749d445bc', 'dateTime': '2020-05-01 18:34:04', 'deviceId': 'dev-6', 'measureType': 'Output', 'unitSymbol': 'MW', 'unit': 'MegaWatts', 'measureValue': 1585}\n{'id': 'ed7dd2f3-1c55-460e-8658-f24617c450fe', 'dateTime': '2020-05-01 18:34:04', 'deviceId': 'dev-7', 'measureType': 'Rotation Speed', 'unitSymbol': 'RPM', 'unit': 'Revolutions per Minute', 'measureValue': 2846}\n{'id': '1f1de000-a5b0-45a6-8f90-3c858172a86e', 'dateTime': '2020-05-01 18:34:04', 'deviceId': 'dev-7', 'measureType': 'Output', 'unitSymbol': 'MW', 'unit': 'MegaWatts', 'measureValue': 1429}\n{'id': 'e6a54305-894c-49da-9425-6d16e5aff4fa', 'dateTime': '2020-05-01 18:34:04', 'deviceId': 'dev-8', 'measureType': 'Rotation Speed', 'unitSymbol': 'RPM', 'unit': 'Revolutions per Minute', 'measureValue': 2795}\n{'id': 'a2c833ff-dfb4-4f1c-a955-686466e388ca', 'dateTime': '2020-05-01 18:34:04', 'deviceId': 'dev-8', 'measureType': 'Output', 'unitSymbol': 'MW', 'unit': 'MegaWatts', 'measureValue': 1600}\n{'id': '05250a60-29a8-478b-a82c-e73e623307e7', 'dateTime': '2020-05-01 18:34:04', 'deviceId': 'dev-9', 'measureType': 'Rotation Speed', 'unitSymbol': 'RPM', 'unit': 'Revolutions per Minute', 'measureValue': 2762}\n{'id': 'd3a6a44d-16c4-4a52-acdf-51e5248a2037', 'dateTime': '2020-05-01 18:34:04', 'deviceId': 'dev-9', 'measureType': 'Output', 'unitSymbol': 'MW', 'unit': 'MegaWatts', 'measureValue': 1591}\n{'id': '4614afab-9e68-41b4-9398-688f0815c9ba', 'dateTime': '2020-05-01 18:34:04', 'deviceId': 'dev-10', 'measureType': 'Rotation Speed', 'unitSymbol': 'RPM', 'unit': 'Revolutions per Minute', 'measureValue': 3145}\n{'id': '3d78baff-786d-431b-a5e7-9f08d87be5d4', 'dateTime': '2020-05-01 18:34:04', 'deviceId': 'dev-10', 'measureType': 'Output', 'unitSymbol': 'MW', 'unit': 'MegaWatts', 'measureValue': 1356}\n{'id': '1c3aef77-8035-4afd-b0f7-acad3f9d117b', 'dateTime': '2020-05-01 18:34:05', 'deviceId': 'dev-1', 'measureType': 'Rotation Speed', 'unitSymbol': 'RPM', 'unit': 'Revolutions per Minute', 'measureValue': 3124}\n{'id': 'afd574de-7eb6-4c89-a84d-decbecf01e85', 'dateTime': '2020-05-01 18:34:05', 'deviceId': 'dev-1', 'measureType': 'Output', 'unitSymbol': 'MW', 'unit': 'MegaWatts', 'measureValue': 1528}\n{'id': '35df40d4-3be1-4d03-8475-bb694f7ec73b', 'dateTime': '2020-05-01 18:34:05', 'deviceId': 'dev-2', 'measureType': 'Rotation Speed', 'unitSymbol': 'RPM', 'unit': 'Revolutions per Minute', 'measureValue': 3233}\n{'id': '1caa8cc2-6b25-46f7-a1da-530687c3facc', 'dateTime': '2020-05-01 18:34:05', 'deviceId': 'dev-2', 'measureType': 'Output', 'unitSymbol': 'MW', 'unit': 'MegaWatts', 'measureValue': 1621}\n{'id': '6470503b-9840-4220-b887-054e554eae7f', 'dateTime': '2020-05-01 18:34:05', 'deviceId': 'dev-3', 'measureType': 'Rotation Speed', 'unitSymbol': 'RPM', 'unit': 'Revolutions per Minute', 'measureValue': 3090}\n{'id': '42ba2fbe-b9d1-4c47-9197-e2f1e2263fa0', 'dateTime': '2020-05-01 18:34:05', 'deviceId': 'dev-3', 'measureType': 'Output', 'unitSymbol': 'MW', 'unit': 'MegaWatts', 'measureValue': 1434}\n{'id': 'f1e473fb-22dd-4b90-87e9-b950f9996628', 'dateTime': '2020-05-01 18:34:05', 'deviceId': 'dev-4', 'measureType': 'Rotation Speed', 'unitSymbol': 'RPM', 'unit': 'Revolutions per Minute', 'measureValue': 2998}\n{'id': 'a898c2e7-33fb-4325-bb73-b370c62ec4a9', 'dateTime': '2020-05-01 18:34:05', 'deviceId': 'dev-4', 'measureType': 'Output', 'unitSymbol': 'MW', 'unit': 'MegaWatts', 'measureValue': 1420}\n{'id': '28d91d19-faa6-45bc-8893-8efdeba806c5', 'dateTime': '2020-05-01 18:34:05', 'deviceId': 'dev-5', 'measureType': 'Rotation Speed', 'unitSymbol': 'RPM', 'unit': 'Revolutions per Minute', 'measureValue': 3165}\n{'id': '3cc88164-714b-4744-9007-9d5cade8a51c', 'dateTime': '2020-05-01 18:34:05', 'deviceId': 'dev-5', 'measureType': 'Output', 'unitSymbol': 'MW', 'unit': 'MegaWatts', 'measureValue': 1480}\n{'id': '08f3b2d9-2859-4741-b662-ec4204c213f9', 'dateTime': '2020-05-01 18:34:05', 'deviceId': 'dev-6', 'measureType': 'Rotation Speed', 'unitSymbol': 'RPM', 'unit': 'Revolutions per Minute', 'measureValue': 3187}\n{'id': '63ec0a18-3bc6-4a50-8fd4-2e30b673945c', 'dateTime': '2020-05-01 18:34:05', 'deviceId': 'dev-6', 'measureType': 'Output', 'unitSymbol': 'MW', 'unit': 'MegaWatts', 'measureValue': 1400}\n{'id': '7c2e5934-d34f-4b8e-a9cb-69ca8e94ff34', 'dateTime': '2020-05-01 18:34:05', 'deviceId': 'dev-7', 'measureType': 'Rotation Speed', 'unitSymbol': 'RPM', 'unit': 'Revolutions per Minute', 'measureValue': 3096}\n{'id': '8715e1d4-2192-4e08-a626-893f06b00ace', 'dateTime': '2020-05-01 18:34:05', 'deviceId': 'dev-7', 'measureType': 'Output', 'unitSymbol': 'MW', 'unit': 'MegaWatts', 'measureValue': 1635}\n{'id': '9f6d633f-4c71-409d-b087-92318ddee18b', 'dateTime': '2020-05-01 18:34:05', 'deviceId': 'dev-8', 'measureType': 'Rotation Speed', 'unitSymbol': 'RPM', 'unit': 'Revolutions per Minute', 'measureValue': 3123}\n{'id': '2be238e3-7980-456a-8efd-dc255970e451', 'dateTime': '2020-05-01 18:34:05', 'deviceId': 'dev-8', 'measureType': 'Output', 'unitSymbol': 'MW', 'unit': 'MegaWatts', 'measureValue': 1594}\n{'id': 'b62f0301-cbd6-4f06-ba4f-0a5d8d371b28', 'dateTime': '2020-05-01 18:34:05', 'deviceId': 'dev-9', 'measureType': 'Rotation Speed', 'unitSymbol': 'RPM', 'unit': 'Revolutions per Minute', 'measureValue': 3273}\n{'id': 'cf7b99e7-1001-430d-95e5-3ac58c690f87', 'dateTime': '2020-05-01 18:34:05', 'deviceId': 'dev-9', 'measureType': 'Output', 'unitSymbol': 'MW', 'unit': 'MegaWatts', 'measureValue': 1561}\n{'id': 'f3fec7f6-610f-42b7-bc08-682e4ac045fd', 'dateTime': '2020-05-01 18:34:05', 'deviceId': 'dev-10', 'measureType': 'Rotation Speed', 'unitSymbol': 'RPM', 'unit': 'Revolutions per Minute', 'measureValue': 3198}\n{'id': '7b8f0bd0-89a4-4c37-91b4-85d066516c34', 'dateTime': '2020-05-01 18:34:05', 'deviceId': 'dev-10', 'measureType': 'Output', 'unitSymbol': 'MW', 'unit': 'MegaWatts', 'measureValue': 1579}\n{'id': '5f9c3483-288b-476b-a810-2f743b5f216e', 'dateTime': '2020-05-01 18:34:06', 'deviceId': 'dev-1', 'measureType': 'Rotation Speed', 'unitSymbol': 'RPM', 'unit': 'Revolutions per Minute', 'measureValue': 2999}\n{'id': 'fdf375d9-3825-410a-a47a-92e6c1bc73dd', 'dateTime': '2020-05-01 18:34:06', 'deviceId': 'dev-1', 'measureType': 'Output', 'unitSymbol': 'MW', 'unit': 'MegaWatts', 'measureValue': 1397}\n{'id': '6a9c7f96-9a79-41ea-b4c1-6b99fcca707d', 'dateTime': '2020-05-01 18:34:06', 'deviceId': 'dev-2', 'measureType': 'Rotation Speed', 'unitSymbol': 'RPM', 'unit': 'Revolutions per Minute', 'measureValue': 3210}\n{'id': '1d1faf46-603a-40c4-ad91-3cf0d89f8a24', 'dateTime': '2020-05-01 18:34:06', 'deviceId': 'dev-2', 'measureType': 'Output', 'unitSymbol': 'MW', 'unit': 'MegaWatts', 'measureValue': 1473}\n{'id': '5d002822-7715-4343-bd8f-63905e38172a', 'dateTime': '2020-05-01 18:34:06', 'deviceId': 'dev-3', 'measureType': 'Rotation Speed', 'unitSymbol': 'RPM', 'unit': 'Revolutions per Minute', 'measureValue': 2872}\n{'id': '96c9ce47-2a43-4967-b863-afa156f0ed9c', 'dateTime': '2020-05-01 18:34:06', 'deviceId': 'dev-3', 'measureType': 'Output', 'unitSymbol': 'MW', 'unit': 'MegaWatts', 'measureValue': 1643}\n{'id': '2ed64332-ccca-498d-bc6f-d6ab0df72642', 'dateTime': '2020-05-01 18:34:06', 'deviceId': 'dev-4', 'measureType': 'Rotation Speed', 'unitSymbol': 'RPM', 'unit': 'Revolutions per Minute', 'measureValue': 3087}\n{'id': '97ada0a1-adf6-4680-9c1f-af8eab1cb6d1', 'dateTime': '2020-05-01 18:34:06', 'deviceId': 'dev-4', 'measureType': 'Output', 'unitSymbol': 'MW', 'unit': 'MegaWatts', 'measureValue': 1418}\n{'id': '1ff138bc-57ec-4720-9ef2-f32e2550c36b', 'dateTime': '2020-05-01 18:34:06', 'deviceId': 'dev-5', 'measureType': 'Rotation Speed', 'unitSymbol': 'RPM', 'unit': 'Revolutions per Minute', 'measureValue': 3215}\n{'id': '960796c3-868e-4cc9-a5ab-298c98f4ce2b', 'dateTime': '2020-05-01 18:34:06', 'deviceId': 'dev-5', 'measureType': 'Output', 'unitSymbol': 'MW', 'unit': 'MegaWatts', 'measureValue': 1365}\n{'id': '0a2ba85d-660a-47bd-ba32-5f9b11bd0e09', 'dateTime': '2020-05-01 18:34:06', 'deviceId': 'dev-6', 'measureType': 'Rotation Speed', 'unitSymbol': 'RPM', 'unit': 'Revolutions per Minute', 'measureValue': 3205}\n{'id': 'ce1ede9e-348c-4009-9eaa-c6b97cc5bda9', 'dateTime': '2020-05-01 18:34:06', 'deviceId': 'dev-6', 'measureType': 'Output', 'unitSymbol': 'MW', 'unit': 'MegaWatts', 'measureValue': 1445}\n{'id': 'bc606ec0-9bcb-41f1-b095-abb5653d14fc', 'dateTime': '2020-05-01 18:34:06', 'deviceId': 'dev-7', 'measureType': 'Rotation Speed', 'unitSymbol': 'RPM', 'unit': 'Revolutions per Minute', 'measureValue': 3192}\n{'id': 'd57d1262-6971-46e5-a5b8-e18f3dfc080c', 'dateTime': '2020-05-01 18:34:06', 'deviceId': 'dev-7', 'measureType': 'Output', 'unitSymbol': 'MW', 'unit': 'MegaWatts', 'measureValue': 1592}\n{'id': '213329a1-0397-4a7a-a884-7cdf9d929212', 'dateTime': '2020-05-01 18:34:06', 'deviceId': 'dev-8', 'measureType': 'Rotation Speed', 'unitSymbol': 'RPM', 'unit': 'Revolutions per Minute', 'measureValue': 3239}\n{'id': '02552408-464c-4034-9691-43bb66b75ab2', 'dateTime': '2020-05-01 18:34:06', 'deviceId': 'dev-8', 'measureType': 'Output', 'unitSymbol': 'MW', 'unit': 'MegaWatts', 'measureValue': 1494}\n{'id': 'dea365f5-3266-4e42-851b-8b0c18f71481', 'dateTime': '2020-05-01 18:34:06', 'deviceId': 'dev-9', 'measureType': 'Rotation Speed', 'unitSymbol': 'RPM', 'unit': 'Revolutions per Minute', 'measureValue': 2977}\n{'id': '695f6047-148b-4591-a013-857485ab7238', 'dateTime': '2020-05-01 18:34:06', 'deviceId': 'dev-9', 'measureType': 'Output', 'unitSymbol': 'MW', 'unit': 'MegaWatts', 'measureValue': 1646}\n{'id': 'ef41de76-819e-49f7-a19b-7366489cfc20', 'dateTime': '2020-05-01 18:34:06', 'deviceId': 'dev-10', 'measureType': 'Rotation Speed', 'unitSymbol': 'RPM', 'unit': 'Revolutions per Minute', 'measureValue': 3223}\n{'id': '57038ef4-214d-4300-8fea-ee9ab4b6d62f', 'dateTime': '2020-05-01 18:34:06', 'deviceId': 'dev-10', 'measureType': 'Output', 'unitSymbol': 'MW', 'unit': 'MegaWatts', 'measureValue': 1646}\n{'id': '93cd3c5f-35a5-4fe2-9e1e-e8b8d5b23489', 'dateTime': '2020-05-01 18:34:07', 'deviceId': 'dev-1', 'measureType': 'Rotation Speed', 'unitSymbol': 'RPM', 'unit': 'Revolutions per Minute', 'measureValue': 2739}\n{'id': 'a6d9ec42-bfae-4d9e-851d-2350522a2dfe', 'dateTime': '2020-05-01 18:34:07', 'deviceId': 'dev-1', 'measureType': 'Output', 'unitSymbol': 'MW', 'unit': 'MegaWatts', 'measureValue': 1548}\n{'id': 'b6ec9273-dfdc-4125-a9d7-0ef363ceeb16', 'dateTime': '2020-05-01 18:34:07', 'deviceId': 'dev-2', 'measureType': 'Rotation Speed', 'unitSymbol': 'RPM', 'unit': 'Revolutions per Minute', 'measureValue': 2866}\n{'id': '0edf9426-d982-4287-b3cc-1bc2164e3e80', 'dateTime': '2020-05-01 18:34:07', 'deviceId': 'dev-2', 'measureType': 'Output', 'unitSymbol': 'MW', 'unit': 'MegaWatts', 'measureValue': 1435}\n{'id': '521d8c3c-a6c7-446e-bfe5-3f9a6e34a40b', 'dateTime': '2020-05-01 18:34:07', 'deviceId': 'dev-3', 'measureType': 'Rotation Speed', 'unitSymbol': 'RPM', 'unit': 'Revolutions per Minute', 'measureValue': 3167}\n{'id': 'c51d9295-dea9-4233-a1a0-2484728c4392', 'dateTime': '2020-05-01 18:34:07', 'deviceId': 'dev-3', 'measureType': 'Output', 'unitSymbol': 'MW', 'unit': 'MegaWatts', 'measureValue': 1365}\n{'id': '8a3f6281-6dda-48e5-b312-b8a5af1d6fe5', 'dateTime': '2020-05-01 18:34:07', 'deviceId': 'dev-4', 'measureType': 'Rotation Speed', 'unitSymbol': 'RPM', 'unit': 'Revolutions per Minute', 'measureValue': 2885}\n{'id': '54d61631-9502-46a9-9f22-e79b28e382b8', 'dateTime': '2020-05-01 18:34:07', 'deviceId': 'dev-4', 'measureType': 'Output', 'unitSymbol': 'MW', 'unit': 'MegaWatts', 'measureValue': 1469}\n{'id': '6218624d-72d8-433e-9575-36b63ccf573c', 'dateTime': '2020-05-01 18:34:07', 'deviceId': 'dev-5', 'measureType': 'Rotation Speed', 'unitSymbol': 'RPM', 'unit': 'Revolutions per Minute', 'measureValue': 2939}\n{'id': '73521648-ba5a-4354-a37e-f92578737adc', 'dateTime': '2020-05-01 18:34:07', 'deviceId': 'dev-5', 'measureType': 'Output', 'unitSymbol': 'MW', 'unit': 'MegaWatts', 'measureValue': 1392}\n{'id': 'dcf422a2-770e-407e-b1d6-d50f87892763', 'dateTime': '2020-05-01 18:34:07', 'deviceId': 'dev-6', 'measureType': 'Rotation Speed', 'unitSymbol': 'RPM', 'unit': 'Revolutions per Minute', 'measureValue': 3228}\n{'id': '14f32c4d-be7e-465b-8d80-8dcd3534c6cc', 'dateTime': '2020-05-01 18:34:07', 'deviceId': 'dev-6', 'measureType': 'Output', 'unitSymbol': 'MW', 'unit': 'MegaWatts', 'measureValue': 1459}\n{'id': 'fdc81dc7-5612-48fc-bfd6-370570a55c59', 'dateTime': '2020-05-01 18:34:07', 'deviceId': 'dev-7', 'measureType': 'Rotation Speed', 'unitSymbol': 'RPM', 'unit': 'Revolutions per Minute', 'measureValue': 2913}\n{'id': 'a1a99a84-6586-438c-b720-4fc3a7dbf4f7', 'dateTime': '2020-05-01 18:34:07', 'deviceId': 'dev-7', 'measureType': 'Output', 'unitSymbol': 'MW', 'unit': 'MegaWatts', 'measureValue': 1409}\n{'id': '7f029940-4557-437c-b6c9-10830ba293b3', 'dateTime': '2020-05-01 18:34:07', 'deviceId': 'dev-8', 'measureType': 'Rotation Speed', 'unitSymbol': 'RPM', 'unit': 'Revolutions per Minute', 'measureValue': 2801}\n{'id': '51204d11-8eaa-436e-bd1b-14beb9acce74', 'dateTime': '2020-05-01 18:34:07', 'deviceId': 'dev-8', 'measureType': 'Output', 'unitSymbol': 'MW', 'unit': 'MegaWatts', 'measureValue': 1512}\n{'id': '182fa463-4659-4170-a4fc-9fd0652b2261', 'dateTime': '2020-05-01 18:34:07', 'deviceId': 'dev-9', 'measureType': 'Rotation Speed', 'unitSymbol': 'RPM', 'unit': 'Revolutions per Minute', 'measureValue': 2821}\n{'id': '76111e6a-8864-44d0-97eb-89d2f366c619', 'dateTime': '2020-05-01 18:34:07', 'deviceId': 'dev-9', 'measureType': 'Output', 'unitSymbol': 'MW', 'unit': 'MegaWatts', 'measureValue': 1589}\n{'id': 'f687757b-bdbf-4b8b-b956-fb2d22f862c2', 'dateTime': '2020-05-01 18:34:07', 'deviceId': 'dev-10', 'measureType': 'Rotation Speed', 'unitSymbol': 'RPM', 'unit': 'Revolutions per Minute', 'measureValue': 3264}\n{'id': 'ed89836b-159f-457c-90cf-dedbfdd0393d', 'dateTime': '2020-05-01 18:34:07', 'deviceId': 'dev-10', 'measureType': 'Output', 'unitSymbol': 'MW', 'unit': 'MegaWatts', 'measureValue': 1361}\n{'id': 'f0d7152c-e053-4bc9-87f4-9f26f2e65111', 'dateTime': '2020-05-01 18:34:08', 'deviceId': 'dev-1', 'measureType': 'Rotation Speed', 'unitSymbol': 'RPM', 'unit': 'Revolutions per Minute', 'measureValue': 2728}\n{'id': '214e918d-0ced-4bee-9656-d134a61b178a', 'dateTime': '2020-05-01 18:34:08', 'deviceId': 'dev-1', 'measureType': 'Output', 'unitSymbol': 'MW', 'unit': 'MegaWatts', 'measureValue': 1494}\n{'id': '5f55d613-7e26-498e-992a-dbde7239082d', 'dateTime': '2020-05-01 18:34:08', 'deviceId': 'dev-2', 'measureType': 'Rotation Speed', 'unitSymbol': 'RPM', 'unit': 'Revolutions per Minute', 'measureValue': 2778}\n{'id': 'e14e4e81-d2de-4169-89f2-264f13bee3d3', 'dateTime': '2020-05-01 18:34:08', 'deviceId': 'dev-2', 'measureType': 'Output', 'unitSymbol': 'MW', 'unit': 'MegaWatts', 'measureValue': 1432}\n{'id': 'ae6aa437-6834-4d44-a256-8aeac76a6b23', 'dateTime': '2020-05-01 18:34:08', 'deviceId': 'dev-3', 'measureType': 'Rotation Speed', 'unitSymbol': 'RPM', 'unit': 'Revolutions per Minute', 'measureValue': 3203}\n{'id': '3161c2fc-403a-4983-9efb-deb4fb90c02e', 'dateTime': '2020-05-01 18:34:08', 'deviceId': 'dev-3', 'measureType': 'Output', 'unitSymbol': 'MW', 'unit': 'MegaWatts', 'measureValue': 1375}\n{'id': '80e64e8f-6ee6-42ac-b975-8f2745ee41d2', 'dateTime': '2020-05-01 18:34:08', 'deviceId': 'dev-4', 'measureType': 'Rotation Speed', 'unitSymbol': 'RPM', 'unit': 'Revolutions per Minute', 'measureValue': 3169}\n{'id': 'd83de403-d274-4b89-bfc4-fd7c58fdfeb8', 'dateTime': '2020-05-01 18:34:08', 'deviceId': 'dev-4', 'measureType': 'Output', 'unitSymbol': 'MW', 'unit': 'MegaWatts', 'measureValue': 1384}\n{'id': '3d5b85c7-f8b8-4251-bec8-cd754ac7471a', 'dateTime': '2020-05-01 18:34:08', 'deviceId': 'dev-5', 'measureType': 'Rotation Speed', 'unitSymbol': 'RPM', 'unit': 'Revolutions per Minute', 'measureValue': 3266}\n{'id': '872ad17c-4269-418d-be30-02680877f9fa', 'dateTime': '2020-05-01 18:34:08', 'deviceId': 'dev-5', 'measureType': 'Output', 'unitSymbol': 'MW', 'unit': 'MegaWatts', 'measureValue': 1581}\n{'id': 'ac2a599e-85e6-460d-8115-636f54cb548b', 'dateTime': '2020-05-01 18:34:08', 'deviceId': 'dev-6', 'measureType': 'Rotation Speed', 'unitSymbol': 'RPM', 'unit': 'Revolutions per Minute', 'measureValue': 3298}\n{'id': '01126eb8-3ebc-4953-b768-98172e97f945', 'dateTime': '2020-05-01 18:34:08', 'deviceId': 'dev-6', 'measureType': 'Output', 'unitSymbol': 'MW', 'unit': 'MegaWatts', 'measureValue': 1351}\n{'id': '186ffaec-2493-4a48-b1d6-ce0598f11b23', 'dateTime': '2020-05-01 18:34:08', 'deviceId': 'dev-7', 'measureType': 'Rotation Speed', 'unitSymbol': 'RPM', 'unit': 'Revolutions per Minute', 'measureValue': 3071}\n{'id': 'b278ca85-21a6-48ec-a500-492ad52c12c5', 'dateTime': '2020-05-01 18:34:08', 'deviceId': 'dev-7', 'measureType': 'Output', 'unitSymbol': 'MW', 'unit': 'MegaWatts', 'measureValue': 1611}\n{'id': 'e747999b-8357-4d63-bc4f-8692d1d389b2', 'dateTime': '2020-05-01 18:34:08', 'deviceId': 'dev-8', 'measureType': 'Rotation Speed', 'unitSymbol': 'RPM', 'unit': 'Revolutions per Minute', 'measureValue': 2786}\n{'id': 'a4ba17c3-1f95-4a55-b905-d1a5da71d2de', 'dateTime': '2020-05-01 18:34:08', 'deviceId': 'dev-8', 'measureType': 'Output', 'unitSymbol': 'MW', 'unit': 'MegaWatts', 'measureValue': 1588}\n{'id': 'cb60639b-04a9-4f01-99ff-f8122c90ebd8', 'dateTime': '2020-05-01 18:34:08', 'deviceId': 'dev-9', 'measureType': 'Rotation Speed', 'unitSymbol': 'RPM', 'unit': 'Revolutions per Minute', 'measureValue': 3263}\n{'id': 'c442dbaf-3c1d-4e9c-9193-be04cee9d477', 'dateTime': '2020-05-01 18:34:08', 'deviceId': 'dev-9', 'measureType': 'Output', 'unitSymbol': 'MW', 'unit': 'MegaWatts', 'measureValue': 1506}\n{'id': 'a8f85b31-c06e-4a0d-b21e-92d01c406fe9', 'dateTime': '2020-05-01 18:34:08', 'deviceId': 'dev-10', 'measureType': 'Rotation Speed', 'unitSymbol': 'RPM', 'unit': 'Revolutions per Minute', 'measureValue': 3122}\n{'id': 'd2a6928c-d30e-4710-9155-0af5176f02aa', 'dateTime': '2020-05-01 18:34:08', 'deviceId': 'dev-10', 'measureType': 'Output', 'unitSymbol': 'MW', 'unit': 'MegaWatts', 'measureValue': 1355}\n{'id': 'd760491b-f520-478e-85d1-993841546240', 'dateTime': '2020-05-01 18:34:10', 'deviceId': 'dev-1', 'measureType': 'Rotation Speed', 'unitSymbol': 'RPM', 'unit': 'Revolutions per Minute', 'measureValue': 2865}\n{'id': '57918ee5-db0c-4db3-8bf0-61370e8b952b', 'dateTime': '2020-05-01 18:34:10', 'deviceId': 'dev-1', 'measureType': 'Output', 'unitSymbol': 'MW', 'unit': 'MegaWatts', 'measureValue': 1393}\n{'id': '463aaf92-67df-4efd-bd45-c0671831a4d0', 'dateTime': '2020-05-01 18:34:10', 'deviceId': 'dev-2', 'measureType': 'Rotation Speed', 'unitSymbol': 'RPM', 'unit': 'Revolutions per Minute', 'measureValue': 3228}\n{'id': '1aad5609-00c2-4b96-aa28-a3ed2fbc3c06', 'dateTime': '2020-05-01 18:34:10', 'deviceId': 'dev-2', 'measureType': 'Output', 'unitSymbol': 'MW', 'unit': 'MegaWatts', 'measureValue': 1547}\n{'id': '8688a83d-d1bb-4b64-b4da-4e1f0da669ad', 'dateTime': '2020-05-01 18:34:10', 'deviceId': 'dev-3', 'measureType': 'Rotation Speed', 'unitSymbol': 'RPM', 'unit': 'Revolutions per Minute', 'measureValue': 2700}\n{'id': 'c18e7cc6-35d0-43eb-9430-ffcea889b60d', 'dateTime': '2020-05-01 18:34:10', 'deviceId': 'dev-3', 'measureType': 'Output', 'unitSymbol': 'MW', 'unit': 'MegaWatts', 'measureValue': 1616}\n{'id': '461fb399-c8fe-47cc-b253-55846cbc2860', 'dateTime': '2020-05-01 18:34:10', 'deviceId': 'dev-4', 'measureType': 'Rotation Speed', 'unitSymbol': 'RPM', 'unit': 'Revolutions per Minute', 'measureValue': 2992}\n{'id': '19bb7680-c7ac-4ba8-b65e-0d0c929cefea', 'dateTime': '2020-05-01 18:34:10', 'deviceId': 'dev-4', 'measureType': 'Output', 'unitSymbol': 'MW', 'unit': 'MegaWatts', 'measureValue': 1564}\n{'id': '6f261179-4dfc-49a4-b27e-28dc1c4a95ef', 'dateTime': '2020-05-01 18:34:10', 'deviceId': 'dev-5', 'measureType': 'Rotation Speed', 'unitSymbol': 'RPM', 'unit': 'Revolutions per Minute', 'measureValue': 3267}\n{'id': '390ffdb7-98b5-4502-9da1-3f751ccc613c', 'dateTime': '2020-05-01 18:34:10', 'deviceId': 'dev-5', 'measureType': 'Output', 'unitSymbol': 'MW', 'unit': 'MegaWatts', 'measureValue': 1602}\n{'id': '882a1e5c-04a5-4db9-98a4-f9cdb8a4ef2c', 'dateTime': '2020-05-01 18:34:10', 'deviceId': 'dev-6', 'measureType': 'Rotation Speed', 'unitSymbol': 'RPM', 'unit': 'Revolutions per Minute', 'measureValue': 2952}\n{'id': '333c3e5a-ea37-464f-b18d-f94972e41003', 'dateTime': '2020-05-01 18:34:10', 'deviceId': 'dev-6', 'measureType': 'Output', 'unitSymbol': 'MW', 'unit': 'MegaWatts', 'measureValue': 1614}\n{'id': '25c9a515-8653-4e7b-9bf2-5091f933ae26', 'dateTime': '2020-05-01 18:34:10', 'deviceId': 'dev-7', 'measureType': 'Rotation Speed', 'unitSymbol': 'RPM', 'unit': 'Revolutions per Minute', 'measureValue': 3091}\n{'id': '0496e91c-fb90-47a9-8660-0c0926d99855', 'dateTime': '2020-05-01 18:34:10', 'deviceId': 'dev-7', 'measureType': 'Output', 'unitSymbol': 'MW', 'unit': 'MegaWatts', 'measureValue': 1634}\n{'id': 'ed290d21-5980-4815-b19e-f99a082c6939', 'dateTime': '2020-05-01 18:34:10', 'deviceId': 'dev-8', 'measureType': 'Rotation Speed', 'unitSymbol': 'RPM', 'unit': 'Revolutions per Minute', 'measureValue': 2810}\n{'id': '88192065-1d52-4de8-b689-efa2a5eb806c', 'dateTime': '2020-05-01 18:34:10', 'deviceId': 'dev-8', 'measureType': 'Output', 'unitSymbol': 'MW', 'unit': 'MegaWatts', 'measureValue': 1457}\n{'id': '001b6384-cbca-4e04-bd3e-f4e6ce1be99b', 'dateTime': '2020-05-01 18:34:10', 'deviceId': 'dev-9', 'measureType': 'Rotation Speed', 'unitSymbol': 'RPM', 'unit': 'Revolutions per Minute', 'measureValue': 2943}\n{'id': '82f77a14-0a8a-442f-b214-d6c18d545fb4', 'dateTime': '2020-05-01 18:34:10', 'deviceId': 'dev-9', 'measureType': 'Output', 'unitSymbol': 'MW', 'unit': 'MegaWatts', 'measureValue': 1577}\n{'id': 'c37ebd2d-f80e-4e39-92e7-42f63fc065e7', 'dateTime': '2020-05-01 18:34:10', 'deviceId': 'dev-10', 'measureType': 'Rotation Speed', 'unitSymbol': 'RPM', 'unit': 'Revolutions per Minute', 'measureValue': 2734}\n{'id': '89e4b7b3-0b1a-4ceb-be34-ad8c0f01343e', 'dateTime': '2020-05-01 18:34:10', 'deviceId': 'dev-10', 'measureType': 'Output', 'unitSymbol': 'MW', 'unit': 'MegaWatts', 'measureValue': 1543}\n{'id': '75053490-1e39-4fe1-a1c9-6b5a3cfa277a', 'dateTime': '2020-05-01 18:34:11', 'deviceId': 'dev-1', 'measureType': 'Rotation Speed', 'unitSymbol': 'RPM', 'unit': 'Revolutions per Minute', 'measureValue': 3117}\n{'id': 'bcf4b39d-3340-4c06-bac7-0ededf4d2419', 'dateTime': '2020-05-01 18:34:11', 'deviceId': 'dev-1', 'measureType': 'Output', 'unitSymbol': 'MW', 'unit': 'MegaWatts', 'measureValue': 1374}\n{'id': '1f33ec69-18d1-4a9d-8261-218a9fc755f2', 'dateTime': '2020-05-01 18:34:11', 'deviceId': 'dev-2', 'measureType': 'Rotation Speed', 'unitSymbol': 'RPM', 'unit': 'Revolutions per Minute', 'measureValue': 2890}\n{'id': '69f52776-a613-4a94-b474-211ada704f11', 'dateTime': '2020-05-01 18:34:11', 'deviceId': 'dev-2', 'measureType': 'Output', 'unitSymbol': 'MW', 'unit': 'MegaWatts', 'measureValue': 1607}\n{'id': 'bcfa4cf5-3a0c-43e3-856c-a56f76d8e340', 'dateTime': '2020-05-01 18:34:11', 'deviceId': 'dev-3', 'measureType': 'Rotation Speed', 'unitSymbol': 'RPM', 'unit': 'Revolutions per Minute', 'measureValue': 2756}\n{'id': 'b752dd3d-f766-4c53-8da6-5b4b3d579cbe', 'dateTime': '2020-05-01 18:34:11', 'deviceId': 'dev-3', 'measureType': 'Output', 'unitSymbol': 'MW', 'unit': 'MegaWatts', 'measureValue': 1466}\n{'id': '36ceba09-115c-4af5-b883-3ab1ae4c0f76', 'dateTime': '2020-05-01 18:34:11', 'deviceId': 'dev-4', 'measureType': 'Rotation Speed', 'unitSymbol': 'RPM', 'unit': 'Revolutions per Minute', 'measureValue': 3120}\n{'id': '77ac8a3a-f728-483f-b059-b747bc384add', 'dateTime': '2020-05-01 18:34:11', 'deviceId': 'dev-4', 'measureType': 'Output', 'unitSymbol': 'MW', 'unit': 'MegaWatts', 'measureValue': 1578}\n{'id': '3a648787-beb8-42f7-a47f-2efc0fc9072b', 'dateTime': '2020-05-01 18:34:11', 'deviceId': 'dev-5', 'measureType': 'Rotation Speed', 'unitSymbol': 'RPM', 'unit': 'Revolutions per Minute', 'measureValue': 2715}\n{'id': '901c2336-5eb1-4950-93c0-946d5e7acebf', 'dateTime': '2020-05-01 18:34:11', 'deviceId': 'dev-5', 'measureType': 'Output', 'unitSymbol': 'MW', 'unit': 'MegaWatts', 'measureValue': 1534}\n{'id': '1ee1299f-6d49-4adf-a92b-fbc5fce7f11b', 'dateTime': '2020-05-01 18:34:11', 'deviceId': 'dev-6', 'measureType': 'Rotation Speed', 'unitSymbol': 'RPM', 'unit': 'Revolutions per Minute', 'measureValue': 3013}\n{'id': 'f4fdc021-2854-4ce2-b9e7-47a84bab8710', 'dateTime': '2020-05-01 18:34:11', 'deviceId': 'dev-6', 'measureType': 'Output', 'unitSymbol': 'MW', 'unit': 'MegaWatts', 'measureValue': 1617}\n{'id': 'fff39dce-9693-40b4-b721-c2f318184f64', 'dateTime': '2020-05-01 18:34:11', 'deviceId': 'dev-7', 'measureType': 'Rotation Speed', 'unitSymbol': 'RPM', 'unit': 'Revolutions per Minute', 'measureValue': 2839}\n{'id': '9020cda4-c346-42a1-937e-e644926c4ae7', 'dateTime': '2020-05-01 18:34:11', 'deviceId': 'dev-7', 'measureType': 'Output', 'unitSymbol': 'MW', 'unit': 'MegaWatts', 'measureValue': 1593}\n{'id': 'd0e53b04-02fe-4f77-941a-e58c5c7e13a3', 'dateTime': '2020-05-01 18:34:11', 'deviceId': 'dev-8', 'measureType': 'Rotation Speed', 'unitSymbol': 'RPM', 'unit': 'Revolutions per Minute', 'measureValue': 2827}\n{'id': '1a8581dc-cf6d-478f-85c9-632bcb122950', 'dateTime': '2020-05-01 18:34:11', 'deviceId': 'dev-8', 'measureType': 'Output', 'unitSymbol': 'MW', 'unit': 'MegaWatts', 'measureValue': 1368}\n{'id': 'bcb6f3d3-dea1-411c-bf98-5cde8d7880a3', 'dateTime': '2020-05-01 18:34:11', 'deviceId': 'dev-9', 'measureType': 'Rotation Speed', 'unitSymbol': 'RPM', 'unit': 'Revolutions per Minute', 'measureValue': 2996}\n{'id': '254eca9a-b5a4-47bf-879d-f4585091aab4', 'dateTime': '2020-05-01 18:34:11', 'deviceId': 'dev-9', 'measureType': 'Output', 'unitSymbol': 'MW', 'unit': 'MegaWatts', 'measureValue': 1445}\n{'id': '9cc199e3-a3e2-4f41-a5f7-0378371a95f5', 'dateTime': '2020-05-01 18:34:11', 'deviceId': 'dev-10', 'measureType': 'Rotation Speed', 'unitSymbol': 'RPM', 'unit': 'Revolutions per Minute', 'measureValue': 2889}\n{'id': '6c211e82-08aa-412f-8271-6457173edc60', 'dateTime': '2020-05-01 18:34:11', 'deviceId': 'dev-10', 'measureType': 'Output', 'unitSymbol': 'MW', 'unit': 'MegaWatts', 'measureValue': 1514}\n{'id': 'a5e9e32d-988a-40c8-b402-8390ea21d833', 'dateTime': '2020-05-01 18:34:12', 'deviceId': 'dev-1', 'measureType': 'Rotation Speed', 'unitSymbol': 'RPM', 'unit': 'Revolutions per Minute', 'measureValue': 3046}\n{'id': 'c7ad6e8c-1c8e-4e69-b948-6d943d3908a6', 'dateTime': '2020-05-01 18:34:12', 'deviceId': 'dev-1', 'measureType': 'Output', 'unitSymbol': 'MW', 'unit': 'MegaWatts', 'measureValue': 1401}\n{'id': '19011648-e4b3-4c7c-995a-8ab66897bade', 'dateTime': '2020-05-01 18:34:12', 'deviceId': 'dev-2', 'measureType': 'Rotation Speed', 'unitSymbol': 'RPM', 'unit': 'Revolutions per Minute', 'measureValue': 2870}\n{'id': '6443b3d7-3788-4e10-bd8c-0733520b8e99', 'dateTime': '2020-05-01 18:34:12', 'deviceId': 'dev-2', 'measureType': 'Output', 'unitSymbol': 'MW', 'unit': 'MegaWatts', 'measureValue': 1371}\n{'id': 'ca28d7ec-5ffd-46ac-936c-e3f1e9e7ae03', 'dateTime': '2020-05-01 18:34:12', 'deviceId': 'dev-3', 'measureType': 'Rotation Speed', 'unitSymbol': 'RPM', 'unit': 'Revolutions per Minute', 'measureValue': 3220}\n{'id': '6ceb5fc3-6931-4541-b61e-81a6813cf214', 'dateTime': '2020-05-01 18:34:12', 'deviceId': 'dev-3', 'measureType': 'Output', 'unitSymbol': 'MW', 'unit': 'MegaWatts', 'measureValue': 1359}\n{'id': '8d7735a9-390a-406a-aa61-20d411bf5e8d', 'dateTime': '2020-05-01 18:34:12', 'deviceId': 'dev-4', 'measureType': 'Rotation Speed', 'unitSymbol': 'RPM', 'unit': 'Revolutions per Minute', 'measureValue': 2918}\n{'id': '212c2db8-16fa-4fd9-8ab4-4679fcaa3e93', 'dateTime': '2020-05-01 18:34:12', 'deviceId': 'dev-4', 'measureType': 'Output', 'unitSymbol': 'MW', 'unit': 'MegaWatts', 'measureValue': 1512}\n{'id': 'bec4765d-63cc-45cc-8083-fec4b4eeedd0', 'dateTime': '2020-05-01 18:34:12', 'deviceId': 'dev-5', 'measureType': 'Rotation Speed', 'unitSymbol': 'RPM', 'unit': 'Revolutions per Minute', 'measureValue': 3194}\n{'id': '5852d1c2-fc41-445d-9c6f-5b83f3f13b1e', 'dateTime': '2020-05-01 18:34:12', 'deviceId': 'dev-5', 'measureType': 'Output', 'unitSymbol': 'MW', 'unit': 'MegaWatts', 'measureValue': 1563}\n{'id': '70b5dea8-e3e9-4caa-a86c-5f6e7d6e0b93', 'dateTime': '2020-05-01 18:34:12', 'deviceId': 'dev-6', 'measureType': 'Rotation Speed', 'unitSymbol': 'RPM', 'unit': 'Revolutions per Minute', 'measureValue': 2891}\n{'id': 'b6c419b0-9316-4164-8423-3192280e8179', 'dateTime': '2020-05-01 18:34:12', 'deviceId': 'dev-6', 'measureType': 'Output', 'unitSymbol': 'MW', 'unit': 'MegaWatts', 'measureValue': 1445}\n{'id': '59863be3-1804-4334-a7e6-e566be2216e4', 'dateTime': '2020-05-01 18:34:12', 'deviceId': 'dev-7', 'measureType': 'Rotation Speed', 'unitSymbol': 'RPM', 'unit': 'Revolutions per Minute', 'measureValue': 3271}\n{'id': '94bd9ec9-6a68-4815-b4b1-510bd29cca07', 'dateTime': '2020-05-01 18:34:12', 'deviceId': 'dev-7', 'measureType': 'Output', 'unitSymbol': 'MW', 'unit': 'MegaWatts', 'measureValue': 1483}\n{'id': '36e95405-10cb-4670-b650-1d4281d0e534', 'dateTime': '2020-05-01 18:34:12', 'deviceId': 'dev-8', 'measureType': 'Rotation Speed', 'unitSymbol': 'RPM', 'unit': 'Revolutions per Minute', 'measureValue': 2761}\n{'id': '64b12e48-912b-4660-bc8a-bec1cf12cdd2', 'dateTime': '2020-05-01 18:34:12', 'deviceId': 'dev-8', 'measureType': 'Output', 'unitSymbol': 'MW', 'unit': 'MegaWatts', 'measureValue': 1480}\n{'id': 'd379345a-1172-4a88-b1ed-0d01145fafbd', 'dateTime': '2020-05-01 18:34:12', 'deviceId': 'dev-9', 'measureType': 'Rotation Speed', 'unitSymbol': 'RPM', 'unit': 'Revolutions per Minute', 'measureValue': 3214}\n{'id': '5b8c8843-b62c-4bb5-9baf-739f58fbf00b', 'dateTime': '2020-05-01 18:34:12', 'deviceId': 'dev-9', 'measureType': 'Output', 'unitSymbol': 'MW', 'unit': 'MegaWatts', 'measureValue': 1403}\n{'id': '634b61e5-5b47-4db6-aa66-d860491a7681', 'dateTime': '2020-05-01 18:34:12', 'deviceId': 'dev-10', 'measureType': 'Rotation Speed', 'unitSymbol': 'RPM', 'unit': 'Revolutions per Minute', 'measureValue': 3229}\n{'id': 'aa5caa37-eb65-416e-8d5d-a358a4ad9b41', 'dateTime': '2020-05-01 18:34:12', 'deviceId': 'dev-10', 'measureType': 'Output', 'unitSymbol': 'MW', 'unit': 'MegaWatts', 'measureValue': 1372}\n{'id': 'fab8dc30-59f0-40c9-a9f9-06823a0e669a', 'dateTime': '2020-05-01 18:34:13', 'deviceId': 'dev-1', 'measureType': 'Rotation Speed', 'unitSymbol': 'RPM', 'unit': 'Revolutions per Minute', 'measureValue': 3112}\n{'id': 'd32c3c28-4c6f-41bc-a5ab-6cd3f9068b78', 'dateTime': '2020-05-01 18:34:13', 'deviceId': 'dev-1', 'measureType': 'Output', 'unitSymbol': 'MW', 'unit': 'MegaWatts', 'measureValue': 1569}\n{'id': 'f291e96c-f1cf-49a5-bb50-d87bcc69f065', 'dateTime': '2020-05-01 18:34:13', 'deviceId': 'dev-2', 'measureType': 'Rotation Speed', 'unitSymbol': 'RPM', 'unit': 'Revolutions per Minute', 'measureValue': 2865}\n{'id': '8c3f63f5-3a74-4f27-b241-95477844e862', 'dateTime': '2020-05-01 18:34:13', 'deviceId': 'dev-2', 'measureType': 'Output', 'unitSymbol': 'MW', 'unit': 'MegaWatts', 'measureValue': 1614}\n{'id': '28d22aca-ff13-45d5-bbf2-a66c271aad1d', 'dateTime': '2020-05-01 18:34:13', 'deviceId': 'dev-3', 'measureType': 'Rotation Speed', 'unitSymbol': 'RPM', 'unit': 'Revolutions per Minute', 'measureValue': 2829}\n{'id': 'a44e0470-1f04-4d78-80a5-e12b10a72743', 'dateTime': '2020-05-01 18:34:13', 'deviceId': 'dev-3', 'measureType': 'Output', 'unitSymbol': 'MW', 'unit': 'MegaWatts', 'measureValue': 1458}\n{'id': '535ed18b-543e-4bef-9c9d-fde23067ef09', 'dateTime': '2020-05-01 18:34:13', 'deviceId': 'dev-4', 'measureType': 'Rotation Speed', 'unitSymbol': 'RPM', 'unit': 'Revolutions per Minute', 'measureValue': 3148}\n{'id': 'cb0e0021-f68f-4de5-bb59-41457120856e', 'dateTime': '2020-05-01 18:34:13', 'deviceId': 'dev-4', 'measureType': 'Output', 'unitSymbol': 'MW', 'unit': 'MegaWatts', 'measureValue': 1469}\n{'id': '27b308fa-5641-4af9-b8c0-571f00deaa22', 'dateTime': '2020-05-01 18:34:13', 'deviceId': 'dev-5', 'measureType': 'Rotation Speed', 'unitSymbol': 'RPM', 'unit': 'Revolutions per Minute', 'measureValue': 3011}\n{'id': 'cfb7aedf-06f8-4489-bca5-4a2992a2bd49', 'dateTime': '2020-05-01 18:34:13', 'deviceId': 'dev-5', 'measureType': 'Output', 'unitSymbol': 'MW', 'unit': 'MegaWatts', 'measureValue': 1405}\n{'id': '2da77e62-c80a-414f-9845-243c647bb71d', 'dateTime': '2020-05-01 18:34:13', 'deviceId': 'dev-6', 'measureType': 'Rotation Speed', 'unitSymbol': 'RPM', 'unit': 'Revolutions per Minute', 'measureValue': 3167}\n{'id': '508c718e-adc7-40cb-b6c4-1778960f01dc', 'dateTime': '2020-05-01 18:34:13', 'deviceId': 'dev-6', 'measureType': 'Output', 'unitSymbol': 'MW', 'unit': 'MegaWatts', 'measureValue': 1566}\n{'id': 'a330fb32-7458-474a-9b1d-b5d566d33246', 'dateTime': '2020-05-01 18:34:13', 'deviceId': 'dev-7', 'measureType': 'Rotation Speed', 'unitSymbol': 'RPM', 'unit': 'Revolutions per Minute', 'measureValue': 3257}\n{'id': 'c9307ee4-4ba8-4121-b08e-e1264de91f3c', 'dateTime': '2020-05-01 18:34:13', 'deviceId': 'dev-7', 'measureType': 'Output', 'unitSymbol': 'MW', 'unit': 'MegaWatts', 'measureValue': 1501}\n{'id': 'c717a926-5908-47db-811a-3cdac71d2e21', 'dateTime': '2020-05-01 18:34:13', 'deviceId': 'dev-8', 'measureType': 'Rotation Speed', 'unitSymbol': 'RPM', 'unit': 'Revolutions per Minute', 'measureValue': 3175}\n{'id': '8ecffab3-5617-4ed7-8236-98cb84a96c41', 'dateTime': '2020-05-01 18:34:13', 'deviceId': 'dev-8', 'measureType': 'Output', 'unitSymbol': 'MW', 'unit': 'MegaWatts', 'measureValue': 1360}\n{'id': 'cb63729d-a2e9-4c22-9340-f2ddb0f64bf2', 'dateTime': '2020-05-01 18:34:13', 'deviceId': 'dev-9', 'measureType': 'Rotation Speed', 'unitSymbol': 'RPM', 'unit': 'Revolutions per Minute', 'measureValue': 2874}\n{'id': '6019900b-2b6a-441b-9920-473b66e4a86a', 'dateTime': '2020-05-01 18:34:13', 'deviceId': 'dev-9', 'measureType': 'Output', 'unitSymbol': 'MW', 'unit': 'MegaWatts', 'measureValue': 1629}\n{'id': '2335ac39-532e-480b-98d0-33007f1ac455', 'dateTime': '2020-05-01 18:34:13', 'deviceId': 'dev-10', 'measureType': 'Rotation Speed', 'unitSymbol': 'RPM', 'unit': 'Revolutions per Minute', 'measureValue': 2916}\n{'id': '96731f4d-7f50-4168-a571-e9dd8f482075', 'dateTime': '2020-05-01 18:34:13', 'deviceId': 'dev-10', 'measureType': 'Output', 'unitSymbol': 'MW', 'unit': 'MegaWatts', 'measureValue': 1439}\n{'id': '06541309-5a1a-4648-8cfe-4ab9846330de', 'dateTime': '2020-05-01 18:34:14', 'deviceId': 'dev-1', 'measureType': 'Rotation Speed', 'unitSymbol': 'RPM', 'unit': 'Revolutions per Minute', 'measureValue': 2934}\n{'id': '0d233a67-bca0-48f4-af72-52061e8b2929', 'dateTime': '2020-05-01 18:34:14', 'deviceId': 'dev-1', 'measureType': 'Output', 'unitSymbol': 'MW', 'unit': 'MegaWatts', 'measureValue': 1579}\n{'id': '2927e9ae-61f5-4aa4-b26f-f6ddb0be6ffa', 'dateTime': '2020-05-01 18:34:14', 'deviceId': 'dev-2', 'measureType': 'Rotation Speed', 'unitSymbol': 'RPM', 'unit': 'Revolutions per Minute', 'measureValue': 2995}\n{'id': '1b5e9aeb-a243-48cd-99fb-f9371a4357fe', 'dateTime': '2020-05-01 18:34:14', 'deviceId': 'dev-2', 'measureType': 'Output', 'unitSymbol': 'MW', 'unit': 'MegaWatts', 'measureValue': 1399}\n{'id': '67f5ccd7-b955-41ed-9e3a-ba202c091c37', 'dateTime': '2020-05-01 18:34:14', 'deviceId': 'dev-3', 'measureType': 'Rotation Speed', 'unitSymbol': 'RPM', 'unit': 'Revolutions per Minute', 'measureValue': 3025}\n{'id': 'e838d0ec-fd0e-4de0-96fe-1328b8c8ee0f', 'dateTime': '2020-05-01 18:34:14', 'deviceId': 'dev-3', 'measureType': 'Output', 'unitSymbol': 'MW', 'unit': 'MegaWatts', 'measureValue': 1518}\n{'id': 'cd7fe8df-194b-4d88-9ac5-2fc032ba275f', 'dateTime': '2020-05-01 18:34:14', 'deviceId': 'dev-4', 'measureType': 'Rotation Speed', 'unitSymbol': 'RPM', 'unit': 'Revolutions per Minute', 'measureValue': 3183}\n{'id': '5e31c0eb-ddc5-4cf3-8c8a-012ec55fbaf0', 'dateTime': '2020-05-01 18:34:14', 'deviceId': 'dev-4', 'measureType': 'Output', 'unitSymbol': 'MW', 'unit': 'MegaWatts', 'measureValue': 1378}\n{'id': 'dac92f90-193c-4535-9819-ebb6227fc4a9', 'dateTime': '2020-05-01 18:34:14', 'deviceId': 'dev-5', 'measureType': 'Rotation Speed', 'unitSymbol': 'RPM', 'unit': 'Revolutions per Minute', 'measureValue': 2742}\n{'id': '670f9056-37f9-453c-b8af-55baed79715e', 'dateTime': '2020-05-01 18:34:14', 'deviceId': 'dev-5', 'measureType': 'Output', 'unitSymbol': 'MW', 'unit': 'MegaWatts', 'measureValue': 1506}\n{'id': 'e2accd7f-ac96-4f1e-94f0-14a5709514d1', 'dateTime': '2020-05-01 18:34:14', 'deviceId': 'dev-6', 'measureType': 'Rotation Speed', 'unitSymbol': 'RPM', 'unit': 'Revolutions per Minute', 'measureValue': 2998}\n{'id': '6d5d9c84-7498-457f-a585-d69c2a68f566', 'dateTime': '2020-05-01 18:34:14', 'deviceId': 'dev-6', 'measureType': 'Output', 'unitSymbol': 'MW', 'unit': 'MegaWatts', 'measureValue': 1436}\n{'id': 'd67e6eeb-380f-44a9-88c6-f6556b03e94d', 'dateTime': '2020-05-01 18:34:14', 'deviceId': 'dev-7', 'measureType': 'Rotation Speed', 'unitSymbol': 'RPM', 'unit': 'Revolutions per Minute', 'measureValue': 2701}\n{'id': '2c1add00-29ba-45b0-8c7e-f4111f588d47', 'dateTime': '2020-05-01 18:34:14', 'deviceId': 'dev-7', 'measureType': 'Output', 'unitSymbol': 'MW', 'unit': 'MegaWatts', 'measureValue': 1582}\n{'id': 'ef405d3b-0391-46ac-a132-7bebc5a47723', 'dateTime': '2020-05-01 18:34:14', 'deviceId': 'dev-8', 'measureType': 'Rotation Speed', 'unitSymbol': 'RPM', 'unit': 'Revolutions per Minute', 'measureValue': 2709}\n{'id': '2fa75784-ffc4-4052-b4db-948bd91a8c55', 'dateTime': '2020-05-01 18:34:14', 'deviceId': 'dev-8', 'measureType': 'Output', 'unitSymbol': 'MW', 'unit': 'MegaWatts', 'measureValue': 1491}\n{'id': '24fee92d-642c-41dd-8d5f-7bb625effe34', 'dateTime': '2020-05-01 18:34:14', 'deviceId': 'dev-9', 'measureType': 'Rotation Speed', 'unitSymbol': 'RPM', 'unit': 'Revolutions per Minute', 'measureValue': 2737}\n{'id': '96479e28-997c-44db-87c7-cc94ea5c801c', 'dateTime': '2020-05-01 18:34:14', 'deviceId': 'dev-9', 'measureType': 'Output', 'unitSymbol': 'MW', 'unit': 'MegaWatts', 'measureValue': 1605}\n{'id': '6e2dea76-6eed-4c57-b62a-755462b0b540', 'dateTime': '2020-05-01 18:34:14', 'deviceId': 'dev-10', 'measureType': 'Rotation Speed', 'unitSymbol': 'RPM', 'unit': 'Revolutions per Minute', 'measureValue': 2719}\n{'id': '052aed17-395f-4a87-9380-2920fa1a09d0', 'dateTime': '2020-05-01 18:34:14', 'deviceId': 'dev-10', 'measureType': 'Output', 'unitSymbol': 'MW', 'unit': 'MegaWatts', 'measureValue': 1610}\n{'id': '8c226ad9-bf36-4206-9c08-956625fa6f5a', 'dateTime': '2020-05-01 18:34:15', 'deviceId': 'dev-1', 'measureType': 'Rotation Speed', 'unitSymbol': 'RPM', 'unit': 'Revolutions per Minute', 'measureValue': 2955}\n{'id': '833efa4c-4a08-4b63-86bf-fef24bc60dd1', 'dateTime': '2020-05-01 18:34:16', 'deviceId': 'dev-1', 'measureType': 'Output', 'unitSymbol': 'MW', 'unit': 'MegaWatts', 'measureValue': 1406}\n{'id': 'e04d4c41-09c4-4f36-9f76-1d09d490cb26', 'dateTime': '2020-05-01 18:34:16', 'deviceId': 'dev-2', 'measureType': 'Rotation Speed', 'unitSymbol': 'RPM', 'unit': 'Revolutions per Minute', 'measureValue': 2865}\n{'id': '07db41f4-7049-4169-a92e-78f60734f240', 'dateTime': '2020-05-01 18:34:16', 'deviceId': 'dev-2', 'measureType': 'Output', 'unitSymbol': 'MW', 'unit': 'MegaWatts', 'measureValue': 1593}\n{'id': '2f044874-f27e-4a02-a680-b667c2250f89', 'dateTime': '2020-05-01 18:34:16', 'deviceId': 'dev-3', 'measureType': 'Rotation Speed', 'unitSymbol': 'RPM', 'unit': 'Revolutions per Minute', 'measureValue': 3169}\n{'id': '362a94d4-b7f8-48ab-bd19-9823819fd4a2', 'dateTime': '2020-05-01 18:34:16', 'deviceId': 'dev-3', 'measureType': 'Output', 'unitSymbol': 'MW', 'unit': 'MegaWatts', 'measureValue': 1541}\n{'id': '5ca7c0d2-d5ab-4a10-9911-c7f6b74fae19', 'dateTime': '2020-05-01 18:34:16', 'deviceId': 'dev-4', 'measureType': 'Rotation Speed', 'unitSymbol': 'RPM', 'unit': 'Revolutions per Minute', 'measureValue': 3256}\n{'id': 'e9864acd-f4c1-4a1d-818b-538388942cee', 'dateTime': '2020-05-01 18:34:16', 'deviceId': 'dev-4', 'measureType': 'Output', 'unitSymbol': 'MW', 'unit': 'MegaWatts', 'measureValue': 1439}\n{'id': '78cfcfe5-2b36-4ab3-83db-e9da1d90ffe9', 'dateTime': '2020-05-01 18:34:16', 'deviceId': 'dev-5', 'measureType': 'Rotation Speed', 'unitSymbol': 'RPM', 'unit': 'Revolutions per Minute', 'measureValue': 3216}\n{'id': '134a8aba-25c4-4dc7-84b0-b9297682fa21', 'dateTime': '2020-05-01 18:34:16', 'deviceId': 'dev-5', 'measureType': 'Output', 'unitSymbol': 'MW', 'unit': 'MegaWatts', 'measureValue': 1457}\n{'id': '2c61793c-85db-4609-b212-5efc68b01858', 'dateTime': '2020-05-01 18:34:16', 'deviceId': 'dev-6', 'measureType': 'Rotation Speed', 'unitSymbol': 'RPM', 'unit': 'Revolutions per Minute', 'measureValue': 2965}\n{'id': '6fdea0c3-0ccb-47eb-84a0-b8a284c0d6d1', 'dateTime': '2020-05-01 18:34:16', 'deviceId': 'dev-6', 'measureType': 'Output', 'unitSymbol': 'MW', 'unit': 'MegaWatts', 'measureValue': 1383}\n{'id': 'fb2d4130-cf1e-4db5-b2cb-30689dd78f5e', 'dateTime': '2020-05-01 18:34:16', 'deviceId': 'dev-7', 'measureType': 'Rotation Speed', 'unitSymbol': 'RPM', 'unit': 'Revolutions per Minute', 'measureValue': 3237}\n{'id': 'ff28dd6d-1a2b-4b1a-a4c9-6b8e3ad1b055', 'dateTime': '2020-05-01 18:34:16', 'deviceId': 'dev-7', 'measureType': 'Output', 'unitSymbol': 'MW', 'unit': 'MegaWatts', 'measureValue': 1422}\n{'id': '78415ea3-aad7-459e-9102-960541002564', 'dateTime': '2020-05-01 18:34:16', 'deviceId': 'dev-8', 'measureType': 'Rotation Speed', 'unitSymbol': 'RPM', 'unit': 'Revolutions per Minute', 'measureValue': 3227}\n{'id': 'aec573dc-974b-41ef-bc49-57132b8a2e65', 'dateTime': '2020-05-01 18:34:16', 'deviceId': 'dev-8', 'measureType': 'Output', 'unitSymbol': 'MW', 'unit': 'MegaWatts', 'measureValue': 1559}\n{'id': '3f849049-50ca-44db-9850-55b17ef9321a', 'dateTime': '2020-05-01 18:34:16', 'deviceId': 'dev-9', 'measureType': 'Rotation Speed', 'unitSymbol': 'RPM', 'unit': 'Revolutions per Minute', 'measureValue': 2935}\n{'id': '903fb556-2a14-4515-9f59-bb4069b0467c', 'dateTime': '2020-05-01 18:34:16', 'deviceId': 'dev-9', 'measureType': 'Output', 'unitSymbol': 'MW', 'unit': 'MegaWatts', 'measureValue': 1563}\n{'id': '0460b40a-9412-493e-89d7-c28581ee2bea', 'dateTime': '2020-05-01 18:34:16', 'deviceId': 'dev-10', 'measureType': 'Rotation Speed', 'unitSymbol': 'RPM', 'unit': 'Revolutions per Minute', 'measureValue': 2735}\n{'id': '8d4a3b6a-223e-40ac-8a83-01b5d75ccb5e', 'dateTime': '2020-05-01 18:34:16', 'deviceId': 'dev-10', 'measureType': 'Output', 'unitSymbol': 'MW', 'unit': 'MegaWatts', 'measureValue': 1575}\n{'id': 'd41e6a87-d662-4927-9a50-832358f193b7', 'dateTime': '2020-05-01 18:34:17', 'deviceId': 'dev-1', 'measureType': 'Rotation Speed', 'unitSymbol': 'RPM', 'unit': 'Revolutions per Minute', 'measureValue': 2710}\n{'id': '4e2e41d4-402f-43e2-b36a-f42e20d30620', 'dateTime': '2020-05-01 18:34:17', 'deviceId': 'dev-1', 'measureType': 'Output', 'unitSymbol': 'MW', 'unit': 'MegaWatts', 'measureValue': 1565}\n{'id': 'a118c212-3105-4698-8a76-75f4ab610114', 'dateTime': '2020-05-01 18:34:17', 'deviceId': 'dev-2', 'measureType': 'Rotation Speed', 'unitSymbol': 'RPM', 'unit': 'Revolutions per Minute', 'measureValue': 3040}\n{'id': '93ff20fd-9bec-454b-9ff1-e6edf3422c80', 'dateTime': '2020-05-01 18:34:17', 'deviceId': 'dev-2', 'measureType': 'Output', 'unitSymbol': 'MW', 'unit': 'MegaWatts', 'measureValue': 1478}\n{'id': 'e09c88fc-f844-41cd-bc94-9fdea16eca0d', 'dateTime': '2020-05-01 18:34:17', 'deviceId': 'dev-3', 'measureType': 'Rotation Speed', 'unitSymbol': 'RPM', 'unit': 'Revolutions per Minute', 'measureValue': 2978}\n{'id': '8b9d875f-4ded-4592-a177-58b9aac17e17', 'dateTime': '2020-05-01 18:34:17', 'deviceId': 'dev-3', 'measureType': 'Output', 'unitSymbol': 'MW', 'unit': 'MegaWatts', 'measureValue': 1482}\n{'id': 'b0336809-8ebc-46bd-b352-7198defe412d', 'dateTime': '2020-05-01 18:34:17', 'deviceId': 'dev-4', 'measureType': 'Rotation Speed', 'unitSymbol': 'RPM', 'unit': 'Revolutions per Minute', 'measureValue': 3217}\n{'id': '3753c889-92aa-44f1-a4fb-51da69bf5a70', 'dateTime': '2020-05-01 18:34:17', 'deviceId': 'dev-4', 'measureType': 'Output', 'unitSymbol': 'MW', 'unit': 'MegaWatts', 'measureValue': 1402}\n{'id': 'bf66bb6b-7078-4573-8ac1-7b0847e59cba', 'dateTime': '2020-05-01 18:34:17', 'deviceId': 'dev-5', 'measureType': 'Rotation Speed', 'unitSymbol': 'RPM', 'unit': 'Revolutions per Minute', 'measureValue': 3061}\n{'id': '2a1663bc-21f5-4cf4-bdb6-96ca368d9e12', 'dateTime': '2020-05-01 18:34:17', 'deviceId': 'dev-5', 'measureType': 'Output', 'unitSymbol': 'MW', 'unit': 'MegaWatts', 'measureValue': 1387}\n{'id': '1b3d7c92-316b-453c-9b99-e0662c615d48', 'dateTime': '2020-05-01 18:34:17', 'deviceId': 'dev-6', 'measureType': 'Rotation Speed', 'unitSymbol': 'RPM', 'unit': 'Revolutions per Minute', 'measureValue': 2924}\n{'id': 'b0199443-21eb-429b-a70d-2ef875905655', 'dateTime': '2020-05-01 18:34:17', 'deviceId': 'dev-6', 'measureType': 'Output', 'unitSymbol': 'MW', 'unit': 'MegaWatts', 'measureValue': 1600}\n{'id': '283cd6c3-770c-4131-ab91-91a9c12bca63', 'dateTime': '2020-05-01 18:34:17', 'deviceId': 'dev-7', 'measureType': 'Rotation Speed', 'unitSymbol': 'RPM', 'unit': 'Revolutions per Minute', 'measureValue': 3035}\n{'id': '9b069106-b02d-400b-8f60-40098f6e67b2', 'dateTime': '2020-05-01 18:34:17', 'deviceId': 'dev-7', 'measureType': 'Output', 'unitSymbol': 'MW', 'unit': 'MegaWatts', 'measureValue': 1507}\n{'id': 'a52fee33-5426-4853-8c50-2c87efea94f6', 'dateTime': '2020-05-01 18:34:17', 'deviceId': 'dev-8', 'measureType': 'Rotation Speed', 'unitSymbol': 'RPM', 'unit': 'Revolutions per Minute', 'measureValue': 2843}\n{'id': 'c5bdd899-1500-4d68-901c-509a43901103', 'dateTime': '2020-05-01 18:34:17', 'deviceId': 'dev-8', 'measureType': 'Output', 'unitSymbol': 'MW', 'unit': 'MegaWatts', 'measureValue': 1501}\n{'id': '47461c45-1b45-48aa-a5e4-97608ad0bcbc', 'dateTime': '2020-05-01 18:34:17', 'deviceId': 'dev-9', 'measureType': 'Rotation Speed', 'unitSymbol': 'RPM', 'unit': 'Revolutions per Minute', 'measureValue': 2831}\n{'id': '4ad3d524-7cd1-40c5-8142-b4d2ac351024', 'dateTime': '2020-05-01 18:34:17', 'deviceId': 'dev-9', 'measureType': 'Output', 'unitSymbol': 'MW', 'unit': 'MegaWatts', 'measureValue': 1577}\n{'id': '40c23a36-10a2-4e93-b611-e4fc4562c9ff', 'dateTime': '2020-05-01 18:34:17', 'deviceId': 'dev-10', 'measureType': 'Rotation Speed', 'unitSymbol': 'RPM', 'unit': 'Revolutions per Minute', 'measureValue': 2819}\n{'id': '28f6aea8-7524-4080-8174-b880bcd0e6b6', 'dateTime': '2020-05-01 18:34:17', 'deviceId': 'dev-10', 'measureType': 'Output', 'unitSymbol': 'MW', 'unit': 'MegaWatts', 'measureValue': 1373}\n{'id': '8289bf72-2541-4e0f-a24e-59b8e312bcc2', 'dateTime': '2020-05-01 18:34:18', 'deviceId': 'dev-1', 'measureType': 'Rotation Speed', 'unitSymbol': 'RPM', 'unit': 'Revolutions per Minute', 'measureValue': 2977}\n{'id': '05626c7e-3a19-47df-8355-e0620dc1cfbb', 'dateTime': '2020-05-01 18:34:18', 'deviceId': 'dev-1', 'measureType': 'Output', 'unitSymbol': 'MW', 'unit': 'MegaWatts', 'measureValue': 1639}\n{'id': 'fddafe62-724e-4d4e-8648-c22441c23d09', 'dateTime': '2020-05-01 18:34:18', 'deviceId': 'dev-2', 'measureType': 'Rotation Speed', 'unitSymbol': 'RPM', 'unit': 'Revolutions per Minute', 'measureValue': 2807}\n{'id': 'a3e6c540-e9f4-45cc-b839-380db1cdb4a7', 'dateTime': '2020-05-01 18:34:18', 'deviceId': 'dev-2', 'measureType': 'Output', 'unitSymbol': 'MW', 'unit': 'MegaWatts', 'measureValue': 1594}\n{'id': '32924a87-442b-43d0-9f13-bbe42d86a41f', 'dateTime': '2020-05-01 18:34:18', 'deviceId': 'dev-3', 'measureType': 'Rotation Speed', 'unitSymbol': 'RPM', 'unit': 'Revolutions per Minute', 'measureValue': 2901}\n{'id': '8da16270-126f-4c1f-8c53-2b1b2cf13bf2', 'dateTime': '2020-05-01 18:34:18', 'deviceId': 'dev-3', 'measureType': 'Output', 'unitSymbol': 'MW', 'unit': 'MegaWatts', 'measureValue': 1428}\n{'id': '6ff62fb9-b556-4b9b-97c4-a9aa951dcfe7', 'dateTime': '2020-05-01 18:34:18', 'deviceId': 'dev-4', 'measureType': 'Rotation Speed', 'unitSymbol': 'RPM', 'unit': 'Revolutions per Minute', 'measureValue': 2982}\n{'id': '6c7d68f6-b4e9-4042-bcc6-2ce49fd201b7', 'dateTime': '2020-05-01 18:34:18', 'deviceId': 'dev-4', 'measureType': 'Output', 'unitSymbol': 'MW', 'unit': 'MegaWatts', 'measureValue': 1529}\n{'id': '5c41d23d-c464-48ac-8e07-f7b105c38660', 'dateTime': '2020-05-01 18:34:18', 'deviceId': 'dev-5', 'measureType': 'Rotation Speed', 'unitSymbol': 'RPM', 'unit': 'Revolutions per Minute', 'measureValue': 3190}\n{'id': '4c1c0f39-1708-42a5-9610-a2a0d68f1176', 'dateTime': '2020-05-01 18:34:18', 'deviceId': 'dev-5', 'measureType': 'Output', 'unitSymbol': 'MW', 'unit': 'MegaWatts', 'measureValue': 1529}\n{'id': '88178d35-053f-4753-9180-38517edaba95', 'dateTime': '2020-05-01 18:34:18', 'deviceId': 'dev-6', 'measureType': 'Rotation Speed', 'unitSymbol': 'RPM', 'unit': 'Revolutions per Minute', 'measureValue': 2795}\n{'id': 'f74e1552-4790-4b46-bafd-dedb499e6268', 'dateTime': '2020-05-01 18:34:18', 'deviceId': 'dev-6', 'measureType': 'Output', 'unitSymbol': 'MW', 'unit': 'MegaWatts', 'measureValue': 1642}\n{'id': '05ac36aa-73ca-493f-a092-b6969b0e040b', 'dateTime': '2020-05-01 18:34:18', 'deviceId': 'dev-7', 'measureType': 'Rotation Speed', 'unitSymbol': 'RPM', 'unit': 'Revolutions per Minute', 'measureValue': 2811}\n{'id': '8f797db4-0ce8-40c8-9632-f9050c180ed1', 'dateTime': '2020-05-01 18:34:18', 'deviceId': 'dev-7', 'measureType': 'Output', 'unitSymbol': 'MW', 'unit': 'MegaWatts', 'measureValue': 1355}\n{'id': 'c51bb747-0157-4f8b-b9a5-1dcf7894f83e', 'dateTime': '2020-05-01 18:34:18', 'deviceId': 'dev-8', 'measureType': 'Rotation Speed', 'unitSymbol': 'RPM', 'unit': 'Revolutions per Minute', 'measureValue': 2878}\n{'id': '06c7e141-6cc4-4e40-aa9a-7fa98c2d4f71', 'dateTime': '2020-05-01 18:34:18', 'deviceId': 'dev-8', 'measureType': 'Output', 'unitSymbol': 'MW', 'unit': 'MegaWatts', 'measureValue': 1361}\n{'id': '4dc8efc2-1361-4b7f-9704-b2e08afed6ed', 'dateTime': '2020-05-01 18:34:18', 'deviceId': 'dev-9', 'measureType': 'Rotation Speed', 'unitSymbol': 'RPM', 'unit': 'Revolutions per Minute', 'measureValue': 3135}\n{'id': 'd2c5a990-8301-47eb-a647-f04c463f115d', 'dateTime': '2020-05-01 18:34:18', 'deviceId': 'dev-9', 'measureType': 'Output', 'unitSymbol': 'MW', 'unit': 'MegaWatts', 'measureValue': 1509}\n{'id': 'fada42c9-d4f3-4852-b0b4-7886025e6d8c', 'dateTime': '2020-05-01 18:34:18', 'deviceId': 'dev-10', 'measureType': 'Rotation Speed', 'unitSymbol': 'RPM', 'unit': 'Revolutions per Minute', 'measureValue': 3291}\n{'id': '6b2ecbb2-477d-4bc6-83bb-34daac7a7cc1', 'dateTime': '2020-05-01 18:34:18', 'deviceId': 'dev-10', 'measureType': 'Output', 'unitSymbol': 'MW', 'unit': 'MegaWatts', 'measureValue': 1480}\n{'id': 'f861041f-9688-4538-b343-a097fae88c8a', 'dateTime': '2020-05-01 18:34:19', 'deviceId': 'dev-1', 'measureType': 'Rotation Speed', 'unitSymbol': 'RPM', 'unit': 'Revolutions per Minute', 'measureValue': 2900}\n{'id': '7d126a79-22bd-4269-a7fc-128f73a4d450', 'dateTime': '2020-05-01 18:34:19', 'deviceId': 'dev-1', 'measureType': 'Output', 'unitSymbol': 'MW', 'unit': 'MegaWatts', 'measureValue': 1476}\n{'id': '4e67462b-37c2-48ab-872c-b44ecf6546af', 'dateTime': '2020-05-01 18:34:19', 'deviceId': 'dev-2', 'measureType': 'Rotation Speed', 'unitSymbol': 'RPM', 'unit': 'Revolutions per Minute', 'measureValue': 3234}\n{'id': 'eba81ebf-455a-4499-95c5-91585d843d9c', 'dateTime': '2020-05-01 18:34:19', 'deviceId': 'dev-2', 'measureType': 'Output', 'unitSymbol': 'MW', 'unit': 'MegaWatts', 'measureValue': 1548}\n{'id': '0126b9bf-2f6a-4f56-85aa-b4693f200233', 'dateTime': '2020-05-01 18:34:19', 'deviceId': 'dev-3', 'measureType': 'Rotation Speed', 'unitSymbol': 'RPM', 'unit': 'Revolutions per Minute', 'measureValue': 2947}\n{'id': 'be18b524-65a6-4b6a-9c6f-a54052dd8327', 'dateTime': '2020-05-01 18:34:19', 'deviceId': 'dev-3', 'measureType': 'Output', 'unitSymbol': 'MW', 'unit': 'MegaWatts', 'measureValue': 1403}\n{'id': '91cc5cad-925b-43cd-86fb-0ad9db5cbdfd', 'dateTime': '2020-05-01 18:34:19', 'deviceId': 'dev-4', 'measureType': 'Rotation Speed', 'unitSymbol': 'RPM', 'unit': 'Revolutions per Minute', 'measureValue': 2910}\n{'id': 'efef537d-e107-49d6-9c28-74a51452a018', 'dateTime': '2020-05-01 18:34:19', 'deviceId': 'dev-4', 'measureType': 'Output', 'unitSymbol': 'MW', 'unit': 'MegaWatts', 'measureValue': 1400}\n{'id': 'df3d347b-ec1e-47e0-8e0b-ba68de8a3cdc', 'dateTime': '2020-05-01 18:34:19', 'deviceId': 'dev-5', 'measureType': 'Rotation Speed', 'unitSymbol': 'RPM', 'unit': 'Revolutions per Minute', 'measureValue': 3095}\n{'id': 'f86b4e72-a939-489a-b726-0c0d4531cc4e', 'dateTime': '2020-05-01 18:34:19', 'deviceId': 'dev-5', 'measureType': 'Output', 'unitSymbol': 'MW', 'unit': 'MegaWatts', 'measureValue': 1528}\n{'id': 'f75bc0b1-8ccb-4792-ad7f-8eb3c980405b', 'dateTime': '2020-05-01 18:34:19', 'deviceId': 'dev-6', 'measureType': 'Rotation Speed', 'unitSymbol': 'RPM', 'unit': 'Revolutions per Minute', 'measureValue': 2729}\n{'id': '23d2a951-ef35-43e9-9322-d87ffd1293a3', 'dateTime': '2020-05-01 18:34:19', 'deviceId': 'dev-6', 'measureType': 'Output', 'unitSymbol': 'MW', 'unit': 'MegaWatts', 'measureValue': 1644}\n{'id': 'a78d147d-217f-4814-a625-74cd95991416', 'dateTime': '2020-05-01 18:34:19', 'deviceId': 'dev-7', 'measureType': 'Rotation Speed', 'unitSymbol': 'RPM', 'unit': 'Revolutions per Minute', 'measureValue': 3139}\n{'id': '3f16a0f7-aea3-4432-bd19-1d463bbe0819', 'dateTime': '2020-05-01 18:34:19', 'deviceId': 'dev-7', 'measureType': 'Output', 'unitSymbol': 'MW', 'unit': 'MegaWatts', 'measureValue': 1547}\n{'id': 'e75a6ca5-b49b-435c-944a-8b0d8682e6d4', 'dateTime': '2020-05-01 18:34:19', 'deviceId': 'dev-8', 'measureType': 'Rotation Speed', 'unitSymbol': 'RPM', 'unit': 'Revolutions per Minute', 'measureValue': 3038}\n{'id': '89bb0dfd-e6e9-4930-a09b-a1c545066192', 'dateTime': '2020-05-01 18:34:19', 'deviceId': 'dev-8', 'measureType': 'Output', 'unitSymbol': 'MW', 'unit': 'MegaWatts', 'measureValue': 1639}\n{'id': '4e9b4da3-ca30-4b6f-b793-350943dde913', 'dateTime': '2020-05-01 18:34:19', 'deviceId': 'dev-9', 'measureType': 'Rotation Speed', 'unitSymbol': 'RPM', 'unit': 'Revolutions per Minute', 'measureValue': 2987}\n{'id': 'd43f670a-3a99-48e1-ab02-c33096942c94', 'dateTime': '2020-05-01 18:34:19', 'deviceId': 'dev-9', 'measureType': 'Output', 'unitSymbol': 'MW', 'unit': 'MegaWatts', 'measureValue': 1519}\n{'id': '75b6620c-e5fb-43bb-afe8-2e6e497a9007', 'dateTime': '2020-05-01 18:34:19', 'deviceId': 'dev-10', 'measureType': 'Rotation Speed', 'unitSymbol': 'RPM', 'unit': 'Revolutions per Minute', 'measureValue': 3225}\n{'id': '1d92d6a3-e65c-4843-be24-a8a38a0bdf6a', 'dateTime': '2020-05-01 18:34:19', 'deviceId': 'dev-10', 'measureType': 'Output', 'unitSymbol': 'MW', 'unit': 'MegaWatts', 'measureValue': 1439}\n{'id': '2c11a9ef-2dbe-4bb5-afe8-c8ace7b0861d', 'dateTime': '2020-05-01 18:34:20', 'deviceId': 'dev-1', 'measureType': 'Rotation Speed', 'unitSymbol': 'RPM', 'unit': 'Revolutions per Minute', 'measureValue': 2973}\n{'id': '5f7c8838-5a54-4244-a5e6-40212dc31d07', 'dateTime': '2020-05-01 18:34:20', 'deviceId': 'dev-1', 'measureType': 'Output', 'unitSymbol': 'MW', 'unit': 'MegaWatts', 'measureValue': 1543}\n{'id': 'c8de94dd-9d2b-4199-8130-21082cc3a442', 'dateTime': '2020-05-01 18:34:20', 'deviceId': 'dev-2', 'measureType': 'Rotation Speed', 'unitSymbol': 'RPM', 'unit': 'Revolutions per Minute', 'measureValue': 3210}\n{'id': '84a5421e-72ab-4a23-9053-961910c47f09', 'dateTime': '2020-05-01 18:34:20', 'deviceId': 'dev-2', 'measureType': 'Output', 'unitSymbol': 'MW', 'unit': 'MegaWatts', 'measureValue': 1459}\n{'id': 'a38e5d50-8f78-4937-b491-f160ba8383c9', 'dateTime': '2020-05-01 18:34:20', 'deviceId': 'dev-3', 'measureType': 'Rotation Speed', 'unitSymbol': 'RPM', 'unit': 'Revolutions per Minute', 'measureValue': 2954}\n{'id': '529d5149-6028-4d80-b911-600a14dfca7a', 'dateTime': '2020-05-01 18:34:20', 'deviceId': 'dev-3', 'measureType': 'Output', 'unitSymbol': 'MW', 'unit': 'MegaWatts', 'measureValue': 1423}\n{'id': '1ca9f924-db0b-42f0-a894-436ac4430cf1', 'dateTime': '2020-05-01 18:34:20', 'deviceId': 'dev-4', 'measureType': 'Rotation Speed', 'unitSymbol': 'RPM', 'unit': 'Revolutions per Minute', 'measureValue': 3150}\n{'id': '9d840834-a343-4412-8779-24c63b590a8f', 'dateTime': '2020-05-01 18:34:20', 'deviceId': 'dev-4', 'measureType': 'Output', 'unitSymbol': 'MW', 'unit': 'MegaWatts', 'measureValue': 1413}\n{'id': '0cdf7e08-4bdc-45cf-8784-93beb73a9fd3', 'dateTime': '2020-05-01 18:34:20', 'deviceId': 'dev-5', 'measureType': 'Rotation Speed', 'unitSymbol': 'RPM', 'unit': 'Revolutions per Minute', 'measureValue': 3078}\n{'id': '4bf21959-0e9d-45b8-81d9-7609f770ffe2', 'dateTime': '2020-05-01 18:34:20', 'deviceId': 'dev-5', 'measureType': 'Output', 'unitSymbol': 'MW', 'unit': 'MegaWatts', 'measureValue': 1538}\n{'id': '0bfd7068-5bb1-48ea-9e86-065f5b9f0add', 'dateTime': '2020-05-01 18:34:20', 'deviceId': 'dev-6', 'measureType': 'Rotation Speed', 'unitSymbol': 'RPM', 'unit': 'Revolutions per Minute', 'measureValue': 3052}\n{'id': '86b7d921-5173-4fdc-a517-f6ffe735b25d', 'dateTime': '2020-05-01 18:34:20', 'deviceId': 'dev-6', 'measureType': 'Output', 'unitSymbol': 'MW', 'unit': 'MegaWatts', 'measureValue': 1566}\n{'id': 'ce76e213-302b-4771-a8ba-049cbcfafd0a', 'dateTime': '2020-05-01 18:34:20', 'deviceId': 'dev-7', 'measureType': 'Rotation Speed', 'unitSymbol': 'RPM', 'unit': 'Revolutions per Minute', 'measureValue': 2872}\n{'id': '1eca85d6-f787-4319-a76d-83b2ab49084d', 'dateTime': '2020-05-01 18:34:20', 'deviceId': 'dev-7', 'measureType': 'Output', 'unitSymbol': 'MW', 'unit': 'MegaWatts', 'measureValue': 1523}\n{'id': '44d7c46c-e99c-4723-8a6b-347a978e09d5', 'dateTime': '2020-05-01 18:34:20', 'deviceId': 'dev-8', 'measureType': 'Rotation Speed', 'unitSymbol': 'RPM', 'unit': 'Revolutions per Minute', 'measureValue': 2961}\n{'id': 'd1ba3cd2-64bc-4716-a709-1282e16ee1fa', 'dateTime': '2020-05-01 18:34:20', 'deviceId': 'dev-8', 'measureType': 'Output', 'unitSymbol': 'MW', 'unit': 'MegaWatts', 'measureValue': 1367}\n{'id': '4cb81164-8b54-4376-a72e-5a53ab3ff051', 'dateTime': '2020-05-01 18:34:20', 'deviceId': 'dev-9', 'measureType': 'Rotation Speed', 'unitSymbol': 'RPM', 'unit': 'Revolutions per Minute', 'measureValue': 2904}\n{'id': '7ae12072-07e2-4d30-8d3e-48bce897f0ac', 'dateTime': '2020-05-01 18:34:20', 'deviceId': 'dev-9', 'measureType': 'Output', 'unitSymbol': 'MW', 'unit': 'MegaWatts', 'measureValue': 1577}\n{'id': '5445871b-7b95-4ac5-a9c7-59b1879c8d6a', 'dateTime': '2020-05-01 18:34:20', 'deviceId': 'dev-10', 'measureType': 'Rotation Speed', 'unitSymbol': 'RPM', 'unit': 'Revolutions per Minute', 'measureValue': 3296}\n{'id': 'db10cd27-de82-4f01-ad56-bd816a724411', 'dateTime': '2020-05-01 18:34:20', 'deviceId': 'dev-10', 'measureType': 'Output', 'unitSymbol': 'MW', 'unit': 'MegaWatts', 'measureValue': 1510}\n{'id': 'd52713f7-98a9-4306-887d-07844fdd780a', 'dateTime': '2020-05-01 18:34:22', 'deviceId': 'dev-1', 'measureType': 'Rotation Speed', 'unitSymbol': 'RPM', 'unit': 'Revolutions per Minute', 'measureValue': 2757}\n{'id': 'c75be2dc-f325-4c23-a2ab-6e9edbc24d8e', 'dateTime': '2020-05-01 18:34:22', 'deviceId': 'dev-1', 'measureType': 'Output', 'unitSymbol': 'MW', 'unit': 'MegaWatts', 'measureValue': 1454}\n{'id': '004e3e79-7b43-4deb-843b-692cb94bee8a', 'dateTime': '2020-05-01 18:34:22', 'deviceId': 'dev-2', 'measureType': 'Rotation Speed', 'unitSymbol': 'RPM', 'unit': 'Revolutions per Minute', 'measureValue': 3235}\n{'id': 'd2fcbe15-6fee-4597-85fb-92ac0ac7230b', 'dateTime': '2020-05-01 18:34:22', 'deviceId': 'dev-2', 'measureType': 'Output', 'unitSymbol': 'MW', 'unit': 'MegaWatts', 'measureValue': 1648}\n{'id': '513d1b4d-4e0a-41ab-a647-9e094a52b904', 'dateTime': '2020-05-01 18:34:22', 'deviceId': 'dev-3', 'measureType': 'Rotation Speed', 'unitSymbol': 'RPM', 'unit': 'Revolutions per Minute', 'measureValue': 3077}\n{'id': '3385e047-24dd-4953-907f-89e6c4254f74', 'dateTime': '2020-05-01 18:34:22', 'deviceId': 'dev-3', 'measureType': 'Output', 'unitSymbol': 'MW', 'unit': 'MegaWatts', 'measureValue': 1445}\n{'id': '5962fe56-4c93-4cdb-bf8b-fa953469145a', 'dateTime': '2020-05-01 18:34:22', 'deviceId': 'dev-4', 'measureType': 'Rotation Speed', 'unitSymbol': 'RPM', 'unit': 'Revolutions per Minute', 'measureValue': 3230}\n{'id': '17bc0349-72c0-4c5a-a5d1-3776324d1d42', 'dateTime': '2020-05-01 18:34:22', 'deviceId': 'dev-4', 'measureType': 'Output', 'unitSymbol': 'MW', 'unit': 'MegaWatts', 'measureValue': 1437}\n{'id': '9caca79f-a8db-4d5b-af79-413e2d13b215', 'dateTime': '2020-05-01 18:34:22', 'deviceId': 'dev-5', 'measureType': 'Rotation Speed', 'unitSymbol': 'RPM', 'unit': 'Revolutions per Minute', 'measureValue': 2817}\n{'id': '9303fcd4-4f24-484d-9551-7c6c6d44ec1a', 'dateTime': '2020-05-01 18:34:22', 'deviceId': 'dev-5', 'measureType': 'Output', 'unitSymbol': 'MW', 'unit': 'MegaWatts', 'measureValue': 1446}\n{'id': '1a07bd7e-3145-4d66-9055-49d64a3f01e5', 'dateTime': '2020-05-01 18:34:22', 'deviceId': 'dev-6', 'measureType': 'Rotation Speed', 'unitSymbol': 'RPM', 'unit': 'Revolutions per Minute', 'measureValue': 2959}\n{'id': 'b0418a9d-2c04-4fdf-845b-89ef40cdf9e7', 'dateTime': '2020-05-01 18:34:22', 'deviceId': 'dev-6', 'measureType': 'Output', 'unitSymbol': 'MW', 'unit': 'MegaWatts', 'measureValue': 1572}\n{'id': 'e6c3212b-f107-4316-a85e-b6cb9dc56d30', 'dateTime': '2020-05-01 18:34:22', 'deviceId': 'dev-7', 'measureType': 'Rotation Speed', 'unitSymbol': 'RPM', 'unit': 'Revolutions per Minute', 'measureValue': 3140}\n{'id': '06bd8991-aa51-439a-8193-6c1e265d8a21', 'dateTime': '2020-05-01 18:34:22', 'deviceId': 'dev-7', 'measureType': 'Output', 'unitSymbol': 'MW', 'unit': 'MegaWatts', 'measureValue': 1469}\n{'id': '84101281-dbe5-41ae-93dd-93bff2abacda', 'dateTime': '2020-05-01 18:34:22', 'deviceId': 'dev-8', 'measureType': 'Rotation Speed', 'unitSymbol': 'RPM', 'unit': 'Revolutions per Minute', 'measureValue': 3003}\n{'id': '48461db2-375d-4a1f-a613-733cbcd937ab', 'dateTime': '2020-05-01 18:34:22', 'deviceId': 'dev-8', 'measureType': 'Output', 'unitSymbol': 'MW', 'unit': 'MegaWatts', 'measureValue': 1508}\n{'id': 'cb238eba-099c-4b7e-ada5-c3c9a4955841', 'dateTime': '2020-05-01 18:34:22', 'deviceId': 'dev-9', 'measureType': 'Rotation Speed', 'unitSymbol': 'RPM', 'unit': 'Revolutions per Minute', 'measureValue': 2809}\n{'id': 'db45549f-2d0f-409c-ae17-a5f5e4848f54', 'dateTime': '2020-05-01 18:34:22', 'deviceId': 'dev-9', 'measureType': 'Output', 'unitSymbol': 'MW', 'unit': 'MegaWatts', 'measureValue': 1428}\n{'id': '695a7ce9-34b6-4902-a56e-42af9cbdff95', 'dateTime': '2020-05-01 18:34:22', 'deviceId': 'dev-10', 'measureType': 'Rotation Speed', 'unitSymbol': 'RPM', 'unit': 'Revolutions per Minute', 'measureValue': 3122}\n{'id': 'd823e42a-fbea-4741-aaba-e0072cfe911d', 'dateTime': '2020-05-01 18:34:22', 'deviceId': 'dev-10', 'measureType': 'Output', 'unitSymbol': 'MW', 'unit': 'MegaWatts', 'measureValue': 1405}\n{'id': 'bf8c86db-0719-4ef2-9cdd-c94d43385765', 'dateTime': '2020-05-01 18:34:23', 'deviceId': 'dev-1', 'measureType': 'Rotation Speed', 'unitSymbol': 'RPM', 'unit': 'Revolutions per Minute', 'measureValue': 3098}\n{'id': '23b4f1da-7aa6-4cd4-bfd3-278e098ac008', 'dateTime': '2020-05-01 18:34:23', 'deviceId': 'dev-1', 'measureType': 'Output', 'unitSymbol': 'MW', 'unit': 'MegaWatts', 'measureValue': 1378}\n{'id': '9037bbdf-a178-477e-a19a-5d099ddffa3c', 'dateTime': '2020-05-01 18:34:23', 'deviceId': 'dev-2', 'measureType': 'Rotation Speed', 'unitSymbol': 'RPM', 'unit': 'Revolutions per Minute', 'measureValue': 3215}\n{'id': 'ef39a84b-3e0c-4268-adf5-ed516f4e2a8d', 'dateTime': '2020-05-01 18:34:23', 'deviceId': 'dev-2', 'measureType': 'Output', 'unitSymbol': 'MW', 'unit': 'MegaWatts', 'measureValue': 1441}\n{'id': '9565947a-a75f-44cc-af48-643806230301', 'dateTime': '2020-05-01 18:34:23', 'deviceId': 'dev-3', 'measureType': 'Rotation Speed', 'unitSymbol': 'RPM', 'unit': 'Revolutions per Minute', 'measureValue': 2741}\n{'id': '53f66c80-052d-4e55-b360-91750f8b5234', 'dateTime': '2020-05-01 18:34:23', 'deviceId': 'dev-3', 'measureType': 'Output', 'unitSymbol': 'MW', 'unit': 'MegaWatts', 'measureValue': 1476}\n{'id': 'bd07df8b-b50c-4812-b075-79d14dad31aa', 'dateTime': '2020-05-01 18:34:23', 'deviceId': 'dev-4', 'measureType': 'Rotation Speed', 'unitSymbol': 'RPM', 'unit': 'Revolutions per Minute', 'measureValue': 3081}\n{'id': 'd4eac56e-e26a-439d-bf3d-8aef5db5d6d1', 'dateTime': '2020-05-01 18:34:23', 'deviceId': 'dev-4', 'measureType': 'Output', 'unitSymbol': 'MW', 'unit': 'MegaWatts', 'measureValue': 1562}\n{'id': '5172bb49-8721-44db-adcc-f5d8fceaa32a', 'dateTime': '2020-05-01 18:34:23', 'deviceId': 'dev-5', 'measureType': 'Rotation Speed', 'unitSymbol': 'RPM', 'unit': 'Revolutions per Minute', 'measureValue': 2871}\n{'id': '3e28ed26-8d75-4481-a1cb-2fbbd4bc7ff3', 'dateTime': '2020-05-01 18:34:23', 'deviceId': 'dev-5', 'measureType': 'Output', 'unitSymbol': 'MW', 'unit': 'MegaWatts', 'measureValue': 1649}\n{'id': '6cbbdd11-8351-459a-8165-90cbc40416ed', 'dateTime': '2020-05-01 18:34:23', 'deviceId': 'dev-6', 'measureType': 'Rotation Speed', 'unitSymbol': 'RPM', 'unit': 'Revolutions per Minute', 'measureValue': 2812}\n{'id': '9accd309-8e53-4c5b-a941-a210b58ae688', 'dateTime': '2020-05-01 18:34:23', 'deviceId': 'dev-6', 'measureType': 'Output', 'unitSymbol': 'MW', 'unit': 'MegaWatts', 'measureValue': 1430}\n{'id': 'ae2f9b59-4a00-442d-8c8f-2ce38d43d614', 'dateTime': '2020-05-01 18:34:23', 'deviceId': 'dev-7', 'measureType': 'Rotation Speed', 'unitSymbol': 'RPM', 'unit': 'Revolutions per Minute', 'measureValue': 2885}\n{'id': '9cf68193-c6ce-45ea-9f5b-11c67acf313b', 'dateTime': '2020-05-01 18:34:23', 'deviceId': 'dev-7', 'measureType': 'Output', 'unitSymbol': 'MW', 'unit': 'MegaWatts', 'measureValue': 1561}\n{'id': 'fafc44c7-9a76-4b69-ac02-b4a733c0add0', 'dateTime': '2020-05-01 18:34:23', 'deviceId': 'dev-8', 'measureType': 'Rotation Speed', 'unitSymbol': 'RPM', 'unit': 'Revolutions per Minute', 'measureValue': 3271}\n{'id': 'c8cea5a1-caf7-4bfc-88fe-0fd69c61fd7d', 'dateTime': '2020-05-01 18:34:23', 'deviceId': 'dev-8', 'measureType': 'Output', 'unitSymbol': 'MW', 'unit': 'MegaWatts', 'measureValue': 1372}\n{'id': '2399a4a6-b3a1-42e8-b777-b90dacd832f0', 'dateTime': '2020-05-01 18:34:23', 'deviceId': 'dev-9', 'measureType': 'Rotation Speed', 'unitSymbol': 'RPM', 'unit': 'Revolutions per Minute', 'measureValue': 3277}\n{'id': '5752c0a5-414a-4f47-a1ee-f8f7a98fb7f1', 'dateTime': '2020-05-01 18:34:23', 'deviceId': 'dev-9', 'measureType': 'Output', 'unitSymbol': 'MW', 'unit': 'MegaWatts', 'measureValue': 1570}\n{'id': '557f5ab3-2033-43ba-90f3-f767afe2f700', 'dateTime': '2020-05-01 18:34:23', 'deviceId': 'dev-10', 'measureType': 'Rotation Speed', 'unitSymbol': 'RPM', 'unit': 'Revolutions per Minute', 'measureValue': 3009}\n{'id': '26d755b9-bff0-463e-8449-ac821ec23f95', 'dateTime': '2020-05-01 18:34:23', 'deviceId': 'dev-10', 'measureType': 'Output', 'unitSymbol': 'MW', 'unit': 'MegaWatts', 'measureValue': 1531}\n{'id': 'ea1e4be7-89ee-49fa-8536-684ea1804f0e', 'dateTime': '2020-05-01 18:34:24', 'deviceId': 'dev-1', 'measureType': 'Rotation Speed', 'unitSymbol': 'RPM', 'unit': 'Revolutions per Minute', 'measureValue': 2825}\n{'id': '8c71557d-e1f7-4a8e-b209-ec4eb2b50ff1', 'dateTime': '2020-05-01 18:34:24', 'deviceId': 'dev-1', 'measureType': 'Output', 'unitSymbol': 'MW', 'unit': 'MegaWatts', 'measureValue': 1541}\n{'id': 'dc28efe1-f78c-450e-8f03-90c800c3191b', 'dateTime': '2020-05-01 18:34:24', 'deviceId': 'dev-2', 'measureType': 'Rotation Speed', 'unitSymbol': 'RPM', 'unit': 'Revolutions per Minute', 'measureValue': 3075}\n{'id': 'fac1abe7-611d-4266-9a8e-2292498baa1f', 'dateTime': '2020-05-01 18:34:24', 'deviceId': 'dev-2', 'measureType': 'Output', 'unitSymbol': 'MW', 'unit': 'MegaWatts', 'measureValue': 1377}\n{'id': 'e49b9042-c7f4-4d91-bef3-3c94cafe91b2', 'dateTime': '2020-05-01 18:34:24', 'deviceId': 'dev-3', 'measureType': 'Rotation Speed', 'unitSymbol': 'RPM', 'unit': 'Revolutions per Minute', 'measureValue': 3055}\n{'id': 'bb19bdb3-bef4-4417-acb1-f3c0c8631e00', 'dateTime': '2020-05-01 18:34:24', 'deviceId': 'dev-3', 'measureType': 'Output', 'unitSymbol': 'MW', 'unit': 'MegaWatts', 'measureValue': 1596}\n{'id': '32dee874-6280-4eb1-89c8-a4e451b3c187', 'dateTime': '2020-05-01 18:34:24', 'deviceId': 'dev-4', 'measureType': 'Rotation Speed', 'unitSymbol': 'RPM', 'unit': 'Revolutions per Minute', 'measureValue': 2735}\n{'id': 'c734c157-5144-47b8-876a-d0f8788b7f04', 'dateTime': '2020-05-01 18:34:24', 'deviceId': 'dev-4', 'measureType': 'Output', 'unitSymbol': 'MW', 'unit': 'MegaWatts', 'measureValue': 1418}\n{'id': '6b780edc-0f20-44ac-994c-bb97fb456e74', 'dateTime': '2020-05-01 18:34:24', 'deviceId': 'dev-5', 'measureType': 'Rotation Speed', 'unitSymbol': 'RPM', 'unit': 'Revolutions per Minute', 'measureValue': 3248}\n{'id': 'f6aca5e9-774a-4694-8d9e-7146cc1dade0', 'dateTime': '2020-05-01 18:34:24', 'deviceId': 'dev-5', 'measureType': 'Output', 'unitSymbol': 'MW', 'unit': 'MegaWatts', 'measureValue': 1487}\n{'id': 'e216c4d1-9dfa-4933-8c6a-edf4e89173d7', 'dateTime': '2020-05-01 18:34:24', 'deviceId': 'dev-6', 'measureType': 'Rotation Speed', 'unitSymbol': 'RPM', 'unit': 'Revolutions per Minute', 'measureValue': 3150}\n{'id': '5871a473-630e-4436-bb45-a944e9da36cf', 'dateTime': '2020-05-01 18:34:24', 'deviceId': 'dev-6', 'measureType': 'Output', 'unitSymbol': 'MW', 'unit': 'MegaWatts', 'measureValue': 1477}\n{'id': '504b96d8-5261-4548-9b2b-a058b57226ff', 'dateTime': '2020-05-01 18:34:24', 'deviceId': 'dev-7', 'measureType': 'Rotation Speed', 'unitSymbol': 'RPM', 'unit': 'Revolutions per Minute', 'measureValue': 2963}\n{'id': '2f411cc5-8456-4217-bc6e-c2f76b5bc7c3', 'dateTime': '2020-05-01 18:34:24', 'deviceId': 'dev-7', 'measureType': 'Output', 'unitSymbol': 'MW', 'unit': 'MegaWatts', 'measureValue': 1428}\n{'id': 'bb932539-45ab-4626-9b92-3bc5984a3d7a', 'dateTime': '2020-05-01 18:34:24', 'deviceId': 'dev-8', 'measureType': 'Rotation Speed', 'unitSymbol': 'RPM', 'unit': 'Revolutions per Minute', 'measureValue': 3053}\n{'id': 'ebce4814-1978-4e90-9829-ee276cb54d3a', 'dateTime': '2020-05-01 18:34:24', 'deviceId': 'dev-8', 'measureType': 'Output', 'unitSymbol': 'MW', 'unit': 'MegaWatts', 'measureValue': 1418}\n{'id': '44d9ca03-4cc4-43d0-82d8-5b0caa7932e6', 'dateTime': '2020-05-01 18:34:24', 'deviceId': 'dev-9', 'measureType': 'Rotation Speed', 'unitSymbol': 'RPM', 'unit': 'Revolutions per Minute', 'measureValue': 2833}\n{'id': '1954edd7-cc48-420b-963b-0edeb255d939', 'dateTime': '2020-05-01 18:34:24', 'deviceId': 'dev-9', 'measureType': 'Output', 'unitSymbol': 'MW', 'unit': 'MegaWatts', 'measureValue': 1636}\n{'id': '35acb6c0-a3b2-498d-b58f-f48de9ac35e8', 'dateTime': '2020-05-01 18:34:24', 'deviceId': 'dev-10', 'measureType': 'Rotation Speed', 'unitSymbol': 'RPM', 'unit': 'Revolutions per Minute', 'measureValue': 2776}\n{'id': 'd508c7bf-9ea7-4ac4-8f29-163392bb03d6', 'dateTime': '2020-05-01 18:34:24', 'deviceId': 'dev-10', 'measureType': 'Output', 'unitSymbol': 'MW', 'unit': 'MegaWatts', 'measureValue': 1366}\n{'id': 'bec7e752-b23c-4997-bd07-50d5c6505e1a', 'dateTime': '2020-05-01 18:34:25', 'deviceId': 'dev-1', 'measureType': 'Rotation Speed', 'unitSymbol': 'RPM', 'unit': 'Revolutions per Minute', 'measureValue': 2897}\n{'id': '81d1ff32-30be-4355-969e-2659a527fe38', 'dateTime': '2020-05-01 18:34:25', 'deviceId': 'dev-1', 'measureType': 'Output', 'unitSymbol': 'MW', 'unit': 'MegaWatts', 'measureValue': 1421}\n{'id': '22e20df1-63ec-420a-bfac-1aaf049f5eb6', 'dateTime': '2020-05-01 18:34:25', 'deviceId': 'dev-2', 'measureType': 'Rotation Speed', 'unitSymbol': 'RPM', 'unit': 'Revolutions per Minute', 'measureValue': 3064}\n{'id': '642926b7-1e46-4b37-b4d5-a9e49856553d', 'dateTime': '2020-05-01 18:34:25', 'deviceId': 'dev-2', 'measureType': 'Output', 'unitSymbol': 'MW', 'unit': 'MegaWatts', 'measureValue': 1587}\n{'id': 'b233f37e-f6ef-41d5-958f-f311c4180416', 'dateTime': '2020-05-01 18:34:25', 'deviceId': 'dev-3', 'measureType': 'Rotation Speed', 'unitSymbol': 'RPM', 'unit': 'Revolutions per Minute', 'measureValue': 3088}\n{'id': '0efd5e1e-e737-4396-b118-e5893975b430', 'dateTime': '2020-05-01 18:34:25', 'deviceId': 'dev-3', 'measureType': 'Output', 'unitSymbol': 'MW', 'unit': 'MegaWatts', 'measureValue': 1415}\n{'id': '178f3986-e3ef-4ada-809e-364c1285b06f', 'dateTime': '2020-05-01 18:34:25', 'deviceId': 'dev-4', 'measureType': 'Rotation Speed', 'unitSymbol': 'RPM', 'unit': 'Revolutions per Minute', 'measureValue': 3174}\n{'id': 'a76a5960-6e4b-4802-b331-d4653ec91954', 'dateTime': '2020-05-01 18:34:25', 'deviceId': 'dev-4', 'measureType': 'Output', 'unitSymbol': 'MW', 'unit': 'MegaWatts', 'measureValue': 1575}\n{'id': '66a2ad0b-e3f6-432b-9fad-506e2f0dcc19', 'dateTime': '2020-05-01 18:34:25', 'deviceId': 'dev-5', 'measureType': 'Rotation Speed', 'unitSymbol': 'RPM', 'unit': 'Revolutions per Minute', 'measureValue': 2841}\n{'id': '629021cf-d7de-46fb-951a-8282e2fcbf3a', 'dateTime': '2020-05-01 18:34:25', 'deviceId': 'dev-5', 'measureType': 'Output', 'unitSymbol': 'MW', 'unit': 'MegaWatts', 'measureValue': 1528}\n{'id': 'ca4f409b-4aa9-4dab-8e70-cd8cf873d9db', 'dateTime': '2020-05-01 18:34:25', 'deviceId': 'dev-6', 'measureType': 'Rotation Speed', 'unitSymbol': 'RPM', 'unit': 'Revolutions per Minute', 'measureValue': 2957}\n{'id': '417c3a88-3de0-469b-8a68-2a0a8f720893', 'dateTime': '2020-05-01 18:34:25', 'deviceId': 'dev-6', 'measureType': 'Output', 'unitSymbol': 'MW', 'unit': 'MegaWatts', 'measureValue': 1383}\n{'id': '6b4faf99-6ec5-4dcc-b465-b36f6b45094f', 'dateTime': '2020-05-01 18:34:25', 'deviceId': 'dev-7', 'measureType': 'Rotation Speed', 'unitSymbol': 'RPM', 'unit': 'Revolutions per Minute', 'measureValue': 2753}\n{'id': '2a222305-859e-45f9-a969-5e3d0fefb964', 'dateTime': '2020-05-01 18:34:25', 'deviceId': 'dev-7', 'measureType': 'Output', 'unitSymbol': 'MW', 'unit': 'MegaWatts', 'measureValue': 1626}\n{'id': 'b80a2986-7452-47dc-bea2-99d95c8066f6', 'dateTime': '2020-05-01 18:34:25', 'deviceId': 'dev-8', 'measureType': 'Rotation Speed', 'unitSymbol': 'RPM', 'unit': 'Revolutions per Minute', 'measureValue': 2916}\n{'id': '137ecca8-be59-4a61-bf5b-56cf3099690e', 'dateTime': '2020-05-01 18:34:25', 'deviceId': 'dev-8', 'measureType': 'Output', 'unitSymbol': 'MW', 'unit': 'MegaWatts', 'measureValue': 1404}\n{'id': 'bf9ba077-628d-49bf-a6e1-91904683dd26', 'dateTime': '2020-05-01 18:34:25', 'deviceId': 'dev-9', 'measureType': 'Rotation Speed', 'unitSymbol': 'RPM', 'unit': 'Revolutions per Minute', 'measureValue': 2964}\n{'id': 'e0a38cc9-acbb-461c-ac85-13118eedb58e', 'dateTime': '2020-05-01 18:34:25', 'deviceId': 'dev-9', 'measureType': 'Output', 'unitSymbol': 'MW', 'unit': 'MegaWatts', 'measureValue': 1567}\n{'id': '10d16ce0-8b72-405a-a971-72d35b6498a3', 'dateTime': '2020-05-01 18:34:25', 'deviceId': 'dev-10', 'measureType': 'Rotation Speed', 'unitSymbol': 'RPM', 'unit': 'Revolutions per Minute', 'measureValue': 2847}\n{'id': '889519f1-e71a-4d85-b60f-f71c3b888c05', 'dateTime': '2020-05-01 18:34:25', 'deviceId': 'dev-10', 'measureType': 'Output', 'unitSymbol': 'MW', 'unit': 'MegaWatts', 'measureValue': 1621}\n{'id': '7ff0f93e-a7de-4a00-98ed-dba5307481b9', 'dateTime': '2020-05-01 18:34:26', 'deviceId': 'dev-1', 'measureType': 'Rotation Speed', 'unitSymbol': 'RPM', 'unit': 'Revolutions per Minute', 'measureValue': 3167}\n{'id': '3db4b435-27fc-48d6-bbd8-67fdc39cab0b', 'dateTime': '2020-05-01 18:34:26', 'deviceId': 'dev-1', 'measureType': 'Output', 'unitSymbol': 'MW', 'unit': 'MegaWatts', 'measureValue': 1638}\n{'id': '7cdff598-9505-4c19-9b2a-e2c8688ea1f4', 'dateTime': '2020-05-01 18:34:26', 'deviceId': 'dev-2', 'measureType': 'Rotation Speed', 'unitSymbol': 'RPM', 'unit': 'Revolutions per Minute', 'measureValue': 3096}\n{'id': '387d92dc-06dc-4c40-b72b-c8a772fa3c12', 'dateTime': '2020-05-01 18:34:27', 'deviceId': 'dev-2', 'measureType': 'Output', 'unitSymbol': 'MW', 'unit': 'MegaWatts', 'measureValue': 1557}\n{'id': '173afba0-d585-4035-b52c-f7adc3ea4c3a', 'dateTime': '2020-05-01 18:34:27', 'deviceId': 'dev-3', 'measureType': 'Rotation Speed', 'unitSymbol': 'RPM', 'unit': 'Revolutions per Minute', 'measureValue': 2831}\n{'id': '11a82dc6-e8ba-4057-881c-af64280901b2', 'dateTime': '2020-05-01 18:34:27', 'deviceId': 'dev-3', 'measureType': 'Output', 'unitSymbol': 'MW', 'unit': 'MegaWatts', 'measureValue': 1430}\n{'id': '55bbfa53-9378-4b27-8865-ce6ffaac407b', 'dateTime': '2020-05-01 18:34:27', 'deviceId': 'dev-4', 'measureType': 'Rotation Speed', 'unitSymbol': 'RPM', 'unit': 'Revolutions per Minute', 'measureValue': 2915}\n{'id': '365d5efb-689a-40be-be2b-dc5377298c03', 'dateTime': '2020-05-01 18:34:27', 'deviceId': 'dev-4', 'measureType': 'Output', 'unitSymbol': 'MW', 'unit': 'MegaWatts', 'measureValue': 1594}\n{'id': '7ac37136-c87c-4601-87f6-e31ad562bccc', 'dateTime': '2020-05-01 18:34:27', 'deviceId': 'dev-5', 'measureType': 'Rotation Speed', 'unitSymbol': 'RPM', 'unit': 'Revolutions per Minute', 'measureValue': 3112}\n{'id': '4764f3c4-5d16-4d95-8a35-3f3a70a36fa9', 'dateTime': '2020-05-01 18:34:27', 'deviceId': 'dev-5', 'measureType': 'Output', 'unitSymbol': 'MW', 'unit': 'MegaWatts', 'measureValue': 1364}\n{'id': 'cf8af35f-de3a-445d-880a-121fca49ba9e', 'dateTime': '2020-05-01 18:34:27', 'deviceId': 'dev-6', 'measureType': 'Rotation Speed', 'unitSymbol': 'RPM', 'unit': 'Revolutions per Minute', 'measureValue': 2814}\n{'id': 'c3526e01-d89d-4813-8777-c0aa70f380e2', 'dateTime': '2020-05-01 18:34:27', 'deviceId': 'dev-6', 'measureType': 'Output', 'unitSymbol': 'MW', 'unit': 'MegaWatts', 'measureValue': 1500}\n{'id': '77b6f8e1-0f61-468d-9c45-4672a2f9625a', 'dateTime': '2020-05-01 18:34:27', 'deviceId': 'dev-7', 'measureType': 'Rotation Speed', 'unitSymbol': 'RPM', 'unit': 'Revolutions per Minute', 'measureValue': 2752}\n{'id': '286f9a1c-8aad-4153-81a2-d4e5e342c9cb', 'dateTime': '2020-05-01 18:34:27', 'deviceId': 'dev-7', 'measureType': 'Output', 'unitSymbol': 'MW', 'unit': 'MegaWatts', 'measureValue': 1536}\n{'id': '399a1dee-98c7-4706-866d-231c7e91912d', 'dateTime': '2020-05-01 18:34:27', 'deviceId': 'dev-8', 'measureType': 'Rotation Speed', 'unitSymbol': 'RPM', 'unit': 'Revolutions per Minute', 'measureValue': 2966}\n{'id': '6daf3e6d-3146-4a61-8a43-0078aa031fe8', 'dateTime': '2020-05-01 18:34:27', 'deviceId': 'dev-8', 'measureType': 'Output', 'unitSymbol': 'MW', 'unit': 'MegaWatts', 'measureValue': 1438}\n{'id': '55d18507-7a99-4d0c-b09f-3842f72a08db', 'dateTime': '2020-05-01 18:34:27', 'deviceId': 'dev-9', 'measureType': 'Rotation Speed', 'unitSymbol': 'RPM', 'unit': 'Revolutions per Minute', 'measureValue': 2789}\n{'id': '681b124d-df42-4da9-b468-3839ae26f49f', 'dateTime': '2020-05-01 18:34:27', 'deviceId': 'dev-9', 'measureType': 'Output', 'unitSymbol': 'MW', 'unit': 'MegaWatts', 'measureValue': 1494}\n{'id': '17781656-fbb9-413d-9457-543977d545fa', 'dateTime': '2020-05-01 18:34:27', 'deviceId': 'dev-10', 'measureType': 'Rotation Speed', 'unitSymbol': 'RPM', 'unit': 'Revolutions per Minute', 'measureValue': 2716}\n{'id': '0058099d-000a-4d5c-b4ed-64b38cf88c18', 'dateTime': '2020-05-01 18:34:27', 'deviceId': 'dev-10', 'measureType': 'Output', 'unitSymbol': 'MW', 'unit': 'MegaWatts', 'measureValue': 1354}\n{'id': '71f0eb33-820f-41b3-85b2-b5542406b5bb', 'dateTime': '2020-05-01 18:34:28', 'deviceId': 'dev-1', 'measureType': 'Rotation Speed', 'unitSymbol': 'RPM', 'unit': 'Revolutions per Minute', 'measureValue': 2914}\n{'id': '40f5a852-0248-47dc-945f-d9c3f31c5d6d', 'dateTime': '2020-05-01 18:34:28', 'deviceId': 'dev-1', 'measureType': 'Output', 'unitSymbol': 'MW', 'unit': 'MegaWatts', 'measureValue': 1417}\n{'id': '104e8113-4b71-4bf7-b3a2-67c192b9eba2', 'dateTime': '2020-05-01 18:34:28', 'deviceId': 'dev-2', 'measureType': 'Rotation Speed', 'unitSymbol': 'RPM', 'unit': 'Revolutions per Minute', 'measureValue': 2961}\n{'id': '54beb471-c30e-4049-b2d1-6da168170042', 'dateTime': '2020-05-01 18:34:28', 'deviceId': 'dev-2', 'measureType': 'Output', 'unitSymbol': 'MW', 'unit': 'MegaWatts', 'measureValue': 1520}\n{'id': 'd9df6027-8c2f-4537-b060-6475e48bb6ec', 'dateTime': '2020-05-01 18:34:28', 'deviceId': 'dev-3', 'measureType': 'Rotation Speed', 'unitSymbol': 'RPM', 'unit': 'Revolutions per Minute', 'measureValue': 2846}\n{'id': 'a455a339-7787-4f4b-9e0b-3a2b540101d8', 'dateTime': '2020-05-01 18:34:28', 'deviceId': 'dev-3', 'measureType': 'Output', 'unitSymbol': 'MW', 'unit': 'MegaWatts', 'measureValue': 1370}\n{'id': '624a9090-c42f-4c11-add0-c8b8db6eadc0', 'dateTime': '2020-05-01 18:34:28', 'deviceId': 'dev-4', 'measureType': 'Rotation Speed', 'unitSymbol': 'RPM', 'unit': 'Revolutions per Minute', 'measureValue': 3129}\n{'id': 'c188efcc-9b2d-4cd9-bb9a-d7b3b70ae311', 'dateTime': '2020-05-01 18:34:28', 'deviceId': 'dev-4', 'measureType': 'Output', 'unitSymbol': 'MW', 'unit': 'MegaWatts', 'measureValue': 1422}\n{'id': '2fc6ea88-9b12-40ce-ab79-4feb3fd7187d', 'dateTime': '2020-05-01 18:34:28', 'deviceId': 'dev-5', 'measureType': 'Rotation Speed', 'unitSymbol': 'RPM', 'unit': 'Revolutions per Minute', 'measureValue': 2738}\n{'id': '51557848-bb29-4f07-9e15-4b853bda4095', 'dateTime': '2020-05-01 18:34:28', 'deviceId': 'dev-5', 'measureType': 'Output', 'unitSymbol': 'MW', 'unit': 'MegaWatts', 'measureValue': 1609}\n{'id': '5eb33280-1605-4e97-b854-35053b19dde4', 'dateTime': '2020-05-01 18:34:28', 'deviceId': 'dev-6', 'measureType': 'Rotation Speed', 'unitSymbol': 'RPM', 'unit': 'Revolutions per Minute', 'measureValue': 3161}\n{'id': '17b31996-6337-459b-a750-51e5c70f84c1', 'dateTime': '2020-05-01 18:34:28', 'deviceId': 'dev-6', 'measureType': 'Output', 'unitSymbol': 'MW', 'unit': 'MegaWatts', 'measureValue': 1466}\n{'id': '4a117d26-ba85-43c2-a1b8-d0b9cd53177f', 'dateTime': '2020-05-01 18:34:28', 'deviceId': 'dev-7', 'measureType': 'Rotation Speed', 'unitSymbol': 'RPM', 'unit': 'Revolutions per Minute', 'measureValue': 2731}\n{'id': '0688a479-ee14-465d-bd45-a35e267b53b3', 'dateTime': '2020-05-01 18:34:28', 'deviceId': 'dev-7', 'measureType': 'Output', 'unitSymbol': 'MW', 'unit': 'MegaWatts', 'measureValue': 1568}\n{'id': '7a73df8b-1a33-4e92-9ca0-a8aaaa13b6e1', 'dateTime': '2020-05-01 18:34:28', 'deviceId': 'dev-8', 'measureType': 'Rotation Speed', 'unitSymbol': 'RPM', 'unit': 'Revolutions per Minute', 'measureValue': 3209}\n{'id': '432a3c06-be4f-4f13-ba0e-8319d1436c66', 'dateTime': '2020-05-01 18:34:28', 'deviceId': 'dev-8', 'measureType': 'Output', 'unitSymbol': 'MW', 'unit': 'MegaWatts', 'measureValue': 1363}\n{'id': '302301ca-5546-4803-a0b9-df123729c965', 'dateTime': '2020-05-01 18:34:28', 'deviceId': 'dev-9', 'measureType': 'Rotation Speed', 'unitSymbol': 'RPM', 'unit': 'Revolutions per Minute', 'measureValue': 2790}\n{'id': 'c56fa324-6bd2-4045-9e88-a114d3ce9d59', 'dateTime': '2020-05-01 18:34:28', 'deviceId': 'dev-9', 'measureType': 'Output', 'unitSymbol': 'MW', 'unit': 'MegaWatts', 'measureValue': 1531}\n{'id': 'b379aa4d-d0c2-420d-b525-ed9a674951ec', 'dateTime': '2020-05-01 18:34:28', 'deviceId': 'dev-10', 'measureType': 'Rotation Speed', 'unitSymbol': 'RPM', 'unit': 'Revolutions per Minute', 'measureValue': 2852}\n{'id': 'f8f6e207-0099-46a1-8480-f2ce31764677', 'dateTime': '2020-05-01 18:34:28', 'deviceId': 'dev-10', 'measureType': 'Output', 'unitSymbol': 'MW', 'unit': 'MegaWatts', 'measureValue': 1389}\n{'id': 'fd194e03-5ce7-41f0-90d9-6bc34e3ee6e6', 'dateTime': '2020-05-01 18:34:29', 'deviceId': 'dev-1', 'measureType': 'Rotation Speed', 'unitSymbol': 'RPM', 'unit': 'Revolutions per Minute', 'measureValue': 2728}\n{'id': '3ed21829-de30-4b28-b5d5-6ab31a2ed0b7', 'dateTime': '2020-05-01 18:34:29', 'deviceId': 'dev-1', 'measureType': 'Output', 'unitSymbol': 'MW', 'unit': 'MegaWatts', 'measureValue': 1363}\n{'id': '21506521-0044-4caa-b09f-a1a01de42785', 'dateTime': '2020-05-01 18:34:29', 'deviceId': 'dev-2', 'measureType': 'Rotation Speed', 'unitSymbol': 'RPM', 'unit': 'Revolutions per Minute', 'measureValue': 3092}\n{'id': '472c1941-5b2a-461f-8928-2bffd6cea6c8', 'dateTime': '2020-05-01 18:34:29', 'deviceId': 'dev-2', 'measureType': 'Output', 'unitSymbol': 'MW', 'unit': 'MegaWatts', 'measureValue': 1472}\n{'id': '6f5f3049-1bc8-4c9a-8af2-b0c6f4951e4a', 'dateTime': '2020-05-01 18:34:29', 'deviceId': 'dev-3', 'measureType': 'Rotation Speed', 'unitSymbol': 'RPM', 'unit': 'Revolutions per Minute', 'measureValue': 3126}\n{'id': 'af93fef5-00b2-4e3c-8cb9-5f1483fbd803', 'dateTime': '2020-05-01 18:34:29', 'deviceId': 'dev-3', 'measureType': 'Output', 'unitSymbol': 'MW', 'unit': 'MegaWatts', 'measureValue': 1570}\n{'id': 'b67112e3-4323-4614-9ff6-06ad014ef7ef', 'dateTime': '2020-05-01 18:34:29', 'deviceId': 'dev-4', 'measureType': 'Rotation Speed', 'unitSymbol': 'RPM', 'unit': 'Revolutions per Minute', 'measureValue': 2721}\n{'id': '8e0ab1c9-e842-4770-b9b1-38e4b35c9669', 'dateTime': '2020-05-01 18:34:29', 'deviceId': 'dev-4', 'measureType': 'Output', 'unitSymbol': 'MW', 'unit': 'MegaWatts', 'measureValue': 1375}\n{'id': '29db2e24-b388-4d6d-8879-eb84ec003767', 'dateTime': '2020-05-01 18:34:29', 'deviceId': 'dev-5', 'measureType': 'Rotation Speed', 'unitSymbol': 'RPM', 'unit': 'Revolutions per Minute', 'measureValue': 3065}\n{'id': 'baf8f8e9-37e5-4244-bb81-5622ec53a3d2', 'dateTime': '2020-05-01 18:34:29', 'deviceId': 'dev-5', 'measureType': 'Output', 'unitSymbol': 'MW', 'unit': 'MegaWatts', 'measureValue': 1499}\n{'id': '4181307b-4600-48c8-bbb9-104af6e37204', 'dateTime': '2020-05-01 18:34:29', 'deviceId': 'dev-6', 'measureType': 'Rotation Speed', 'unitSymbol': 'RPM', 'unit': 'Revolutions per Minute', 'measureValue': 3023}\n{'id': '6d3ac4a2-c705-466e-b058-d598debd11dd', 'dateTime': '2020-05-01 18:34:29', 'deviceId': 'dev-6', 'measureType': 'Output', 'unitSymbol': 'MW', 'unit': 'MegaWatts', 'measureValue': 1410}\n{'id': '5494b88b-74a7-4927-ac47-988fbe8c3bd6', 'dateTime': '2020-05-01 18:34:29', 'deviceId': 'dev-7', 'measureType': 'Rotation Speed', 'unitSymbol': 'RPM', 'unit': 'Revolutions per Minute', 'measureValue': 2785}\n{'id': 'db438e1e-5585-4302-90dc-0e105d2000e2', 'dateTime': '2020-05-01 18:34:29', 'deviceId': 'dev-7', 'measureType': 'Output', 'unitSymbol': 'MW', 'unit': 'MegaWatts', 'measureValue': 1436}\n{'id': '6577e3da-56f1-401e-b6ec-8f90b49bcb5b', 'dateTime': '2020-05-01 18:34:29', 'deviceId': 'dev-8', 'measureType': 'Rotation Speed', 'unitSymbol': 'RPM', 'unit': 'Revolutions per Minute', 'measureValue': 2907}\n{'id': 'f36c2cb9-1940-4d0d-8dfc-54157f5b42d2', 'dateTime': '2020-05-01 18:34:29', 'deviceId': 'dev-8', 'measureType': 'Output', 'unitSymbol': 'MW', 'unit': 'MegaWatts', 'measureValue': 1478}\n{'id': '0f1f7eec-97f4-4595-a150-013a01e64d35', 'dateTime': '2020-05-01 18:34:29', 'deviceId': 'dev-9', 'measureType': 'Rotation Speed', 'unitSymbol': 'RPM', 'unit': 'Revolutions per Minute', 'measureValue': 3114}\n{'id': 'e6209b74-c1aa-4c79-afce-5223b39f9c15', 'dateTime': '2020-05-01 18:34:29', 'deviceId': 'dev-9', 'measureType': 'Output', 'unitSymbol': 'MW', 'unit': 'MegaWatts', 'measureValue': 1392}\n{'id': '925262df-d893-44bc-815b-4d7dc7e415c8', 'dateTime': '2020-05-01 18:34:29', 'deviceId': 'dev-10', 'measureType': 'Rotation Speed', 'unitSymbol': 'RPM', 'unit': 'Revolutions per Minute', 'measureValue': 2751}\n{'id': '1dab24af-afa2-4d6a-a5af-7a40f47f6c62', 'dateTime': '2020-05-01 18:34:29', 'deviceId': 'dev-10', 'measureType': 'Output', 'unitSymbol': 'MW', 'unit': 'MegaWatts', 'measureValue': 1435}\n{'id': '44fffb70-aedf-4600-9971-926ee29847bc', 'dateTime': '2020-05-01 18:34:30', 'deviceId': 'dev-1', 'measureType': 'Rotation Speed', 'unitSymbol': 'RPM', 'unit': 'Revolutions per Minute', 'measureValue': 2973}\n{'id': '86d7bec5-3197-422b-a390-3d4214970bc1', 'dateTime': '2020-05-01 18:34:30', 'deviceId': 'dev-1', 'measureType': 'Output', 'unitSymbol': 'MW', 'unit': 'MegaWatts', 'measureValue': 1350}\n{'id': '6eb818f6-3e74-41a0-ac7b-f7fa2137dab3', 'dateTime': '2020-05-01 18:34:30', 'deviceId': 'dev-2', 'measureType': 'Rotation Speed', 'unitSymbol': 'RPM', 'unit': 'Revolutions per Minute', 'measureValue': 2888}\n{'id': 'a03f6e63-d078-44c8-8a59-a4201c62ed1b', 'dateTime': '2020-05-01 18:34:30', 'deviceId': 'dev-2', 'measureType': 'Output', 'unitSymbol': 'MW', 'unit': 'MegaWatts', 'measureValue': 1409}\n{'id': '90990a2d-17b8-4e55-a4ad-7ef17c2ad83f', 'dateTime': '2020-05-01 18:34:30', 'deviceId': 'dev-3', 'measureType': 'Rotation Speed', 'unitSymbol': 'RPM', 'unit': 'Revolutions per Minute', 'measureValue': 3063}\n{'id': 'dfcd83c9-afa9-4c01-a0b6-72e5a5722aae', 'dateTime': '2020-05-01 18:34:30', 'deviceId': 'dev-3', 'measureType': 'Output', 'unitSymbol': 'MW', 'unit': 'MegaWatts', 'measureValue': 1361}\n{'id': '829a7fd6-bb63-4655-913f-386baf792b78', 'dateTime': '2020-05-01 18:34:30', 'deviceId': 'dev-4', 'measureType': 'Rotation Speed', 'unitSymbol': 'RPM', 'unit': 'Revolutions per Minute', 'measureValue': 2988}\n{'id': '0ccd6e14-f9b0-4dda-8b6d-0d2186a80d1b', 'dateTime': '2020-05-01 18:34:30', 'deviceId': 'dev-4', 'measureType': 'Output', 'unitSymbol': 'MW', 'unit': 'MegaWatts', 'measureValue': 1441}\n{'id': 'b52e4513-b45c-4a61-a0f0-feb4d92dbb73', 'dateTime': '2020-05-01 18:34:30', 'deviceId': 'dev-5', 'measureType': 'Rotation Speed', 'unitSymbol': 'RPM', 'unit': 'Revolutions per Minute', 'measureValue': 3254}\n{'id': 'ee0d21cc-de9c-4b0a-8752-b5ef09ada6d6', 'dateTime': '2020-05-01 18:34:30', 'deviceId': 'dev-5', 'measureType': 'Output', 'unitSymbol': 'MW', 'unit': 'MegaWatts', 'measureValue': 1416}\n{'id': 'd736591a-f8a6-4ecf-96f6-78e60999a826', 'dateTime': '2020-05-01 18:34:30', 'deviceId': 'dev-6', 'measureType': 'Rotation Speed', 'unitSymbol': 'RPM', 'unit': 'Revolutions per Minute', 'measureValue': 3198}\n{'id': '18f6b3e6-2b73-40eb-916c-4d65accde836', 'dateTime': '2020-05-01 18:34:30', 'deviceId': 'dev-6', 'measureType': 'Output', 'unitSymbol': 'MW', 'unit': 'MegaWatts', 'measureValue': 1517}\n{'id': 'a52ef82b-496a-4403-9891-a16b633e9b7b', 'dateTime': '2020-05-01 18:34:30', 'deviceId': 'dev-7', 'measureType': 'Rotation Speed', 'unitSymbol': 'RPM', 'unit': 'Revolutions per Minute', 'measureValue': 3177}\n{'id': '320de562-f398-43d4-af00-65e8048b217d', 'dateTime': '2020-05-01 18:34:30', 'deviceId': 'dev-7', 'measureType': 'Output', 'unitSymbol': 'MW', 'unit': 'MegaWatts', 'measureValue': 1355}\n{'id': '92e9af8e-172a-4d27-a75b-f1126266f66d', 'dateTime': '2020-05-01 18:34:30', 'deviceId': 'dev-8', 'measureType': 'Rotation Speed', 'unitSymbol': 'RPM', 'unit': 'Revolutions per Minute', 'measureValue': 3160}\n{'id': '0079389b-a5a9-4dce-b0a3-77a0e409486c', 'dateTime': '2020-05-01 18:34:30', 'deviceId': 'dev-8', 'measureType': 'Output', 'unitSymbol': 'MW', 'unit': 'MegaWatts', 'measureValue': 1554}\n{'id': '767c80a5-9560-4cd6-ad95-23dc733697b1', 'dateTime': '2020-05-01 18:34:30', 'deviceId': 'dev-9', 'measureType': 'Rotation Speed', 'unitSymbol': 'RPM', 'unit': 'Revolutions per Minute', 'measureValue': 2851}\n{'id': '7260a57b-65c1-44ab-9fbe-16f1ee05e229', 'dateTime': '2020-05-01 18:34:30', 'deviceId': 'dev-9', 'measureType': 'Output', 'unitSymbol': 'MW', 'unit': 'MegaWatts', 'measureValue': 1493}\n{'id': '48207771-e3f2-4b0b-9939-5d8ca449d20f', 'dateTime': '2020-05-01 18:34:30', 'deviceId': 'dev-10', 'measureType': 'Rotation Speed', 'unitSymbol': 'RPM', 'unit': 'Revolutions per Minute', 'measureValue': 3121}\n{'id': '4a05fbca-4566-4ba4-969e-1597ced2a540', 'dateTime': '2020-05-01 18:34:30', 'deviceId': 'dev-10', 'measureType': 'Output', 'unitSymbol': 'MW', 'unit': 'MegaWatts', 'measureValue': 1638}\n{'id': 'cdb5d783-90c1-425b-aca9-7082d0591e7b', 'dateTime': '2020-05-01 18:34:31', 'deviceId': 'dev-1', 'measureType': 'Rotation Speed', 'unitSymbol': 'RPM', 'unit': 'Revolutions per Minute', 'measureValue': 2803}\n{'id': '200bed40-f266-46f8-bd15-e8b9411b7163', 'dateTime': '2020-05-01 18:34:31', 'deviceId': 'dev-1', 'measureType': 'Output', 'unitSymbol': 'MW', 'unit': 'MegaWatts', 'measureValue': 1604}\n{'id': '3dfe0f51-a52d-4828-93a2-0d1a5d583fdf', 'dateTime': '2020-05-01 18:34:31', 'deviceId': 'dev-2', 'measureType': 'Rotation Speed', 'unitSymbol': 'RPM', 'unit': 'Revolutions per Minute', 'measureValue': 3258}\n{'id': '494a875e-502c-425e-b14c-8a16ee347c5c', 'dateTime': '2020-05-01 18:34:31', 'deviceId': 'dev-2', 'measureType': 'Output', 'unitSymbol': 'MW', 'unit': 'MegaWatts', 'measureValue': 1448}\n{'id': '939a694c-d2dc-4596-9a90-0a3428b6ca94', 'dateTime': '2020-05-01 18:34:31', 'deviceId': 'dev-3', 'measureType': 'Rotation Speed', 'unitSymbol': 'RPM', 'unit': 'Revolutions per Minute', 'measureValue': 2975}\n{'id': '31dad4bb-8ed9-4d8e-b73c-627b38251324', 'dateTime': '2020-05-01 18:34:31', 'deviceId': 'dev-3', 'measureType': 'Output', 'unitSymbol': 'MW', 'unit': 'MegaWatts', 'measureValue': 1628}\n{'id': 'cea7c2b1-e6a2-449a-951b-6ccfbd296f20', 'dateTime': '2020-05-01 18:34:31', 'deviceId': 'dev-4', 'measureType': 'Rotation Speed', 'unitSymbol': 'RPM', 'unit': 'Revolutions per Minute', 'measureValue': 3295}\n{'id': '962f5564-3086-41a3-ae4a-ab90b3a569b0', 'dateTime': '2020-05-01 18:34:31', 'deviceId': 'dev-4', 'measureType': 'Output', 'unitSymbol': 'MW', 'unit': 'MegaWatts', 'measureValue': 1630}\n{'id': 'a873e7dc-3910-4156-bd1c-a8327e5d106e', 'dateTime': '2020-05-01 18:34:31', 'deviceId': 'dev-5', 'measureType': 'Rotation Speed', 'unitSymbol': 'RPM', 'unit': 'Revolutions per Minute', 'measureValue': 3217}\n{'id': 'e2721998-6c80-420f-b8c8-5688cfb59883', 'dateTime': '2020-05-01 18:34:31', 'deviceId': 'dev-5', 'measureType': 'Output', 'unitSymbol': 'MW', 'unit': 'MegaWatts', 'measureValue': 1469}\n{'id': 'f888c1b3-5c02-4153-a3ca-a69069fc5b05', 'dateTime': '2020-05-01 18:34:31', 'deviceId': 'dev-6', 'measureType': 'Rotation Speed', 'unitSymbol': 'RPM', 'unit': 'Revolutions per Minute', 'measureValue': 3009}\n{'id': 'a221364e-aa5b-4062-a7bf-05ced593c119', 'dateTime': '2020-05-01 18:34:31', 'deviceId': 'dev-6', 'measureType': 'Output', 'unitSymbol': 'MW', 'unit': 'MegaWatts', 'measureValue': 1360}\n{'id': '09ce9616-63a9-41ff-9232-22297076f38a', 'dateTime': '2020-05-01 18:34:31', 'deviceId': 'dev-7', 'measureType': 'Rotation Speed', 'unitSymbol': 'RPM', 'unit': 'Revolutions per Minute', 'measureValue': 2809}\n{'id': 'ff3e179a-f9ae-4c26-b31e-2db48f3d23fa', 'dateTime': '2020-05-01 18:34:31', 'deviceId': 'dev-7', 'measureType': 'Output', 'unitSymbol': 'MW', 'unit': 'MegaWatts', 'measureValue': 1410}\n{'id': '818ac2b6-0787-456e-94ba-dce20e543f3e', 'dateTime': '2020-05-01 18:34:31', 'deviceId': 'dev-8', 'measureType': 'Rotation Speed', 'unitSymbol': 'RPM', 'unit': 'Revolutions per Minute', 'measureValue': 2884}\n{'id': '03464b39-fcec-4188-9cf7-c855a0cbe683', 'dateTime': '2020-05-01 18:34:31', 'deviceId': 'dev-8', 'measureType': 'Output', 'unitSymbol': 'MW', 'unit': 'MegaWatts', 'measureValue': 1483}\n{'id': '30f14513-efee-4d67-956c-8aeaad28cb9d', 'dateTime': '2020-05-01 18:34:31', 'deviceId': 'dev-9', 'measureType': 'Rotation Speed', 'unitSymbol': 'RPM', 'unit': 'Revolutions per Minute', 'measureValue': 3151}\n{'id': 'eeaa7c60-7ca3-4ea2-9caf-0e88a7c9debe', 'dateTime': '2020-05-01 18:34:31', 'deviceId': 'dev-9', 'measureType': 'Output', 'unitSymbol': 'MW', 'unit': 'MegaWatts', 'measureValue': 1419}\n{'id': 'cb509e53-0d49-4ce9-8e6d-f6db4b1f4fc3', 'dateTime': '2020-05-01 18:34:31', 'deviceId': 'dev-10', 'measureType': 'Rotation Speed', 'unitSymbol': 'RPM', 'unit': 'Revolutions per Minute', 'measureValue': 3078}\n{'id': '4ce4f612-6327-4c3e-bd02-04d09bf55f6a', 'dateTime': '2020-05-01 18:34:31', 'deviceId': 'dev-10', 'measureType': 'Output', 'unitSymbol': 'MW', 'unit': 'MegaWatts', 'measureValue': 1530}\n{'id': '9981ff16-8646-483f-9f56-a5c3262d2b2e', 'dateTime': '2020-05-01 18:34:32', 'deviceId': 'dev-1', 'measureType': 'Rotation Speed', 'unitSymbol': 'RPM', 'unit': 'Revolutions per Minute', 'measureValue': 2834}\n{'id': 'bde9a1bc-5407-4395-b6b8-31bc89af9723', 'dateTime': '2020-05-01 18:34:33', 'deviceId': 'dev-1', 'measureType': 'Output', 'unitSymbol': 'MW', 'unit': 'MegaWatts', 'measureValue': 1597}\n{'id': 'd6496422-0412-4a27-925b-818e3c04f9cb', 'dateTime': '2020-05-01 18:34:33', 'deviceId': 'dev-2', 'measureType': 'Rotation Speed', 'unitSymbol': 'RPM', 'unit': 'Revolutions per Minute', 'measureValue': 2862}\n{'id': 'dc8d7e58-fe1b-408d-ba20-c6c2087cd114', 'dateTime': '2020-05-01 18:34:33', 'deviceId': 'dev-2', 'measureType': 'Output', 'unitSymbol': 'MW', 'unit': 'MegaWatts', 'measureValue': 1588}\n{'id': 'a2511ffd-f0e7-4533-8d4e-35abb857dd13', 'dateTime': '2020-05-01 18:34:33', 'deviceId': 'dev-3', 'measureType': 'Rotation Speed', 'unitSymbol': 'RPM', 'unit': 'Revolutions per Minute', 'measureValue': 3176}\n{'id': '549c0ee6-b4a9-4ac8-b7a5-376a10a72e59', 'dateTime': '2020-05-01 18:34:33', 'deviceId': 'dev-3', 'measureType': 'Output', 'unitSymbol': 'MW', 'unit': 'MegaWatts', 'measureValue': 1534}\n{'id': '8e0d86ad-cf03-429b-bdbf-6730cd9c6b8a', 'dateTime': '2020-05-01 18:34:33', 'deviceId': 'dev-4', 'measureType': 'Rotation Speed', 'unitSymbol': 'RPM', 'unit': 'Revolutions per Minute', 'measureValue': 2821}\n{'id': '5ad7ab0f-4b87-4430-b93e-80e2daed2054', 'dateTime': '2020-05-01 18:34:33', 'deviceId': 'dev-4', 'measureType': 'Output', 'unitSymbol': 'MW', 'unit': 'MegaWatts', 'measureValue': 1577}\n{'id': 'd6ac29b6-917c-4039-9252-e91753ad3dc4', 'dateTime': '2020-05-01 18:34:33', 'deviceId': 'dev-5', 'measureType': 'Rotation Speed', 'unitSymbol': 'RPM', 'unit': 'Revolutions per Minute', 'measureValue': 2803}\n{'id': '97195ddd-4073-4813-9fe4-2bb439abe9e7', 'dateTime': '2020-05-01 18:34:33', 'deviceId': 'dev-5', 'measureType': 'Output', 'unitSymbol': 'MW', 'unit': 'MegaWatts', 'measureValue': 1380}\n{'id': '18612f49-92dd-4702-bde9-5b009d5a9a19', 'dateTime': '2020-05-01 18:34:33', 'deviceId': 'dev-6', 'measureType': 'Rotation Speed', 'unitSymbol': 'RPM', 'unit': 'Revolutions per Minute', 'measureValue': 3204}\n{'id': '07e21022-b4b9-4ab7-8367-4d775e132b46', 'dateTime': '2020-05-01 18:34:33', 'deviceId': 'dev-6', 'measureType': 'Output', 'unitSymbol': 'MW', 'unit': 'MegaWatts', 'measureValue': 1510}\n{'id': 'f5b86615-f44c-4f93-8413-51e8195d3427', 'dateTime': '2020-05-01 18:34:33', 'deviceId': 'dev-7', 'measureType': 'Rotation Speed', 'unitSymbol': 'RPM', 'unit': 'Revolutions per Minute', 'measureValue': 2922}\n{'id': '2dd75d59-5c1d-4015-8369-57b73a90d9fe', 'dateTime': '2020-05-01 18:34:33', 'deviceId': 'dev-7', 'measureType': 'Output', 'unitSymbol': 'MW', 'unit': 'MegaWatts', 'measureValue': 1408}\n{'id': '99e8d3c8-2f6e-4d11-8644-60c340f8500d', 'dateTime': '2020-05-01 18:34:33', 'deviceId': 'dev-8', 'measureType': 'Rotation Speed', 'unitSymbol': 'RPM', 'unit': 'Revolutions per Minute', 'measureValue': 3168}\n{'id': '4c120d89-c8f8-4552-b832-94d41a84a344', 'dateTime': '2020-05-01 18:34:33', 'deviceId': 'dev-8', 'measureType': 'Output', 'unitSymbol': 'MW', 'unit': 'MegaWatts', 'measureValue': 1423}\n{'id': '9542a3d4-d42f-4d5e-8ab8-7d3d5e843cfe', 'dateTime': '2020-05-01 18:34:33', 'deviceId': 'dev-9', 'measureType': 'Rotation Speed', 'unitSymbol': 'RPM', 'unit': 'Revolutions per Minute', 'measureValue': 3019}\n{'id': '35b9091b-b282-47f5-b165-14035340291e', 'dateTime': '2020-05-01 18:34:33', 'deviceId': 'dev-9', 'measureType': 'Output', 'unitSymbol': 'MW', 'unit': 'MegaWatts', 'measureValue': 1628}\n{'id': '35f1600f-0ed9-4ffd-b100-64509c9ddcf8', 'dateTime': '2020-05-01 18:34:33', 'deviceId': 'dev-10', 'measureType': 'Rotation Speed', 'unitSymbol': 'RPM', 'unit': 'Revolutions per Minute', 'measureValue': 3000}\n{'id': 'db7b9a60-e427-47fe-bafa-1dddd860b8f4', 'dateTime': '2020-05-01 18:34:33', 'deviceId': 'dev-10', 'measureType': 'Output', 'unitSymbol': 'MW', 'unit': 'MegaWatts', 'measureValue': 1495}\n{'id': '7289e858-a594-4839-ab03-bd6ae704d21f', 'dateTime': '2020-05-01 18:34:34', 'deviceId': 'dev-1', 'measureType': 'Rotation Speed', 'unitSymbol': 'RPM', 'unit': 'Revolutions per Minute', 'measureValue': 3268}\n{'id': '329b2c85-e63f-467f-99b5-9c7ed2689bdb', 'dateTime': '2020-05-01 18:34:34', 'deviceId': 'dev-1', 'measureType': 'Output', 'unitSymbol': 'MW', 'unit': 'MegaWatts', 'measureValue': 1501}\n{'id': '6d71a3c2-3878-472d-8719-ec78c323b713', 'dateTime': '2020-05-01 18:34:34', 'deviceId': 'dev-2', 'measureType': 'Rotation Speed', 'unitSymbol': 'RPM', 'unit': 'Revolutions per Minute', 'measureValue': 3193}\n{'id': '7d258865-77dc-4301-8044-364dd188e14e', 'dateTime': '2020-05-01 18:34:34', 'deviceId': 'dev-2', 'measureType': 'Output', 'unitSymbol': 'MW', 'unit': 'MegaWatts', 'measureValue': 1460}\n{'id': '4035e70d-bc79-4159-896b-a8716ff997ed', 'dateTime': '2020-05-01 18:34:34', 'deviceId': 'dev-3', 'measureType': 'Rotation Speed', 'unitSymbol': 'RPM', 'unit': 'Revolutions per Minute', 'measureValue': 2717}\n{'id': 'af79c26d-a7b8-4aed-9ddd-ccc0e2265233', 'dateTime': '2020-05-01 18:34:34', 'deviceId': 'dev-3', 'measureType': 'Output', 'unitSymbol': 'MW', 'unit': 'MegaWatts', 'measureValue': 1650}\n{'id': 'faf5cd38-f66f-497a-854c-f2efa2ae4dfa', 'dateTime': '2020-05-01 18:34:34', 'deviceId': 'dev-4', 'measureType': 'Rotation Speed', 'unitSymbol': 'RPM', 'unit': 'Revolutions per Minute', 'measureValue': 3287}\n{'id': '846a2534-a638-4594-b6f9-54f9e4ed1845', 'dateTime': '2020-05-01 18:34:34', 'deviceId': 'dev-4', 'measureType': 'Output', 'unitSymbol': 'MW', 'unit': 'MegaWatts', 'measureValue': 1622}\n{'id': '2dc952ff-1cd6-4bcc-b7f8-101bba557085', 'dateTime': '2020-05-01 18:34:34', 'deviceId': 'dev-5', 'measureType': 'Rotation Speed', 'unitSymbol': 'RPM', 'unit': 'Revolutions per Minute', 'measureValue': 3170}\n{'id': '3f09986d-12a1-4d91-b997-84a605dc118b', 'dateTime': '2020-05-01 18:34:34', 'deviceId': 'dev-5', 'measureType': 'Output', 'unitSymbol': 'MW', 'unit': 'MegaWatts', 'measureValue': 1523}\n{'id': 'c727c298-6705-4e26-a4ab-c476526573d9', 'dateTime': '2020-05-01 18:34:34', 'deviceId': 'dev-6', 'measureType': 'Rotation Speed', 'unitSymbol': 'RPM', 'unit': 'Revolutions per Minute', 'measureValue': 3072}\n{'id': 'f5671f67-3216-4ccb-a0ce-bd1c0650e1b3', 'dateTime': '2020-05-01 18:34:34', 'deviceId': 'dev-6', 'measureType': 'Output', 'unitSymbol': 'MW', 'unit': 'MegaWatts', 'measureValue': 1645}\n{'id': 'a34ab427-980d-4b53-b8bf-5202139c234d', 'dateTime': '2020-05-01 18:34:34', 'deviceId': 'dev-7', 'measureType': 'Rotation Speed', 'unitSymbol': 'RPM', 'unit': 'Revolutions per Minute', 'measureValue': 2876}\n{'id': 'd9d59520-d5a3-43cc-9b9b-c1437b3077c3', 'dateTime': '2020-05-01 18:34:34', 'deviceId': 'dev-7', 'measureType': 'Output', 'unitSymbol': 'MW', 'unit': 'MegaWatts', 'measureValue': 1448}\n{'id': '683566c1-7eea-49fc-8e94-c56167fc0cba', 'dateTime': '2020-05-01 18:34:34', 'deviceId': 'dev-8', 'measureType': 'Rotation Speed', 'unitSymbol': 'RPM', 'unit': 'Revolutions per Minute', 'measureValue': 2911}\n{'id': '7c71086e-1992-475c-a871-a470483172fd', 'dateTime': '2020-05-01 18:34:34', 'deviceId': 'dev-8', 'measureType': 'Output', 'unitSymbol': 'MW', 'unit': 'MegaWatts', 'measureValue': 1505}\n{'id': '6301c335-6b04-4fa5-81d2-d3ae2732ae65', 'dateTime': '2020-05-01 18:34:34', 'deviceId': 'dev-9', 'measureType': 'Rotation Speed', 'unitSymbol': 'RPM', 'unit': 'Revolutions per Minute', 'measureValue': 3278}\n{'id': 'ad053f35-f156-4eac-bbbb-f2fdf525bc58', 'dateTime': '2020-05-01 18:34:34', 'deviceId': 'dev-9', 'measureType': 'Output', 'unitSymbol': 'MW', 'unit': 'MegaWatts', 'measureValue': 1599}\n{'id': '22b5080e-7898-49dc-916c-510a357dc9d7', 'dateTime': '2020-05-01 18:34:34', 'deviceId': 'dev-10', 'measureType': 'Rotation Speed', 'unitSymbol': 'RPM', 'unit': 'Revolutions per Minute', 'measureValue': 3065}\n{'id': 'eab94396-d944-43d3-9646-7257aef99150', 'dateTime': '2020-05-01 18:34:34', 'deviceId': 'dev-10', 'measureType': 'Output', 'unitSymbol': 'MW', 'unit': 'MegaWatts', 'measureValue': 1572}\n{'id': 'c3da7291-aafe-42b7-be77-ab6008dddaeb', 'dateTime': '2020-05-01 18:34:35', 'deviceId': 'dev-1', 'measureType': 'Rotation Speed', 'unitSymbol': 'RPM', 'unit': 'Revolutions per Minute', 'measureValue': 2738}\n{'id': 'c4cbf83f-edfe-4cd3-ae6f-a0c6e6b12936', 'dateTime': '2020-05-01 18:34:35', 'deviceId': 'dev-1', 'measureType': 'Output', 'unitSymbol': 'MW', 'unit': 'MegaWatts', 'measureValue': 1514}\n{'id': 'aa00a739-faf9-4165-9b75-10047fbe3ecf', 'dateTime': '2020-05-01 18:34:35', 'deviceId': 'dev-2', 'measureType': 'Rotation Speed', 'unitSymbol': 'RPM', 'unit': 'Revolutions per Minute', 'measureValue': 3205}\n{'id': 'dcfc43f2-6729-416d-ad90-8ffa6033514e', 'dateTime': '2020-05-01 18:34:35', 'deviceId': 'dev-2', 'measureType': 'Output', 'unitSymbol': 'MW', 'unit': 'MegaWatts', 'measureValue': 1386}\n{'id': 'a1e5110a-9242-4503-84fd-a7492d76045d', 'dateTime': '2020-05-01 18:34:35', 'deviceId': 'dev-3', 'measureType': 'Rotation Speed', 'unitSymbol': 'RPM', 'unit': 'Revolutions per Minute', 'measureValue': 3249}\n{'id': '12e323b3-fb40-4cb1-9465-888ac55f2048', 'dateTime': '2020-05-01 18:34:35', 'deviceId': 'dev-3', 'measureType': 'Output', 'unitSymbol': 'MW', 'unit': 'MegaWatts', 'measureValue': 1514}\n{'id': '22a37b36-3962-4bc6-8edc-78762185ec12', 'dateTime': '2020-05-01 18:34:35', 'deviceId': 'dev-4', 'measureType': 'Rotation Speed', 'unitSymbol': 'RPM', 'unit': 'Revolutions per Minute', 'measureValue': 3074}\n{'id': '2cb4119f-7813-402f-a068-0112a8144426', 'dateTime': '2020-05-01 18:34:35', 'deviceId': 'dev-4', 'measureType': 'Output', 'unitSymbol': 'MW', 'unit': 'MegaWatts', 'measureValue': 1371}\n{'id': '955ddba9-88ab-4c0d-b991-997678f88890', 'dateTime': '2020-05-01 18:34:35', 'deviceId': 'dev-5', 'measureType': 'Rotation Speed', 'unitSymbol': 'RPM', 'unit': 'Revolutions per Minute', 'measureValue': 3154}\n{'id': '0277d8b0-3af1-4f05-b2ae-e050cbeebb5f', 'dateTime': '2020-05-01 18:34:35', 'deviceId': 'dev-5', 'measureType': 'Output', 'unitSymbol': 'MW', 'unit': 'MegaWatts', 'measureValue': 1562}\n{'id': '9e4b4d5e-5865-43de-9f31-32ddc7feedaa', 'dateTime': '2020-05-01 18:34:35', 'deviceId': 'dev-6', 'measureType': 'Rotation Speed', 'unitSymbol': 'RPM', 'unit': 'Revolutions per Minute', 'measureValue': 3034}\n{'id': '16ae871b-9902-4bb4-a339-a19cd14f0956', 'dateTime': '2020-05-01 18:34:35', 'deviceId': 'dev-6', 'measureType': 'Output', 'unitSymbol': 'MW', 'unit': 'MegaWatts', 'measureValue': 1488}\n{'id': 'cbd57050-554f-4f87-ada0-fc60f3b34731', 'dateTime': '2020-05-01 18:34:35', 'deviceId': 'dev-7', 'measureType': 'Rotation Speed', 'unitSymbol': 'RPM', 'unit': 'Revolutions per Minute', 'measureValue': 3169}\n{'id': 'f6d1132f-6a05-4a36-a334-dd6b87549987', 'dateTime': '2020-05-01 18:34:35', 'deviceId': 'dev-7', 'measureType': 'Output', 'unitSymbol': 'MW', 'unit': 'MegaWatts', 'measureValue': 1409}\n{'id': 'a5589eb3-111c-49b5-affb-a27d7aa37e31', 'dateTime': '2020-05-01 18:34:35', 'deviceId': 'dev-8', 'measureType': 'Rotation Speed', 'unitSymbol': 'RPM', 'unit': 'Revolutions per Minute', 'measureValue': 2762}\n{'id': '332234c7-2978-4b0e-8ff9-13749128e622', 'dateTime': '2020-05-01 18:34:35', 'deviceId': 'dev-8', 'measureType': 'Output', 'unitSymbol': 'MW', 'unit': 'MegaWatts', 'measureValue': 1443}\n{'id': 'a6b1b186-a562-4a3a-9cb3-b159b063ae5b', 'dateTime': '2020-05-01 18:34:35', 'deviceId': 'dev-9', 'measureType': 'Rotation Speed', 'unitSymbol': 'RPM', 'unit': 'Revolutions per Minute', 'measureValue': 2765}\n{'id': '95bad5e8-83dc-4fe5-80fd-614c0cd8530f', 'dateTime': '2020-05-01 18:34:35', 'deviceId': 'dev-9', 'measureType': 'Output', 'unitSymbol': 'MW', 'unit': 'MegaWatts', 'measureValue': 1533}\n{'id': 'cc6ed9be-854d-49df-91d3-6cddbc95efeb', 'dateTime': '2020-05-01 18:34:35', 'deviceId': 'dev-10', 'measureType': 'Rotation Speed', 'unitSymbol': 'RPM', 'unit': 'Revolutions per Minute', 'measureValue': 3159}\n{'id': '9f018540-27b9-429a-9104-9d736b4ac1c3', 'dateTime': '2020-05-01 18:34:35', 'deviceId': 'dev-10', 'measureType': 'Output', 'unitSymbol': 'MW', 'unit': 'MegaWatts', 'measureValue': 1482}\n{'id': 'c49ec243-29c9-402d-bf19-6356d742c8e2', 'dateTime': '2020-05-01 18:34:36', 'deviceId': 'dev-1', 'measureType': 'Rotation Speed', 'unitSymbol': 'RPM', 'unit': 'Revolutions per Minute', 'measureValue': 3074}\n{'id': 'df6f4d55-8336-4da5-9c5e-b4a37d771db8', 'dateTime': '2020-05-01 18:34:36', 'deviceId': 'dev-1', 'measureType': 'Output', 'unitSymbol': 'MW', 'unit': 'MegaWatts', 'measureValue': 1551}\n{'id': '40227d4e-1328-4832-b144-ad6385773b24', 'dateTime': '2020-05-01 18:34:36', 'deviceId': 'dev-2', 'measureType': 'Rotation Speed', 'unitSymbol': 'RPM', 'unit': 'Revolutions per Minute', 'measureValue': 3045}\n{'id': '8c003a08-18d5-458c-a053-fa9fb482f75e', 'dateTime': '2020-05-01 18:34:36', 'deviceId': 'dev-2', 'measureType': 'Output', 'unitSymbol': 'MW', 'unit': 'MegaWatts', 'measureValue': 1428}\n{'id': 'e5a0a484-d7df-4cb3-af73-94b924b9846b', 'dateTime': '2020-05-01 18:34:36', 'deviceId': 'dev-3', 'measureType': 'Rotation Speed', 'unitSymbol': 'RPM', 'unit': 'Revolutions per Minute', 'measureValue': 3243}\n{'id': '39925b82-ab30-4b58-92cd-adab29f5c8fc', 'dateTime': '2020-05-01 18:34:36', 'deviceId': 'dev-3', 'measureType': 'Output', 'unitSymbol': 'MW', 'unit': 'MegaWatts', 'measureValue': 1536}\n{'id': 'ac1095ac-fdc3-4418-80ca-5aa300385c6f', 'dateTime': '2020-05-01 18:34:36', 'deviceId': 'dev-4', 'measureType': 'Rotation Speed', 'unitSymbol': 'RPM', 'unit': 'Revolutions per Minute', 'measureValue': 3297}\n{'id': '98c1252a-8795-4602-aa59-498170ce6ae7', 'dateTime': '2020-05-01 18:34:36', 'deviceId': 'dev-4', 'measureType': 'Output', 'unitSymbol': 'MW', 'unit': 'MegaWatts', 'measureValue': 1555}\n{'id': '7ddf7d06-f66a-4c1e-8889-8a4905ea19cc', 'dateTime': '2020-05-01 18:34:36', 'deviceId': 'dev-5', 'measureType': 'Rotation Speed', 'unitSymbol': 'RPM', 'unit': 'Revolutions per Minute', 'measureValue': 3252}\n{'id': 'e1aae554-7513-49f7-9e00-9da32d526e94', 'dateTime': '2020-05-01 18:34:36', 'deviceId': 'dev-5', 'measureType': 'Output', 'unitSymbol': 'MW', 'unit': 'MegaWatts', 'measureValue': 1578}\n{'id': '2b7d2b90-a781-461f-b080-19358da5268c', 'dateTime': '2020-05-01 18:34:36', 'deviceId': 'dev-6', 'measureType': 'Rotation Speed', 'unitSymbol': 'RPM', 'unit': 'Revolutions per Minute', 'measureValue': 2702}\n{'id': '853890d9-9d10-4392-8cd5-adf65f70faf8', 'dateTime': '2020-05-01 18:34:36', 'deviceId': 'dev-6', 'measureType': 'Output', 'unitSymbol': 'MW', 'unit': 'MegaWatts', 'measureValue': 1421}\n{'id': 'bccde846-0260-44f1-9540-0cd74fa4af3a', 'dateTime': '2020-05-01 18:34:36', 'deviceId': 'dev-7', 'measureType': 'Rotation Speed', 'unitSymbol': 'RPM', 'unit': 'Revolutions per Minute', 'measureValue': 3213}\n{'id': 'c41c0827-3fd4-4c13-8c3e-ca4c81e8c382', 'dateTime': '2020-05-01 18:34:36', 'deviceId': 'dev-7', 'measureType': 'Output', 'unitSymbol': 'MW', 'unit': 'MegaWatts', 'measureValue': 1435}\n{'id': '767c3273-3155-45cd-82e7-b78e3954eaff', 'dateTime': '2020-05-01 18:34:36', 'deviceId': 'dev-8', 'measureType': 'Rotation Speed', 'unitSymbol': 'RPM', 'unit': 'Revolutions per Minute', 'measureValue': 2837}\n{'id': '59739fea-4eef-4c3b-b3fb-7fbe5f54e489', 'dateTime': '2020-05-01 18:34:36', 'deviceId': 'dev-8', 'measureType': 'Output', 'unitSymbol': 'MW', 'unit': 'MegaWatts', 'measureValue': 1464}\n{'id': 'd2a76274-b098-4d01-ba49-6132cbe4ae6b', 'dateTime': '2020-05-01 18:34:36', 'deviceId': 'dev-9', 'measureType': 'Rotation Speed', 'unitSymbol': 'RPM', 'unit': 'Revolutions per Minute', 'measureValue': 3032}\n{'id': 'dbdb00f6-e470-4b96-a7d3-2ee4990ac3b1', 'dateTime': '2020-05-01 18:34:36', 'deviceId': 'dev-9', 'measureType': 'Output', 'unitSymbol': 'MW', 'unit': 'MegaWatts', 'measureValue': 1515}\n{'id': 'f4cc5752-21eb-4490-b5e7-de659c8eff32', 'dateTime': '2020-05-01 18:34:36', 'deviceId': 'dev-10', 'measureType': 'Rotation Speed', 'unitSymbol': 'RPM', 'unit': 'Revolutions per Minute', 'measureValue': 3297}\n{'id': '39eb71d7-db99-41ac-83d0-681bbf654950', 'dateTime': '2020-05-01 18:34:36', 'deviceId': 'dev-10', 'measureType': 'Output', 'unitSymbol': 'MW', 'unit': 'MegaWatts', 'measureValue': 1613}\n{'id': 'afb9d908-d6f4-466d-bed9-71d46f92fb14', 'dateTime': '2020-05-01 18:34:37', 'deviceId': 'dev-1', 'measureType': 'Rotation Speed', 'unitSymbol': 'RPM', 'unit': 'Revolutions per Minute', 'measureValue': 3286}\n{'id': 'acfef77b-cd9c-45fa-8184-67be1b4f638e', 'dateTime': '2020-05-01 18:34:37', 'deviceId': 'dev-1', 'measureType': 'Output', 'unitSymbol': 'MW', 'unit': 'MegaWatts', 'measureValue': 1577}\n{'id': '833b345c-d92a-480c-ad6e-a17c36f41513', 'dateTime': '2020-05-01 18:34:37', 'deviceId': 'dev-2', 'measureType': 'Rotation Speed', 'unitSymbol': 'RPM', 'unit': 'Revolutions per Minute', 'measureValue': 2928}\n{'id': '6dd97642-fa9b-4179-9fee-abc75bbcecb1', 'dateTime': '2020-05-01 18:34:37', 'deviceId': 'dev-2', 'measureType': 'Output', 'unitSymbol': 'MW', 'unit': 'MegaWatts', 'measureValue': 1505}\n{'id': '4a454583-fc66-4e51-8638-8075374c0d76', 'dateTime': '2020-05-01 18:34:37', 'deviceId': 'dev-3', 'measureType': 'Rotation Speed', 'unitSymbol': 'RPM', 'unit': 'Revolutions per Minute', 'measureValue': 2969}\n{'id': '672ba4ff-6215-44e0-8b12-018a3176e4ec', 'dateTime': '2020-05-01 18:34:37', 'deviceId': 'dev-3', 'measureType': 'Output', 'unitSymbol': 'MW', 'unit': 'MegaWatts', 'measureValue': 1453}\n{'id': 'baac6559-c958-4d8f-8104-e57edb31d817', 'dateTime': '2020-05-01 18:34:37', 'deviceId': 'dev-4', 'measureType': 'Rotation Speed', 'unitSymbol': 'RPM', 'unit': 'Revolutions per Minute', 'measureValue': 2929}\n{'id': '6ae158af-40b6-4ad0-93c0-e3683e359c51', 'dateTime': '2020-05-01 18:34:37', 'deviceId': 'dev-4', 'measureType': 'Output', 'unitSymbol': 'MW', 'unit': 'MegaWatts', 'measureValue': 1411}\n{'id': '4abb519c-d46d-4fc1-8a6b-878a7a9f9f3a', 'dateTime': '2020-05-01 18:34:37', 'deviceId': 'dev-5', 'measureType': 'Rotation Speed', 'unitSymbol': 'RPM', 'unit': 'Revolutions per Minute', 'measureValue': 3171}\n{'id': '8d6683ac-cd16-4fcf-9005-fc06bb446f8b', 'dateTime': '2020-05-01 18:34:37', 'deviceId': 'dev-5', 'measureType': 'Output', 'unitSymbol': 'MW', 'unit': 'MegaWatts', 'measureValue': 1459}\n{'id': '7c2a5fbe-2cf9-4de5-a59d-439691086a09', 'dateTime': '2020-05-01 18:34:37', 'deviceId': 'dev-6', 'measureType': 'Rotation Speed', 'unitSymbol': 'RPM', 'unit': 'Revolutions per Minute', 'measureValue': 2856}\n{'id': 'ef1e35b0-8738-46f0-ad44-4e7b1ea53cdc', 'dateTime': '2020-05-01 18:34:37', 'deviceId': 'dev-6', 'measureType': 'Output', 'unitSymbol': 'MW', 'unit': 'MegaWatts', 'measureValue': 1402}\n{'id': 'd975a78f-ca11-43d8-b50a-ef96da23181a', 'dateTime': '2020-05-01 18:34:37', 'deviceId': 'dev-7', 'measureType': 'Rotation Speed', 'unitSymbol': 'RPM', 'unit': 'Revolutions per Minute', 'measureValue': 3117}\n{'id': '0c106a9c-3794-4749-83f0-df2b1d6181d7', 'dateTime': '2020-05-01 18:34:37', 'deviceId': 'dev-7', 'measureType': 'Output', 'unitSymbol': 'MW', 'unit': 'MegaWatts', 'measureValue': 1574}\n{'id': '1b0de924-0c67-4cf9-90f1-e2fbd5cf49e6', 'dateTime': '2020-05-01 18:34:37', 'deviceId': 'dev-8', 'measureType': 'Rotation Speed', 'unitSymbol': 'RPM', 'unit': 'Revolutions per Minute', 'measureValue': 2871}\n{'id': '46f2afa3-a877-439e-93d3-34c26d4dfd15', 'dateTime': '2020-05-01 18:34:37', 'deviceId': 'dev-8', 'measureType': 'Output', 'unitSymbol': 'MW', 'unit': 'MegaWatts', 'measureValue': 1524}\n{'id': '4e60f8ec-ce07-4931-b7f4-7079f35442ba', 'dateTime': '2020-05-01 18:34:37', 'deviceId': 'dev-9', 'measureType': 'Rotation Speed', 'unitSymbol': 'RPM', 'unit': 'Revolutions per Minute', 'measureValue': 2909}\n{'id': '52c3c618-a18b-4301-b4f1-5f0ae466088f', 'dateTime': '2020-05-01 18:34:37', 'deviceId': 'dev-9', 'measureType': 'Output', 'unitSymbol': 'MW', 'unit': 'MegaWatts', 'measureValue': 1416}\n{'id': '61e83821-c598-4816-96c0-51ff911936aa', 'dateTime': '2020-05-01 18:34:37', 'deviceId': 'dev-10', 'measureType': 'Rotation Speed', 'unitSymbol': 'RPM', 'unit': 'Revolutions per Minute', 'measureValue': 2859}\n{'id': 'c3db71ba-d424-42ff-ac28-229932a319a6', 'dateTime': '2020-05-01 18:34:37', 'deviceId': 'dev-10', 'measureType': 'Output', 'unitSymbol': 'MW', 'unit': 'MegaWatts', 'measureValue': 1568}\n{'id': '619e1689-cd7d-452b-82ac-a1d87fc04d6f', 'dateTime': '2020-05-01 18:34:38', 'deviceId': 'dev-1', 'measureType': 'Rotation Speed', 'unitSymbol': 'RPM', 'unit': 'Revolutions per Minute', 'measureValue': 2976}\n{'id': '2c8cf77b-d695-4bce-99d5-d1195ddc561b', 'dateTime': '2020-05-01 18:34:38', 'deviceId': 'dev-1', 'measureType': 'Output', 'unitSymbol': 'MW', 'unit': 'MegaWatts', 'measureValue': 1595}\n{'id': '1f9a5e09-29ec-489a-b330-26abb5ea48b4', 'dateTime': '2020-05-01 18:34:39', 'deviceId': 'dev-2', 'measureType': 'Rotation Speed', 'unitSymbol': 'RPM', 'unit': 'Revolutions per Minute', 'measureValue': 3047}\n{'id': '4091f2c9-9872-4dcf-b469-3bbe5ae6d935', 'dateTime': '2020-05-01 18:34:39', 'deviceId': 'dev-2', 'measureType': 'Output', 'unitSymbol': 'MW', 'unit': 'MegaWatts', 'measureValue': 1535}\n{'id': 'ebf25aa1-0f7c-47af-87f6-c9197c7f8783', 'dateTime': '2020-05-01 18:34:39', 'deviceId': 'dev-3', 'measureType': 'Rotation Speed', 'unitSymbol': 'RPM', 'unit': 'Revolutions per Minute', 'measureValue': 3170}\n{'id': '4a3495fb-e931-4578-bba1-b19fc1cf3186', 'dateTime': '2020-05-01 18:34:39', 'deviceId': 'dev-3', 'measureType': 'Output', 'unitSymbol': 'MW', 'unit': 'MegaWatts', 'measureValue': 1408}\n{'id': '58749739-0529-4cee-bedd-a0edb82e08eb', 'dateTime': '2020-05-01 18:34:39', 'deviceId': 'dev-4', 'measureType': 'Rotation Speed', 'unitSymbol': 'RPM', 'unit': 'Revolutions per Minute', 'measureValue': 2990}\n{'id': '1807141e-e676-4110-9a26-e7df0561927a', 'dateTime': '2020-05-01 18:34:39', 'deviceId': 'dev-4', 'measureType': 'Output', 'unitSymbol': 'MW', 'unit': 'MegaWatts', 'measureValue': 1583}\n{'id': '6ad759b6-f7da-43df-b376-21f30ffaf8e7', 'dateTime': '2020-05-01 18:34:39', 'deviceId': 'dev-5', 'measureType': 'Rotation Speed', 'unitSymbol': 'RPM', 'unit': 'Revolutions per Minute', 'measureValue': 2888}\n{'id': '73cd0f5f-8ca1-48b6-8531-389bbbcfc675', 'dateTime': '2020-05-01 18:34:39', 'deviceId': 'dev-5', 'measureType': 'Output', 'unitSymbol': 'MW', 'unit': 'MegaWatts', 'measureValue': 1529}\n{'id': 'b4cbb748-68bb-4204-8699-b9d2c5206920', 'dateTime': '2020-05-01 18:34:39', 'deviceId': 'dev-6', 'measureType': 'Rotation Speed', 'unitSymbol': 'RPM', 'unit': 'Revolutions per Minute', 'measureValue': 3168}\n{'id': 'd8c0803a-7aef-428f-a800-4faf5e1b12d4', 'dateTime': '2020-05-01 18:34:39', 'deviceId': 'dev-6', 'measureType': 'Output', 'unitSymbol': 'MW', 'unit': 'MegaWatts', 'measureValue': 1585}\n{'id': '01187640-38a0-42dd-b293-df8d23b060a2', 'dateTime': '2020-05-01 18:34:39', 'deviceId': 'dev-7', 'measureType': 'Rotation Speed', 'unitSymbol': 'RPM', 'unit': 'Revolutions per Minute', 'measureValue': 2884}\n{'id': '984106e7-fe6a-4647-9e9e-c0dc99965e38', 'dateTime': '2020-05-01 18:34:39', 'deviceId': 'dev-7', 'measureType': 'Output', 'unitSymbol': 'MW', 'unit': 'MegaWatts', 'measureValue': 1550}\n{'id': '20d058ad-92f1-4bf6-a01f-fbe6017e4a81', 'dateTime': '2020-05-01 18:34:39', 'deviceId': 'dev-8', 'measureType': 'Rotation Speed', 'unitSymbol': 'RPM', 'unit': 'Revolutions per Minute', 'measureValue': 3239}\n{'id': '19255514-9b98-46e1-aa94-aa2e4d75ad88', 'dateTime': '2020-05-01 18:34:39', 'deviceId': 'dev-8', 'measureType': 'Output', 'unitSymbol': 'MW', 'unit': 'MegaWatts', 'measureValue': 1565}\n{'id': '276e237a-9cf8-4d44-bc9b-7d7aba0fc173', 'dateTime': '2020-05-01 18:34:39', 'deviceId': 'dev-9', 'measureType': 'Rotation Speed', 'unitSymbol': 'RPM', 'unit': 'Revolutions per Minute', 'measureValue': 3110}\n{'id': 'e5eddb94-e821-4dfa-8a6f-8820a0790f3f', 'dateTime': '2020-05-01 18:34:39', 'deviceId': 'dev-9', 'measureType': 'Output', 'unitSymbol': 'MW', 'unit': 'MegaWatts', 'measureValue': 1378}\n{'id': '72c56dbe-8321-4a96-a407-efe3381e349a', 'dateTime': '2020-05-01 18:34:39', 'deviceId': 'dev-10', 'measureType': 'Rotation Speed', 'unitSymbol': 'RPM', 'unit': 'Revolutions per Minute', 'measureValue': 3013}\n{'id': 'f1c938f7-0cbd-4336-bb6c-7a500f52c0e3', 'dateTime': '2020-05-01 18:34:39', 'deviceId': 'dev-10', 'measureType': 'Output', 'unitSymbol': 'MW', 'unit': 'MegaWatts', 'measureValue': 1581}\n{'id': '8b5a3133-55d0-4bbc-aca0-548e166f0644', 'dateTime': '2020-05-01 18:34:40', 'deviceId': 'dev-1', 'measureType': 'Rotation Speed', 'unitSymbol': 'RPM', 'unit': 'Revolutions per Minute', 'measureValue': 3113}\n{'id': '32844636-197b-48df-bea4-7f0b5157af38', 'dateTime': '2020-05-01 18:34:40', 'deviceId': 'dev-1', 'measureType': 'Output', 'unitSymbol': 'MW', 'unit': 'MegaWatts', 'measureValue': 1365}\n{'id': 'b251ec0c-57be-40cd-afdf-73d4dbb627c0', 'dateTime': '2020-05-01 18:34:40', 'deviceId': 'dev-2', 'measureType': 'Rotation Speed', 'unitSymbol': 'RPM', 'unit': 'Revolutions per Minute', 'measureValue': 3043}\n{'id': '7ab72bc5-927f-42f8-8787-87e360e37fdf', 'dateTime': '2020-05-01 18:34:40', 'deviceId': 'dev-2', 'measureType': 'Output', 'unitSymbol': 'MW', 'unit': 'MegaWatts', 'measureValue': 1614}\n{'id': 'a5206a0e-9915-445c-b246-fda3eee187e7', 'dateTime': '2020-05-01 18:34:40', 'deviceId': 'dev-3', 'measureType': 'Rotation Speed', 'unitSymbol': 'RPM', 'unit': 'Revolutions per Minute', 'measureValue': 2842}\n{'id': '1c9a21fd-3a85-4505-b00d-8675d897a8bf', 'dateTime': '2020-05-01 18:34:40', 'deviceId': 'dev-3', 'measureType': 'Output', 'unitSymbol': 'MW', 'unit': 'MegaWatts', 'measureValue': 1628}\n{'id': '0a18eb99-aaf6-4e51-8f81-b009cb9fb2fc', 'dateTime': '2020-05-01 18:34:40', 'deviceId': 'dev-4', 'measureType': 'Rotation Speed', 'unitSymbol': 'RPM', 'unit': 'Revolutions per Minute', 'measureValue': 3023}\n{'id': '4a8a782e-dac3-487b-8406-7bbc75e6e791', 'dateTime': '2020-05-01 18:34:40', 'deviceId': 'dev-4', 'measureType': 'Output', 'unitSymbol': 'MW', 'unit': 'MegaWatts', 'measureValue': 1406}\n{'id': '9c087de7-d6b4-4e96-bbbe-a7288a0300b1', 'dateTime': '2020-05-01 18:34:40', 'deviceId': 'dev-5', 'measureType': 'Rotation Speed', 'unitSymbol': 'RPM', 'unit': 'Revolutions per Minute', 'measureValue': 2985}\n{'id': '3d5c31bb-5262-4d90-9bed-a8390a05f4cd', 'dateTime': '2020-05-01 18:34:40', 'deviceId': 'dev-5', 'measureType': 'Output', 'unitSymbol': 'MW', 'unit': 'MegaWatts', 'measureValue': 1524}\n{'id': 'cb4dee3c-3599-4018-abb0-fdc50f35d2b5', 'dateTime': '2020-05-01 18:34:40', 'deviceId': 'dev-6', 'measureType': 'Rotation Speed', 'unitSymbol': 'RPM', 'unit': 'Revolutions per Minute', 'measureValue': 3288}\n{'id': 'ab79f4df-c12c-4a71-bfe1-e7e1ccda9330', 'dateTime': '2020-05-01 18:34:40', 'deviceId': 'dev-6', 'measureType': 'Output', 'unitSymbol': 'MW', 'unit': 'MegaWatts', 'measureValue': 1470}\n{'id': '7b79c757-aed7-4d69-a4ab-e118fb5d2713', 'dateTime': '2020-05-01 18:34:40', 'deviceId': 'dev-7', 'measureType': 'Rotation Speed', 'unitSymbol': 'RPM', 'unit': 'Revolutions per Minute', 'measureValue': 3160}\n{'id': '277992d6-d487-4040-a480-079797903a65', 'dateTime': '2020-05-01 18:34:40', 'deviceId': 'dev-7', 'measureType': 'Output', 'unitSymbol': 'MW', 'unit': 'MegaWatts', 'measureValue': 1587}\n{'id': 'fce72c4b-e843-4af1-9fa1-5d103ff07d5a', 'dateTime': '2020-05-01 18:34:40', 'deviceId': 'dev-8', 'measureType': 'Rotation Speed', 'unitSymbol': 'RPM', 'unit': 'Revolutions per Minute', 'measureValue': 3094}\n{'id': 'f9e2b504-7cc7-4bd4-ba2f-687aeb1602ee', 'dateTime': '2020-05-01 18:34:40', 'deviceId': 'dev-8', 'measureType': 'Output', 'unitSymbol': 'MW', 'unit': 'MegaWatts', 'measureValue': 1414}\n{'id': '857bd65e-f044-475b-a5f0-55575961a606', 'dateTime': '2020-05-01 18:34:40', 'deviceId': 'dev-9', 'measureType': 'Rotation Speed', 'unitSymbol': 'RPM', 'unit': 'Revolutions per Minute', 'measureValue': 3229}\n{'id': '8335ff1f-059f-4881-88b3-8e32355fa3d6', 'dateTime': '2020-05-01 18:34:40', 'deviceId': 'dev-9', 'measureType': 'Output', 'unitSymbol': 'MW', 'unit': 'MegaWatts', 'measureValue': 1530}\n{'id': '667da3bf-95f2-4344-a3af-ad35183bf31e', 'dateTime': '2020-05-01 18:34:40', 'deviceId': 'dev-10', 'measureType': 'Rotation Speed', 'unitSymbol': 'RPM', 'unit': 'Revolutions per Minute', 'measureValue': 3009}\n{'id': '0df62ba4-f34f-46fd-80aa-5beda949f982', 'dateTime': '2020-05-01 18:34:40', 'deviceId': 'dev-10', 'measureType': 'Output', 'unitSymbol': 'MW', 'unit': 'MegaWatts', 'measureValue': 1420}\n{'id': '6b6767cd-4923-4b49-b54d-89fa3e43558b', 'dateTime': '2020-05-01 18:34:41', 'deviceId': 'dev-1', 'measureType': 'Rotation Speed', 'unitSymbol': 'RPM', 'unit': 'Revolutions per Minute', 'measureValue': 2974}\n{'id': '63dd1699-4b6f-47af-8837-9669f0148432', 'dateTime': '2020-05-01 18:34:41', 'deviceId': 'dev-1', 'measureType': 'Output', 'unitSymbol': 'MW', 'unit': 'MegaWatts', 'measureValue': 1641}\n{'id': '6c1b0efc-9cde-40c5-8f8f-acfcd639f0b5', 'dateTime': '2020-05-01 18:34:41', 'deviceId': 'dev-2', 'measureType': 'Rotation Speed', 'unitSymbol': 'RPM', 'unit': 'Revolutions per Minute', 'measureValue': 2755}\n{'id': '401ad02c-d714-4fd1-9afb-1024471bfb57', 'dateTime': '2020-05-01 18:34:41', 'deviceId': 'dev-2', 'measureType': 'Output', 'unitSymbol': 'MW', 'unit': 'MegaWatts', 'measureValue': 1524}\n{'id': 'f9f08ba4-716f-4439-8572-565340a417ba', 'dateTime': '2020-05-01 18:34:41', 'deviceId': 'dev-3', 'measureType': 'Rotation Speed', 'unitSymbol': 'RPM', 'unit': 'Revolutions per Minute', 'measureValue': 2735}\n{'id': '5b67c4ad-c8c8-4776-ba27-2a014c2ad125', 'dateTime': '2020-05-01 18:34:41', 'deviceId': 'dev-3', 'measureType': 'Output', 'unitSymbol': 'MW', 'unit': 'MegaWatts', 'measureValue': 1538}\n{'id': '9bcb6085-4388-41f0-bcb0-e2f37e9c7e5f', 'dateTime': '2020-05-01 18:34:41', 'deviceId': 'dev-4', 'measureType': 'Rotation Speed', 'unitSymbol': 'RPM', 'unit': 'Revolutions per Minute', 'measureValue': 2841}\n{'id': '1286fa15-ad3a-44f9-8eea-b84bc9d5c832', 'dateTime': '2020-05-01 18:34:41', 'deviceId': 'dev-4', 'measureType': 'Output', 'unitSymbol': 'MW', 'unit': 'MegaWatts', 'measureValue': 1557}\n{'id': '197e1043-e263-4625-b821-77b7adb4a5bc', 'dateTime': '2020-05-01 18:34:41', 'deviceId': 'dev-5', 'measureType': 'Rotation Speed', 'unitSymbol': 'RPM', 'unit': 'Revolutions per Minute', 'measureValue': 2941}\n{'id': '5ca77806-0613-49ad-ac33-0bc4063523eb', 'dateTime': '2020-05-01 18:34:41', 'deviceId': 'dev-5', 'measureType': 'Output', 'unitSymbol': 'MW', 'unit': 'MegaWatts', 'measureValue': 1597}\n{'id': '49b8eb51-cd5f-4257-96d4-b25ebfbf1652', 'dateTime': '2020-05-01 18:34:41', 'deviceId': 'dev-6', 'measureType': 'Rotation Speed', 'unitSymbol': 'RPM', 'unit': 'Revolutions per Minute', 'measureValue': 3036}\n{'id': '76c7d8b6-72eb-4728-b504-b4cd565d3be1', 'dateTime': '2020-05-01 18:34:41', 'deviceId': 'dev-6', 'measureType': 'Output', 'unitSymbol': 'MW', 'unit': 'MegaWatts', 'measureValue': 1564}\n{'id': '5ef35eef-d340-48ff-af69-aab3f1e9b217', 'dateTime': '2020-05-01 18:34:41', 'deviceId': 'dev-7', 'measureType': 'Rotation Speed', 'unitSymbol': 'RPM', 'unit': 'Revolutions per Minute', 'measureValue': 2927}\n{'id': '5d92b802-036c-4fcb-a2c3-79e46ebbb688', 'dateTime': '2020-05-01 18:34:41', 'deviceId': 'dev-7', 'measureType': 'Output', 'unitSymbol': 'MW', 'unit': 'MegaWatts', 'measureValue': 1518}\n{'id': 'e05aeb05-6f57-48b9-b2a0-d1656aa37ade', 'dateTime': '2020-05-01 18:34:41', 'deviceId': 'dev-8', 'measureType': 'Rotation Speed', 'unitSymbol': 'RPM', 'unit': 'Revolutions per Minute', 'measureValue': 2965}\n{'id': 'c7bf6abf-65c4-417d-bcdd-d575e0b7d5a2', 'dateTime': '2020-05-01 18:34:41', 'deviceId': 'dev-8', 'measureType': 'Output', 'unitSymbol': 'MW', 'unit': 'MegaWatts', 'measureValue': 1607}\n{'id': 'f3cd373c-8c0f-44aa-b7ee-70245158f7ad', 'dateTime': '2020-05-01 18:34:41', 'deviceId': 'dev-9', 'measureType': 'Rotation Speed', 'unitSymbol': 'RPM', 'unit': 'Revolutions per Minute', 'measureValue': 3003}\n{'id': 'af3e3a1d-3c90-4f2a-b505-4e94808c1b9a', 'dateTime': '2020-05-01 18:34:41', 'deviceId': 'dev-9', 'measureType': 'Output', 'unitSymbol': 'MW', 'unit': 'MegaWatts', 'measureValue': 1590}\n{'id': 'a5d0078e-f2ef-4176-9def-3e5997c473af', 'dateTime': '2020-05-01 18:34:41', 'deviceId': 'dev-10', 'measureType': 'Rotation Speed', 'unitSymbol': 'RPM', 'unit': 'Revolutions per Minute', 'measureValue': 3218}\n{'id': 'f8e0fa8f-5ef3-4e9b-80d4-e48ab33a091a', 'dateTime': '2020-05-01 18:34:41', 'deviceId': 'dev-10', 'measureType': 'Output', 'unitSymbol': 'MW', 'unit': 'MegaWatts', 'measureValue': 1601}\n{'id': '0aa4dbb6-239a-4aca-93a6-e19f23997251', 'dateTime': '2020-05-01 18:34:42', 'deviceId': 'dev-1', 'measureType': 'Rotation Speed', 'unitSymbol': 'RPM', 'unit': 'Revolutions per Minute', 'measureValue': 3173}\n{'id': '9a3272d0-483a-4cb1-bea9-23b9d6dbba13', 'dateTime': '2020-05-01 18:34:42', 'deviceId': 'dev-1', 'measureType': 'Output', 'unitSymbol': 'MW', 'unit': 'MegaWatts', 'measureValue': 1550}\n{'id': '601ae18b-4633-4231-b1c4-682dac721197', 'dateTime': '2020-05-01 18:34:42', 'deviceId': 'dev-2', 'measureType': 'Rotation Speed', 'unitSymbol': 'RPM', 'unit': 'Revolutions per Minute', 'measureValue': 2862}\n{'id': '27b65961-d7f9-4d7e-93e6-8e39ff68bf0f', 'dateTime': '2020-05-01 18:34:42', 'deviceId': 'dev-2', 'measureType': 'Output', 'unitSymbol': 'MW', 'unit': 'MegaWatts', 'measureValue': 1580}\n{'id': 'e3c99de5-f544-4d48-8223-b17f686537cc', 'dateTime': '2020-05-01 18:34:42', 'deviceId': 'dev-3', 'measureType': 'Rotation Speed', 'unitSymbol': 'RPM', 'unit': 'Revolutions per Minute', 'measureValue': 3247}\n{'id': '2d251ddf-923a-48a2-a3cb-b8e509df1917', 'dateTime': '2020-05-01 18:34:42', 'deviceId': 'dev-3', 'measureType': 'Output', 'unitSymbol': 'MW', 'unit': 'MegaWatts', 'measureValue': 1628}\n{'id': 'cebdbfad-bcd0-4f9c-9bb4-40a0629b0c57', 'dateTime': '2020-05-01 18:34:42', 'deviceId': 'dev-4', 'measureType': 'Rotation Speed', 'unitSymbol': 'RPM', 'unit': 'Revolutions per Minute', 'measureValue': 3197}\n{'id': '3d500645-64aa-4306-af3f-eefc04b0394b', 'dateTime': '2020-05-01 18:34:42', 'deviceId': 'dev-4', 'measureType': 'Output', 'unitSymbol': 'MW', 'unit': 'MegaWatts', 'measureValue': 1353}\n{'id': 'd85387c2-1410-419b-9284-02bb047828c5', 'dateTime': '2020-05-01 18:34:42', 'deviceId': 'dev-5', 'measureType': 'Rotation Speed', 'unitSymbol': 'RPM', 'unit': 'Revolutions per Minute', 'measureValue': 2878}\n{'id': 'c9a20c00-5737-4aad-b162-afc34a4e817c', 'dateTime': '2020-05-01 18:34:42', 'deviceId': 'dev-5', 'measureType': 'Output', 'unitSymbol': 'MW', 'unit': 'MegaWatts', 'measureValue': 1564}\n{'id': '92904faa-6547-4002-9d58-cc32ecc095f2', 'dateTime': '2020-05-01 18:34:42', 'deviceId': 'dev-6', 'measureType': 'Rotation Speed', 'unitSymbol': 'RPM', 'unit': 'Revolutions per Minute', 'measureValue': 2861}\n{'id': '11481810-e32b-4501-b2d2-5d3b1d474545', 'dateTime': '2020-05-01 18:34:42', 'deviceId': 'dev-6', 'measureType': 'Output', 'unitSymbol': 'MW', 'unit': 'MegaWatts', 'measureValue': 1470}\n{'id': '925684b6-2a9b-4388-a620-d30189016cd8', 'dateTime': '2020-05-01 18:34:42', 'deviceId': 'dev-7', 'measureType': 'Rotation Speed', 'unitSymbol': 'RPM', 'unit': 'Revolutions per Minute', 'measureValue': 3208}\n{'id': 'abb7cfac-7b92-4841-a632-a6afd39a4f98', 'dateTime': '2020-05-01 18:34:42', 'deviceId': 'dev-7', 'measureType': 'Output', 'unitSymbol': 'MW', 'unit': 'MegaWatts', 'measureValue': 1566}\n{'id': '32686f5c-ac45-4903-ba57-8c71ec81da6f', 'dateTime': '2020-05-01 18:34:42', 'deviceId': 'dev-8', 'measureType': 'Rotation Speed', 'unitSymbol': 'RPM', 'unit': 'Revolutions per Minute', 'measureValue': 3077}\n{'id': '51ff10a8-0881-49e6-9885-6a53b79aa1c5', 'dateTime': '2020-05-01 18:34:42', 'deviceId': 'dev-8', 'measureType': 'Output', 'unitSymbol': 'MW', 'unit': 'MegaWatts', 'measureValue': 1356}\n{'id': '21f1f2e3-db8d-4260-baf6-6d89671c0f9b', 'dateTime': '2020-05-01 18:34:42', 'deviceId': 'dev-9', 'measureType': 'Rotation Speed', 'unitSymbol': 'RPM', 'unit': 'Revolutions per Minute', 'measureValue': 2936}\n{'id': '69477818-ba7b-4fe1-aa36-eb11106269b9', 'dateTime': '2020-05-01 18:34:42', 'deviceId': 'dev-9', 'measureType': 'Output', 'unitSymbol': 'MW', 'unit': 'MegaWatts', 'measureValue': 1515}\n{'id': '6de907b3-b4ac-42c2-ab6c-be55ce28051e', 'dateTime': '2020-05-01 18:34:42', 'deviceId': 'dev-10', 'measureType': 'Rotation Speed', 'unitSymbol': 'RPM', 'unit': 'Revolutions per Minute', 'measureValue': 3013}\n{'id': '8b0a1ee3-40d4-41d2-9f8c-22e7d2aff636', 'dateTime': '2020-05-01 18:34:42', 'deviceId': 'dev-10', 'measureType': 'Output', 'unitSymbol': 'MW', 'unit': 'MegaWatts', 'measureValue': 1360}\n{'id': 'f3190246-5ac8-4443-8aff-dc11cd526ecc', 'dateTime': '2020-05-01 18:34:43', 'deviceId': 'dev-1', 'measureType': 'Rotation Speed', 'unitSymbol': 'RPM', 'unit': 'Revolutions per Minute', 'measureValue': 2831}\n{'id': 'cc95025e-6cd5-4c1d-9545-b2d4f5b1a22b', 'dateTime': '2020-05-01 18:34:43', 'deviceId': 'dev-1', 'measureType': 'Output', 'unitSymbol': 'MW', 'unit': 'MegaWatts', 'measureValue': 1503}\n{'id': '04cd5d37-3629-4564-b558-9f2f19826eca', 'dateTime': '2020-05-01 18:34:43', 'deviceId': 'dev-2', 'measureType': 'Rotation Speed', 'unitSymbol': 'RPM', 'unit': 'Revolutions per Minute', 'measureValue': 2778}\n{'id': 'e2c9bb50-bfe0-4c32-9188-d81872e2317d', 'dateTime': '2020-05-01 18:34:43', 'deviceId': 'dev-2', 'measureType': 'Output', 'unitSymbol': 'MW', 'unit': 'MegaWatts', 'measureValue': 1518}\n{'id': '6c02c84c-d73d-47be-8f3c-1fc527afe933', 'dateTime': '2020-05-01 18:34:43', 'deviceId': 'dev-3', 'measureType': 'Rotation Speed', 'unitSymbol': 'RPM', 'unit': 'Revolutions per Minute', 'measureValue': 3267}\n{'id': 'd015025f-dded-46b9-bc74-49bbc1104675', 'dateTime': '2020-05-01 18:34:43', 'deviceId': 'dev-3', 'measureType': 'Output', 'unitSymbol': 'MW', 'unit': 'MegaWatts', 'measureValue': 1600}\n{'id': '8df8fa08-ab99-43aa-9b80-df526b85f8bf', 'dateTime': '2020-05-01 18:34:43', 'deviceId': 'dev-4', 'measureType': 'Rotation Speed', 'unitSymbol': 'RPM', 'unit': 'Revolutions per Minute', 'measureValue': 2890}\n{'id': '66d2a968-4e18-4f29-9fa6-a8b2c87a77e6', 'dateTime': '2020-05-01 18:34:43', 'deviceId': 'dev-4', 'measureType': 'Output', 'unitSymbol': 'MW', 'unit': 'MegaWatts', 'measureValue': 1615}\n{'id': '482b7fc0-a31d-43c3-9f84-22679c764fb3', 'dateTime': '2020-05-01 18:34:43', 'deviceId': 'dev-5', 'measureType': 'Rotation Speed', 'unitSymbol': 'RPM', 'unit': 'Revolutions per Minute', 'measureValue': 3132}\n{'id': 'e663348c-897c-4ef4-8793-c6f613b4c83e', 'dateTime': '2020-05-01 18:34:43', 'deviceId': 'dev-5', 'measureType': 'Output', 'unitSymbol': 'MW', 'unit': 'MegaWatts', 'measureValue': 1629}\n{'id': '247ab97a-5dc2-48fb-a422-14d333640dc0', 'dateTime': '2020-05-01 18:34:43', 'deviceId': 'dev-6', 'measureType': 'Rotation Speed', 'unitSymbol': 'RPM', 'unit': 'Revolutions per Minute', 'measureValue': 3257}\n{'id': '14fd979b-3199-4311-9984-5572495eb75f', 'dateTime': '2020-05-01 18:34:43', 'deviceId': 'dev-6', 'measureType': 'Output', 'unitSymbol': 'MW', 'unit': 'MegaWatts', 'measureValue': 1607}\n{'id': '21b00de0-f05d-42f4-a431-64edcbcc9b8d', 'dateTime': '2020-05-01 18:34:43', 'deviceId': 'dev-7', 'measureType': 'Rotation Speed', 'unitSymbol': 'RPM', 'unit': 'Revolutions per Minute', 'measureValue': 2909}\n{'id': 'd121ef06-8829-4efd-b5f5-66fbbfc082da', 'dateTime': '2020-05-01 18:34:43', 'deviceId': 'dev-7', 'measureType': 'Output', 'unitSymbol': 'MW', 'unit': 'MegaWatts', 'measureValue': 1508}\n{'id': '97a10f0b-a3b5-4798-b01d-d3a75800881b', 'dateTime': '2020-05-01 18:34:43', 'deviceId': 'dev-8', 'measureType': 'Rotation Speed', 'unitSymbol': 'RPM', 'unit': 'Revolutions per Minute', 'measureValue': 3011}\n{'id': 'e9765f8a-62b6-4db1-8c58-5371c6754587', 'dateTime': '2020-05-01 18:34:43', 'deviceId': 'dev-8', 'measureType': 'Output', 'unitSymbol': 'MW', 'unit': 'MegaWatts', 'measureValue': 1493}\n{'id': '8681550d-d7e5-4b1a-ac19-ff59798c498b', 'dateTime': '2020-05-01 18:34:43', 'deviceId': 'dev-9', 'measureType': 'Rotation Speed', 'unitSymbol': 'RPM', 'unit': 'Revolutions per Minute', 'measureValue': 3110}\n{'id': '6931175b-8109-44f7-a49d-05c6c6c93edb', 'dateTime': '2020-05-01 18:34:43', 'deviceId': 'dev-9', 'measureType': 'Output', 'unitSymbol': 'MW', 'unit': 'MegaWatts', 'measureValue': 1520}\n{'id': '4c80a220-9e01-4786-af6a-577234e1e7cd', 'dateTime': '2020-05-01 18:34:43', 'deviceId': 'dev-10', 'measureType': 'Rotation Speed', 'unitSymbol': 'RPM', 'unit': 'Revolutions per Minute', 'measureValue': 2910}\n{'id': 'd3099e04-1369-4f1e-9315-eebc43e2ca01', 'dateTime': '2020-05-01 18:34:43', 'deviceId': 'dev-10', 'measureType': 'Output', 'unitSymbol': 'MW', 'unit': 'MegaWatts', 'measureValue': 1354}\n{'id': 'fe015702-fe4d-4739-b264-cec39fe974d0', 'dateTime': '2020-05-01 18:34:44', 'deviceId': 'dev-1', 'measureType': 'Rotation Speed', 'unitSymbol': 'RPM', 'unit': 'Revolutions per Minute', 'measureValue': 3147}\n{'id': '957cfa25-062e-4dd5-9c61-05e89618ee53', 'dateTime': '2020-05-01 18:34:44', 'deviceId': 'dev-1', 'measureType': 'Output', 'unitSymbol': 'MW', 'unit': 'MegaWatts', 'measureValue': 1363}\n{'id': '20b82571-7425-441d-a29f-ab5fea44833b', 'dateTime': '2020-05-01 18:34:44', 'deviceId': 'dev-2', 'measureType': 'Rotation Speed', 'unitSymbol': 'RPM', 'unit': 'Revolutions per Minute', 'measureValue': 3107}\n{'id': '365f8853-7f61-4bb3-b295-294e6b942a86', 'dateTime': '2020-05-01 18:34:44', 'deviceId': 'dev-2', 'measureType': 'Output', 'unitSymbol': 'MW', 'unit': 'MegaWatts', 'measureValue': 1475}\n{'id': '5c24f474-ac4a-4dd4-91b8-14234d77520e', 'dateTime': '2020-05-01 18:34:45', 'deviceId': 'dev-3', 'measureType': 'Rotation Speed', 'unitSymbol': 'RPM', 'unit': 'Revolutions per Minute', 'measureValue': 2980}\n{'id': 'f77bc26d-bdf2-4aa3-b8ed-013884acefbc', 'dateTime': '2020-05-01 18:34:45', 'deviceId': 'dev-3', 'measureType': 'Output', 'unitSymbol': 'MW', 'unit': 'MegaWatts', 'measureValue': 1414}\n{'id': '47944dc0-35cb-422f-ba37-e3077975f4bc', 'dateTime': '2020-05-01 18:34:45', 'deviceId': 'dev-4', 'measureType': 'Rotation Speed', 'unitSymbol': 'RPM', 'unit': 'Revolutions per Minute', 'measureValue': 2966}\n{'id': 'c699ecd8-3037-41db-8f8b-f46e0e4b46f2', 'dateTime': '2020-05-01 18:34:45', 'deviceId': 'dev-4', 'measureType': 'Output', 'unitSymbol': 'MW', 'unit': 'MegaWatts', 'measureValue': 1516}\n{'id': '43d40e43-c2dc-499b-a3eb-e39bb9ded644', 'dateTime': '2020-05-01 18:34:45', 'deviceId': 'dev-5', 'measureType': 'Rotation Speed', 'unitSymbol': 'RPM', 'unit': 'Revolutions per Minute', 'measureValue': 2769}\n{'id': 'e01e6b75-9615-403a-bbd3-c4f2286da3bb', 'dateTime': '2020-05-01 18:34:45', 'deviceId': 'dev-5', 'measureType': 'Output', 'unitSymbol': 'MW', 'unit': 'MegaWatts', 'measureValue': 1417}\n{'id': 'f86dae55-0fa5-4e42-bcf0-5917ff5a03e2', 'dateTime': '2020-05-01 18:34:45', 'deviceId': 'dev-6', 'measureType': 'Rotation Speed', 'unitSymbol': 'RPM', 'unit': 'Revolutions per Minute', 'measureValue': 3179}\n{'id': 'bdc0cc11-294c-4ac7-91e1-b774b787cbd8', 'dateTime': '2020-05-01 18:34:45', 'deviceId': 'dev-6', 'measureType': 'Output', 'unitSymbol': 'MW', 'unit': 'MegaWatts', 'measureValue': 1569}\n{'id': '56135184-e12e-4f33-b3ce-fa22cb673a32', 'dateTime': '2020-05-01 18:34:45', 'deviceId': 'dev-7', 'measureType': 'Rotation Speed', 'unitSymbol': 'RPM', 'unit': 'Revolutions per Minute', 'measureValue': 2894}\n{'id': '16363bbf-1c90-40b0-9968-d221f16cd00e', 'dateTime': '2020-05-01 18:34:45', 'deviceId': 'dev-7', 'measureType': 'Output', 'unitSymbol': 'MW', 'unit': 'MegaWatts', 'measureValue': 1604}\n{'id': '93a876fa-f977-4d0d-803a-5b7515ca1971', 'dateTime': '2020-05-01 18:34:45', 'deviceId': 'dev-8', 'measureType': 'Rotation Speed', 'unitSymbol': 'RPM', 'unit': 'Revolutions per Minute', 'measureValue': 3279}\n{'id': '33275c37-542c-49c6-9560-65b807634c9d', 'dateTime': '2020-05-01 18:34:45', 'deviceId': 'dev-8', 'measureType': 'Output', 'unitSymbol': 'MW', 'unit': 'MegaWatts', 'measureValue': 1386}\n{'id': 'b55c21e9-8c9d-4f89-81f7-9f8c9d94f652', 'dateTime': '2020-05-01 18:34:45', 'deviceId': 'dev-9', 'measureType': 'Rotation Speed', 'unitSymbol': 'RPM', 'unit': 'Revolutions per Minute', 'measureValue': 2774}\n{'id': '33f79e92-e742-4631-aeaf-4df14551a56e', 'dateTime': '2020-05-01 18:34:45', 'deviceId': 'dev-9', 'measureType': 'Output', 'unitSymbol': 'MW', 'unit': 'MegaWatts', 'measureValue': 1594}\n{'id': '18becd12-39bd-4b47-a81b-0dd9e0bae467', 'dateTime': '2020-05-01 18:34:45', 'deviceId': 'dev-10', 'measureType': 'Rotation Speed', 'unitSymbol': 'RPM', 'unit': 'Revolutions per Minute', 'measureValue': 2758}\n{'id': '45a44a24-4843-40b7-b70a-cf33e0608bc9', 'dateTime': '2020-05-01 18:34:45', 'deviceId': 'dev-10', 'measureType': 'Output', 'unitSymbol': 'MW', 'unit': 'MegaWatts', 'measureValue': 1509}\n{'id': '125d0165-2ea5-41c1-9dc1-aadfb117dc64', 'dateTime': '2020-05-01 18:34:46', 'deviceId': 'dev-1', 'measureType': 'Rotation Speed', 'unitSymbol': 'RPM', 'unit': 'Revolutions per Minute', 'measureValue': 2930}\n{'id': 'c5035f00-ac1c-47c4-b270-3442c4bc0802', 'dateTime': '2020-05-01 18:34:46', 'deviceId': 'dev-1', 'measureType': 'Output', 'unitSymbol': 'MW', 'unit': 'MegaWatts', 'measureValue': 1588}\n{'id': '8362c42b-cee4-4721-afeb-ff7b0f2865a6', 'dateTime': '2020-05-01 18:34:46', 'deviceId': 'dev-2', 'measureType': 'Rotation Speed', 'unitSymbol': 'RPM', 'unit': 'Revolutions per Minute', 'measureValue': 3021}\n{'id': 'ae8092c4-1b47-434e-ba4c-1940ec019087', 'dateTime': '2020-05-01 18:34:46', 'deviceId': 'dev-2', 'measureType': 'Output', 'unitSymbol': 'MW', 'unit': 'MegaWatts', 'measureValue': 1352}\n{'id': 'ad29ddee-012c-4fc6-be0c-a34dae0b1b9f', 'dateTime': '2020-05-01 18:34:46', 'deviceId': 'dev-3', 'measureType': 'Rotation Speed', 'unitSymbol': 'RPM', 'unit': 'Revolutions per Minute', 'measureValue': 3243}\n{'id': 'a52da0ff-d785-44ab-ba0b-14db68637fdf', 'dateTime': '2020-05-01 18:34:46', 'deviceId': 'dev-3', 'measureType': 'Output', 'unitSymbol': 'MW', 'unit': 'MegaWatts', 'measureValue': 1644}\n{'id': '8494717d-da4c-4f18-8005-08dd47df836e', 'dateTime': '2020-05-01 18:34:46', 'deviceId': 'dev-4', 'measureType': 'Rotation Speed', 'unitSymbol': 'RPM', 'unit': 'Revolutions per Minute', 'measureValue': 2852}\n{'id': '8ac50566-ae9c-46f9-9e38-9cc7b9cff060', 'dateTime': '2020-05-01 18:34:46', 'deviceId': 'dev-4', 'measureType': 'Output', 'unitSymbol': 'MW', 'unit': 'MegaWatts', 'measureValue': 1506}\n{'id': 'b72f2e64-64aa-4904-b661-94328132bd08', 'dateTime': '2020-05-01 18:34:46', 'deviceId': 'dev-5', 'measureType': 'Rotation Speed', 'unitSymbol': 'RPM', 'unit': 'Revolutions per Minute', 'measureValue': 3265}\n{'id': '349407c9-d6a0-47ca-b39f-1a3a05c35c21', 'dateTime': '2020-05-01 18:34:46', 'deviceId': 'dev-5', 'measureType': 'Output', 'unitSymbol': 'MW', 'unit': 'MegaWatts', 'measureValue': 1609}\n{'id': '8f001c47-5b19-44ef-a183-b72f8c8536ca', 'dateTime': '2020-05-01 18:34:46', 'deviceId': 'dev-6', 'measureType': 'Rotation Speed', 'unitSymbol': 'RPM', 'unit': 'Revolutions per Minute', 'measureValue': 2872}\n{'id': '7bb1e919-52c5-4cc0-8807-866ff833188d', 'dateTime': '2020-05-01 18:34:46', 'deviceId': 'dev-6', 'measureType': 'Output', 'unitSymbol': 'MW', 'unit': 'MegaWatts', 'measureValue': 1375}\n{'id': 'a05cdaa5-d98b-48dc-9c5c-573b368fc439', 'dateTime': '2020-05-01 18:34:46', 'deviceId': 'dev-7', 'measureType': 'Rotation Speed', 'unitSymbol': 'RPM', 'unit': 'Revolutions per Minute', 'measureValue': 2789}\n{'id': '6dec402e-88ae-4cb4-9d03-810d0f0b237a', 'dateTime': '2020-05-01 18:34:46', 'deviceId': 'dev-7', 'measureType': 'Output', 'unitSymbol': 'MW', 'unit': 'MegaWatts', 'measureValue': 1650}\n{'id': '6444cb80-0932-4032-928a-0855a5929d8f', 'dateTime': '2020-05-01 18:34:46', 'deviceId': 'dev-8', 'measureType': 'Rotation Speed', 'unitSymbol': 'RPM', 'unit': 'Revolutions per Minute', 'measureValue': 2793}\n{'id': 'a7287f62-51f1-4109-a147-aee0aa599128', 'dateTime': '2020-05-01 18:34:46', 'deviceId': 'dev-8', 'measureType': 'Output', 'unitSymbol': 'MW', 'unit': 'MegaWatts', 'measureValue': 1356}\n{'id': '96894fcd-0984-4d3a-b5b1-9bdd27faa12a', 'dateTime': '2020-05-01 18:34:46', 'deviceId': 'dev-9', 'measureType': 'Rotation Speed', 'unitSymbol': 'RPM', 'unit': 'Revolutions per Minute', 'measureValue': 2776}\n{'id': 'd1ff7250-fe1a-4d40-9688-0da44a695cbb', 'dateTime': '2020-05-01 18:34:46', 'deviceId': 'dev-9', 'measureType': 'Output', 'unitSymbol': 'MW', 'unit': 'MegaWatts', 'measureValue': 1466}\n{'id': '44f1a3f6-a20b-4701-868e-75ffe0607e33', 'dateTime': '2020-05-01 18:34:46', 'deviceId': 'dev-10', 'measureType': 'Rotation Speed', 'unitSymbol': 'RPM', 'unit': 'Revolutions per Minute', 'measureValue': 2808}\n{'id': '7ea0e4ad-c4b0-4d20-b004-f76a19daf104', 'dateTime': '2020-05-01 18:34:46', 'deviceId': 'dev-10', 'measureType': 'Output', 'unitSymbol': 'MW', 'unit': 'MegaWatts', 'measureValue': 1548}\n{'id': '24667e4e-3b4b-43af-afd3-e31ca9413b32', 'dateTime': '2020-05-01 18:34:47', 'deviceId': 'dev-1', 'measureType': 'Rotation Speed', 'unitSymbol': 'RPM', 'unit': 'Revolutions per Minute', 'measureValue': 2968}\n{'id': '83de414c-053b-4a7c-8531-7fb3a245f256', 'dateTime': '2020-05-01 18:34:47', 'deviceId': 'dev-1', 'measureType': 'Output', 'unitSymbol': 'MW', 'unit': 'MegaWatts', 'measureValue': 1553}\n{'id': '37f45c27-5aac-44c5-ac9e-a672848e6c2c', 'dateTime': '2020-05-01 18:34:47', 'deviceId': 'dev-2', 'measureType': 'Rotation Speed', 'unitSymbol': 'RPM', 'unit': 'Revolutions per Minute', 'measureValue': 2983}\n{'id': '2d55485e-d16f-48fc-8b18-5cecba57097c', 'dateTime': '2020-05-01 18:34:47', 'deviceId': 'dev-2', 'measureType': 'Output', 'unitSymbol': 'MW', 'unit': 'MegaWatts', 'measureValue': 1517}\n{'id': 'fb408846-931f-4be4-a029-31c2d2d34402', 'dateTime': '2020-05-01 18:34:47', 'deviceId': 'dev-3', 'measureType': 'Rotation Speed', 'unitSymbol': 'RPM', 'unit': 'Revolutions per Minute', 'measureValue': 2983}\n{'id': '80dec195-dc53-44cc-b87c-0e69254da132', 'dateTime': '2020-05-01 18:34:47', 'deviceId': 'dev-3', 'measureType': 'Output', 'unitSymbol': 'MW', 'unit': 'MegaWatts', 'measureValue': 1486}\n{'id': '63c6e2f1-4d88-4adf-87e7-f0c63e2f3d76', 'dateTime': '2020-05-01 18:34:47', 'deviceId': 'dev-4', 'measureType': 'Rotation Speed', 'unitSymbol': 'RPM', 'unit': 'Revolutions per Minute', 'measureValue': 3007}\n{'id': 'aeed961e-d557-4a92-9bf2-243063677f10', 'dateTime': '2020-05-01 18:34:47', 'deviceId': 'dev-4', 'measureType': 'Output', 'unitSymbol': 'MW', 'unit': 'MegaWatts', 'measureValue': 1402}\n{'id': 'd851648f-e54c-4f3a-9992-fdf9984470a4', 'dateTime': '2020-05-01 18:34:47', 'deviceId': 'dev-5', 'measureType': 'Rotation Speed', 'unitSymbol': 'RPM', 'unit': 'Revolutions per Minute', 'measureValue': 2746}\n{'id': '76e37ec6-bcf7-4877-9083-cb585bf82676', 'dateTime': '2020-05-01 18:34:47', 'deviceId': 'dev-5', 'measureType': 'Output', 'unitSymbol': 'MW', 'unit': 'MegaWatts', 'measureValue': 1430}\n{'id': 'f8fd493b-74ea-48c9-86ec-0e1e3c2a15c9', 'dateTime': '2020-05-01 18:34:47', 'deviceId': 'dev-6', 'measureType': 'Rotation Speed', 'unitSymbol': 'RPM', 'unit': 'Revolutions per Minute', 'measureValue': 2755}\n{'id': 'b2994dec-acd6-4565-a7f9-ccc756374a8f', 'dateTime': '2020-05-01 18:34:47', 'deviceId': 'dev-6', 'measureType': 'Output', 'unitSymbol': 'MW', 'unit': 'MegaWatts', 'measureValue': 1377}\n{'id': 'de146d16-a29b-4408-b897-16fe93b8bd12', 'dateTime': '2020-05-01 18:34:47', 'deviceId': 'dev-7', 'measureType': 'Rotation Speed', 'unitSymbol': 'RPM', 'unit': 'Revolutions per Minute', 'measureValue': 3189}\n{'id': 'f7123ee8-a02c-4031-8f06-a666a2de4415', 'dateTime': '2020-05-01 18:34:47', 'deviceId': 'dev-7', 'measureType': 'Output', 'unitSymbol': 'MW', 'unit': 'MegaWatts', 'measureValue': 1394}\n{'id': '2a595c56-1e52-42c6-b091-28ecce7acbaa', 'dateTime': '2020-05-01 18:34:47', 'deviceId': 'dev-8', 'measureType': 'Rotation Speed', 'unitSymbol': 'RPM', 'unit': 'Revolutions per Minute', 'measureValue': 2928}\n{'id': '2d1d698c-38a7-4d2b-91cc-5bd4208a9bdd', 'dateTime': '2020-05-01 18:34:47', 'deviceId': 'dev-8', 'measureType': 'Output', 'unitSymbol': 'MW', 'unit': 'MegaWatts', 'measureValue': 1357}\n{'id': '9ed42df0-ac82-4b7c-9047-d9a0454881b2', 'dateTime': '2020-05-01 18:34:47', 'deviceId': 'dev-9', 'measureType': 'Rotation Speed', 'unitSymbol': 'RPM', 'unit': 'Revolutions per Minute', 'measureValue': 2761}\n{'id': 'c0952a0f-0320-427b-80ac-e2115634b6a0', 'dateTime': '2020-05-01 18:34:47', 'deviceId': 'dev-9', 'measureType': 'Output', 'unitSymbol': 'MW', 'unit': 'MegaWatts', 'measureValue': 1438}\n{'id': '39544085-ede2-4860-8afe-d118fe023a52', 'dateTime': '2020-05-01 18:34:47', 'deviceId': 'dev-10', 'measureType': 'Rotation Speed', 'unitSymbol': 'RPM', 'unit': 'Revolutions per Minute', 'measureValue': 2753}\n{'id': '1ff10d2c-bf2e-44e1-a2e1-53809b11b853', 'dateTime': '2020-05-01 18:34:47', 'deviceId': 'dev-10', 'measureType': 'Output', 'unitSymbol': 'MW', 'unit': 'MegaWatts', 'measureValue': 1412}\n{'id': '6c5e7b2d-0ff4-4446-a586-2f55333b4b54', 'dateTime': '2020-05-01 18:34:48', 'deviceId': 'dev-1', 'measureType': 'Rotation Speed', 'unitSymbol': 'RPM', 'unit': 'Revolutions per Minute', 'measureValue': 3157}\n{'id': 'd530a8ff-6799-4898-8c3c-62ebc17bdfc9', 'dateTime': '2020-05-01 18:34:48', 'deviceId': 'dev-1', 'measureType': 'Output', 'unitSymbol': 'MW', 'unit': 'MegaWatts', 'measureValue': 1617}\n{'id': '4d5f9971-c15c-4228-b500-aadf89968bd5', 'dateTime': '2020-05-01 18:34:48', 'deviceId': 'dev-2', 'measureType': 'Rotation Speed', 'unitSymbol': 'RPM', 'unit': 'Revolutions per Minute', 'measureValue': 3234}\n{'id': '6ce005f4-3d42-4737-8761-10698ac98817', 'dateTime': '2020-05-01 18:34:48', 'deviceId': 'dev-2', 'measureType': 'Output', 'unitSymbol': 'MW', 'unit': 'MegaWatts', 'measureValue': 1529}\n{'id': '6c54d567-423b-4fcc-8117-280a40c58d36', 'dateTime': '2020-05-01 18:34:48', 'deviceId': 'dev-3', 'measureType': 'Rotation Speed', 'unitSymbol': 'RPM', 'unit': 'Revolutions per Minute', 'measureValue': 3240}\n{'id': '4c577905-f774-42d1-99d6-ee92dab70128', 'dateTime': '2020-05-01 18:34:48', 'deviceId': 'dev-3', 'measureType': 'Output', 'unitSymbol': 'MW', 'unit': 'MegaWatts', 'measureValue': 1488}\n{'id': 'ff7cbec7-cf51-4a0b-a519-1b75ec839c0f', 'dateTime': '2020-05-01 18:34:48', 'deviceId': 'dev-4', 'measureType': 'Rotation Speed', 'unitSymbol': 'RPM', 'unit': 'Revolutions per Minute', 'measureValue': 3155}\n{'id': '1d982497-291a-45e6-b350-af87e21d6403', 'dateTime': '2020-05-01 18:34:48', 'deviceId': 'dev-4', 'measureType': 'Output', 'unitSymbol': 'MW', 'unit': 'MegaWatts', 'measureValue': 1416}\n{'id': 'b507c2cf-0bf9-4e78-b9e9-c43dbec89861', 'dateTime': '2020-05-01 18:34:48', 'deviceId': 'dev-5', 'measureType': 'Rotation Speed', 'unitSymbol': 'RPM', 'unit': 'Revolutions per Minute', 'measureValue': 3257}\n{'id': 'b47274a5-e824-499d-a4b0-9e899730da05', 'dateTime': '2020-05-01 18:34:48', 'deviceId': 'dev-5', 'measureType': 'Output', 'unitSymbol': 'MW', 'unit': 'MegaWatts', 'measureValue': 1547}\n{'id': '00e0adcd-95a2-477f-a3c0-2d55707654cd', 'dateTime': '2020-05-01 18:34:48', 'deviceId': 'dev-6', 'measureType': 'Rotation Speed', 'unitSymbol': 'RPM', 'unit': 'Revolutions per Minute', 'measureValue': 2791}\n{'id': '30556e85-4c89-434d-a825-79d9df930e37', 'dateTime': '2020-05-01 18:34:48', 'deviceId': 'dev-6', 'measureType': 'Output', 'unitSymbol': 'MW', 'unit': 'MegaWatts', 'measureValue': 1564}\n{'id': '45681125-1c62-4639-a906-058189d35dab', 'dateTime': '2020-05-01 18:34:48', 'deviceId': 'dev-7', 'measureType': 'Rotation Speed', 'unitSymbol': 'RPM', 'unit': 'Revolutions per Minute', 'measureValue': 2947}\n{'id': 'f14c65e6-6dd0-4f01-a9a7-46b5a5e03f3f', 'dateTime': '2020-05-01 18:34:48', 'deviceId': 'dev-7', 'measureType': 'Output', 'unitSymbol': 'MW', 'unit': 'MegaWatts', 'measureValue': 1453}\n{'id': '5b753754-7f18-442b-a385-7dfb11add892', 'dateTime': '2020-05-01 18:34:48', 'deviceId': 'dev-8', 'measureType': 'Rotation Speed', 'unitSymbol': 'RPM', 'unit': 'Revolutions per Minute', 'measureValue': 3165}\n{'id': '444dda28-bd47-4dd2-ba0e-4598e259c4e9', 'dateTime': '2020-05-01 18:34:48', 'deviceId': 'dev-8', 'measureType': 'Output', 'unitSymbol': 'MW', 'unit': 'MegaWatts', 'measureValue': 1600}\n{'id': 'd7101bb6-3fa5-4ce6-bc7f-ebe6f1087094', 'dateTime': '2020-05-01 18:34:48', 'deviceId': 'dev-9', 'measureType': 'Rotation Speed', 'unitSymbol': 'RPM', 'unit': 'Revolutions per Minute', 'measureValue': 3283}\n{'id': 'f5d474b0-699c-44f2-8445-f23008c4facf', 'dateTime': '2020-05-01 18:34:48', 'deviceId': 'dev-9', 'measureType': 'Output', 'unitSymbol': 'MW', 'unit': 'MegaWatts', 'measureValue': 1598}\n{'id': '96d0c86e-019c-4b0c-aaa7-4e969bab5f4e', 'dateTime': '2020-05-01 18:34:48', 'deviceId': 'dev-10', 'measureType': 'Rotation Speed', 'unitSymbol': 'RPM', 'unit': 'Revolutions per Minute', 'measureValue': 2710}\n{'id': 'c922510f-2c63-4abc-b603-fc219e15d3a6', 'dateTime': '2020-05-01 18:34:48', 'deviceId': 'dev-10', 'measureType': 'Output', 'unitSymbol': 'MW', 'unit': 'MegaWatts', 'measureValue': 1590}\nOutlier: dev-1 Revolutions per Minute\n{'id': 'aabea21e-4c5c-4692-a22f-79f679fee42d', 'dateTime': '2020-05-01 18:34:49', 'deviceId': 'dev-1', 'measureType': 'Rotation Speed', 'unitSymbol': 'RPM', 'unit': 'Revolutions per Minute', 'measureValue': 4201}\nOutlier: dev-1 MegaWatts\n{'id': 'b8e1e009-dede-448a-8547-329e557cfbce', 'dateTime': '2020-05-01 18:34:49', 'deviceId': 'dev-1', 'measureType': 'Output', 'unitSymbol': 'MW', 'unit': 'MegaWatts', 'measureValue': 915}\nOutlier: dev-2 Revolutions per Minute\n{'id': '931e23fb-571a-45f3-9f9e-3bdcea797a8e', 'dateTime': '2020-05-01 18:34:49', 'deviceId': 'dev-2', 'measureType': 'Rotation Speed', 'unitSymbol': 'RPM', 'unit': 'Revolutions per Minute', 'measureValue': 4180}\nOutlier: dev-2 MegaWatts\n{'id': 'acd65f6e-bb1c-4cf3-826c-952566d6ca79', 'dateTime': '2020-05-01 18:34:49', 'deviceId': 'dev-2', 'measureType': 'Output', 'unitSymbol': 'MW', 'unit': 'MegaWatts', 'measureValue': 943}\nOutlier: dev-3 Revolutions per Minute\n{'id': 'a5b789f3-4263-48f8-954d-747fa3356233', 'dateTime': '2020-05-01 18:34:49', 'deviceId': 'dev-3', 'measureType': 'Rotation Speed', 'unitSymbol': 'RPM', 'unit': 'Revolutions per Minute', 'measureValue': 4317}\nOutlier: dev-3 MegaWatts\n{'id': '098b29b0-ac18-42dd-bd00-da8ea29b064b', 'dateTime': '2020-05-01 18:34:49', 'deviceId': 'dev-3', 'measureType': 'Output', 'unitSymbol': 'MW', 'unit': 'MegaWatts', 'measureValue': 924}\nOutlier: dev-4 Revolutions per Minute\n{'id': '6c1acdaf-83cb-49e4-b77f-1e4443b3997e', 'dateTime': '2020-05-01 18:34:49', 'deviceId': 'dev-4', 'measureType': 'Rotation Speed', 'unitSymbol': 'RPM', 'unit': 'Revolutions per Minute', 'measureValue': 4092}\nOutlier: dev-4 MegaWatts\n{'id': 'bdf579ad-542b-47ff-9c63-1cc93c9901a2', 'dateTime': '2020-05-01 18:34:49', 'deviceId': 'dev-4', 'measureType': 'Output', 'unitSymbol': 'MW', 'unit': 'MegaWatts', 'measureValue': 1026}\nOutlier: dev-5 Revolutions per Minute\n{'id': '5670a932-d20f-4da9-bebc-3a4b3d686182', 'dateTime': '2020-05-01 18:34:49', 'deviceId': 'dev-5', 'measureType': 'Rotation Speed', 'unitSymbol': 'RPM', 'unit': 'Revolutions per Minute', 'measureValue': 4138}\nOutlier: dev-5 MegaWatts\n{'id': '834a60e9-5420-44f6-af97-61a885e01f60', 'dateTime': '2020-05-01 18:34:49', 'deviceId': 'dev-5', 'measureType': 'Output', 'unitSymbol': 'MW', 'unit': 'MegaWatts', 'measureValue': 954}\nOutlier: dev-6 Revolutions per Minute\n{'id': '3cc1ee55-07a3-4f6e-9cbb-c20ce7d4606f', 'dateTime': '2020-05-01 18:34:49', 'deviceId': 'dev-6', 'measureType': 'Rotation Speed', 'unitSymbol': 'RPM', 'unit': 'Revolutions per Minute', 'measureValue': 4274}\nOutlier: dev-6 MegaWatts\n{'id': '0cae4a6b-69a0-4de3-85fb-c45e5a24ccd8', 'dateTime': '2020-05-01 18:34:49', 'deviceId': 'dev-6', 'measureType': 'Output', 'unitSymbol': 'MW', 'unit': 'MegaWatts', 'measureValue': 1003}\nOutlier: dev-7 Revolutions per Minute\n{'id': '14903c30-98db-4d7e-ba05-139d5d037aeb', 'dateTime': '2020-05-01 18:34:49', 'deviceId': 'dev-7', 'measureType': 'Rotation Speed', 'unitSymbol': 'RPM', 'unit': 'Revolutions per Minute', 'measureValue': 4195}\nOutlier: dev-7 MegaWatts\n{'id': '7d9bac86-2823-4969-8eba-ac8d0e84df35', 'dateTime': '2020-05-01 18:34:49', 'deviceId': 'dev-7', 'measureType': 'Output', 'unitSymbol': 'MW', 'unit': 'MegaWatts', 'measureValue': 1000}\nOutlier: dev-8 Revolutions per Minute\n{'id': 'bb16204b-3501-4524-bc26-db2c6410295a', 'dateTime': '2020-05-01 18:34:49', 'deviceId': 'dev-8', 'measureType': 'Rotation Speed', 'unitSymbol': 'RPM', 'unit': 'Revolutions per Minute', 'measureValue': 4138}\nOutlier: dev-8 MegaWatts\n{'id': 'bd56f489-8c04-4e4c-aed7-279b7cacba8e', 'dateTime': '2020-05-01 18:34:49', 'deviceId': 'dev-8', 'measureType': 'Output', 'unitSymbol': 'MW', 'unit': 'MegaWatts', 'measureValue': 973}\nOutlier: dev-9 Revolutions per Minute\n{'id': '43ab20cd-fad0-4fc9-8cf8-f9fdb19521c4', 'dateTime': '2020-05-01 18:34:49', 'deviceId': 'dev-9', 'measureType': 'Rotation Speed', 'unitSymbol': 'RPM', 'unit': 'Revolutions per Minute', 'measureValue': 4025}\nOutlier: dev-9 MegaWatts\n{'id': 'cd8d6ee8-ade4-4603-8ac4-442b6c6f3991', 'dateTime': '2020-05-01 18:34:49', 'deviceId': 'dev-9', 'measureType': 'Output', 'unitSymbol': 'MW', 'unit': 'MegaWatts', 'measureValue': 1025}\nOutlier: dev-10 Revolutions per Minute\n{'id': 'cd82bf26-d215-4a05-949a-d50cb98e99f0', 'dateTime': '2020-05-01 18:34:49', 'deviceId': 'dev-10', 'measureType': 'Rotation Speed', 'unitSymbol': 'RPM', 'unit': 'Revolutions per Minute', 'measureValue': 4388}\nOutlier: dev-10 MegaWatts\n{'id': '2b65676a-955a-44af-a71d-79471e04b04a', 'dateTime': '2020-05-01 18:34:49', 'deviceId': 'dev-10', 'measureType': 'Output', 'unitSymbol': 'MW', 'unit': 'MegaWatts', 'measureValue': 947}\n{'id': 'ec14c0f0-8904-4b05-8e95-e9c9e44cca09', 'dateTime': '2020-05-01 18:34:50', 'deviceId': 'dev-1', 'measureType': 'Rotation Speed', 'unitSymbol': 'RPM', 'unit': 'Revolutions per Minute', 'measureValue': 3276}\n{'id': '8b434301-24b3-4cab-96ac-121b42073e09', 'dateTime': '2020-05-01 18:34:51', 'deviceId': 'dev-1', 'measureType': 'Output', 'unitSymbol': 'MW', 'unit': 'MegaWatts', 'measureValue': 1440}\n{'id': 'c144468c-b69e-414d-b9a5-0ceb64267e1d', 'dateTime': '2020-05-01 18:34:51', 'deviceId': 'dev-2', 'measureType': 'Rotation Speed', 'unitSymbol': 'RPM', 'unit': 'Revolutions per Minute', 'measureValue': 2760}\n{'id': '594a781b-f023-4525-b23a-465d7b126122', 'dateTime': '2020-05-01 18:34:51', 'deviceId': 'dev-2', 'measureType': 'Output', 'unitSymbol': 'MW', 'unit': 'MegaWatts', 'measureValue': 1357}\n{'id': '9a698cdd-e111-4324-bbe7-3abd296c597b', 'dateTime': '2020-05-01 18:34:51', 'deviceId': 'dev-3', 'measureType': 'Rotation Speed', 'unitSymbol': 'RPM', 'unit': 'Revolutions per Minute', 'measureValue': 3005}\n{'id': '4f52d400-6c9a-4e2f-8ddf-f2cc3464d343', 'dateTime': '2020-05-01 18:34:51', 'deviceId': 'dev-3', 'measureType': 'Output', 'unitSymbol': 'MW', 'unit': 'MegaWatts', 'measureValue': 1465}\n{'id': '03ec60e6-c54b-4576-b7fb-1e25e767633a', 'dateTime': '2020-05-01 18:34:51', 'deviceId': 'dev-4', 'measureType': 'Rotation Speed', 'unitSymbol': 'RPM', 'unit': 'Revolutions per Minute', 'measureValue': 2764}\n{'id': '8c1e88d9-3af4-4e9b-8b3a-67992ce6076c', 'dateTime': '2020-05-01 18:34:51', 'deviceId': 'dev-4', 'measureType': 'Output', 'unitSymbol': 'MW', 'unit': 'MegaWatts', 'measureValue': 1382}\n{'id': '44c7928c-c266-4194-ae47-9117411d940b', 'dateTime': '2020-05-01 18:34:51', 'deviceId': 'dev-5', 'measureType': 'Rotation Speed', 'unitSymbol': 'RPM', 'unit': 'Revolutions per Minute', 'measureValue': 2734}\n{'id': '81888071-4419-4c47-bf8e-ebb5823fdebf', 'dateTime': '2020-05-01 18:34:51', 'deviceId': 'dev-5', 'measureType': 'Output', 'unitSymbol': 'MW', 'unit': 'MegaWatts', 'measureValue': 1535}\n{'id': 'cc32e5f8-52e5-4d58-9028-8fefef266ad3', 'dateTime': '2020-05-01 18:34:51', 'deviceId': 'dev-6', 'measureType': 'Rotation Speed', 'unitSymbol': 'RPM', 'unit': 'Revolutions per Minute', 'measureValue': 3248}\n{'id': '4f0d38af-bdb1-4569-9a22-b1b3f2db957e', 'dateTime': '2020-05-01 18:34:51', 'deviceId': 'dev-6', 'measureType': 'Output', 'unitSymbol': 'MW', 'unit': 'MegaWatts', 'measureValue': 1629}\n{'id': '708844ac-414c-4378-bb3b-b134331c8a8e', 'dateTime': '2020-05-01 18:34:51', 'deviceId': 'dev-7', 'measureType': 'Rotation Speed', 'unitSymbol': 'RPM', 'unit': 'Revolutions per Minute', 'measureValue': 2924}\n{'id': '2a8ae8f8-0b88-4c0c-a031-1780b1ec6fc3', 'dateTime': '2020-05-01 18:34:51', 'deviceId': 'dev-7', 'measureType': 'Output', 'unitSymbol': 'MW', 'unit': 'MegaWatts', 'measureValue': 1371}\n{'id': '3eedabf8-855d-481f-81aa-3e9231192a49', 'dateTime': '2020-05-01 18:34:51', 'deviceId': 'dev-8', 'measureType': 'Rotation Speed', 'unitSymbol': 'RPM', 'unit': 'Revolutions per Minute', 'measureValue': 2759}\n{'id': 'ef6c1d0f-f42f-45b4-8896-e04d0704a34e', 'dateTime': '2020-05-01 18:34:51', 'deviceId': 'dev-8', 'measureType': 'Output', 'unitSymbol': 'MW', 'unit': 'MegaWatts', 'measureValue': 1501}\n{'id': 'aa7848a8-989b-4b6f-a442-abc7b4c0768c', 'dateTime': '2020-05-01 18:34:51', 'deviceId': 'dev-9', 'measureType': 'Rotation Speed', 'unitSymbol': 'RPM', 'unit': 'Revolutions per Minute', 'measureValue': 2747}\n{'id': '4228dceb-582b-4722-b627-f0eee893163c', 'dateTime': '2020-05-01 18:34:51', 'deviceId': 'dev-9', 'measureType': 'Output', 'unitSymbol': 'MW', 'unit': 'MegaWatts', 'measureValue': 1385}\n{'id': '07f6399b-352a-4087-b6d6-704daddcc454', 'dateTime': '2020-05-01 18:34:51', 'deviceId': 'dev-10', 'measureType': 'Rotation Speed', 'unitSymbol': 'RPM', 'unit': 'Revolutions per Minute', 'measureValue': 3176}\n{'id': 'a846055e-e14a-4cbb-9276-54c8d866e14a', 'dateTime': '2020-05-01 18:34:51', 'deviceId': 'dev-10', 'measureType': 'Output', 'unitSymbol': 'MW', 'unit': 'MegaWatts', 'measureValue': 1469}\n{'id': '6079aa86-4ded-488c-aee5-cf9ab5116b2c', 'dateTime': '2020-05-01 18:34:52', 'deviceId': 'dev-1', 'measureType': 'Rotation Speed', 'unitSymbol': 'RPM', 'unit': 'Revolutions per Minute', 'measureValue': 2854}\n{'id': '094a1336-0c61-429f-9f40-049b7b62a784', 'dateTime': '2020-05-01 18:34:52', 'deviceId': 'dev-1', 'measureType': 'Output', 'unitSymbol': 'MW', 'unit': 'MegaWatts', 'measureValue': 1531}\n{'id': '2abd4c73-3fcc-4ca8-b9ba-adb6b88b9a46', 'dateTime': '2020-05-01 18:34:52', 'deviceId': 'dev-2', 'measureType': 'Rotation Speed', 'unitSymbol': 'RPM', 'unit': 'Revolutions per Minute', 'measureValue': 3005}\n{'id': '9daabe3e-561b-445d-80bb-40e7d353b437', 'dateTime': '2020-05-01 18:34:52', 'deviceId': 'dev-2', 'measureType': 'Output', 'unitSymbol': 'MW', 'unit': 'MegaWatts', 'measureValue': 1497}\n{'id': 'df6ac82d-2cfb-46ac-a8cd-278859722a03', 'dateTime': '2020-05-01 18:34:52', 'deviceId': 'dev-3', 'measureType': 'Rotation Speed', 'unitSymbol': 'RPM', 'unit': 'Revolutions per Minute', 'measureValue': 3079}\n{'id': 'a8dcdceb-5b2d-4f75-9b66-b5dce9e0f123', 'dateTime': '2020-05-01 18:34:52', 'deviceId': 'dev-3', 'measureType': 'Output', 'unitSymbol': 'MW', 'unit': 'MegaWatts', 'measureValue': 1437}\n{'id': 'e128a6a0-9133-4220-b5a7-ca6458c04b3b', 'dateTime': '2020-05-01 18:34:52', 'deviceId': 'dev-4', 'measureType': 'Rotation Speed', 'unitSymbol': 'RPM', 'unit': 'Revolutions per Minute', 'measureValue': 2726}\n{'id': '7dca5450-55cb-4352-b98d-6e3072273c34', 'dateTime': '2020-05-01 18:34:52', 'deviceId': 'dev-4', 'measureType': 'Output', 'unitSymbol': 'MW', 'unit': 'MegaWatts', 'measureValue': 1468}\n{'id': '6b071478-712f-4d6b-bf70-316329930d9c', 'dateTime': '2020-05-01 18:34:52', 'deviceId': 'dev-5', 'measureType': 'Rotation Speed', 'unitSymbol': 'RPM', 'unit': 'Revolutions per Minute', 'measureValue': 3066}\n{'id': '68a75647-e6fa-4a10-9d1f-b3a3f6b5089a', 'dateTime': '2020-05-01 18:34:52', 'deviceId': 'dev-5', 'measureType': 'Output', 'unitSymbol': 'MW', 'unit': 'MegaWatts', 'measureValue': 1396}\n{'id': '3a52d348-3a05-4269-8dfc-bab94a213c97', 'dateTime': '2020-05-01 18:34:52', 'deviceId': 'dev-6', 'measureType': 'Rotation Speed', 'unitSymbol': 'RPM', 'unit': 'Revolutions per Minute', 'measureValue': 3226}\n{'id': 'f99a12b6-97d6-4af9-9807-ae467fecef42', 'dateTime': '2020-05-01 18:34:52', 'deviceId': 'dev-6', 'measureType': 'Output', 'unitSymbol': 'MW', 'unit': 'MegaWatts', 'measureValue': 1600}\n{'id': '70483fa9-ea51-4dc5-b201-0724f1090c68', 'dateTime': '2020-05-01 18:34:52', 'deviceId': 'dev-7', 'measureType': 'Rotation Speed', 'unitSymbol': 'RPM', 'unit': 'Revolutions per Minute', 'measureValue': 2924}\n{'id': '630c5683-9295-4b7b-8c70-fc9afa3707fc', 'dateTime': '2020-05-01 18:34:52', 'deviceId': 'dev-7', 'measureType': 'Output', 'unitSymbol': 'MW', 'unit': 'MegaWatts', 'measureValue': 1539}\n{'id': '17e23498-32c9-4cc4-982c-e4cf53078f35', 'dateTime': '2020-05-01 18:34:52', 'deviceId': 'dev-8', 'measureType': 'Rotation Speed', 'unitSymbol': 'RPM', 'unit': 'Revolutions per Minute', 'measureValue': 2872}\n{'id': 'c241d5d4-f9b7-4e76-8e67-782471ba326f', 'dateTime': '2020-05-01 18:34:52', 'deviceId': 'dev-8', 'measureType': 'Output', 'unitSymbol': 'MW', 'unit': 'MegaWatts', 'measureValue': 1532}\n{'id': 'c0c7c0b5-58ee-4ece-8abd-8367a721c9bc', 'dateTime': '2020-05-01 18:34:52', 'deviceId': 'dev-9', 'measureType': 'Rotation Speed', 'unitSymbol': 'RPM', 'unit': 'Revolutions per Minute', 'measureValue': 3060}\n{'id': '40d1259b-17d5-40f9-b96b-f69bc3932e89', 'dateTime': '2020-05-01 18:34:52', 'deviceId': 'dev-9', 'measureType': 'Output', 'unitSymbol': 'MW', 'unit': 'MegaWatts', 'measureValue': 1471}\n{'id': '7553dfc3-2126-4620-a5a1-a69df3fe3a16', 'dateTime': '2020-05-01 18:34:52', 'deviceId': 'dev-10', 'measureType': 'Rotation Speed', 'unitSymbol': 'RPM', 'unit': 'Revolutions per Minute', 'measureValue': 2916}\n{'id': '9bf90eb2-4a73-4fe9-b0fb-84b228ca3908', 'dateTime': '2020-05-01 18:34:52', 'deviceId': 'dev-10', 'measureType': 'Output', 'unitSymbol': 'MW', 'unit': 'MegaWatts', 'measureValue': 1492}\n{'id': 'b096c359-de20-4df1-9e01-bad405aae156', 'dateTime': '2020-05-01 18:34:53', 'deviceId': 'dev-1', 'measureType': 'Rotation Speed', 'unitSymbol': 'RPM', 'unit': 'Revolutions per Minute', 'measureValue': 2730}\n{'id': '18dffafd-e47d-4adb-b58c-6f008c5eb2fd', 'dateTime': '2020-05-01 18:34:53', 'deviceId': 'dev-1', 'measureType': 'Output', 'unitSymbol': 'MW', 'unit': 'MegaWatts', 'measureValue': 1428}\n{'id': 'ed4cfd62-47df-435c-b567-ca6498a6026b', 'dateTime': '2020-05-01 18:34:53', 'deviceId': 'dev-2', 'measureType': 'Rotation Speed', 'unitSymbol': 'RPM', 'unit': 'Revolutions per Minute', 'measureValue': 2739}\n{'id': 'c7713a42-86de-44d4-b422-8dbdd27223b6', 'dateTime': '2020-05-01 18:34:53', 'deviceId': 'dev-2', 'measureType': 'Output', 'unitSymbol': 'MW', 'unit': 'MegaWatts', 'measureValue': 1439}\n{'id': '3313788b-feff-4c85-bb3c-29e59a4e7982', 'dateTime': '2020-05-01 18:34:53', 'deviceId': 'dev-3', 'measureType': 'Rotation Speed', 'unitSymbol': 'RPM', 'unit': 'Revolutions per Minute', 'measureValue': 3296}\n{'id': '40be1eea-2198-40c0-a6f1-c6154bf2d90f', 'dateTime': '2020-05-01 18:34:53', 'deviceId': 'dev-3', 'measureType': 'Output', 'unitSymbol': 'MW', 'unit': 'MegaWatts', 'measureValue': 1350}\n{'id': 'cacecc3e-493e-4517-a418-ba2ea2290372', 'dateTime': '2020-05-01 18:34:53', 'deviceId': 'dev-4', 'measureType': 'Rotation Speed', 'unitSymbol': 'RPM', 'unit': 'Revolutions per Minute', 'measureValue': 3201}\n{'id': '5a5a0480-0255-4010-9716-933a456a4ce2', 'dateTime': '2020-05-01 18:34:53', 'deviceId': 'dev-4', 'measureType': 'Output', 'unitSymbol': 'MW', 'unit': 'MegaWatts', 'measureValue': 1487}\n{'id': '4acab5aa-b790-4e6e-85a3-825ae228b42f', 'dateTime': '2020-05-01 18:34:53', 'deviceId': 'dev-5', 'measureType': 'Rotation Speed', 'unitSymbol': 'RPM', 'unit': 'Revolutions per Minute', 'measureValue': 3297}\n{'id': '781b87f0-e4f5-4880-b8ed-693542c90dde', 'dateTime': '2020-05-01 18:34:53', 'deviceId': 'dev-5', 'measureType': 'Output', 'unitSymbol': 'MW', 'unit': 'MegaWatts', 'measureValue': 1539}\n{'id': '81d5a715-0937-40ea-96ef-abf9ce1e43aa', 'dateTime': '2020-05-01 18:34:53', 'deviceId': 'dev-6', 'measureType': 'Rotation Speed', 'unitSymbol': 'RPM', 'unit': 'Revolutions per Minute', 'measureValue': 2891}\n{'id': '4bc19f6b-7200-436d-b542-f72ec8c43cd7', 'dateTime': '2020-05-01 18:34:53', 'deviceId': 'dev-6', 'measureType': 'Output', 'unitSymbol': 'MW', 'unit': 'MegaWatts', 'measureValue': 1517}\n{'id': 'a622345d-bc3e-4d73-8a7b-9d8335467d6d', 'dateTime': '2020-05-01 18:34:53', 'deviceId': 'dev-7', 'measureType': 'Rotation Speed', 'unitSymbol': 'RPM', 'unit': 'Revolutions per Minute', 'measureValue': 2920}\n{'id': '1064d8fb-a69f-4061-8ad5-4ae4cb9dbf19', 'dateTime': '2020-05-01 18:34:53', 'deviceId': 'dev-7', 'measureType': 'Output', 'unitSymbol': 'MW', 'unit': 'MegaWatts', 'measureValue': 1621}\n{'id': '153c9520-5486-4a2e-834a-d3e1445bd6f7', 'dateTime': '2020-05-01 18:34:53', 'deviceId': 'dev-8', 'measureType': 'Rotation Speed', 'unitSymbol': 'RPM', 'unit': 'Revolutions per Minute', 'measureValue': 2931}\n{'id': 'a66b0f22-04f1-4f98-83fb-34af2b6f8678', 'dateTime': '2020-05-01 18:34:53', 'deviceId': 'dev-8', 'measureType': 'Output', 'unitSymbol': 'MW', 'unit': 'MegaWatts', 'measureValue': 1515}\n{'id': '51c20130-6500-4717-af48-4d4366507441', 'dateTime': '2020-05-01 18:34:53', 'deviceId': 'dev-9', 'measureType': 'Rotation Speed', 'unitSymbol': 'RPM', 'unit': 'Revolutions per Minute', 'measureValue': 2740}\n{'id': 'fa6afd40-90cc-493a-994b-34f9d61b2452', 'dateTime': '2020-05-01 18:34:53', 'deviceId': 'dev-9', 'measureType': 'Output', 'unitSymbol': 'MW', 'unit': 'MegaWatts', 'measureValue': 1575}\n{'id': '06496a49-1cce-40bc-a755-401d9b5d942b', 'dateTime': '2020-05-01 18:34:53', 'deviceId': 'dev-10', 'measureType': 'Rotation Speed', 'unitSymbol': 'RPM', 'unit': 'Revolutions per Minute', 'measureValue': 2838}\n{'id': '49c91a11-4083-45ec-ab43-88f345d91188', 'dateTime': '2020-05-01 18:34:53', 'deviceId': 'dev-10', 'measureType': 'Output', 'unitSymbol': 'MW', 'unit': 'MegaWatts', 'measureValue': 1493}\n{'id': 'c13beaa8-99b9-4203-9750-705b266643cc', 'dateTime': '2020-05-01 18:34:54', 'deviceId': 'dev-1', 'measureType': 'Rotation Speed', 'unitSymbol': 'RPM', 'unit': 'Revolutions per Minute', 'measureValue': 2777}\n{'id': '4ca97431-ad32-46d4-a76d-5fef3adcc7bf', 'dateTime': '2020-05-01 18:34:54', 'deviceId': 'dev-1', 'measureType': 'Output', 'unitSymbol': 'MW', 'unit': 'MegaWatts', 'measureValue': 1578}\n{'id': 'b8179766-9827-4d29-941f-d2cbae75f3aa', 'dateTime': '2020-05-01 18:34:54', 'deviceId': 'dev-2', 'measureType': 'Rotation Speed', 'unitSymbol': 'RPM', 'unit': 'Revolutions per Minute', 'measureValue': 3157}\n{'id': 'ccf0a516-76ca-48bb-801c-52a98dd6c938', 'dateTime': '2020-05-01 18:34:54', 'deviceId': 'dev-2', 'measureType': 'Output', 'unitSymbol': 'MW', 'unit': 'MegaWatts', 'measureValue': 1400}\n{'id': 'f632e995-9ad5-4abc-9c8b-c2d3f3aaf2d5', 'dateTime': '2020-05-01 18:34:54', 'deviceId': 'dev-3', 'measureType': 'Rotation Speed', 'unitSymbol': 'RPM', 'unit': 'Revolutions per Minute', 'measureValue': 3152}\n{'id': '9827ba3f-05cf-4fa4-8144-8ba2c9b7e0de', 'dateTime': '2020-05-01 18:34:54', 'deviceId': 'dev-3', 'measureType': 'Output', 'unitSymbol': 'MW', 'unit': 'MegaWatts', 'measureValue': 1470}\n{'id': '94467144-9b32-48d4-9d4b-f892b2d13541', 'dateTime': '2020-05-01 18:34:54', 'deviceId': 'dev-4', 'measureType': 'Rotation Speed', 'unitSymbol': 'RPM', 'unit': 'Revolutions per Minute', 'measureValue': 2943}\n{'id': 'd26717b9-08c3-45fa-b302-042e860e7aef', 'dateTime': '2020-05-01 18:34:54', 'deviceId': 'dev-4', 'measureType': 'Output', 'unitSymbol': 'MW', 'unit': 'MegaWatts', 'measureValue': 1422}\n{'id': '6e20b8bf-9dcf-4870-971e-a92c2f1752e0', 'dateTime': '2020-05-01 18:34:54', 'deviceId': 'dev-5', 'measureType': 'Rotation Speed', 'unitSymbol': 'RPM', 'unit': 'Revolutions per Minute', 'measureValue': 3010}\n{'id': 'cc4f27c8-b0fa-49dc-87cb-5df79e7870ab', 'dateTime': '2020-05-01 18:34:54', 'deviceId': 'dev-5', 'measureType': 'Output', 'unitSymbol': 'MW', 'unit': 'MegaWatts', 'measureValue': 1530}\n{'id': 'b3632002-cef3-4674-8a94-b14b53c1578a', 'dateTime': '2020-05-01 18:34:54', 'deviceId': 'dev-6', 'measureType': 'Rotation Speed', 'unitSymbol': 'RPM', 'unit': 'Revolutions per Minute', 'measureValue': 2727}\n{'id': 'bfb0cdcc-028e-4dd4-aeba-653a7709becf', 'dateTime': '2020-05-01 18:34:54', 'deviceId': 'dev-6', 'measureType': 'Output', 'unitSymbol': 'MW', 'unit': 'MegaWatts', 'measureValue': 1565}\n{'id': 'c20ff04c-c5ca-43d4-9f89-0d0cbbd946fc', 'dateTime': '2020-05-01 18:34:54', 'deviceId': 'dev-7', 'measureType': 'Rotation Speed', 'unitSymbol': 'RPM', 'unit': 'Revolutions per Minute', 'measureValue': 2874}\n{'id': '6d0b4600-a374-4bf7-9f21-0e6009f8cb4f', 'dateTime': '2020-05-01 18:34:54', 'deviceId': 'dev-7', 'measureType': 'Output', 'unitSymbol': 'MW', 'unit': 'MegaWatts', 'measureValue': 1608}\n{'id': '05606d15-5e04-4f3f-b561-f5975b358ae7', 'dateTime': '2020-05-01 18:34:54', 'deviceId': 'dev-8', 'measureType': 'Rotation Speed', 'unitSymbol': 'RPM', 'unit': 'Revolutions per Minute', 'measureValue': 3018}\n{'id': '87c6f386-e1dd-4740-8010-511407cbdfc6', 'dateTime': '2020-05-01 18:34:54', 'deviceId': 'dev-8', 'measureType': 'Output', 'unitSymbol': 'MW', 'unit': 'MegaWatts', 'measureValue': 1603}\n{'id': '6e08d6e5-1acd-4cc3-9216-5ccb63b7578a', 'dateTime': '2020-05-01 18:34:54', 'deviceId': 'dev-9', 'measureType': 'Rotation Speed', 'unitSymbol': 'RPM', 'unit': 'Revolutions per Minute', 'measureValue': 2720}\n{'id': 'e7610e03-3932-42ff-8068-beff9e5ce2ac', 'dateTime': '2020-05-01 18:34:54', 'deviceId': 'dev-9', 'measureType': 'Output', 'unitSymbol': 'MW', 'unit': 'MegaWatts', 'measureValue': 1608}\n{'id': '80410cd2-a63d-4351-a395-d02cdc1d7202', 'dateTime': '2020-05-01 18:34:54', 'deviceId': 'dev-10', 'measureType': 'Rotation Speed', 'unitSymbol': 'RPM', 'unit': 'Revolutions per Minute', 'measureValue': 3100}\n{'id': '74cc56ae-47a4-437c-ab3f-5bdd37ad095b', 'dateTime': '2020-05-01 18:34:54', 'deviceId': 'dev-10', 'measureType': 'Output', 'unitSymbol': 'MW', 'unit': 'MegaWatts', 'measureValue': 1647}\n{'id': '7529517a-bcd2-4a3c-b5ae-b98d0474e697', 'dateTime': '2020-05-01 18:34:55', 'deviceId': 'dev-1', 'measureType': 'Rotation Speed', 'unitSymbol': 'RPM', 'unit': 'Revolutions per Minute', 'measureValue': 2766}\n{'id': '099187be-efcb-4161-af2c-0d7e30ced153', 'dateTime': '2020-05-01 18:34:55', 'deviceId': 'dev-1', 'measureType': 'Output', 'unitSymbol': 'MW', 'unit': 'MegaWatts', 'measureValue': 1507}\n{'id': '343dd105-eead-41ea-bcb5-031892b4261d', 'dateTime': '2020-05-01 18:34:55', 'deviceId': 'dev-2', 'measureType': 'Rotation Speed', 'unitSymbol': 'RPM', 'unit': 'Revolutions per Minute', 'measureValue': 2839}\n{'id': '6a231d8b-e28b-4dbd-836c-af62e23a3edc', 'dateTime': '2020-05-01 18:34:55', 'deviceId': 'dev-2', 'measureType': 'Output', 'unitSymbol': 'MW', 'unit': 'MegaWatts', 'measureValue': 1503}\n{'id': '23d3b723-798c-450e-a19a-03c9817974df', 'dateTime': '2020-05-01 18:34:55', 'deviceId': 'dev-3', 'measureType': 'Rotation Speed', 'unitSymbol': 'RPM', 'unit': 'Revolutions per Minute', 'measureValue': 3095}\n{'id': 'ca1f3532-9a16-4e30-a508-a3486f19d8e8', 'dateTime': '2020-05-01 18:34:55', 'deviceId': 'dev-3', 'measureType': 'Output', 'unitSymbol': 'MW', 'unit': 'MegaWatts', 'measureValue': 1577}\n{'id': 'a6fbdac2-f3da-405f-a114-6ab36c5e0a65', 'dateTime': '2020-05-01 18:34:55', 'deviceId': 'dev-4', 'measureType': 'Rotation Speed', 'unitSymbol': 'RPM', 'unit': 'Revolutions per Minute', 'measureValue': 3284}\n{'id': 'cc2597e7-0527-4508-8e48-9fa3a10aa789', 'dateTime': '2020-05-01 18:34:55', 'deviceId': 'dev-4', 'measureType': 'Output', 'unitSymbol': 'MW', 'unit': 'MegaWatts', 'measureValue': 1361}\n{'id': 'c326eedb-fc43-48ef-b08d-63cdfce2e223', 'dateTime': '2020-05-01 18:34:55', 'deviceId': 'dev-5', 'measureType': 'Rotation Speed', 'unitSymbol': 'RPM', 'unit': 'Revolutions per Minute', 'measureValue': 3183}\n{'id': '592e4ff3-6a49-4899-a9e6-302cdff2855f', 'dateTime': '2020-05-01 18:34:55', 'deviceId': 'dev-5', 'measureType': 'Output', 'unitSymbol': 'MW', 'unit': 'MegaWatts', 'measureValue': 1582}\n{'id': 'e75ffc21-e894-422c-868b-91904d4072e5', 'dateTime': '2020-05-01 18:34:55', 'deviceId': 'dev-6', 'measureType': 'Rotation Speed', 'unitSymbol': 'RPM', 'unit': 'Revolutions per Minute', 'measureValue': 2973}\n{'id': 'fb562c03-4567-4a4c-86d7-89663d3280d6', 'dateTime': '2020-05-01 18:34:55', 'deviceId': 'dev-6', 'measureType': 'Output', 'unitSymbol': 'MW', 'unit': 'MegaWatts', 'measureValue': 1614}\n{'id': 'f35875ec-34d6-4fe8-9b2e-51e139f747bb', 'dateTime': '2020-05-01 18:34:55', 'deviceId': 'dev-7', 'measureType': 'Rotation Speed', 'unitSymbol': 'RPM', 'unit': 'Revolutions per Minute', 'measureValue': 3289}\n{'id': '123c3a06-3951-439f-83c7-d5db80deb890', 'dateTime': '2020-05-01 18:34:55', 'deviceId': 'dev-7', 'measureType': 'Output', 'unitSymbol': 'MW', 'unit': 'MegaWatts', 'measureValue': 1566}\n{'id': '05afe4c5-229c-4ecf-b8c5-881397d6718a', 'dateTime': '2020-05-01 18:34:55', 'deviceId': 'dev-8', 'measureType': 'Rotation Speed', 'unitSymbol': 'RPM', 'unit': 'Revolutions per Minute', 'measureValue': 3101}\n{'id': '85df30ec-9c5b-40d8-97af-e4d4f057aebd', 'dateTime': '2020-05-01 18:34:55', 'deviceId': 'dev-8', 'measureType': 'Output', 'unitSymbol': 'MW', 'unit': 'MegaWatts', 'measureValue': 1496}\n{'id': '3c3dac68-4e35-4f4e-97f2-af9e628dc404', 'dateTime': '2020-05-01 18:34:55', 'deviceId': 'dev-9', 'measureType': 'Rotation Speed', 'unitSymbol': 'RPM', 'unit': 'Revolutions per Minute', 'measureValue': 2964}\n{'id': '86a2006b-e0f1-412e-99e5-c1eb596d32fa', 'dateTime': '2020-05-01 18:34:55', 'deviceId': 'dev-9', 'measureType': 'Output', 'unitSymbol': 'MW', 'unit': 'MegaWatts', 'measureValue': 1445}\n{'id': '50ea96c6-4531-4c04-b434-baf5f51d453f', 'dateTime': '2020-05-01 18:34:55', 'deviceId': 'dev-10', 'measureType': 'Rotation Speed', 'unitSymbol': 'RPM', 'unit': 'Revolutions per Minute', 'measureValue': 2779}\n{'id': '2c6f6962-3342-42ff-8278-fcf925a3d340', 'dateTime': '2020-05-01 18:34:55', 'deviceId': 'dev-10', 'measureType': 'Output', 'unitSymbol': 'MW', 'unit': 'MegaWatts', 'measureValue': 1529}\n{'id': 'fa2e14dc-8e79-43f1-8727-c9f988f45e48', 'dateTime': '2020-05-01 18:34:56', 'deviceId': 'dev-1', 'measureType': 'Rotation Speed', 'unitSymbol': 'RPM', 'unit': 'Revolutions per Minute', 'measureValue': 2877}\n{'id': 'a7aa2dd4-d0d6-47b9-8808-142554bcd704', 'dateTime': '2020-05-01 18:34:56', 'deviceId': 'dev-1', 'measureType': 'Output', 'unitSymbol': 'MW', 'unit': 'MegaWatts', 'measureValue': 1412}\n{'id': 'f7a7e47c-0d3c-4347-8689-ff7deadf1de0', 'dateTime': '2020-05-01 18:34:56', 'deviceId': 'dev-2', 'measureType': 'Rotation Speed', 'unitSymbol': 'RPM', 'unit': 'Revolutions per Minute', 'measureValue': 3150}\n{'id': '8c459828-c021-4220-8488-0e8627b5ff6c', 'dateTime': '2020-05-01 18:34:57', 'deviceId': 'dev-2', 'measureType': 'Output', 'unitSymbol': 'MW', 'unit': 'MegaWatts', 'measureValue': 1647}\n{'id': 'b1afb0bc-1fba-428b-a2a5-849115dbc4eb', 'dateTime': '2020-05-01 18:34:57', 'deviceId': 'dev-3', 'measureType': 'Rotation Speed', 'unitSymbol': 'RPM', 'unit': 'Revolutions per Minute', 'measureValue': 3138}\n{'id': 'fc49f7b2-c6ba-4fb2-b32b-192e7000ec44', 'dateTime': '2020-05-01 18:34:57', 'deviceId': 'dev-3', 'measureType': 'Output', 'unitSymbol': 'MW', 'unit': 'MegaWatts', 'measureValue': 1526}\n{'id': '8f05b90f-83f7-4262-93ed-778f11a44d60', 'dateTime': '2020-05-01 18:34:57', 'deviceId': 'dev-4', 'measureType': 'Rotation Speed', 'unitSymbol': 'RPM', 'unit': 'Revolutions per Minute', 'measureValue': 3078}\n{'id': '8131fcc7-0fa9-4912-8a00-3a590c1aeef9', 'dateTime': '2020-05-01 18:34:57', 'deviceId': 'dev-4', 'measureType': 'Output', 'unitSymbol': 'MW', 'unit': 'MegaWatts', 'measureValue': 1476}\n{'id': '391a9fd1-7cf8-4509-b120-4d37ad0daeeb', 'dateTime': '2020-05-01 18:34:57', 'deviceId': 'dev-5', 'measureType': 'Rotation Speed', 'unitSymbol': 'RPM', 'unit': 'Revolutions per Minute', 'measureValue': 2791}\n{'id': 'ac4712dd-cf94-4bea-9c5d-36f49e4dcd5c', 'dateTime': '2020-05-01 18:34:57', 'deviceId': 'dev-5', 'measureType': 'Output', 'unitSymbol': 'MW', 'unit': 'MegaWatts', 'measureValue': 1395}\n{'id': '3645ef74-2355-488d-ace9-795a16304631', 'dateTime': '2020-05-01 18:34:57', 'deviceId': 'dev-6', 'measureType': 'Rotation Speed', 'unitSymbol': 'RPM', 'unit': 'Revolutions per Minute', 'measureValue': 3137}\n{'id': '91fe52d3-8644-401a-83ad-daa28873e86e', 'dateTime': '2020-05-01 18:34:57', 'deviceId': 'dev-6', 'measureType': 'Output', 'unitSymbol': 'MW', 'unit': 'MegaWatts', 'measureValue': 1492}\n{'id': 'ed5ac166-ac88-48b1-ae26-1052785d05a5', 'dateTime': '2020-05-01 18:34:57', 'deviceId': 'dev-7', 'measureType': 'Rotation Speed', 'unitSymbol': 'RPM', 'unit': 'Revolutions per Minute', 'measureValue': 3092}\n{'id': '061e56d8-f77e-41f4-b3a6-de7cb2057f44', 'dateTime': '2020-05-01 18:34:57', 'deviceId': 'dev-7', 'measureType': 'Output', 'unitSymbol': 'MW', 'unit': 'MegaWatts', 'measureValue': 1390}\n{'id': '0b113428-5c79-45a4-a012-2e8f2528bf12', 'dateTime': '2020-05-01 18:34:57', 'deviceId': 'dev-8', 'measureType': 'Rotation Speed', 'unitSymbol': 'RPM', 'unit': 'Revolutions per Minute', 'measureValue': 2815}\n{'id': '38e61edd-c959-4916-9a75-6e4c723b4fbf', 'dateTime': '2020-05-01 18:34:57', 'deviceId': 'dev-8', 'measureType': 'Output', 'unitSymbol': 'MW', 'unit': 'MegaWatts', 'measureValue': 1533}\n{'id': 'cb555aa8-289a-41fa-a6e7-6e222dfb13e9', 'dateTime': '2020-05-01 18:34:57', 'deviceId': 'dev-9', 'measureType': 'Rotation Speed', 'unitSymbol': 'RPM', 'unit': 'Revolutions per Minute', 'measureValue': 3261}\n{'id': 'b20f653e-ea15-4cfd-bdbe-b3a22f36d841', 'dateTime': '2020-05-01 18:34:57', 'deviceId': 'dev-9', 'measureType': 'Output', 'unitSymbol': 'MW', 'unit': 'MegaWatts', 'measureValue': 1523}\n{'id': '53ec75ce-d916-4905-88d5-dab0943745b5', 'dateTime': '2020-05-01 18:34:57', 'deviceId': 'dev-10', 'measureType': 'Rotation Speed', 'unitSymbol': 'RPM', 'unit': 'Revolutions per Minute', 'measureValue': 3230}\n{'id': 'e0ec4b31-fdda-412a-b00c-bd12e4c92d29', 'dateTime': '2020-05-01 18:34:57', 'deviceId': 'dev-10', 'measureType': 'Output', 'unitSymbol': 'MW', 'unit': 'MegaWatts', 'measureValue': 1386}\n{'id': '6a9e130d-300a-4fbf-8a7c-7fb6eef1e4c0', 'dateTime': '2020-05-01 18:34:58', 'deviceId': 'dev-1', 'measureType': 'Rotation Speed', 'unitSymbol': 'RPM', 'unit': 'Revolutions per Minute', 'measureValue': 3251}\n{'id': 'f9682d47-a770-4e08-be41-d458a3971265', 'dateTime': '2020-05-01 18:34:58', 'deviceId': 'dev-1', 'measureType': 'Output', 'unitSymbol': 'MW', 'unit': 'MegaWatts', 'measureValue': 1478}\n{'id': 'b262b1c8-e508-4124-8926-a79721c61616', 'dateTime': '2020-05-01 18:34:58', 'deviceId': 'dev-2', 'measureType': 'Rotation Speed', 'unitSymbol': 'RPM', 'unit': 'Revolutions per Minute', 'measureValue': 2957}\n{'id': '52eebc31-efb3-4845-be3a-c3e0d1b8e581', 'dateTime': '2020-05-01 18:34:58', 'deviceId': 'dev-2', 'measureType': 'Output', 'unitSymbol': 'MW', 'unit': 'MegaWatts', 'measureValue': 1571}\n{'id': '7371e191-ed6b-4eab-b4d7-4d2c3833eb9e', 'dateTime': '2020-05-01 18:34:58', 'deviceId': 'dev-3', 'measureType': 'Rotation Speed', 'unitSymbol': 'RPM', 'unit': 'Revolutions per Minute', 'measureValue': 2909}\n{'id': '3be6467a-d0ab-4194-8efa-0ff790f0590c', 'dateTime': '2020-05-01 18:34:58', 'deviceId': 'dev-3', 'measureType': 'Output', 'unitSymbol': 'MW', 'unit': 'MegaWatts', 'measureValue': 1639}\n{'id': '646fc0bb-bb14-45ca-860e-5c1ba3afd5da', 'dateTime': '2020-05-01 18:34:58', 'deviceId': 'dev-4', 'measureType': 'Rotation Speed', 'unitSymbol': 'RPM', 'unit': 'Revolutions per Minute', 'measureValue': 3136}\n{'id': '007e4a96-864d-437f-b217-8026226b2f68', 'dateTime': '2020-05-01 18:34:58', 'deviceId': 'dev-4', 'measureType': 'Output', 'unitSymbol': 'MW', 'unit': 'MegaWatts', 'measureValue': 1436}\n{'id': '78b1ab92-4fe3-4b5a-83ca-18c60162ec9f', 'dateTime': '2020-05-01 18:34:58', 'deviceId': 'dev-5', 'measureType': 'Rotation Speed', 'unitSymbol': 'RPM', 'unit': 'Revolutions per Minute', 'measureValue': 2938}\n{'id': '13f33bc3-ceeb-4f5f-8c70-8ce3dca25cef', 'dateTime': '2020-05-01 18:34:58', 'deviceId': 'dev-5', 'measureType': 'Output', 'unitSymbol': 'MW', 'unit': 'MegaWatts', 'measureValue': 1562}\n{'id': 'acfbbdbe-abe9-4e48-844d-6d90d9164d2b', 'dateTime': '2020-05-01 18:34:58', 'deviceId': 'dev-6', 'measureType': 'Rotation Speed', 'unitSymbol': 'RPM', 'unit': 'Revolutions per Minute', 'measureValue': 3024}\n{'id': 'f577fde2-93d8-4fa2-8a8a-858623ed1b7c', 'dateTime': '2020-05-01 18:34:58', 'deviceId': 'dev-6', 'measureType': 'Output', 'unitSymbol': 'MW', 'unit': 'MegaWatts', 'measureValue': 1530}\n{'id': '507e7cca-d05f-4923-849a-ba7641542c09', 'dateTime': '2020-05-01 18:34:58', 'deviceId': 'dev-7', 'measureType': 'Rotation Speed', 'unitSymbol': 'RPM', 'unit': 'Revolutions per Minute', 'measureValue': 3195}\n{'id': 'c7bbe5bd-6877-4e1c-896d-fa898cadc75a', 'dateTime': '2020-05-01 18:34:58', 'deviceId': 'dev-7', 'measureType': 'Output', 'unitSymbol': 'MW', 'unit': 'MegaWatts', 'measureValue': 1442}\n{'id': '6cac5380-bf6b-4d47-8eae-185504c8824a', 'dateTime': '2020-05-01 18:34:58', 'deviceId': 'dev-8', 'measureType': 'Rotation Speed', 'unitSymbol': 'RPM', 'unit': 'Revolutions per Minute', 'measureValue': 2813}\n{'id': '8ee79982-6a44-4b31-a1c9-a11a1f7acde9', 'dateTime': '2020-05-01 18:34:58', 'deviceId': 'dev-8', 'measureType': 'Output', 'unitSymbol': 'MW', 'unit': 'MegaWatts', 'measureValue': 1554}\n{'id': 'c6703f04-7ec6-4b24-b43d-ace781545c6e', 'dateTime': '2020-05-01 18:34:58', 'deviceId': 'dev-9', 'measureType': 'Rotation Speed', 'unitSymbol': 'RPM', 'unit': 'Revolutions per Minute', 'measureValue': 3252}\n{'id': '3226ebc5-1b27-42f9-9351-d973e260af1a', 'dateTime': '2020-05-01 18:34:58', 'deviceId': 'dev-9', 'measureType': 'Output', 'unitSymbol': 'MW', 'unit': 'MegaWatts', 'measureValue': 1618}\n{'id': '2a6f5d27-fab6-42d3-bf85-52095b1ca3e3', 'dateTime': '2020-05-01 18:34:58', 'deviceId': 'dev-10', 'measureType': 'Rotation Speed', 'unitSymbol': 'RPM', 'unit': 'Revolutions per Minute', 'measureValue': 3242}\n{'id': 'a5f1dcf7-ce9d-4b60-9231-65acc4c2148a', 'dateTime': '2020-05-01 18:34:58', 'deviceId': 'dev-10', 'measureType': 'Output', 'unitSymbol': 'MW', 'unit': 'MegaWatts', 'measureValue': 1555}\n{'id': '72a73742-9985-487f-8846-7c3cc768294d', 'dateTime': '2020-05-01 18:34:59', 'deviceId': 'dev-1', 'measureType': 'Rotation Speed', 'unitSymbol': 'RPM', 'unit': 'Revolutions per Minute', 'measureValue': 2790}\n{'id': 'c2eb2c34-30ee-4e32-9c0c-edc222013be5', 'dateTime': '2020-05-01 18:34:59', 'deviceId': 'dev-1', 'measureType': 'Output', 'unitSymbol': 'MW', 'unit': 'MegaWatts', 'measureValue': 1381}\n{'id': '9b7ffc20-b3d0-4838-9099-595ef7625867', 'dateTime': '2020-05-01 18:34:59', 'deviceId': 'dev-2', 'measureType': 'Rotation Speed', 'unitSymbol': 'RPM', 'unit': 'Revolutions per Minute', 'measureValue': 2750}\n{'id': '0c6a0c91-43b7-449e-b795-9f8ad6c0f210', 'dateTime': '2020-05-01 18:34:59', 'deviceId': 'dev-2', 'measureType': 'Output', 'unitSymbol': 'MW', 'unit': 'MegaWatts', 'measureValue': 1621}\n{'id': '7099302c-bed8-4bbc-9616-b70e9282a77a', 'dateTime': '2020-05-01 18:34:59', 'deviceId': 'dev-3', 'measureType': 'Rotation Speed', 'unitSymbol': 'RPM', 'unit': 'Revolutions per Minute', 'measureValue': 3213}\n{'id': 'cab0a987-bfb5-4f3b-a849-998eed3d81f5', 'dateTime': '2020-05-01 18:34:59', 'deviceId': 'dev-3', 'measureType': 'Output', 'unitSymbol': 'MW', 'unit': 'MegaWatts', 'measureValue': 1350}\n{'id': '16725e60-06fe-402b-b99b-3ab805dd71ce', 'dateTime': '2020-05-01 18:34:59', 'deviceId': 'dev-4', 'measureType': 'Rotation Speed', 'unitSymbol': 'RPM', 'unit': 'Revolutions per Minute', 'measureValue': 2789}\n{'id': '04e3a174-c7b6-4029-8e44-d4491c99174a', 'dateTime': '2020-05-01 18:34:59', 'deviceId': 'dev-4', 'measureType': 'Output', 'unitSymbol': 'MW', 'unit': 'MegaWatts', 'measureValue': 1645}\n{'id': 'c08ef838-23a6-4b3d-b82f-e622061b1d4d', 'dateTime': '2020-05-01 18:34:59', 'deviceId': 'dev-5', 'measureType': 'Rotation Speed', 'unitSymbol': 'RPM', 'unit': 'Revolutions per Minute', 'measureValue': 3064}\n{'id': 'a3416102-5ef7-46d3-9f67-cdf9aeebcc45', 'dateTime': '2020-05-01 18:34:59', 'deviceId': 'dev-5', 'measureType': 'Output', 'unitSymbol': 'MW', 'unit': 'MegaWatts', 'measureValue': 1406}\n{'id': '90ca6056-2bbc-45d4-a479-6eea564390fe', 'dateTime': '2020-05-01 18:34:59', 'deviceId': 'dev-6', 'measureType': 'Rotation Speed', 'unitSymbol': 'RPM', 'unit': 'Revolutions per Minute', 'measureValue': 3000}\n{'id': '0fc11148-c73a-46c6-9b38-5356df7d48ab', 'dateTime': '2020-05-01 18:34:59', 'deviceId': 'dev-6', 'measureType': 'Output', 'unitSymbol': 'MW', 'unit': 'MegaWatts', 'measureValue': 1610}\n{'id': '43f5a803-a7a8-4da5-9c74-71c039da60bc', 'dateTime': '2020-05-01 18:34:59', 'deviceId': 'dev-7', 'measureType': 'Rotation Speed', 'unitSymbol': 'RPM', 'unit': 'Revolutions per Minute', 'measureValue': 3115}\n{'id': '2a7b0348-3cc9-447a-b4fa-b29a7edeeb21', 'dateTime': '2020-05-01 18:34:59', 'deviceId': 'dev-7', 'measureType': 'Output', 'unitSymbol': 'MW', 'unit': 'MegaWatts', 'measureValue': 1500}\n{'id': '766b54d7-d4e6-46d3-bb85-d3196821e697', 'dateTime': '2020-05-01 18:34:59', 'deviceId': 'dev-8', 'measureType': 'Rotation Speed', 'unitSymbol': 'RPM', 'unit': 'Revolutions per Minute', 'measureValue': 2756}\n{'id': 'b367affc-6fbb-4eef-8a61-69f6e8065beb', 'dateTime': '2020-05-01 18:34:59', 'deviceId': 'dev-8', 'measureType': 'Output', 'unitSymbol': 'MW', 'unit': 'MegaWatts', 'measureValue': 1415}\n{'id': 'd4824f05-6eff-4165-bba5-f023c9944f22', 'dateTime': '2020-05-01 18:34:59', 'deviceId': 'dev-9', 'measureType': 'Rotation Speed', 'unitSymbol': 'RPM', 'unit': 'Revolutions per Minute', 'measureValue': 2903}\n{'id': '9d22b33d-755b-4933-9e9f-fd210c80da63', 'dateTime': '2020-05-01 18:34:59', 'deviceId': 'dev-9', 'measureType': 'Output', 'unitSymbol': 'MW', 'unit': 'MegaWatts', 'measureValue': 1550}\n{'id': '32cfd958-7dc2-4e21-8947-3ae586c62bf1', 'dateTime': '2020-05-01 18:34:59', 'deviceId': 'dev-10', 'measureType': 'Rotation Speed', 'unitSymbol': 'RPM', 'unit': 'Revolutions per Minute', 'measureValue': 2784}\n{'id': 'b8775b7e-cf37-4b47-b59a-1a95d3dba4c5', 'dateTime': '2020-05-01 18:34:59', 'deviceId': 'dev-10', 'measureType': 'Output', 'unitSymbol': 'MW', 'unit': 'MegaWatts', 'measureValue': 1441}\n{'id': '568b86b3-e022-4ef4-8dbc-d0ff2db3f510', 'dateTime': '2020-05-01 18:35:00', 'deviceId': 'dev-1', 'measureType': 'Rotation Speed', 'unitSymbol': 'RPM', 'unit': 'Revolutions per Minute', 'measureValue': 2852}\n{'id': 'f3fc814b-1621-4f85-a68e-2ba0b3e32d43', 'dateTime': '2020-05-01 18:35:00', 'deviceId': 'dev-1', 'measureType': 'Output', 'unitSymbol': 'MW', 'unit': 'MegaWatts', 'measureValue': 1551}\n{'id': 'ee665afb-a332-4e08-8abd-01171505a954', 'dateTime': '2020-05-01 18:35:00', 'deviceId': 'dev-2', 'measureType': 'Rotation Speed', 'unitSymbol': 'RPM', 'unit': 'Revolutions per Minute', 'measureValue': 3176}\n{'id': '74ac40a1-01db-4a98-8d48-d131bc2032c3', 'dateTime': '2020-05-01 18:35:00', 'deviceId': 'dev-2', 'measureType': 'Output', 'unitSymbol': 'MW', 'unit': 'MegaWatts', 'measureValue': 1386}\n{'id': 'f3f3dfc6-c69e-4239-a94a-2b853d02af5a', 'dateTime': '2020-05-01 18:35:00', 'deviceId': 'dev-3', 'measureType': 'Rotation Speed', 'unitSymbol': 'RPM', 'unit': 'Revolutions per Minute', 'measureValue': 3074}\n{'id': 'b62c50ec-a9dc-402b-9846-500975d3e8d0', 'dateTime': '2020-05-01 18:35:00', 'deviceId': 'dev-3', 'measureType': 'Output', 'unitSymbol': 'MW', 'unit': 'MegaWatts', 'measureValue': 1637}\n{'id': '63bb7430-f1ef-49fc-8511-631b9eb02b64', 'dateTime': '2020-05-01 18:35:00', 'deviceId': 'dev-4', 'measureType': 'Rotation Speed', 'unitSymbol': 'RPM', 'unit': 'Revolutions per Minute', 'measureValue': 3134}\n{'id': 'e2d43ce4-f388-4264-81b4-ac5eecce7788', 'dateTime': '2020-05-01 18:35:00', 'deviceId': 'dev-4', 'measureType': 'Output', 'unitSymbol': 'MW', 'unit': 'MegaWatts', 'measureValue': 1635}\n{'id': '25510364-9c36-46a5-84d7-dfe0f12860aa', 'dateTime': '2020-05-01 18:35:00', 'deviceId': 'dev-5', 'measureType': 'Rotation Speed', 'unitSymbol': 'RPM', 'unit': 'Revolutions per Minute', 'measureValue': 3007}\n{'id': 'a7e15e6a-f365-49e3-b447-eb8c08ad92b0', 'dateTime': '2020-05-01 18:35:00', 'deviceId': 'dev-5', 'measureType': 'Output', 'unitSymbol': 'MW', 'unit': 'MegaWatts', 'measureValue': 1508}\n{'id': '4428f7e5-d2ec-4952-8012-115ce3df4118', 'dateTime': '2020-05-01 18:35:00', 'deviceId': 'dev-6', 'measureType': 'Rotation Speed', 'unitSymbol': 'RPM', 'unit': 'Revolutions per Minute', 'measureValue': 2865}\n{'id': 'b22ec0f0-45a6-4757-a15e-7894d5d12f01', 'dateTime': '2020-05-01 18:35:00', 'deviceId': 'dev-6', 'measureType': 'Output', 'unitSymbol': 'MW', 'unit': 'MegaWatts', 'measureValue': 1374}\n{'id': 'd8c4b31d-728e-4f11-9904-d3bc180690b4', 'dateTime': '2020-05-01 18:35:00', 'deviceId': 'dev-7', 'measureType': 'Rotation Speed', 'unitSymbol': 'RPM', 'unit': 'Revolutions per Minute', 'measureValue': 3274}\n{'id': 'e602df72-4e8d-422a-b3ca-e3d0d79f2a1f', 'dateTime': '2020-05-01 18:35:00', 'deviceId': 'dev-7', 'measureType': 'Output', 'unitSymbol': 'MW', 'unit': 'MegaWatts', 'measureValue': 1500}\n{'id': '7fa5a910-66ae-4c94-b93e-de96a79e255c', 'dateTime': '2020-05-01 18:35:00', 'deviceId': 'dev-8', 'measureType': 'Rotation Speed', 'unitSymbol': 'RPM', 'unit': 'Revolutions per Minute', 'measureValue': 3273}\n{'id': '6262737d-91c5-4707-82d9-4896b68e5539', 'dateTime': '2020-05-01 18:35:00', 'deviceId': 'dev-8', 'measureType': 'Output', 'unitSymbol': 'MW', 'unit': 'MegaWatts', 'measureValue': 1499}\n{'id': '1dc0c24a-454f-4359-a15e-2489682dc991', 'dateTime': '2020-05-01 18:35:00', 'deviceId': 'dev-9', 'measureType': 'Rotation Speed', 'unitSymbol': 'RPM', 'unit': 'Revolutions per Minute', 'measureValue': 2730}\n{'id': '9796aab9-7d28-4b46-abd1-d16d5111ab23', 'dateTime': '2020-05-01 18:35:00', 'deviceId': 'dev-9', 'measureType': 'Output', 'unitSymbol': 'MW', 'unit': 'MegaWatts', 'measureValue': 1537}\n{'id': '5e71fc54-0dbb-40fe-9b39-2969a7b5b76c', 'dateTime': '2020-05-01 18:35:00', 'deviceId': 'dev-10', 'measureType': 'Rotation Speed', 'unitSymbol': 'RPM', 'unit': 'Revolutions per Minute', 'measureValue': 2783}\n{'id': '70f6d26e-ce3a-4a69-8594-10a1f9dcb2dd', 'dateTime': '2020-05-01 18:35:00', 'deviceId': 'dev-10', 'measureType': 'Output', 'unitSymbol': 'MW', 'unit': 'MegaWatts', 'measureValue': 1444}\n{'id': 'fb27f91a-a1d0-4d65-a71b-1ed3f5c4a747', 'dateTime': '2020-05-01 18:35:01', 'deviceId': 'dev-1', 'measureType': 'Rotation Speed', 'unitSymbol': 'RPM', 'unit': 'Revolutions per Minute', 'measureValue': 2879}\n{'id': '98b5b0f7-1a20-4f2d-8d20-7bf470b623a0', 'dateTime': '2020-05-01 18:35:01', 'deviceId': 'dev-1', 'measureType': 'Output', 'unitSymbol': 'MW', 'unit': 'MegaWatts', 'measureValue': 1649}\n{'id': '0d81c66c-7d52-48a0-808f-393a0953ed59', 'dateTime': '2020-05-01 18:35:01', 'deviceId': 'dev-2', 'measureType': 'Rotation Speed', 'unitSymbol': 'RPM', 'unit': 'Revolutions per Minute', 'measureValue': 3109}\n{'id': '657251d1-624a-413b-b684-78c5fdc9a774', 'dateTime': '2020-05-01 18:35:01', 'deviceId': 'dev-2', 'measureType': 'Output', 'unitSymbol': 'MW', 'unit': 'MegaWatts', 'measureValue': 1447}\n{'id': 'f4aa1d66-353c-429b-88d5-afef4908eea1', 'dateTime': '2020-05-01 18:35:01', 'deviceId': 'dev-3', 'measureType': 'Rotation Speed', 'unitSymbol': 'RPM', 'unit': 'Revolutions per Minute', 'measureValue': 3293}\n{'id': 'c5bbd73e-dbf3-41eb-8fc1-4b9eb4a8f852', 'dateTime': '2020-05-01 18:35:01', 'deviceId': 'dev-3', 'measureType': 'Output', 'unitSymbol': 'MW', 'unit': 'MegaWatts', 'measureValue': 1435}\n{'id': '5b27a2b3-ecb4-49eb-943a-396662875fca', 'dateTime': '2020-05-01 18:35:01', 'deviceId': 'dev-4', 'measureType': 'Rotation Speed', 'unitSymbol': 'RPM', 'unit': 'Revolutions per Minute', 'measureValue': 2880}\n{'id': 'a583f444-2d0d-4dbd-9998-e4cbb48819ec', 'dateTime': '2020-05-01 18:35:01', 'deviceId': 'dev-4', 'measureType': 'Output', 'unitSymbol': 'MW', 'unit': 'MegaWatts', 'measureValue': 1478}\n{'id': '2a436509-c3f9-4460-96ef-82a71067b0c9', 'dateTime': '2020-05-01 18:35:01', 'deviceId': 'dev-5', 'measureType': 'Rotation Speed', 'unitSymbol': 'RPM', 'unit': 'Revolutions per Minute', 'measureValue': 3237}\n{'id': 'f5d6e9fd-5cf9-416f-a934-380eb5f13000', 'dateTime': '2020-05-01 18:35:01', 'deviceId': 'dev-5', 'measureType': 'Output', 'unitSymbol': 'MW', 'unit': 'MegaWatts', 'measureValue': 1425}\n{'id': '6ef2ecbc-2194-4b2e-91ce-ff6ff48d0ece', 'dateTime': '2020-05-01 18:35:01', 'deviceId': 'dev-6', 'measureType': 'Rotation Speed', 'unitSymbol': 'RPM', 'unit': 'Revolutions per Minute', 'measureValue': 2788}\n{'id': '48821acc-e639-4624-b851-43c87a66f882', 'dateTime': '2020-05-01 18:35:01', 'deviceId': 'dev-6', 'measureType': 'Output', 'unitSymbol': 'MW', 'unit': 'MegaWatts', 'measureValue': 1446}\n{'id': 'adbe45bd-ed9a-486a-a9cf-6734c7a517d5', 'dateTime': '2020-05-01 18:35:01', 'deviceId': 'dev-7', 'measureType': 'Rotation Speed', 'unitSymbol': 'RPM', 'unit': 'Revolutions per Minute', 'measureValue': 3005}\n{'id': '62b41b51-eb69-4da7-9ed6-b83708e32b7c', 'dateTime': '2020-05-01 18:35:01', 'deviceId': 'dev-7', 'measureType': 'Output', 'unitSymbol': 'MW', 'unit': 'MegaWatts', 'measureValue': 1591}\n{'id': 'b8d46152-1c16-4e22-8095-4068728a19bf', 'dateTime': '2020-05-01 18:35:01', 'deviceId': 'dev-8', 'measureType': 'Rotation Speed', 'unitSymbol': 'RPM', 'unit': 'Revolutions per Minute', 'measureValue': 3211}\n{'id': '7152d421-d6ec-4ce5-aa0a-a037715d5c9a', 'dateTime': '2020-05-01 18:35:01', 'deviceId': 'dev-8', 'measureType': 'Output', 'unitSymbol': 'MW', 'unit': 'MegaWatts', 'measureValue': 1385}\n{'id': 'b2c070ea-53f2-46a2-ad2a-749599d93d19', 'dateTime': '2020-05-01 18:35:01', 'deviceId': 'dev-9', 'measureType': 'Rotation Speed', 'unitSymbol': 'RPM', 'unit': 'Revolutions per Minute', 'measureValue': 2993}\n{'id': 'a0546206-5a65-47b9-9317-92fd4d123312', 'dateTime': '2020-05-01 18:35:01', 'deviceId': 'dev-9', 'measureType': 'Output', 'unitSymbol': 'MW', 'unit': 'MegaWatts', 'measureValue': 1479}\n{'id': 'ccdd011d-bf2a-498f-b251-179d9d9ccbc2', 'dateTime': '2020-05-01 18:35:01', 'deviceId': 'dev-10', 'measureType': 'Rotation Speed', 'unitSymbol': 'RPM', 'unit': 'Revolutions per Minute', 'measureValue': 2862}\n{'id': 'a2406832-b453-4d13-bf40-be42723ea7f1', 'dateTime': '2020-05-01 18:35:01', 'deviceId': 'dev-10', 'measureType': 'Output', 'unitSymbol': 'MW', 'unit': 'MegaWatts', 'measureValue': 1536}\n{'id': '0f7fbd32-1085-4410-957f-1fe6b022032a', 'dateTime': '2020-05-01 18:35:02', 'deviceId': 'dev-1', 'measureType': 'Rotation Speed', 'unitSymbol': 'RPM', 'unit': 'Revolutions per Minute', 'measureValue': 3186}\n{'id': '7c032eb7-2869-43fa-9b92-e27d37fc2e8d', 'dateTime': '2020-05-01 18:35:02', 'deviceId': 'dev-1', 'measureType': 'Output', 'unitSymbol': 'MW', 'unit': 'MegaWatts', 'measureValue': 1507}\n{'id': '15650f26-69c0-4c02-ad82-b23943e923c0', 'dateTime': '2020-05-01 18:35:02', 'deviceId': 'dev-2', 'measureType': 'Rotation Speed', 'unitSymbol': 'RPM', 'unit': 'Revolutions per Minute', 'measureValue': 3226}\n{'id': '178179f9-905c-4736-b4f2-07d005153ca6', 'dateTime': '2020-05-01 18:35:02', 'deviceId': 'dev-2', 'measureType': 'Output', 'unitSymbol': 'MW', 'unit': 'MegaWatts', 'measureValue': 1625}\n{'id': 'aeb24e51-e91c-4a77-a18b-5ab028f1030f', 'dateTime': '2020-05-01 18:35:02', 'deviceId': 'dev-3', 'measureType': 'Rotation Speed', 'unitSymbol': 'RPM', 'unit': 'Revolutions per Minute', 'measureValue': 2981}\n{'id': 'd978ca69-4b65-42ce-a99c-0baa26625ece', 'dateTime': '2020-05-01 18:35:02', 'deviceId': 'dev-3', 'measureType': 'Output', 'unitSymbol': 'MW', 'unit': 'MegaWatts', 'measureValue': 1367}\n{'id': '312d3ccf-b1c9-4c17-9ce8-20c91007f323', 'dateTime': '2020-05-01 18:35:03', 'deviceId': 'dev-4', 'measureType': 'Rotation Speed', 'unitSymbol': 'RPM', 'unit': 'Revolutions per Minute', 'measureValue': 3112}\n{'id': '6cff78df-c2bf-4f0c-9382-dc143928ea8b', 'dateTime': '2020-05-01 18:35:03', 'deviceId': 'dev-4', 'measureType': 'Output', 'unitSymbol': 'MW', 'unit': 'MegaWatts', 'measureValue': 1483}\n{'id': '369443d0-9451-488e-ad06-6f6837049b3f', 'dateTime': '2020-05-01 18:35:03', 'deviceId': 'dev-5', 'measureType': 'Rotation Speed', 'unitSymbol': 'RPM', 'unit': 'Revolutions per Minute', 'measureValue': 3253}\n{'id': 'e8b1baa2-fed4-4873-a63c-5789524c2915', 'dateTime': '2020-05-01 18:35:03', 'deviceId': 'dev-5', 'measureType': 'Output', 'unitSymbol': 'MW', 'unit': 'MegaWatts', 'measureValue': 1630}\n{'id': 'a6660350-3435-48f1-9b4e-9466e7b4dabc', 'dateTime': '2020-05-01 18:35:03', 'deviceId': 'dev-6', 'measureType': 'Rotation Speed', 'unitSymbol': 'RPM', 'unit': 'Revolutions per Minute', 'measureValue': 2880}\n{'id': '069651c8-0d1c-4fc3-859f-6a6a192b8f63', 'dateTime': '2020-05-01 18:35:03', 'deviceId': 'dev-6', 'measureType': 'Output', 'unitSymbol': 'MW', 'unit': 'MegaWatts', 'measureValue': 1504}\n{'id': 'f1e3b869-b13b-49d5-926f-e5379db87090', 'dateTime': '2020-05-01 18:35:03', 'deviceId': 'dev-7', 'measureType': 'Rotation Speed', 'unitSymbol': 'RPM', 'unit': 'Revolutions per Minute', 'measureValue': 3043}\n{'id': '6361e7ab-c5d3-4aa7-8fdf-3ec20e26b4ab', 'dateTime': '2020-05-01 18:35:03', 'deviceId': 'dev-7', 'measureType': 'Output', 'unitSymbol': 'MW', 'unit': 'MegaWatts', 'measureValue': 1448}\n{'id': '83184860-9c6f-4910-8cfc-1ab6f295f93c', 'dateTime': '2020-05-01 18:35:03', 'deviceId': 'dev-8', 'measureType': 'Rotation Speed', 'unitSymbol': 'RPM', 'unit': 'Revolutions per Minute', 'measureValue': 3021}\n{'id': '48706969-e6e1-4dd2-90fc-f25c55143b3c', 'dateTime': '2020-05-01 18:35:03', 'deviceId': 'dev-8', 'measureType': 'Output', 'unitSymbol': 'MW', 'unit': 'MegaWatts', 'measureValue': 1526}\n{'id': 'c0ef9660-e0b9-4d08-8e87-87d8d2f827f2', 'dateTime': '2020-05-01 18:35:03', 'deviceId': 'dev-9', 'measureType': 'Rotation Speed', 'unitSymbol': 'RPM', 'unit': 'Revolutions per Minute', 'measureValue': 3182}\n{'id': '29ddc68e-c778-4d9e-b326-1d6f6fc56ee8', 'dateTime': '2020-05-01 18:35:03', 'deviceId': 'dev-9', 'measureType': 'Output', 'unitSymbol': 'MW', 'unit': 'MegaWatts', 'measureValue': 1619}\n{'id': '39c831bc-9746-49ac-b0f8-24c4d863ec3c', 'dateTime': '2020-05-01 18:35:03', 'deviceId': 'dev-10', 'measureType': 'Rotation Speed', 'unitSymbol': 'RPM', 'unit': 'Revolutions per Minute', 'measureValue': 3286}\n{'id': 'd4c37fcc-f54c-4d2c-88a3-7dc79e41029c', 'dateTime': '2020-05-01 18:35:03', 'deviceId': 'dev-10', 'measureType': 'Output', 'unitSymbol': 'MW', 'unit': 'MegaWatts', 'measureValue': 1577}\nFinishing process at:  2020-05-01 18:35:03\n"
        }
      ],
      "source": "numDevs=2\nexecutionMinutes=2\nprintOutput=1\n\niotSimulator (numDevs,executionMinutes,printOutput)"
    },
    {
      "cell_type": "markdown",
      "metadata": {
        "nteract": {
          "transient": {
            "deleting": false
          }
        }
      },
      "source": "## Step 5 - Data Visualization\n\nLet's analyze the data we just created, using multiple statistics functions and visualizations. And everything starts with a query, loading 1000 metrics into a Pandas [DataFrame](https://pandas.pydata.org/pandas-docs/stable/reference/api/pandas.DataFrame.html). **Why 1000?** Because it is enough for this notebook objective.\n\n&nbsp;\n\nNow we will:\n\n&nbsp;\n\n+ Use [Azure Cosmos DB SQL API](https://docs.microsoft.com/en-us/azure/cosmos-db/sql-query-getting-started) to load data from the database into a data-frame.\n+ Visualize and manipulate the data with [Pandas](https://pandas.pydata.org/) and [Matplotlib](https://matplotlib.org/) Python libraries.\n+ Apply AI to our data, using the [Anomaly Detector API](https://azure.microsoft.com/en-us/services/cognitive-services/anomaly-detector) to extract hidden insights from our data.\n+ Load the results back to Azure Cosmos Db, to persist the data and be able to create Power BI dashboards.\n\n&nbsp;\n\n>**Did you know?** You can set the default database and container context for all new queries using\n ```%database {database_id}``` and ```%container {container_id}``` syntax. But they need to be in separate cells, as does the ```%%sql``` magic command.\n \n&nbsp;\n\n>**Did you know?** The word \"value\" is a reserved, what will impact your queries. That's why we are calling the values as ***measureValue***."
    },
    {
      "cell_type": "code",
      "execution_count": 17,
      "metadata": {
        "collapsed": false,
        "execution": {
          "iopub.status.busy": "2020-04-29T16:02:02.672Z",
          "iopub.status.idle": "2020-04-29T16:02:02.732Z",
          "shell.execute_reply": "2020-04-29T16:02:02.752Z"
        },
        "jupyter": {
          "outputs_hidden": false,
          "source_hidden": false
        },
        "nteract": {
          "transient": {
            "deleting": false
          }
        },
        "trusted": false
      },
      "outputs": [],
      "source": "%database CosmosAnalyticsDemoDb"
    },
    {
      "cell_type": "code",
      "execution_count": 18,
      "metadata": {
        "collapsed": false,
        "execution": {
          "iopub.status.busy": "2020-04-29T16:02:04.074Z",
          "iopub.status.idle": "2020-04-29T16:02:04.128Z",
          "shell.execute_reply": "2020-04-29T16:02:04.149Z"
        },
        "jupyter": {
          "outputs_hidden": false,
          "source_hidden": false
        },
        "nteract": {
          "transient": {
            "deleting": false
          }
        },
        "trusted": false
      },
      "outputs": [],
      "source": "%container IotData"
    },
    {
      "cell_type": "code",
      "execution_count": 17,
      "metadata": {
        "collapsed": false,
        "execution": {
          "iopub.execute_input": "2020-04-29T16:02:06.259Z",
          "iopub.status.busy": "2020-04-29T16:02:06.195Z",
          "iopub.status.idle": "2020-04-29T16:02:06.283Z",
          "shell.execute_reply": "2020-04-29T16:02:06.298Z"
        },
        "jupyter": {
          "outputs_hidden": false,
          "source_hidden": false
        },
        "nteract": {
          "transient": {
            "deleting": false
          }
        },
        "trusted": false
      },
      "outputs": [
        {
          "data": {
            "text/html": "\r\n<div>\r\n  <style type='text/css' scoped>\r\n.collapsible {\r\n  background-color: #fff;\r\n  color: #0078D4;\r\n  cursor: pointer;\r\n  padding: 10px;\r\n  border: none;\r\n  text-align: left;\r\n  outline: none;\r\n  font-size: 15px;\r\n  border-radius: 5px;\r\n  margin: 5px\r\n}\r\n\r\n.active, .collapsible:hover {\r\n  color: #4db2ff;\r\n}\r\n\r\n.content {\r\n  margin: 2px;\r\n  padding: 0 18px;\r\n  overflow: hidden;\r\n  background-color: #fff;\r\n  height: 0px;\r\n  -moz-transition: height .2s ease-out;\r\n  -ms-transition: height .2s ease-out;\r\n  -o-transition: height .2s ease-out;\r\n  -webkit-transition: height .2s ease-out;\r\n  transition: height .2s ease-out;\r\n}\r\n</style>\r\n\r\n<button type='button' class='collapsible'>▶ View Query Metrics</button>\r\n  \r\n<div class='content'>\r\n  <div class='measuringWrapper'>\r\n    <span style=\"color:#0078D4\"><b>totalExecutionTimeInMs    </b>:    8.87<br/><b>queryCompileTimeInMs    </b>:    0.11<br/><b>queryLogicalPlanBuildTimeInMs    </b>:    0.03<br/><b>queryPhysicalPlanBuildTimeInMs    </b>:    0.02<br/><b>queryOptimizationTimeInMs    </b>:    0<br/><b>VMExecutionTimeInMs    </b>:    8.47<br/><b>indexLookupTimeInMs    </b>:    0<br/><b>documentLoadTimeInMs    </b>:    4.86<br/><b>systemFunctionExecuteTimeInMs    </b>:    0<br/><b>userFunctionExecuteTimeInMs    </b>:    0<br/><b>retrievedDocumentCount    </b>:    1000<br/><b>retrievedDocumentSize    </b>:    399992<br/><b>outputDocumentCount    </b>:    1000<br/><b>outputDocumentSize    </b>:    92543<br/><b>writeOutputTimeInMs    </b>:    0.7<br/><b>averageIndexUtilizationRation    </b>:    1<br/></span>\r\n  </div>\r\n</div>\r\n\r\n<script>\r\nvar coll = document.getElementsByClassName('collapsible');\r\nvar i;\r\n\r\nfor (i = 0; i < coll.length; i++) {\r\n  \r\n  coll[i].addEventListener('click', function() {\r\n    this.classList.toggle('active');\r\n    var content = this.nextElementSibling;\r\n    \r\n    if (content.clientHeight != 0) {\r\n      this.textContent = '▶ View Query Metrics';\r\n      content.style.height = '0px';\r\n    }\r\n    else {\r\n      this.textContent = '▼ Hide Query Metrics';\r\n      content.style.height = content.children[0].clientHeight + 'px';\r\n    }\r\n  });\r\n}\r\n</script>\r\n</div>"
          },
          "metadata": {},
          "output_type": "display_data"
        }
      ],
      "source": "%%sql  --output df_IotData\nSELECT top 1000 c.dateTime, c.unitSymbol, c.measureValue, c.deviceId FROM c"
    },
    {
      "cell_type": "markdown",
      "metadata": {
        "nteract": {
          "transient": {
            "deleting": false
          }
        }
      },
      "source": "## Step 6 - Built-in Data Visualizations\n\nWe'll run queries and use the built-in [nteract data explorer](https://blog.nteract.io/designing-the-nteract-data-explorer-f4476d53f897) to allow data visualizations. After the following code lines, all cells will be enabled with nteract data explorer, with multiple visualization options on the right side of the result sets. For more information, check the **2.Visualization** notebook.\n\n&nbsp;\n\n``pd.options.display.html.table_schema = True``\n\n``pd.options.display.max_rows = None``  \n\n&nbsp;\n\nYou will notice that, despite the great chartâs options, we can't use all possibilities because the unitâs values are mixed in the same column. To fix it, we will filter the data per unit. Change it as you want and get comfortable with the visualization options. One suggestion is the **line chart**, where you can use multiple extra visualizations like **stacked area** chart.\n\n&nbsp;\n\n>**Did you know?** After we run the nteract options, only the last data output command will have its data shown.\n\n&nbsp;\n\n>**Did you know?** To avoid the mistake to compare data of different devices or units in the same chart, we'll filter the data we are retrieving from the DataFrame. Please check the cell below for more details.\n"
    },
    {
      "cell_type": "code",
      "execution_count": 18,
      "metadata": {
        "collapsed": true,
        "execution": {
          "iopub.execute_input": "2020-04-29T16:02:10.526Z",
          "iopub.status.busy": "2020-04-29T16:02:10.516Z",
          "iopub.status.idle": "2020-04-29T16:02:10.610Z",
          "shell.execute_reply": "2020-04-29T16:02:10.623Z"
        },
        "jupyter": {
          "outputs_hidden": false,
          "source_hidden": false
        },
        "nteract": {
          "transient": {
            "deleting": false
          }
        },
        "outputExpanded": false,
        "trusted": false
      },
      "outputs": [
        {
          "data": {
            "application/vnd.dataresource+json": {
              "data": [
                {
                  "dateTime": "2020-04-28 17:36:57",
                  "deviceId": "dev-1",
                  "index": 0,
                  "measureValue": 3048,
                  "unitSymbol": "RPM"
                },
                {
                  "dateTime": "2020-04-28 17:36:58",
                  "deviceId": "dev-1",
                  "index": 4,
                  "measureValue": 2930,
                  "unitSymbol": "RPM"
                },
                {
                  "dateTime": "2020-04-28 17:36:59",
                  "deviceId": "dev-1",
                  "index": 8,
                  "measureValue": 3221,
                  "unitSymbol": "RPM"
                },
                {
                  "dateTime": "2020-04-28 17:37:00",
                  "deviceId": "dev-1",
                  "index": 12,
                  "measureValue": 2939,
                  "unitSymbol": "RPM"
                },
                {
                  "dateTime": "2020-04-28 17:37:01",
                  "deviceId": "dev-1",
                  "index": 16,
                  "measureValue": 3047,
                  "unitSymbol": "RPM"
                },
                {
                  "dateTime": "2020-04-28 17:37:02",
                  "deviceId": "dev-1",
                  "index": 20,
                  "measureValue": 2826,
                  "unitSymbol": "RPM"
                },
                {
                  "dateTime": "2020-04-28 17:37:03",
                  "deviceId": "dev-1",
                  "index": 24,
                  "measureValue": 3111,
                  "unitSymbol": "RPM"
                },
                {
                  "dateTime": "2020-04-28 17:37:04",
                  "deviceId": "dev-1",
                  "index": 28,
                  "measureValue": 3126,
                  "unitSymbol": "RPM"
                },
                {
                  "dateTime": "2020-04-28 17:37:05",
                  "deviceId": "dev-1",
                  "index": 32,
                  "measureValue": 3242,
                  "unitSymbol": "RPM"
                },
                {
                  "dateTime": "2020-04-28 17:37:06",
                  "deviceId": "dev-1",
                  "index": 36,
                  "measureValue": 2903,
                  "unitSymbol": "RPM"
                },
                {
                  "dateTime": "2020-04-28 17:37:07",
                  "deviceId": "dev-1",
                  "index": 40,
                  "measureValue": 3046,
                  "unitSymbol": "RPM"
                },
                {
                  "dateTime": "2020-04-28 17:37:08",
                  "deviceId": "dev-1",
                  "index": 44,
                  "measureValue": 2937,
                  "unitSymbol": "RPM"
                },
                {
                  "dateTime": "2020-04-28 17:37:10",
                  "deviceId": "dev-1",
                  "index": 48,
                  "measureValue": 2754,
                  "unitSymbol": "RPM"
                },
                {
                  "dateTime": "2020-04-28 17:37:11",
                  "deviceId": "dev-1",
                  "index": 52,
                  "measureValue": 2825,
                  "unitSymbol": "RPM"
                },
                {
                  "dateTime": "2020-04-28 17:37:12",
                  "deviceId": "dev-1",
                  "index": 56,
                  "measureValue": 2857,
                  "unitSymbol": "RPM"
                },
                {
                  "dateTime": "2020-04-28 17:37:13",
                  "deviceId": "dev-1",
                  "index": 60,
                  "measureValue": 3060,
                  "unitSymbol": "RPM"
                },
                {
                  "dateTime": "2020-04-28 17:37:14",
                  "deviceId": "dev-1",
                  "index": 64,
                  "measureValue": 3092,
                  "unitSymbol": "RPM"
                },
                {
                  "dateTime": "2020-04-28 17:37:15",
                  "deviceId": "dev-1",
                  "index": 68,
                  "measureValue": 3145,
                  "unitSymbol": "RPM"
                },
                {
                  "dateTime": "2020-04-28 17:37:16",
                  "deviceId": "dev-1",
                  "index": 72,
                  "measureValue": 3132,
                  "unitSymbol": "RPM"
                },
                {
                  "dateTime": "2020-04-28 17:37:17",
                  "deviceId": "dev-1",
                  "index": 76,
                  "measureValue": 2902,
                  "unitSymbol": "RPM"
                },
                {
                  "dateTime": "2020-04-28 17:37:18",
                  "deviceId": "dev-1",
                  "index": 80,
                  "measureValue": 3153,
                  "unitSymbol": "RPM"
                },
                {
                  "dateTime": "2020-04-28 17:37:19",
                  "deviceId": "dev-1",
                  "index": 84,
                  "measureValue": 2754,
                  "unitSymbol": "RPM"
                },
                {
                  "dateTime": "2020-04-28 17:37:20",
                  "deviceId": "dev-1",
                  "index": 88,
                  "measureValue": 2799,
                  "unitSymbol": "RPM"
                },
                {
                  "dateTime": "2020-04-28 17:37:21",
                  "deviceId": "dev-1",
                  "index": 92,
                  "measureValue": 2705,
                  "unitSymbol": "RPM"
                },
                {
                  "dateTime": "2020-04-28 17:37:22",
                  "deviceId": "dev-1",
                  "index": 96,
                  "measureValue": 2780,
                  "unitSymbol": "RPM"
                },
                {
                  "dateTime": "2020-04-28 17:37:23",
                  "deviceId": "dev-1",
                  "index": 100,
                  "measureValue": 3065,
                  "unitSymbol": "RPM"
                },
                {
                  "dateTime": "2020-04-28 17:37:24",
                  "deviceId": "dev-1",
                  "index": 104,
                  "measureValue": 3022,
                  "unitSymbol": "RPM"
                },
                {
                  "dateTime": "2020-04-28 17:37:25",
                  "deviceId": "dev-1",
                  "index": 108,
                  "measureValue": 3132,
                  "unitSymbol": "RPM"
                },
                {
                  "dateTime": "2020-04-28 17:37:26",
                  "deviceId": "dev-1",
                  "index": 112,
                  "measureValue": 2732,
                  "unitSymbol": "RPM"
                },
                {
                  "dateTime": "2020-04-28 17:37:27",
                  "deviceId": "dev-1",
                  "index": 116,
                  "measureValue": 2972,
                  "unitSymbol": "RPM"
                },
                {
                  "dateTime": "2020-04-28 17:37:29",
                  "deviceId": "dev-1",
                  "index": 120,
                  "measureValue": 2947,
                  "unitSymbol": "RPM"
                },
                {
                  "dateTime": "2020-04-28 17:37:30",
                  "deviceId": "dev-1",
                  "index": 124,
                  "measureValue": 3039,
                  "unitSymbol": "RPM"
                },
                {
                  "dateTime": "2020-04-28 17:37:31",
                  "deviceId": "dev-1",
                  "index": 128,
                  "measureValue": 3249,
                  "unitSymbol": "RPM"
                },
                {
                  "dateTime": "2020-04-28 17:37:32",
                  "deviceId": "dev-1",
                  "index": 132,
                  "measureValue": 2717,
                  "unitSymbol": "RPM"
                },
                {
                  "dateTime": "2020-04-28 17:37:33",
                  "deviceId": "dev-1",
                  "index": 136,
                  "measureValue": 2881,
                  "unitSymbol": "RPM"
                },
                {
                  "dateTime": "2020-04-28 17:37:34",
                  "deviceId": "dev-1",
                  "index": 140,
                  "measureValue": 3259,
                  "unitSymbol": "RPM"
                },
                {
                  "dateTime": "2020-04-28 17:37:35",
                  "deviceId": "dev-1",
                  "index": 144,
                  "measureValue": 2749,
                  "unitSymbol": "RPM"
                },
                {
                  "dateTime": "2020-04-28 17:37:36",
                  "deviceId": "dev-1",
                  "index": 148,
                  "measureValue": 2792,
                  "unitSymbol": "RPM"
                },
                {
                  "dateTime": "2020-04-28 17:37:37",
                  "deviceId": "dev-1",
                  "index": 152,
                  "measureValue": 4003,
                  "unitSymbol": "RPM"
                },
                {
                  "dateTime": "2020-04-28 17:37:38",
                  "deviceId": "dev-1",
                  "index": 156,
                  "measureValue": 2735,
                  "unitSymbol": "RPM"
                },
                {
                  "dateTime": "2020-04-28 17:37:39",
                  "deviceId": "dev-1",
                  "index": 160,
                  "measureValue": 3044,
                  "unitSymbol": "RPM"
                },
                {
                  "dateTime": "2020-04-28 17:37:40",
                  "deviceId": "dev-1",
                  "index": 164,
                  "measureValue": 2793,
                  "unitSymbol": "RPM"
                },
                {
                  "dateTime": "2020-04-28 17:37:41",
                  "deviceId": "dev-1",
                  "index": 168,
                  "measureValue": 2740,
                  "unitSymbol": "RPM"
                },
                {
                  "dateTime": "2020-04-28 17:37:42",
                  "deviceId": "dev-1",
                  "index": 172,
                  "measureValue": 3116,
                  "unitSymbol": "RPM"
                },
                {
                  "dateTime": "2020-04-28 17:37:43",
                  "deviceId": "dev-1",
                  "index": 176,
                  "measureValue": 2880,
                  "unitSymbol": "RPM"
                },
                {
                  "dateTime": "2020-04-28 17:37:44",
                  "deviceId": "dev-1",
                  "index": 180,
                  "measureValue": 2803,
                  "unitSymbol": "RPM"
                },
                {
                  "dateTime": "2020-04-28 17:37:45",
                  "deviceId": "dev-1",
                  "index": 184,
                  "measureValue": 3291,
                  "unitSymbol": "RPM"
                },
                {
                  "dateTime": "2020-04-28 17:37:46",
                  "deviceId": "dev-1",
                  "index": 188,
                  "measureValue": 3124,
                  "unitSymbol": "RPM"
                },
                {
                  "dateTime": "2020-04-28 17:37:47",
                  "deviceId": "dev-1",
                  "index": 192,
                  "measureValue": 2952,
                  "unitSymbol": "RPM"
                },
                {
                  "dateTime": "2020-04-28 17:37:49",
                  "deviceId": "dev-1",
                  "index": 196,
                  "measureValue": 3196,
                  "unitSymbol": "RPM"
                },
                {
                  "dateTime": "2020-04-28 17:37:50",
                  "deviceId": "dev-1",
                  "index": 200,
                  "measureValue": 2817,
                  "unitSymbol": "RPM"
                },
                {
                  "dateTime": "2020-04-28 17:37:51",
                  "deviceId": "dev-1",
                  "index": 204,
                  "measureValue": 2946,
                  "unitSymbol": "RPM"
                },
                {
                  "dateTime": "2020-04-28 17:37:52",
                  "deviceId": "dev-1",
                  "index": 208,
                  "measureValue": 3232,
                  "unitSymbol": "RPM"
                },
                {
                  "dateTime": "2020-04-28 17:37:53",
                  "deviceId": "dev-1",
                  "index": 212,
                  "measureValue": 2985,
                  "unitSymbol": "RPM"
                },
                {
                  "dateTime": "2020-04-28 17:37:54",
                  "deviceId": "dev-1",
                  "index": 216,
                  "measureValue": 3254,
                  "unitSymbol": "RPM"
                },
                {
                  "dateTime": "2020-04-28 17:37:55",
                  "deviceId": "dev-1",
                  "index": 220,
                  "measureValue": 3005,
                  "unitSymbol": "RPM"
                },
                {
                  "dateTime": "2020-04-28 17:37:56",
                  "deviceId": "dev-1",
                  "index": 224,
                  "measureValue": 2719,
                  "unitSymbol": "RPM"
                },
                {
                  "dateTime": "2020-04-28 17:37:57",
                  "deviceId": "dev-1",
                  "index": 228,
                  "measureValue": 2776,
                  "unitSymbol": "RPM"
                },
                {
                  "dateTime": "2020-04-28 17:37:58",
                  "deviceId": "dev-1",
                  "index": 232,
                  "measureValue": 2841,
                  "unitSymbol": "RPM"
                },
                {
                  "dateTime": "2020-04-28 17:37:59",
                  "deviceId": "dev-1",
                  "index": 236,
                  "measureValue": 3178,
                  "unitSymbol": "RPM"
                },
                {
                  "dateTime": "2020-04-28 17:38:00",
                  "deviceId": "dev-1",
                  "index": 240,
                  "measureValue": 2862,
                  "unitSymbol": "RPM"
                },
                {
                  "dateTime": "2020-04-28 17:38:01",
                  "deviceId": "dev-1",
                  "index": 244,
                  "measureValue": 2918,
                  "unitSymbol": "RPM"
                },
                {
                  "dateTime": "2020-04-28 17:38:02",
                  "deviceId": "dev-1",
                  "index": 248,
                  "measureValue": 3049,
                  "unitSymbol": "RPM"
                },
                {
                  "dateTime": "2020-04-28 17:38:03",
                  "deviceId": "dev-1",
                  "index": 252,
                  "measureValue": 2886,
                  "unitSymbol": "RPM"
                },
                {
                  "dateTime": "2020-04-28 17:38:04",
                  "deviceId": "dev-1",
                  "index": 256,
                  "measureValue": 3258,
                  "unitSymbol": "RPM"
                },
                {
                  "dateTime": "2020-04-28 17:38:05",
                  "deviceId": "dev-1",
                  "index": 260,
                  "measureValue": 2761,
                  "unitSymbol": "RPM"
                },
                {
                  "dateTime": "2020-04-28 17:38:06",
                  "deviceId": "dev-1",
                  "index": 264,
                  "measureValue": 3147,
                  "unitSymbol": "RPM"
                },
                {
                  "dateTime": "2020-04-28 17:38:07",
                  "deviceId": "dev-1",
                  "index": 268,
                  "measureValue": 3180,
                  "unitSymbol": "RPM"
                },
                {
                  "dateTime": "2020-04-28 17:38:08",
                  "deviceId": "dev-1",
                  "index": 272,
                  "measureValue": 2800,
                  "unitSymbol": "RPM"
                },
                {
                  "dateTime": "2020-04-28 17:38:10",
                  "deviceId": "dev-1",
                  "index": 276,
                  "measureValue": 3129,
                  "unitSymbol": "RPM"
                },
                {
                  "dateTime": "2020-04-28 17:38:11",
                  "deviceId": "dev-1",
                  "index": 280,
                  "measureValue": 4310,
                  "unitSymbol": "RPM"
                },
                {
                  "dateTime": "2020-04-28 17:38:12",
                  "deviceId": "dev-1",
                  "index": 284,
                  "measureValue": 2703,
                  "unitSymbol": "RPM"
                },
                {
                  "dateTime": "2020-04-28 17:38:13",
                  "deviceId": "dev-1",
                  "index": 288,
                  "measureValue": 2794,
                  "unitSymbol": "RPM"
                },
                {
                  "dateTime": "2020-04-28 17:38:14",
                  "deviceId": "dev-1",
                  "index": 292,
                  "measureValue": 2891,
                  "unitSymbol": "RPM"
                },
                {
                  "dateTime": "2020-04-28 17:38:15",
                  "deviceId": "dev-1",
                  "index": 296,
                  "measureValue": 3091,
                  "unitSymbol": "RPM"
                },
                {
                  "dateTime": "2020-04-28 17:38:16",
                  "deviceId": "dev-1",
                  "index": 300,
                  "measureValue": 3222,
                  "unitSymbol": "RPM"
                },
                {
                  "dateTime": "2020-04-28 17:38:17",
                  "deviceId": "dev-1",
                  "index": 304,
                  "measureValue": 2926,
                  "unitSymbol": "RPM"
                },
                {
                  "dateTime": "2020-04-28 17:38:18",
                  "deviceId": "dev-1",
                  "index": 308,
                  "measureValue": 3146,
                  "unitSymbol": "RPM"
                },
                {
                  "dateTime": "2020-04-28 17:38:19",
                  "deviceId": "dev-1",
                  "index": 312,
                  "measureValue": 3020,
                  "unitSymbol": "RPM"
                },
                {
                  "dateTime": "2020-04-28 17:38:20",
                  "deviceId": "dev-1",
                  "index": 316,
                  "measureValue": 2988,
                  "unitSymbol": "RPM"
                },
                {
                  "dateTime": "2020-04-28 17:38:21",
                  "deviceId": "dev-1",
                  "index": 320,
                  "measureValue": 3016,
                  "unitSymbol": "RPM"
                },
                {
                  "dateTime": "2020-04-28 17:38:22",
                  "deviceId": "dev-1",
                  "index": 324,
                  "measureValue": 3123,
                  "unitSymbol": "RPM"
                },
                {
                  "dateTime": "2020-04-28 17:38:23",
                  "deviceId": "dev-1",
                  "index": 328,
                  "measureValue": 2802,
                  "unitSymbol": "RPM"
                },
                {
                  "dateTime": "2020-04-28 17:38:24",
                  "deviceId": "dev-1",
                  "index": 332,
                  "measureValue": 3229,
                  "unitSymbol": "RPM"
                },
                {
                  "dateTime": "2020-04-28 17:38:25",
                  "deviceId": "dev-1",
                  "index": 336,
                  "measureValue": 3054,
                  "unitSymbol": "RPM"
                },
                {
                  "dateTime": "2020-04-28 17:38:26",
                  "deviceId": "dev-1",
                  "index": 340,
                  "measureValue": 2942,
                  "unitSymbol": "RPM"
                },
                {
                  "dateTime": "2020-04-28 17:38:27",
                  "deviceId": "dev-1",
                  "index": 344,
                  "measureValue": 2884,
                  "unitSymbol": "RPM"
                },
                {
                  "dateTime": "2020-04-28 17:38:28",
                  "deviceId": "dev-1",
                  "index": 348,
                  "measureValue": 3256,
                  "unitSymbol": "RPM"
                },
                {
                  "dateTime": "2020-04-28 17:38:30",
                  "deviceId": "dev-1",
                  "index": 352,
                  "measureValue": 3120,
                  "unitSymbol": "RPM"
                },
                {
                  "dateTime": "2020-04-28 17:38:31",
                  "deviceId": "dev-1",
                  "index": 356,
                  "measureValue": 2715,
                  "unitSymbol": "RPM"
                },
                {
                  "dateTime": "2020-04-28 17:38:32",
                  "deviceId": "dev-1",
                  "index": 360,
                  "measureValue": 2764,
                  "unitSymbol": "RPM"
                },
                {
                  "dateTime": "2020-04-28 17:38:33",
                  "deviceId": "dev-1",
                  "index": 364,
                  "measureValue": 2732,
                  "unitSymbol": "RPM"
                },
                {
                  "dateTime": "2020-04-28 17:38:34",
                  "deviceId": "dev-1",
                  "index": 368,
                  "measureValue": 3111,
                  "unitSymbol": "RPM"
                },
                {
                  "dateTime": "2020-04-28 17:38:35",
                  "deviceId": "dev-1",
                  "index": 372,
                  "measureValue": 3277,
                  "unitSymbol": "RPM"
                },
                {
                  "dateTime": "2020-04-28 17:38:36",
                  "deviceId": "dev-1",
                  "index": 376,
                  "measureValue": 3221,
                  "unitSymbol": "RPM"
                },
                {
                  "dateTime": "2020-04-28 17:38:37",
                  "deviceId": "dev-1",
                  "index": 380,
                  "measureValue": 3055,
                  "unitSymbol": "RPM"
                },
                {
                  "dateTime": "2020-04-28 17:38:38",
                  "deviceId": "dev-1",
                  "index": 384,
                  "measureValue": 2702,
                  "unitSymbol": "RPM"
                },
                {
                  "dateTime": "2020-04-28 17:38:39",
                  "deviceId": "dev-1",
                  "index": 388,
                  "measureValue": 3077,
                  "unitSymbol": "RPM"
                },
                {
                  "dateTime": "2020-04-28 17:38:40",
                  "deviceId": "dev-1",
                  "index": 392,
                  "measureValue": 2880,
                  "unitSymbol": "RPM"
                },
                {
                  "dateTime": "2020-04-28 17:38:41",
                  "deviceId": "dev-1",
                  "index": 396,
                  "measureValue": 2987,
                  "unitSymbol": "RPM"
                },
                {
                  "dateTime": "2020-04-28 17:38:42",
                  "deviceId": "dev-1",
                  "index": 400,
                  "measureValue": 2880,
                  "unitSymbol": "RPM"
                },
                {
                  "dateTime": "2020-04-28 17:38:43",
                  "deviceId": "dev-1",
                  "index": 404,
                  "measureValue": 2913,
                  "unitSymbol": "RPM"
                },
                {
                  "dateTime": "2020-04-28 17:38:44",
                  "deviceId": "dev-1",
                  "index": 408,
                  "measureValue": 2903,
                  "unitSymbol": "RPM"
                },
                {
                  "dateTime": "2020-04-28 17:38:45",
                  "deviceId": "dev-1",
                  "index": 412,
                  "measureValue": 2764,
                  "unitSymbol": "RPM"
                },
                {
                  "dateTime": "2020-04-28 17:38:46",
                  "deviceId": "dev-1",
                  "index": 416,
                  "measureValue": 2974,
                  "unitSymbol": "RPM"
                },
                {
                  "dateTime": "2020-04-28 17:38:47",
                  "deviceId": "dev-1",
                  "index": 420,
                  "measureValue": 3238,
                  "unitSymbol": "RPM"
                },
                {
                  "dateTime": "2020-04-28 17:38:48",
                  "deviceId": "dev-1",
                  "index": 424,
                  "measureValue": 2839,
                  "unitSymbol": "RPM"
                },
                {
                  "dateTime": "2020-04-28 17:38:49",
                  "deviceId": "dev-1",
                  "index": 428,
                  "measureValue": 2720,
                  "unitSymbol": "RPM"
                },
                {
                  "dateTime": "2020-04-28 17:38:50",
                  "deviceId": "dev-1",
                  "index": 432,
                  "measureValue": 3280,
                  "unitSymbol": "RPM"
                },
                {
                  "dateTime": "2020-04-28 17:38:51",
                  "deviceId": "dev-1",
                  "index": 436,
                  "measureValue": 2828,
                  "unitSymbol": "RPM"
                },
                {
                  "dateTime": "2020-04-28 17:38:53",
                  "deviceId": "dev-1",
                  "index": 440,
                  "measureValue": 2740,
                  "unitSymbol": "RPM"
                },
                {
                  "dateTime": "2020-04-28 17:38:54",
                  "deviceId": "dev-1",
                  "index": 444,
                  "measureValue": 3104,
                  "unitSymbol": "RPM"
                },
                {
                  "dateTime": "2020-04-28 17:38:55",
                  "deviceId": "dev-1",
                  "index": 448,
                  "measureValue": 2850,
                  "unitSymbol": "RPM"
                },
                {
                  "dateTime": "2020-04-28 17:38:56",
                  "deviceId": "dev-1",
                  "index": 452,
                  "measureValue": 2931,
                  "unitSymbol": "RPM"
                },
                {
                  "dateTime": "2020-04-28 17:38:57",
                  "deviceId": "dev-1",
                  "index": 456,
                  "measureValue": 2787,
                  "unitSymbol": "RPM"
                },
                {
                  "dateTime": "2020-04-28 17:38:58",
                  "deviceId": "dev-1",
                  "index": 460,
                  "measureValue": 3159,
                  "unitSymbol": "RPM"
                },
                {
                  "dateTime": "2020-04-28 17:38:59",
                  "deviceId": "dev-1",
                  "index": 464,
                  "measureValue": 3224,
                  "unitSymbol": "RPM"
                },
                {
                  "dateTime": "2020-04-28 17:39:00",
                  "deviceId": "dev-1",
                  "index": 468,
                  "measureValue": 2738,
                  "unitSymbol": "RPM"
                },
                {
                  "dateTime": "2020-04-28 17:39:01",
                  "deviceId": "dev-1",
                  "index": 472,
                  "measureValue": 2805,
                  "unitSymbol": "RPM"
                },
                {
                  "dateTime": "2020-04-28 17:39:02",
                  "deviceId": "dev-1",
                  "index": 476,
                  "measureValue": 3232,
                  "unitSymbol": "RPM"
                },
                {
                  "dateTime": "2020-04-28 17:39:03",
                  "deviceId": "dev-1",
                  "index": 480,
                  "measureValue": 3030,
                  "unitSymbol": "RPM"
                },
                {
                  "dateTime": "2020-04-28 17:39:04",
                  "deviceId": "dev-1",
                  "index": 484,
                  "measureValue": 2871,
                  "unitSymbol": "RPM"
                },
                {
                  "dateTime": "2020-04-28 17:39:05",
                  "deviceId": "dev-1",
                  "index": 488,
                  "measureValue": 2911,
                  "unitSymbol": "RPM"
                },
                {
                  "dateTime": "2020-04-28 17:39:06",
                  "deviceId": "dev-1",
                  "index": 492,
                  "measureValue": 2700,
                  "unitSymbol": "RPM"
                },
                {
                  "dateTime": "2020-04-28 17:39:07",
                  "deviceId": "dev-1",
                  "index": 496,
                  "measureValue": 3008,
                  "unitSymbol": "RPM"
                },
                {
                  "dateTime": "2020-04-28 17:39:08",
                  "deviceId": "dev-1",
                  "index": 500,
                  "measureValue": 3012,
                  "unitSymbol": "RPM"
                },
                {
                  "dateTime": "2020-04-28 17:39:09",
                  "deviceId": "dev-1",
                  "index": 504,
                  "measureValue": 3246,
                  "unitSymbol": "RPM"
                },
                {
                  "dateTime": "2020-04-28 17:39:10",
                  "deviceId": "dev-1",
                  "index": 508,
                  "measureValue": 3034,
                  "unitSymbol": "RPM"
                },
                {
                  "dateTime": "2020-04-28 17:39:11",
                  "deviceId": "dev-1",
                  "index": 512,
                  "measureValue": 2891,
                  "unitSymbol": "RPM"
                },
                {
                  "dateTime": "2020-04-28 17:39:12",
                  "deviceId": "dev-1",
                  "index": 516,
                  "measureValue": 2713,
                  "unitSymbol": "RPM"
                },
                {
                  "dateTime": "2020-04-28 17:39:13",
                  "deviceId": "dev-1",
                  "index": 520,
                  "measureValue": 2821,
                  "unitSymbol": "RPM"
                },
                {
                  "dateTime": "2020-04-28 17:39:14",
                  "deviceId": "dev-1",
                  "index": 524,
                  "measureValue": 3231,
                  "unitSymbol": "RPM"
                },
                {
                  "dateTime": "2020-04-28 17:39:15",
                  "deviceId": "dev-1",
                  "index": 528,
                  "measureValue": 2946,
                  "unitSymbol": "RPM"
                },
                {
                  "dateTime": "2020-04-28 17:39:16",
                  "deviceId": "dev-1",
                  "index": 532,
                  "measureValue": 2752,
                  "unitSymbol": "RPM"
                },
                {
                  "dateTime": "2020-04-28 17:39:17",
                  "deviceId": "dev-1",
                  "index": 536,
                  "measureValue": 3248,
                  "unitSymbol": "RPM"
                },
                {
                  "dateTime": "2020-04-28 17:39:18",
                  "deviceId": "dev-1",
                  "index": 540,
                  "measureValue": 2771,
                  "unitSymbol": "RPM"
                },
                {
                  "dateTime": "2020-04-28 17:39:20",
                  "deviceId": "dev-1",
                  "index": 544,
                  "measureValue": 3052,
                  "unitSymbol": "RPM"
                },
                {
                  "dateTime": "2020-04-28 17:39:21",
                  "deviceId": "dev-1",
                  "index": 548,
                  "measureValue": 3290,
                  "unitSymbol": "RPM"
                },
                {
                  "dateTime": "2020-04-28 17:39:22",
                  "deviceId": "dev-1",
                  "index": 552,
                  "measureValue": 2922,
                  "unitSymbol": "RPM"
                },
                {
                  "dateTime": "2020-04-28 17:39:23",
                  "deviceId": "dev-1",
                  "index": 556,
                  "measureValue": 3090,
                  "unitSymbol": "RPM"
                },
                {
                  "dateTime": "2020-04-28 17:39:24",
                  "deviceId": "dev-1",
                  "index": 560,
                  "measureValue": 3185,
                  "unitSymbol": "RPM"
                },
                {
                  "dateTime": "2020-04-28 17:39:25",
                  "deviceId": "dev-1",
                  "index": 564,
                  "measureValue": 3252,
                  "unitSymbol": "RPM"
                },
                {
                  "dateTime": "2020-04-28 17:39:26",
                  "deviceId": "dev-1",
                  "index": 568,
                  "measureValue": 3216,
                  "unitSymbol": "RPM"
                },
                {
                  "dateTime": "2020-04-28 17:39:27",
                  "deviceId": "dev-1",
                  "index": 572,
                  "measureValue": 2710,
                  "unitSymbol": "RPM"
                },
                {
                  "dateTime": "2020-04-28 17:39:28",
                  "deviceId": "dev-1",
                  "index": 576,
                  "measureValue": 2826,
                  "unitSymbol": "RPM"
                },
                {
                  "dateTime": "2020-04-28 17:39:29",
                  "deviceId": "dev-1",
                  "index": 580,
                  "measureValue": 2731,
                  "unitSymbol": "RPM"
                },
                {
                  "dateTime": "2020-04-28 17:39:30",
                  "deviceId": "dev-1",
                  "index": 584,
                  "measureValue": 3006,
                  "unitSymbol": "RPM"
                },
                {
                  "dateTime": "2020-04-28 17:39:31",
                  "deviceId": "dev-1",
                  "index": 588,
                  "measureValue": 3173,
                  "unitSymbol": "RPM"
                },
                {
                  "dateTime": "2020-04-28 17:39:32",
                  "deviceId": "dev-1",
                  "index": 592,
                  "measureValue": 3210,
                  "unitSymbol": "RPM"
                },
                {
                  "dateTime": "2020-04-28 17:39:33",
                  "deviceId": "dev-1",
                  "index": 596,
                  "measureValue": 2715,
                  "unitSymbol": "RPM"
                },
                {
                  "dateTime": "2020-04-28 17:39:34",
                  "deviceId": "dev-1",
                  "index": 600,
                  "measureValue": 2843,
                  "unitSymbol": "RPM"
                },
                {
                  "dateTime": "2020-04-28 17:39:35",
                  "deviceId": "dev-1",
                  "index": 604,
                  "measureValue": 4367,
                  "unitSymbol": "RPM"
                },
                {
                  "dateTime": "2020-04-28 17:39:36",
                  "deviceId": "dev-1",
                  "index": 608,
                  "measureValue": 2984,
                  "unitSymbol": "RPM"
                },
                {
                  "dateTime": "2020-04-28 17:39:37",
                  "deviceId": "dev-1",
                  "index": 612,
                  "measureValue": 3266,
                  "unitSymbol": "RPM"
                },
                {
                  "dateTime": "2020-04-28 17:39:38",
                  "deviceId": "dev-1",
                  "index": 616,
                  "measureValue": 3214,
                  "unitSymbol": "RPM"
                },
                {
                  "dateTime": "2020-04-28 17:39:39",
                  "deviceId": "dev-1",
                  "index": 620,
                  "measureValue": 2886,
                  "unitSymbol": "RPM"
                },
                {
                  "dateTime": "2020-04-28 17:39:40",
                  "deviceId": "dev-1",
                  "index": 624,
                  "measureValue": 2796,
                  "unitSymbol": "RPM"
                },
                {
                  "dateTime": "2020-04-28 17:39:41",
                  "deviceId": "dev-1",
                  "index": 628,
                  "measureValue": 2805,
                  "unitSymbol": "RPM"
                },
                {
                  "dateTime": "2020-04-28 17:39:42",
                  "deviceId": "dev-1",
                  "index": 632,
                  "measureValue": 3247,
                  "unitSymbol": "RPM"
                },
                {
                  "dateTime": "2020-04-28 17:39:44",
                  "deviceId": "dev-1",
                  "index": 636,
                  "measureValue": 2810,
                  "unitSymbol": "RPM"
                },
                {
                  "dateTime": "2020-04-28 17:39:45",
                  "deviceId": "dev-1",
                  "index": 640,
                  "measureValue": 3288,
                  "unitSymbol": "RPM"
                },
                {
                  "dateTime": "2020-04-28 17:39:46",
                  "deviceId": "dev-1",
                  "index": 644,
                  "measureValue": 2729,
                  "unitSymbol": "RPM"
                },
                {
                  "dateTime": "2020-04-28 17:39:47",
                  "deviceId": "dev-1",
                  "index": 648,
                  "measureValue": 3120,
                  "unitSymbol": "RPM"
                },
                {
                  "dateTime": "2020-04-28 17:39:48",
                  "deviceId": "dev-1",
                  "index": 652,
                  "measureValue": 3066,
                  "unitSymbol": "RPM"
                },
                {
                  "dateTime": "2020-04-28 17:39:49",
                  "deviceId": "dev-1",
                  "index": 656,
                  "measureValue": 3159,
                  "unitSymbol": "RPM"
                },
                {
                  "dateTime": "2020-04-28 17:39:50",
                  "deviceId": "dev-1",
                  "index": 660,
                  "measureValue": 2768,
                  "unitSymbol": "RPM"
                },
                {
                  "dateTime": "2020-04-28 17:39:51",
                  "deviceId": "dev-1",
                  "index": 664,
                  "measureValue": 3105,
                  "unitSymbol": "RPM"
                },
                {
                  "dateTime": "2020-04-28 17:39:52",
                  "deviceId": "dev-1",
                  "index": 668,
                  "measureValue": 2971,
                  "unitSymbol": "RPM"
                },
                {
                  "dateTime": "2020-04-28 17:39:53",
                  "deviceId": "dev-1",
                  "index": 672,
                  "measureValue": 2957,
                  "unitSymbol": "RPM"
                },
                {
                  "dateTime": "2020-04-28 17:39:54",
                  "deviceId": "dev-1",
                  "index": 676,
                  "measureValue": 3083,
                  "unitSymbol": "RPM"
                },
                {
                  "dateTime": "2020-04-28 17:39:55",
                  "deviceId": "dev-1",
                  "index": 680,
                  "measureValue": 3233,
                  "unitSymbol": "RPM"
                },
                {
                  "dateTime": "2020-04-28 17:39:56",
                  "deviceId": "dev-1",
                  "index": 684,
                  "measureValue": 2781,
                  "unitSymbol": "RPM"
                },
                {
                  "dateTime": "2020-04-28 17:39:57",
                  "deviceId": "dev-1",
                  "index": 688,
                  "measureValue": 3078,
                  "unitSymbol": "RPM"
                },
                {
                  "dateTime": "2020-04-28 17:39:58",
                  "deviceId": "dev-1",
                  "index": 692,
                  "measureValue": 2793,
                  "unitSymbol": "RPM"
                },
                {
                  "dateTime": "2020-04-28 17:39:59",
                  "deviceId": "dev-1",
                  "index": 696,
                  "measureValue": 2888,
                  "unitSymbol": "RPM"
                },
                {
                  "dateTime": "2020-04-28 17:40:00",
                  "deviceId": "dev-1",
                  "index": 700,
                  "measureValue": 2826,
                  "unitSymbol": "RPM"
                },
                {
                  "dateTime": "2020-04-28 17:40:01",
                  "deviceId": "dev-1",
                  "index": 704,
                  "measureValue": 3238,
                  "unitSymbol": "RPM"
                },
                {
                  "dateTime": "2020-04-28 17:40:02",
                  "deviceId": "dev-1",
                  "index": 708,
                  "measureValue": 3115,
                  "unitSymbol": "RPM"
                },
                {
                  "dateTime": "2020-04-28 17:40:03",
                  "deviceId": "dev-1",
                  "index": 712,
                  "measureValue": 2723,
                  "unitSymbol": "RPM"
                },
                {
                  "dateTime": "2020-04-28 17:40:04",
                  "deviceId": "dev-1",
                  "index": 716,
                  "measureValue": 2884,
                  "unitSymbol": "RPM"
                },
                {
                  "dateTime": "2020-04-28 17:40:05",
                  "deviceId": "dev-1",
                  "index": 720,
                  "measureValue": 2784,
                  "unitSymbol": "RPM"
                },
                {
                  "dateTime": "2020-04-28 17:40:06",
                  "deviceId": "dev-1",
                  "index": 724,
                  "measureValue": 3240,
                  "unitSymbol": "RPM"
                },
                {
                  "dateTime": "2020-04-28 17:40:07",
                  "deviceId": "dev-1",
                  "index": 728,
                  "measureValue": 2706,
                  "unitSymbol": "RPM"
                },
                {
                  "dateTime": "2020-04-28 17:40:09",
                  "deviceId": "dev-1",
                  "index": 732,
                  "measureValue": 3190,
                  "unitSymbol": "RPM"
                },
                {
                  "dateTime": "2020-04-28 17:40:10",
                  "deviceId": "dev-1",
                  "index": 736,
                  "measureValue": 3038,
                  "unitSymbol": "RPM"
                },
                {
                  "dateTime": "2020-04-28 17:40:11",
                  "deviceId": "dev-1",
                  "index": 740,
                  "measureValue": 3058,
                  "unitSymbol": "RPM"
                },
                {
                  "dateTime": "2020-04-28 17:40:12",
                  "deviceId": "dev-1",
                  "index": 744,
                  "measureValue": 2819,
                  "unitSymbol": "RPM"
                },
                {
                  "dateTime": "2020-04-28 17:40:13",
                  "deviceId": "dev-1",
                  "index": 748,
                  "measureValue": 2954,
                  "unitSymbol": "RPM"
                },
                {
                  "dateTime": "2020-04-28 17:40:14",
                  "deviceId": "dev-1",
                  "index": 752,
                  "measureValue": 2706,
                  "unitSymbol": "RPM"
                },
                {
                  "dateTime": "2020-04-28 17:40:15",
                  "deviceId": "dev-1",
                  "index": 756,
                  "measureValue": 2954,
                  "unitSymbol": "RPM"
                },
                {
                  "dateTime": "2020-04-28 17:40:16",
                  "deviceId": "dev-1",
                  "index": 760,
                  "measureValue": 2937,
                  "unitSymbol": "RPM"
                },
                {
                  "dateTime": "2020-04-28 17:40:17",
                  "deviceId": "dev-1",
                  "index": 764,
                  "measureValue": 3110,
                  "unitSymbol": "RPM"
                },
                {
                  "dateTime": "2020-04-28 17:40:18",
                  "deviceId": "dev-1",
                  "index": 768,
                  "measureValue": 3085,
                  "unitSymbol": "RPM"
                },
                {
                  "dateTime": "2020-04-28 17:40:19",
                  "deviceId": "dev-1",
                  "index": 772,
                  "measureValue": 3091,
                  "unitSymbol": "RPM"
                },
                {
                  "dateTime": "2020-04-28 17:40:20",
                  "deviceId": "dev-1",
                  "index": 776,
                  "measureValue": 2978,
                  "unitSymbol": "RPM"
                },
                {
                  "dateTime": "2020-04-28 17:40:21",
                  "deviceId": "dev-1",
                  "index": 780,
                  "measureValue": 3189,
                  "unitSymbol": "RPM"
                },
                {
                  "dateTime": "2020-04-28 17:40:22",
                  "deviceId": "dev-1",
                  "index": 784,
                  "measureValue": 3190,
                  "unitSymbol": "RPM"
                },
                {
                  "dateTime": "2020-04-28 17:40:23",
                  "deviceId": "dev-1",
                  "index": 788,
                  "measureValue": 2719,
                  "unitSymbol": "RPM"
                },
                {
                  "dateTime": "2020-04-28 17:40:24",
                  "deviceId": "dev-1",
                  "index": 792,
                  "measureValue": 2978,
                  "unitSymbol": "RPM"
                },
                {
                  "dateTime": "2020-04-28 17:40:25",
                  "deviceId": "dev-1",
                  "index": 796,
                  "measureValue": 2846,
                  "unitSymbol": "RPM"
                },
                {
                  "dateTime": "2020-04-28 17:40:26",
                  "deviceId": "dev-1",
                  "index": 800,
                  "measureValue": 3170,
                  "unitSymbol": "RPM"
                },
                {
                  "dateTime": "2020-04-28 17:40:27",
                  "deviceId": "dev-1",
                  "index": 804,
                  "measureValue": 3101,
                  "unitSymbol": "RPM"
                },
                {
                  "dateTime": "2020-04-28 17:40:28",
                  "deviceId": "dev-1",
                  "index": 808,
                  "measureValue": 3195,
                  "unitSymbol": "RPM"
                },
                {
                  "dateTime": "2020-04-28 17:40:29",
                  "deviceId": "dev-1",
                  "index": 812,
                  "measureValue": 4391,
                  "unitSymbol": "RPM"
                },
                {
                  "dateTime": "2020-04-28 17:40:30",
                  "deviceId": "dev-1",
                  "index": 816,
                  "measureValue": 3170,
                  "unitSymbol": "RPM"
                },
                {
                  "dateTime": "2020-04-28 17:40:31",
                  "deviceId": "dev-1",
                  "index": 820,
                  "measureValue": 2790,
                  "unitSymbol": "RPM"
                },
                {
                  "dateTime": "2020-04-28 17:40:33",
                  "deviceId": "dev-1",
                  "index": 824,
                  "measureValue": 3046,
                  "unitSymbol": "RPM"
                },
                {
                  "dateTime": "2020-04-28 17:40:34",
                  "deviceId": "dev-1",
                  "index": 828,
                  "measureValue": 2960,
                  "unitSymbol": "RPM"
                },
                {
                  "dateTime": "2020-04-28 17:40:35",
                  "deviceId": "dev-1",
                  "index": 832,
                  "measureValue": 2946,
                  "unitSymbol": "RPM"
                },
                {
                  "dateTime": "2020-04-28 17:40:36",
                  "deviceId": "dev-1",
                  "index": 836,
                  "measureValue": 3085,
                  "unitSymbol": "RPM"
                },
                {
                  "dateTime": "2020-04-28 17:40:37",
                  "deviceId": "dev-1",
                  "index": 840,
                  "measureValue": 3039,
                  "unitSymbol": "RPM"
                },
                {
                  "dateTime": "2020-04-28 17:40:38",
                  "deviceId": "dev-1",
                  "index": 844,
                  "measureValue": 3233,
                  "unitSymbol": "RPM"
                },
                {
                  "dateTime": "2020-04-28 17:40:39",
                  "deviceId": "dev-1",
                  "index": 848,
                  "measureValue": 3114,
                  "unitSymbol": "RPM"
                },
                {
                  "dateTime": "2020-04-28 17:40:40",
                  "deviceId": "dev-1",
                  "index": 852,
                  "measureValue": 3019,
                  "unitSymbol": "RPM"
                },
                {
                  "dateTime": "2020-04-28 17:40:41",
                  "deviceId": "dev-1",
                  "index": 856,
                  "measureValue": 2904,
                  "unitSymbol": "RPM"
                },
                {
                  "dateTime": "2020-04-28 17:40:42",
                  "deviceId": "dev-1",
                  "index": 860,
                  "measureValue": 3060,
                  "unitSymbol": "RPM"
                },
                {
                  "dateTime": "2020-04-28 17:40:43",
                  "deviceId": "dev-1",
                  "index": 864,
                  "measureValue": 3151,
                  "unitSymbol": "RPM"
                },
                {
                  "dateTime": "2020-04-28 17:40:44",
                  "deviceId": "dev-1",
                  "index": 868,
                  "measureValue": 2722,
                  "unitSymbol": "RPM"
                },
                {
                  "dateTime": "2020-04-28 17:40:45",
                  "deviceId": "dev-1",
                  "index": 872,
                  "measureValue": 2944,
                  "unitSymbol": "RPM"
                },
                {
                  "dateTime": "2020-04-28 17:40:46",
                  "deviceId": "dev-1",
                  "index": 876,
                  "measureValue": 2981,
                  "unitSymbol": "RPM"
                },
                {
                  "dateTime": "2020-04-28 17:40:47",
                  "deviceId": "dev-1",
                  "index": 880,
                  "measureValue": 3074,
                  "unitSymbol": "RPM"
                },
                {
                  "dateTime": "2020-04-28 17:40:48",
                  "deviceId": "dev-1",
                  "index": 884,
                  "measureValue": 2935,
                  "unitSymbol": "RPM"
                },
                {
                  "dateTime": "2020-04-28 17:40:49",
                  "deviceId": "dev-1",
                  "index": 888,
                  "measureValue": 2993,
                  "unitSymbol": "RPM"
                },
                {
                  "dateTime": "2020-04-28 17:40:50",
                  "deviceId": "dev-1",
                  "index": 892,
                  "measureValue": 3098,
                  "unitSymbol": "RPM"
                },
                {
                  "dateTime": "2020-04-28 17:40:51",
                  "deviceId": "dev-1",
                  "index": 896,
                  "measureValue": 2799,
                  "unitSymbol": "RPM"
                },
                {
                  "dateTime": "2020-04-28 17:40:52",
                  "deviceId": "dev-1",
                  "index": 900,
                  "measureValue": 3010,
                  "unitSymbol": "RPM"
                },
                {
                  "dateTime": "2020-04-28 17:40:53",
                  "deviceId": "dev-1",
                  "index": 904,
                  "measureValue": 3044,
                  "unitSymbol": "RPM"
                },
                {
                  "dateTime": "2020-04-28 17:40:54",
                  "deviceId": "dev-1",
                  "index": 908,
                  "measureValue": 4060,
                  "unitSymbol": "RPM"
                },
                {
                  "dateTime": "2020-04-28 17:40:55",
                  "deviceId": "dev-1",
                  "index": 912,
                  "measureValue": 4388,
                  "unitSymbol": "RPM"
                },
                {
                  "dateTime": "2020-04-28 17:40:56",
                  "deviceId": "dev-1",
                  "index": 916,
                  "measureValue": 2753,
                  "unitSymbol": "RPM"
                },
                {
                  "dateTime": "2020-04-28 17:40:57",
                  "deviceId": "dev-1",
                  "index": 920,
                  "measureValue": 2788,
                  "unitSymbol": "RPM"
                },
                {
                  "dateTime": "2020-04-28 17:40:59",
                  "deviceId": "dev-1",
                  "index": 924,
                  "measureValue": 2937,
                  "unitSymbol": "RPM"
                },
                {
                  "dateTime": "2020-04-28 17:41:00",
                  "deviceId": "dev-1",
                  "index": 928,
                  "measureValue": 2996,
                  "unitSymbol": "RPM"
                },
                {
                  "dateTime": "2020-04-28 17:41:01",
                  "deviceId": "dev-1",
                  "index": 932,
                  "measureValue": 2828,
                  "unitSymbol": "RPM"
                },
                {
                  "dateTime": "2020-04-28 17:41:02",
                  "deviceId": "dev-1",
                  "index": 936,
                  "measureValue": 3296,
                  "unitSymbol": "RPM"
                },
                {
                  "dateTime": "2020-04-28 17:41:03",
                  "deviceId": "dev-1",
                  "index": 940,
                  "measureValue": 3227,
                  "unitSymbol": "RPM"
                },
                {
                  "dateTime": "2020-04-28 17:41:04",
                  "deviceId": "dev-1",
                  "index": 944,
                  "measureValue": 2981,
                  "unitSymbol": "RPM"
                },
                {
                  "dateTime": "2020-04-28 17:41:05",
                  "deviceId": "dev-1",
                  "index": 948,
                  "measureValue": 3242,
                  "unitSymbol": "RPM"
                },
                {
                  "dateTime": "2020-04-28 17:41:06",
                  "deviceId": "dev-1",
                  "index": 952,
                  "measureValue": 2873,
                  "unitSymbol": "RPM"
                },
                {
                  "dateTime": "2020-04-28 17:41:07",
                  "deviceId": "dev-1",
                  "index": 956,
                  "measureValue": 3256,
                  "unitSymbol": "RPM"
                },
                {
                  "dateTime": "2020-04-28 17:41:08",
                  "deviceId": "dev-1",
                  "index": 960,
                  "measureValue": 2716,
                  "unitSymbol": "RPM"
                },
                {
                  "dateTime": "2020-04-28 17:41:09",
                  "deviceId": "dev-1",
                  "index": 964,
                  "measureValue": 3000,
                  "unitSymbol": "RPM"
                },
                {
                  "dateTime": "2020-04-28 17:41:10",
                  "deviceId": "dev-1",
                  "index": 968,
                  "measureValue": 3246,
                  "unitSymbol": "RPM"
                },
                {
                  "dateTime": "2020-04-28 17:41:11",
                  "deviceId": "dev-1",
                  "index": 972,
                  "measureValue": 2805,
                  "unitSymbol": "RPM"
                },
                {
                  "dateTime": "2020-04-28 17:41:12",
                  "deviceId": "dev-1",
                  "index": 976,
                  "measureValue": 3138,
                  "unitSymbol": "RPM"
                },
                {
                  "dateTime": "2020-04-28 17:41:13",
                  "deviceId": "dev-1",
                  "index": 980,
                  "measureValue": 2787,
                  "unitSymbol": "RPM"
                },
                {
                  "dateTime": "2020-04-28 17:41:14",
                  "deviceId": "dev-1",
                  "index": 984,
                  "measureValue": 3167,
                  "unitSymbol": "RPM"
                },
                {
                  "dateTime": "2020-04-28 17:41:15",
                  "deviceId": "dev-1",
                  "index": 988,
                  "measureValue": 3248,
                  "unitSymbol": "RPM"
                },
                {
                  "dateTime": "2020-04-28 17:41:16",
                  "deviceId": "dev-1",
                  "index": 992,
                  "measureValue": 2893,
                  "unitSymbol": "RPM"
                },
                {
                  "dateTime": "2020-04-28 17:41:17",
                  "deviceId": "dev-1",
                  "index": 996,
                  "measureValue": 3027,
                  "unitSymbol": "RPM"
                }
              ],
              "schema": {
                "fields": [
                  {
                    "name": "index",
                    "type": "integer"
                  },
                  {
                    "name": "dateTime",
                    "type": "string"
                  },
                  {
                    "name": "unitSymbol",
                    "type": "string"
                  },
                  {
                    "name": "measureValue",
                    "type": "integer"
                  },
                  {
                    "name": "deviceId",
                    "type": "string"
                  }
                ],
                "pandas_version": "0.20.0",
                "primaryKey": [
                  "index"
                ]
              }
            },
            "text/html": "<div>\n<style scoped>\n    .dataframe tbody tr th:only-of-type {\n        vertical-align: middle;\n    }\n\n    .dataframe tbody tr th {\n        vertical-align: top;\n    }\n\n    .dataframe thead th {\n        text-align: right;\n    }\n</style>\n<table border=\"1\" class=\"dataframe\">\n  <thead>\n    <tr style=\"text-align: right;\">\n      <th></th>\n      <th>dateTime</th>\n      <th>unitSymbol</th>\n      <th>measureValue</th>\n      <th>deviceId</th>\n    </tr>\n  </thead>\n  <tbody>\n    <tr>\n      <th>0</th>\n      <td>2020-04-28 17:36:57</td>\n      <td>RPM</td>\n      <td>3048</td>\n      <td>dev-1</td>\n    </tr>\n    <tr>\n      <th>4</th>\n      <td>2020-04-28 17:36:58</td>\n      <td>RPM</td>\n      <td>2930</td>\n      <td>dev-1</td>\n    </tr>\n    <tr>\n      <th>8</th>\n      <td>2020-04-28 17:36:59</td>\n      <td>RPM</td>\n      <td>3221</td>\n      <td>dev-1</td>\n    </tr>\n    <tr>\n      <th>12</th>\n      <td>2020-04-28 17:37:00</td>\n      <td>RPM</td>\n      <td>2939</td>\n      <td>dev-1</td>\n    </tr>\n    <tr>\n      <th>16</th>\n      <td>2020-04-28 17:37:01</td>\n      <td>RPM</td>\n      <td>3047</td>\n      <td>dev-1</td>\n    </tr>\n    <tr>\n      <th>20</th>\n      <td>2020-04-28 17:37:02</td>\n      <td>RPM</td>\n      <td>2826</td>\n      <td>dev-1</td>\n    </tr>\n    <tr>\n      <th>24</th>\n      <td>2020-04-28 17:37:03</td>\n      <td>RPM</td>\n      <td>3111</td>\n      <td>dev-1</td>\n    </tr>\n    <tr>\n      <th>28</th>\n      <td>2020-04-28 17:37:04</td>\n      <td>RPM</td>\n      <td>3126</td>\n      <td>dev-1</td>\n    </tr>\n    <tr>\n      <th>32</th>\n      <td>2020-04-28 17:37:05</td>\n      <td>RPM</td>\n      <td>3242</td>\n      <td>dev-1</td>\n    </tr>\n    <tr>\n      <th>36</th>\n      <td>2020-04-28 17:37:06</td>\n      <td>RPM</td>\n      <td>2903</td>\n      <td>dev-1</td>\n    </tr>\n    <tr>\n      <th>40</th>\n      <td>2020-04-28 17:37:07</td>\n      <td>RPM</td>\n      <td>3046</td>\n      <td>dev-1</td>\n    </tr>\n    <tr>\n      <th>44</th>\n      <td>2020-04-28 17:37:08</td>\n      <td>RPM</td>\n      <td>2937</td>\n      <td>dev-1</td>\n    </tr>\n    <tr>\n      <th>48</th>\n      <td>2020-04-28 17:37:10</td>\n      <td>RPM</td>\n      <td>2754</td>\n      <td>dev-1</td>\n    </tr>\n    <tr>\n      <th>52</th>\n      <td>2020-04-28 17:37:11</td>\n      <td>RPM</td>\n      <td>2825</td>\n      <td>dev-1</td>\n    </tr>\n    <tr>\n      <th>56</th>\n      <td>2020-04-28 17:37:12</td>\n      <td>RPM</td>\n      <td>2857</td>\n      <td>dev-1</td>\n    </tr>\n    <tr>\n      <th>60</th>\n      <td>2020-04-28 17:37:13</td>\n      <td>RPM</td>\n      <td>3060</td>\n      <td>dev-1</td>\n    </tr>\n    <tr>\n      <th>64</th>\n      <td>2020-04-28 17:37:14</td>\n      <td>RPM</td>\n      <td>3092</td>\n      <td>dev-1</td>\n    </tr>\n    <tr>\n      <th>68</th>\n      <td>2020-04-28 17:37:15</td>\n      <td>RPM</td>\n      <td>3145</td>\n      <td>dev-1</td>\n    </tr>\n    <tr>\n      <th>72</th>\n      <td>2020-04-28 17:37:16</td>\n      <td>RPM</td>\n      <td>3132</td>\n      <td>dev-1</td>\n    </tr>\n    <tr>\n      <th>76</th>\n      <td>2020-04-28 17:37:17</td>\n      <td>RPM</td>\n      <td>2902</td>\n      <td>dev-1</td>\n    </tr>\n    <tr>\n      <th>80</th>\n      <td>2020-04-28 17:37:18</td>\n      <td>RPM</td>\n      <td>3153</td>\n      <td>dev-1</td>\n    </tr>\n    <tr>\n      <th>84</th>\n      <td>2020-04-28 17:37:19</td>\n      <td>RPM</td>\n      <td>2754</td>\n      <td>dev-1</td>\n    </tr>\n    <tr>\n      <th>88</th>\n      <td>2020-04-28 17:37:20</td>\n      <td>RPM</td>\n      <td>2799</td>\n      <td>dev-1</td>\n    </tr>\n    <tr>\n      <th>92</th>\n      <td>2020-04-28 17:37:21</td>\n      <td>RPM</td>\n      <td>2705</td>\n      <td>dev-1</td>\n    </tr>\n    <tr>\n      <th>96</th>\n      <td>2020-04-28 17:37:22</td>\n      <td>RPM</td>\n      <td>2780</td>\n      <td>dev-1</td>\n    </tr>\n    <tr>\n      <th>100</th>\n      <td>2020-04-28 17:37:23</td>\n      <td>RPM</td>\n      <td>3065</td>\n      <td>dev-1</td>\n    </tr>\n    <tr>\n      <th>104</th>\n      <td>2020-04-28 17:37:24</td>\n      <td>RPM</td>\n      <td>3022</td>\n      <td>dev-1</td>\n    </tr>\n    <tr>\n      <th>108</th>\n      <td>2020-04-28 17:37:25</td>\n      <td>RPM</td>\n      <td>3132</td>\n      <td>dev-1</td>\n    </tr>\n    <tr>\n      <th>112</th>\n      <td>2020-04-28 17:37:26</td>\n      <td>RPM</td>\n      <td>2732</td>\n      <td>dev-1</td>\n    </tr>\n    <tr>\n      <th>116</th>\n      <td>2020-04-28 17:37:27</td>\n      <td>RPM</td>\n      <td>2972</td>\n      <td>dev-1</td>\n    </tr>\n    <tr>\n      <th>120</th>\n      <td>2020-04-28 17:37:29</td>\n      <td>RPM</td>\n      <td>2947</td>\n      <td>dev-1</td>\n    </tr>\n    <tr>\n      <th>124</th>\n      <td>2020-04-28 17:37:30</td>\n      <td>RPM</td>\n      <td>3039</td>\n      <td>dev-1</td>\n    </tr>\n    <tr>\n      <th>128</th>\n      <td>2020-04-28 17:37:31</td>\n      <td>RPM</td>\n      <td>3249</td>\n      <td>dev-1</td>\n    </tr>\n    <tr>\n      <th>132</th>\n      <td>2020-04-28 17:37:32</td>\n      <td>RPM</td>\n      <td>2717</td>\n      <td>dev-1</td>\n    </tr>\n    <tr>\n      <th>136</th>\n      <td>2020-04-28 17:37:33</td>\n      <td>RPM</td>\n      <td>2881</td>\n      <td>dev-1</td>\n    </tr>\n    <tr>\n      <th>140</th>\n      <td>2020-04-28 17:37:34</td>\n      <td>RPM</td>\n      <td>3259</td>\n      <td>dev-1</td>\n    </tr>\n    <tr>\n      <th>144</th>\n      <td>2020-04-28 17:37:35</td>\n      <td>RPM</td>\n      <td>2749</td>\n      <td>dev-1</td>\n    </tr>\n    <tr>\n      <th>148</th>\n      <td>2020-04-28 17:37:36</td>\n      <td>RPM</td>\n      <td>2792</td>\n      <td>dev-1</td>\n    </tr>\n    <tr>\n      <th>152</th>\n      <td>2020-04-28 17:37:37</td>\n      <td>RPM</td>\n      <td>4003</td>\n      <td>dev-1</td>\n    </tr>\n    <tr>\n      <th>156</th>\n      <td>2020-04-28 17:37:38</td>\n      <td>RPM</td>\n      <td>2735</td>\n      <td>dev-1</td>\n    </tr>\n    <tr>\n      <th>160</th>\n      <td>2020-04-28 17:37:39</td>\n      <td>RPM</td>\n      <td>3044</td>\n      <td>dev-1</td>\n    </tr>\n    <tr>\n      <th>164</th>\n      <td>2020-04-28 17:37:40</td>\n      <td>RPM</td>\n      <td>2793</td>\n      <td>dev-1</td>\n    </tr>\n    <tr>\n      <th>168</th>\n      <td>2020-04-28 17:37:41</td>\n      <td>RPM</td>\n      <td>2740</td>\n      <td>dev-1</td>\n    </tr>\n    <tr>\n      <th>172</th>\n      <td>2020-04-28 17:37:42</td>\n      <td>RPM</td>\n      <td>3116</td>\n      <td>dev-1</td>\n    </tr>\n    <tr>\n      <th>176</th>\n      <td>2020-04-28 17:37:43</td>\n      <td>RPM</td>\n      <td>2880</td>\n      <td>dev-1</td>\n    </tr>\n    <tr>\n      <th>180</th>\n      <td>2020-04-28 17:37:44</td>\n      <td>RPM</td>\n      <td>2803</td>\n      <td>dev-1</td>\n    </tr>\n    <tr>\n      <th>184</th>\n      <td>2020-04-28 17:37:45</td>\n      <td>RPM</td>\n      <td>3291</td>\n      <td>dev-1</td>\n    </tr>\n    <tr>\n      <th>188</th>\n      <td>2020-04-28 17:37:46</td>\n      <td>RPM</td>\n      <td>3124</td>\n      <td>dev-1</td>\n    </tr>\n    <tr>\n      <th>192</th>\n      <td>2020-04-28 17:37:47</td>\n      <td>RPM</td>\n      <td>2952</td>\n      <td>dev-1</td>\n    </tr>\n    <tr>\n      <th>196</th>\n      <td>2020-04-28 17:37:49</td>\n      <td>RPM</td>\n      <td>3196</td>\n      <td>dev-1</td>\n    </tr>\n    <tr>\n      <th>200</th>\n      <td>2020-04-28 17:37:50</td>\n      <td>RPM</td>\n      <td>2817</td>\n      <td>dev-1</td>\n    </tr>\n    <tr>\n      <th>204</th>\n      <td>2020-04-28 17:37:51</td>\n      <td>RPM</td>\n      <td>2946</td>\n      <td>dev-1</td>\n    </tr>\n    <tr>\n      <th>208</th>\n      <td>2020-04-28 17:37:52</td>\n      <td>RPM</td>\n      <td>3232</td>\n      <td>dev-1</td>\n    </tr>\n    <tr>\n      <th>212</th>\n      <td>2020-04-28 17:37:53</td>\n      <td>RPM</td>\n      <td>2985</td>\n      <td>dev-1</td>\n    </tr>\n    <tr>\n      <th>216</th>\n      <td>2020-04-28 17:37:54</td>\n      <td>RPM</td>\n      <td>3254</td>\n      <td>dev-1</td>\n    </tr>\n    <tr>\n      <th>220</th>\n      <td>2020-04-28 17:37:55</td>\n      <td>RPM</td>\n      <td>3005</td>\n      <td>dev-1</td>\n    </tr>\n    <tr>\n      <th>224</th>\n      <td>2020-04-28 17:37:56</td>\n      <td>RPM</td>\n      <td>2719</td>\n      <td>dev-1</td>\n    </tr>\n    <tr>\n      <th>228</th>\n      <td>2020-04-28 17:37:57</td>\n      <td>RPM</td>\n      <td>2776</td>\n      <td>dev-1</td>\n    </tr>\n    <tr>\n      <th>232</th>\n      <td>2020-04-28 17:37:58</td>\n      <td>RPM</td>\n      <td>2841</td>\n      <td>dev-1</td>\n    </tr>\n    <tr>\n      <th>236</th>\n      <td>2020-04-28 17:37:59</td>\n      <td>RPM</td>\n      <td>3178</td>\n      <td>dev-1</td>\n    </tr>\n    <tr>\n      <th>240</th>\n      <td>2020-04-28 17:38:00</td>\n      <td>RPM</td>\n      <td>2862</td>\n      <td>dev-1</td>\n    </tr>\n    <tr>\n      <th>244</th>\n      <td>2020-04-28 17:38:01</td>\n      <td>RPM</td>\n      <td>2918</td>\n      <td>dev-1</td>\n    </tr>\n    <tr>\n      <th>248</th>\n      <td>2020-04-28 17:38:02</td>\n      <td>RPM</td>\n      <td>3049</td>\n      <td>dev-1</td>\n    </tr>\n    <tr>\n      <th>252</th>\n      <td>2020-04-28 17:38:03</td>\n      <td>RPM</td>\n      <td>2886</td>\n      <td>dev-1</td>\n    </tr>\n    <tr>\n      <th>256</th>\n      <td>2020-04-28 17:38:04</td>\n      <td>RPM</td>\n      <td>3258</td>\n      <td>dev-1</td>\n    </tr>\n    <tr>\n      <th>260</th>\n      <td>2020-04-28 17:38:05</td>\n      <td>RPM</td>\n      <td>2761</td>\n      <td>dev-1</td>\n    </tr>\n    <tr>\n      <th>264</th>\n      <td>2020-04-28 17:38:06</td>\n      <td>RPM</td>\n      <td>3147</td>\n      <td>dev-1</td>\n    </tr>\n    <tr>\n      <th>268</th>\n      <td>2020-04-28 17:38:07</td>\n      <td>RPM</td>\n      <td>3180</td>\n      <td>dev-1</td>\n    </tr>\n    <tr>\n      <th>272</th>\n      <td>2020-04-28 17:38:08</td>\n      <td>RPM</td>\n      <td>2800</td>\n      <td>dev-1</td>\n    </tr>\n    <tr>\n      <th>276</th>\n      <td>2020-04-28 17:38:10</td>\n      <td>RPM</td>\n      <td>3129</td>\n      <td>dev-1</td>\n    </tr>\n    <tr>\n      <th>280</th>\n      <td>2020-04-28 17:38:11</td>\n      <td>RPM</td>\n      <td>4310</td>\n      <td>dev-1</td>\n    </tr>\n    <tr>\n      <th>284</th>\n      <td>2020-04-28 17:38:12</td>\n      <td>RPM</td>\n      <td>2703</td>\n      <td>dev-1</td>\n    </tr>\n    <tr>\n      <th>288</th>\n      <td>2020-04-28 17:38:13</td>\n      <td>RPM</td>\n      <td>2794</td>\n      <td>dev-1</td>\n    </tr>\n    <tr>\n      <th>292</th>\n      <td>2020-04-28 17:38:14</td>\n      <td>RPM</td>\n      <td>2891</td>\n      <td>dev-1</td>\n    </tr>\n    <tr>\n      <th>296</th>\n      <td>2020-04-28 17:38:15</td>\n      <td>RPM</td>\n      <td>3091</td>\n      <td>dev-1</td>\n    </tr>\n    <tr>\n      <th>300</th>\n      <td>2020-04-28 17:38:16</td>\n      <td>RPM</td>\n      <td>3222</td>\n      <td>dev-1</td>\n    </tr>\n    <tr>\n      <th>304</th>\n      <td>2020-04-28 17:38:17</td>\n      <td>RPM</td>\n      <td>2926</td>\n      <td>dev-1</td>\n    </tr>\n    <tr>\n      <th>308</th>\n      <td>2020-04-28 17:38:18</td>\n      <td>RPM</td>\n      <td>3146</td>\n      <td>dev-1</td>\n    </tr>\n    <tr>\n      <th>312</th>\n      <td>2020-04-28 17:38:19</td>\n      <td>RPM</td>\n      <td>3020</td>\n      <td>dev-1</td>\n    </tr>\n    <tr>\n      <th>316</th>\n      <td>2020-04-28 17:38:20</td>\n      <td>RPM</td>\n      <td>2988</td>\n      <td>dev-1</td>\n    </tr>\n    <tr>\n      <th>320</th>\n      <td>2020-04-28 17:38:21</td>\n      <td>RPM</td>\n      <td>3016</td>\n      <td>dev-1</td>\n    </tr>\n    <tr>\n      <th>324</th>\n      <td>2020-04-28 17:38:22</td>\n      <td>RPM</td>\n      <td>3123</td>\n      <td>dev-1</td>\n    </tr>\n    <tr>\n      <th>328</th>\n      <td>2020-04-28 17:38:23</td>\n      <td>RPM</td>\n      <td>2802</td>\n      <td>dev-1</td>\n    </tr>\n    <tr>\n      <th>332</th>\n      <td>2020-04-28 17:38:24</td>\n      <td>RPM</td>\n      <td>3229</td>\n      <td>dev-1</td>\n    </tr>\n    <tr>\n      <th>336</th>\n      <td>2020-04-28 17:38:25</td>\n      <td>RPM</td>\n      <td>3054</td>\n      <td>dev-1</td>\n    </tr>\n    <tr>\n      <th>340</th>\n      <td>2020-04-28 17:38:26</td>\n      <td>RPM</td>\n      <td>2942</td>\n      <td>dev-1</td>\n    </tr>\n    <tr>\n      <th>344</th>\n      <td>2020-04-28 17:38:27</td>\n      <td>RPM</td>\n      <td>2884</td>\n      <td>dev-1</td>\n    </tr>\n    <tr>\n      <th>348</th>\n      <td>2020-04-28 17:38:28</td>\n      <td>RPM</td>\n      <td>3256</td>\n      <td>dev-1</td>\n    </tr>\n    <tr>\n      <th>352</th>\n      <td>2020-04-28 17:38:30</td>\n      <td>RPM</td>\n      <td>3120</td>\n      <td>dev-1</td>\n    </tr>\n    <tr>\n      <th>356</th>\n      <td>2020-04-28 17:38:31</td>\n      <td>RPM</td>\n      <td>2715</td>\n      <td>dev-1</td>\n    </tr>\n    <tr>\n      <th>360</th>\n      <td>2020-04-28 17:38:32</td>\n      <td>RPM</td>\n      <td>2764</td>\n      <td>dev-1</td>\n    </tr>\n    <tr>\n      <th>364</th>\n      <td>2020-04-28 17:38:33</td>\n      <td>RPM</td>\n      <td>2732</td>\n      <td>dev-1</td>\n    </tr>\n    <tr>\n      <th>368</th>\n      <td>2020-04-28 17:38:34</td>\n      <td>RPM</td>\n      <td>3111</td>\n      <td>dev-1</td>\n    </tr>\n    <tr>\n      <th>372</th>\n      <td>2020-04-28 17:38:35</td>\n      <td>RPM</td>\n      <td>3277</td>\n      <td>dev-1</td>\n    </tr>\n    <tr>\n      <th>376</th>\n      <td>2020-04-28 17:38:36</td>\n      <td>RPM</td>\n      <td>3221</td>\n      <td>dev-1</td>\n    </tr>\n    <tr>\n      <th>380</th>\n      <td>2020-04-28 17:38:37</td>\n      <td>RPM</td>\n      <td>3055</td>\n      <td>dev-1</td>\n    </tr>\n    <tr>\n      <th>384</th>\n      <td>2020-04-28 17:38:38</td>\n      <td>RPM</td>\n      <td>2702</td>\n      <td>dev-1</td>\n    </tr>\n    <tr>\n      <th>388</th>\n      <td>2020-04-28 17:38:39</td>\n      <td>RPM</td>\n      <td>3077</td>\n      <td>dev-1</td>\n    </tr>\n    <tr>\n      <th>392</th>\n      <td>2020-04-28 17:38:40</td>\n      <td>RPM</td>\n      <td>2880</td>\n      <td>dev-1</td>\n    </tr>\n    <tr>\n      <th>396</th>\n      <td>2020-04-28 17:38:41</td>\n      <td>RPM</td>\n      <td>2987</td>\n      <td>dev-1</td>\n    </tr>\n    <tr>\n      <th>400</th>\n      <td>2020-04-28 17:38:42</td>\n      <td>RPM</td>\n      <td>2880</td>\n      <td>dev-1</td>\n    </tr>\n    <tr>\n      <th>404</th>\n      <td>2020-04-28 17:38:43</td>\n      <td>RPM</td>\n      <td>2913</td>\n      <td>dev-1</td>\n    </tr>\n    <tr>\n      <th>408</th>\n      <td>2020-04-28 17:38:44</td>\n      <td>RPM</td>\n      <td>2903</td>\n      <td>dev-1</td>\n    </tr>\n    <tr>\n      <th>412</th>\n      <td>2020-04-28 17:38:45</td>\n      <td>RPM</td>\n      <td>2764</td>\n      <td>dev-1</td>\n    </tr>\n    <tr>\n      <th>416</th>\n      <td>2020-04-28 17:38:46</td>\n      <td>RPM</td>\n      <td>2974</td>\n      <td>dev-1</td>\n    </tr>\n    <tr>\n      <th>420</th>\n      <td>2020-04-28 17:38:47</td>\n      <td>RPM</td>\n      <td>3238</td>\n      <td>dev-1</td>\n    </tr>\n    <tr>\n      <th>424</th>\n      <td>2020-04-28 17:38:48</td>\n      <td>RPM</td>\n      <td>2839</td>\n      <td>dev-1</td>\n    </tr>\n    <tr>\n      <th>428</th>\n      <td>2020-04-28 17:38:49</td>\n      <td>RPM</td>\n      <td>2720</td>\n      <td>dev-1</td>\n    </tr>\n    <tr>\n      <th>432</th>\n      <td>2020-04-28 17:38:50</td>\n      <td>RPM</td>\n      <td>3280</td>\n      <td>dev-1</td>\n    </tr>\n    <tr>\n      <th>436</th>\n      <td>2020-04-28 17:38:51</td>\n      <td>RPM</td>\n      <td>2828</td>\n      <td>dev-1</td>\n    </tr>\n    <tr>\n      <th>440</th>\n      <td>2020-04-28 17:38:53</td>\n      <td>RPM</td>\n      <td>2740</td>\n      <td>dev-1</td>\n    </tr>\n    <tr>\n      <th>444</th>\n      <td>2020-04-28 17:38:54</td>\n      <td>RPM</td>\n      <td>3104</td>\n      <td>dev-1</td>\n    </tr>\n    <tr>\n      <th>448</th>\n      <td>2020-04-28 17:38:55</td>\n      <td>RPM</td>\n      <td>2850</td>\n      <td>dev-1</td>\n    </tr>\n    <tr>\n      <th>452</th>\n      <td>2020-04-28 17:38:56</td>\n      <td>RPM</td>\n      <td>2931</td>\n      <td>dev-1</td>\n    </tr>\n    <tr>\n      <th>456</th>\n      <td>2020-04-28 17:38:57</td>\n      <td>RPM</td>\n      <td>2787</td>\n      <td>dev-1</td>\n    </tr>\n    <tr>\n      <th>460</th>\n      <td>2020-04-28 17:38:58</td>\n      <td>RPM</td>\n      <td>3159</td>\n      <td>dev-1</td>\n    </tr>\n    <tr>\n      <th>464</th>\n      <td>2020-04-28 17:38:59</td>\n      <td>RPM</td>\n      <td>3224</td>\n      <td>dev-1</td>\n    </tr>\n    <tr>\n      <th>468</th>\n      <td>2020-04-28 17:39:00</td>\n      <td>RPM</td>\n      <td>2738</td>\n      <td>dev-1</td>\n    </tr>\n    <tr>\n      <th>472</th>\n      <td>2020-04-28 17:39:01</td>\n      <td>RPM</td>\n      <td>2805</td>\n      <td>dev-1</td>\n    </tr>\n    <tr>\n      <th>476</th>\n      <td>2020-04-28 17:39:02</td>\n      <td>RPM</td>\n      <td>3232</td>\n      <td>dev-1</td>\n    </tr>\n    <tr>\n      <th>480</th>\n      <td>2020-04-28 17:39:03</td>\n      <td>RPM</td>\n      <td>3030</td>\n      <td>dev-1</td>\n    </tr>\n    <tr>\n      <th>484</th>\n      <td>2020-04-28 17:39:04</td>\n      <td>RPM</td>\n      <td>2871</td>\n      <td>dev-1</td>\n    </tr>\n    <tr>\n      <th>488</th>\n      <td>2020-04-28 17:39:05</td>\n      <td>RPM</td>\n      <td>2911</td>\n      <td>dev-1</td>\n    </tr>\n    <tr>\n      <th>492</th>\n      <td>2020-04-28 17:39:06</td>\n      <td>RPM</td>\n      <td>2700</td>\n      <td>dev-1</td>\n    </tr>\n    <tr>\n      <th>496</th>\n      <td>2020-04-28 17:39:07</td>\n      <td>RPM</td>\n      <td>3008</td>\n      <td>dev-1</td>\n    </tr>\n    <tr>\n      <th>500</th>\n      <td>2020-04-28 17:39:08</td>\n      <td>RPM</td>\n      <td>3012</td>\n      <td>dev-1</td>\n    </tr>\n    <tr>\n      <th>504</th>\n      <td>2020-04-28 17:39:09</td>\n      <td>RPM</td>\n      <td>3246</td>\n      <td>dev-1</td>\n    </tr>\n    <tr>\n      <th>508</th>\n      <td>2020-04-28 17:39:10</td>\n      <td>RPM</td>\n      <td>3034</td>\n      <td>dev-1</td>\n    </tr>\n    <tr>\n      <th>512</th>\n      <td>2020-04-28 17:39:11</td>\n      <td>RPM</td>\n      <td>2891</td>\n      <td>dev-1</td>\n    </tr>\n    <tr>\n      <th>516</th>\n      <td>2020-04-28 17:39:12</td>\n      <td>RPM</td>\n      <td>2713</td>\n      <td>dev-1</td>\n    </tr>\n    <tr>\n      <th>520</th>\n      <td>2020-04-28 17:39:13</td>\n      <td>RPM</td>\n      <td>2821</td>\n      <td>dev-1</td>\n    </tr>\n    <tr>\n      <th>524</th>\n      <td>2020-04-28 17:39:14</td>\n      <td>RPM</td>\n      <td>3231</td>\n      <td>dev-1</td>\n    </tr>\n    <tr>\n      <th>528</th>\n      <td>2020-04-28 17:39:15</td>\n      <td>RPM</td>\n      <td>2946</td>\n      <td>dev-1</td>\n    </tr>\n    <tr>\n      <th>532</th>\n      <td>2020-04-28 17:39:16</td>\n      <td>RPM</td>\n      <td>2752</td>\n      <td>dev-1</td>\n    </tr>\n    <tr>\n      <th>536</th>\n      <td>2020-04-28 17:39:17</td>\n      <td>RPM</td>\n      <td>3248</td>\n      <td>dev-1</td>\n    </tr>\n    <tr>\n      <th>540</th>\n      <td>2020-04-28 17:39:18</td>\n      <td>RPM</td>\n      <td>2771</td>\n      <td>dev-1</td>\n    </tr>\n    <tr>\n      <th>544</th>\n      <td>2020-04-28 17:39:20</td>\n      <td>RPM</td>\n      <td>3052</td>\n      <td>dev-1</td>\n    </tr>\n    <tr>\n      <th>548</th>\n      <td>2020-04-28 17:39:21</td>\n      <td>RPM</td>\n      <td>3290</td>\n      <td>dev-1</td>\n    </tr>\n    <tr>\n      <th>552</th>\n      <td>2020-04-28 17:39:22</td>\n      <td>RPM</td>\n      <td>2922</td>\n      <td>dev-1</td>\n    </tr>\n    <tr>\n      <th>556</th>\n      <td>2020-04-28 17:39:23</td>\n      <td>RPM</td>\n      <td>3090</td>\n      <td>dev-1</td>\n    </tr>\n    <tr>\n      <th>560</th>\n      <td>2020-04-28 17:39:24</td>\n      <td>RPM</td>\n      <td>3185</td>\n      <td>dev-1</td>\n    </tr>\n    <tr>\n      <th>564</th>\n      <td>2020-04-28 17:39:25</td>\n      <td>RPM</td>\n      <td>3252</td>\n      <td>dev-1</td>\n    </tr>\n    <tr>\n      <th>568</th>\n      <td>2020-04-28 17:39:26</td>\n      <td>RPM</td>\n      <td>3216</td>\n      <td>dev-1</td>\n    </tr>\n    <tr>\n      <th>572</th>\n      <td>2020-04-28 17:39:27</td>\n      <td>RPM</td>\n      <td>2710</td>\n      <td>dev-1</td>\n    </tr>\n    <tr>\n      <th>576</th>\n      <td>2020-04-28 17:39:28</td>\n      <td>RPM</td>\n      <td>2826</td>\n      <td>dev-1</td>\n    </tr>\n    <tr>\n      <th>580</th>\n      <td>2020-04-28 17:39:29</td>\n      <td>RPM</td>\n      <td>2731</td>\n      <td>dev-1</td>\n    </tr>\n    <tr>\n      <th>584</th>\n      <td>2020-04-28 17:39:30</td>\n      <td>RPM</td>\n      <td>3006</td>\n      <td>dev-1</td>\n    </tr>\n    <tr>\n      <th>588</th>\n      <td>2020-04-28 17:39:31</td>\n      <td>RPM</td>\n      <td>3173</td>\n      <td>dev-1</td>\n    </tr>\n    <tr>\n      <th>592</th>\n      <td>2020-04-28 17:39:32</td>\n      <td>RPM</td>\n      <td>3210</td>\n      <td>dev-1</td>\n    </tr>\n    <tr>\n      <th>596</th>\n      <td>2020-04-28 17:39:33</td>\n      <td>RPM</td>\n      <td>2715</td>\n      <td>dev-1</td>\n    </tr>\n    <tr>\n      <th>600</th>\n      <td>2020-04-28 17:39:34</td>\n      <td>RPM</td>\n      <td>2843</td>\n      <td>dev-1</td>\n    </tr>\n    <tr>\n      <th>604</th>\n      <td>2020-04-28 17:39:35</td>\n      <td>RPM</td>\n      <td>4367</td>\n      <td>dev-1</td>\n    </tr>\n    <tr>\n      <th>608</th>\n      <td>2020-04-28 17:39:36</td>\n      <td>RPM</td>\n      <td>2984</td>\n      <td>dev-1</td>\n    </tr>\n    <tr>\n      <th>612</th>\n      <td>2020-04-28 17:39:37</td>\n      <td>RPM</td>\n      <td>3266</td>\n      <td>dev-1</td>\n    </tr>\n    <tr>\n      <th>616</th>\n      <td>2020-04-28 17:39:38</td>\n      <td>RPM</td>\n      <td>3214</td>\n      <td>dev-1</td>\n    </tr>\n    <tr>\n      <th>620</th>\n      <td>2020-04-28 17:39:39</td>\n      <td>RPM</td>\n      <td>2886</td>\n      <td>dev-1</td>\n    </tr>\n    <tr>\n      <th>624</th>\n      <td>2020-04-28 17:39:40</td>\n      <td>RPM</td>\n      <td>2796</td>\n      <td>dev-1</td>\n    </tr>\n    <tr>\n      <th>628</th>\n      <td>2020-04-28 17:39:41</td>\n      <td>RPM</td>\n      <td>2805</td>\n      <td>dev-1</td>\n    </tr>\n    <tr>\n      <th>632</th>\n      <td>2020-04-28 17:39:42</td>\n      <td>RPM</td>\n      <td>3247</td>\n      <td>dev-1</td>\n    </tr>\n    <tr>\n      <th>636</th>\n      <td>2020-04-28 17:39:44</td>\n      <td>RPM</td>\n      <td>2810</td>\n      <td>dev-1</td>\n    </tr>\n    <tr>\n      <th>640</th>\n      <td>2020-04-28 17:39:45</td>\n      <td>RPM</td>\n      <td>3288</td>\n      <td>dev-1</td>\n    </tr>\n    <tr>\n      <th>644</th>\n      <td>2020-04-28 17:39:46</td>\n      <td>RPM</td>\n      <td>2729</td>\n      <td>dev-1</td>\n    </tr>\n    <tr>\n      <th>648</th>\n      <td>2020-04-28 17:39:47</td>\n      <td>RPM</td>\n      <td>3120</td>\n      <td>dev-1</td>\n    </tr>\n    <tr>\n      <th>652</th>\n      <td>2020-04-28 17:39:48</td>\n      <td>RPM</td>\n      <td>3066</td>\n      <td>dev-1</td>\n    </tr>\n    <tr>\n      <th>656</th>\n      <td>2020-04-28 17:39:49</td>\n      <td>RPM</td>\n      <td>3159</td>\n      <td>dev-1</td>\n    </tr>\n    <tr>\n      <th>660</th>\n      <td>2020-04-28 17:39:50</td>\n      <td>RPM</td>\n      <td>2768</td>\n      <td>dev-1</td>\n    </tr>\n    <tr>\n      <th>664</th>\n      <td>2020-04-28 17:39:51</td>\n      <td>RPM</td>\n      <td>3105</td>\n      <td>dev-1</td>\n    </tr>\n    <tr>\n      <th>668</th>\n      <td>2020-04-28 17:39:52</td>\n      <td>RPM</td>\n      <td>2971</td>\n      <td>dev-1</td>\n    </tr>\n    <tr>\n      <th>672</th>\n      <td>2020-04-28 17:39:53</td>\n      <td>RPM</td>\n      <td>2957</td>\n      <td>dev-1</td>\n    </tr>\n    <tr>\n      <th>676</th>\n      <td>2020-04-28 17:39:54</td>\n      <td>RPM</td>\n      <td>3083</td>\n      <td>dev-1</td>\n    </tr>\n    <tr>\n      <th>680</th>\n      <td>2020-04-28 17:39:55</td>\n      <td>RPM</td>\n      <td>3233</td>\n      <td>dev-1</td>\n    </tr>\n    <tr>\n      <th>684</th>\n      <td>2020-04-28 17:39:56</td>\n      <td>RPM</td>\n      <td>2781</td>\n      <td>dev-1</td>\n    </tr>\n    <tr>\n      <th>688</th>\n      <td>2020-04-28 17:39:57</td>\n      <td>RPM</td>\n      <td>3078</td>\n      <td>dev-1</td>\n    </tr>\n    <tr>\n      <th>692</th>\n      <td>2020-04-28 17:39:58</td>\n      <td>RPM</td>\n      <td>2793</td>\n      <td>dev-1</td>\n    </tr>\n    <tr>\n      <th>696</th>\n      <td>2020-04-28 17:39:59</td>\n      <td>RPM</td>\n      <td>2888</td>\n      <td>dev-1</td>\n    </tr>\n    <tr>\n      <th>700</th>\n      <td>2020-04-28 17:40:00</td>\n      <td>RPM</td>\n      <td>2826</td>\n      <td>dev-1</td>\n    </tr>\n    <tr>\n      <th>704</th>\n      <td>2020-04-28 17:40:01</td>\n      <td>RPM</td>\n      <td>3238</td>\n      <td>dev-1</td>\n    </tr>\n    <tr>\n      <th>708</th>\n      <td>2020-04-28 17:40:02</td>\n      <td>RPM</td>\n      <td>3115</td>\n      <td>dev-1</td>\n    </tr>\n    <tr>\n      <th>712</th>\n      <td>2020-04-28 17:40:03</td>\n      <td>RPM</td>\n      <td>2723</td>\n      <td>dev-1</td>\n    </tr>\n    <tr>\n      <th>716</th>\n      <td>2020-04-28 17:40:04</td>\n      <td>RPM</td>\n      <td>2884</td>\n      <td>dev-1</td>\n    </tr>\n    <tr>\n      <th>720</th>\n      <td>2020-04-28 17:40:05</td>\n      <td>RPM</td>\n      <td>2784</td>\n      <td>dev-1</td>\n    </tr>\n    <tr>\n      <th>724</th>\n      <td>2020-04-28 17:40:06</td>\n      <td>RPM</td>\n      <td>3240</td>\n      <td>dev-1</td>\n    </tr>\n    <tr>\n      <th>728</th>\n      <td>2020-04-28 17:40:07</td>\n      <td>RPM</td>\n      <td>2706</td>\n      <td>dev-1</td>\n    </tr>\n    <tr>\n      <th>732</th>\n      <td>2020-04-28 17:40:09</td>\n      <td>RPM</td>\n      <td>3190</td>\n      <td>dev-1</td>\n    </tr>\n    <tr>\n      <th>736</th>\n      <td>2020-04-28 17:40:10</td>\n      <td>RPM</td>\n      <td>3038</td>\n      <td>dev-1</td>\n    </tr>\n    <tr>\n      <th>740</th>\n      <td>2020-04-28 17:40:11</td>\n      <td>RPM</td>\n      <td>3058</td>\n      <td>dev-1</td>\n    </tr>\n    <tr>\n      <th>744</th>\n      <td>2020-04-28 17:40:12</td>\n      <td>RPM</td>\n      <td>2819</td>\n      <td>dev-1</td>\n    </tr>\n    <tr>\n      <th>748</th>\n      <td>2020-04-28 17:40:13</td>\n      <td>RPM</td>\n      <td>2954</td>\n      <td>dev-1</td>\n    </tr>\n    <tr>\n      <th>752</th>\n      <td>2020-04-28 17:40:14</td>\n      <td>RPM</td>\n      <td>2706</td>\n      <td>dev-1</td>\n    </tr>\n    <tr>\n      <th>756</th>\n      <td>2020-04-28 17:40:15</td>\n      <td>RPM</td>\n      <td>2954</td>\n      <td>dev-1</td>\n    </tr>\n    <tr>\n      <th>760</th>\n      <td>2020-04-28 17:40:16</td>\n      <td>RPM</td>\n      <td>2937</td>\n      <td>dev-1</td>\n    </tr>\n    <tr>\n      <th>764</th>\n      <td>2020-04-28 17:40:17</td>\n      <td>RPM</td>\n      <td>3110</td>\n      <td>dev-1</td>\n    </tr>\n    <tr>\n      <th>768</th>\n      <td>2020-04-28 17:40:18</td>\n      <td>RPM</td>\n      <td>3085</td>\n      <td>dev-1</td>\n    </tr>\n    <tr>\n      <th>772</th>\n      <td>2020-04-28 17:40:19</td>\n      <td>RPM</td>\n      <td>3091</td>\n      <td>dev-1</td>\n    </tr>\n    <tr>\n      <th>776</th>\n      <td>2020-04-28 17:40:20</td>\n      <td>RPM</td>\n      <td>2978</td>\n      <td>dev-1</td>\n    </tr>\n    <tr>\n      <th>780</th>\n      <td>2020-04-28 17:40:21</td>\n      <td>RPM</td>\n      <td>3189</td>\n      <td>dev-1</td>\n    </tr>\n    <tr>\n      <th>784</th>\n      <td>2020-04-28 17:40:22</td>\n      <td>RPM</td>\n      <td>3190</td>\n      <td>dev-1</td>\n    </tr>\n    <tr>\n      <th>788</th>\n      <td>2020-04-28 17:40:23</td>\n      <td>RPM</td>\n      <td>2719</td>\n      <td>dev-1</td>\n    </tr>\n    <tr>\n      <th>792</th>\n      <td>2020-04-28 17:40:24</td>\n      <td>RPM</td>\n      <td>2978</td>\n      <td>dev-1</td>\n    </tr>\n    <tr>\n      <th>796</th>\n      <td>2020-04-28 17:40:25</td>\n      <td>RPM</td>\n      <td>2846</td>\n      <td>dev-1</td>\n    </tr>\n    <tr>\n      <th>800</th>\n      <td>2020-04-28 17:40:26</td>\n      <td>RPM</td>\n      <td>3170</td>\n      <td>dev-1</td>\n    </tr>\n    <tr>\n      <th>804</th>\n      <td>2020-04-28 17:40:27</td>\n      <td>RPM</td>\n      <td>3101</td>\n      <td>dev-1</td>\n    </tr>\n    <tr>\n      <th>808</th>\n      <td>2020-04-28 17:40:28</td>\n      <td>RPM</td>\n      <td>3195</td>\n      <td>dev-1</td>\n    </tr>\n    <tr>\n      <th>812</th>\n      <td>2020-04-28 17:40:29</td>\n      <td>RPM</td>\n      <td>4391</td>\n      <td>dev-1</td>\n    </tr>\n    <tr>\n      <th>816</th>\n      <td>2020-04-28 17:40:30</td>\n      <td>RPM</td>\n      <td>3170</td>\n      <td>dev-1</td>\n    </tr>\n    <tr>\n      <th>820</th>\n      <td>2020-04-28 17:40:31</td>\n      <td>RPM</td>\n      <td>2790</td>\n      <td>dev-1</td>\n    </tr>\n    <tr>\n      <th>824</th>\n      <td>2020-04-28 17:40:33</td>\n      <td>RPM</td>\n      <td>3046</td>\n      <td>dev-1</td>\n    </tr>\n    <tr>\n      <th>828</th>\n      <td>2020-04-28 17:40:34</td>\n      <td>RPM</td>\n      <td>2960</td>\n      <td>dev-1</td>\n    </tr>\n    <tr>\n      <th>832</th>\n      <td>2020-04-28 17:40:35</td>\n      <td>RPM</td>\n      <td>2946</td>\n      <td>dev-1</td>\n    </tr>\n    <tr>\n      <th>836</th>\n      <td>2020-04-28 17:40:36</td>\n      <td>RPM</td>\n      <td>3085</td>\n      <td>dev-1</td>\n    </tr>\n    <tr>\n      <th>840</th>\n      <td>2020-04-28 17:40:37</td>\n      <td>RPM</td>\n      <td>3039</td>\n      <td>dev-1</td>\n    </tr>\n    <tr>\n      <th>844</th>\n      <td>2020-04-28 17:40:38</td>\n      <td>RPM</td>\n      <td>3233</td>\n      <td>dev-1</td>\n    </tr>\n    <tr>\n      <th>848</th>\n      <td>2020-04-28 17:40:39</td>\n      <td>RPM</td>\n      <td>3114</td>\n      <td>dev-1</td>\n    </tr>\n    <tr>\n      <th>852</th>\n      <td>2020-04-28 17:40:40</td>\n      <td>RPM</td>\n      <td>3019</td>\n      <td>dev-1</td>\n    </tr>\n    <tr>\n      <th>856</th>\n      <td>2020-04-28 17:40:41</td>\n      <td>RPM</td>\n      <td>2904</td>\n      <td>dev-1</td>\n    </tr>\n    <tr>\n      <th>860</th>\n      <td>2020-04-28 17:40:42</td>\n      <td>RPM</td>\n      <td>3060</td>\n      <td>dev-1</td>\n    </tr>\n    <tr>\n      <th>864</th>\n      <td>2020-04-28 17:40:43</td>\n      <td>RPM</td>\n      <td>3151</td>\n      <td>dev-1</td>\n    </tr>\n    <tr>\n      <th>868</th>\n      <td>2020-04-28 17:40:44</td>\n      <td>RPM</td>\n      <td>2722</td>\n      <td>dev-1</td>\n    </tr>\n    <tr>\n      <th>872</th>\n      <td>2020-04-28 17:40:45</td>\n      <td>RPM</td>\n      <td>2944</td>\n      <td>dev-1</td>\n    </tr>\n    <tr>\n      <th>876</th>\n      <td>2020-04-28 17:40:46</td>\n      <td>RPM</td>\n      <td>2981</td>\n      <td>dev-1</td>\n    </tr>\n    <tr>\n      <th>880</th>\n      <td>2020-04-28 17:40:47</td>\n      <td>RPM</td>\n      <td>3074</td>\n      <td>dev-1</td>\n    </tr>\n    <tr>\n      <th>884</th>\n      <td>2020-04-28 17:40:48</td>\n      <td>RPM</td>\n      <td>2935</td>\n      <td>dev-1</td>\n    </tr>\n    <tr>\n      <th>888</th>\n      <td>2020-04-28 17:40:49</td>\n      <td>RPM</td>\n      <td>2993</td>\n      <td>dev-1</td>\n    </tr>\n    <tr>\n      <th>892</th>\n      <td>2020-04-28 17:40:50</td>\n      <td>RPM</td>\n      <td>3098</td>\n      <td>dev-1</td>\n    </tr>\n    <tr>\n      <th>896</th>\n      <td>2020-04-28 17:40:51</td>\n      <td>RPM</td>\n      <td>2799</td>\n      <td>dev-1</td>\n    </tr>\n    <tr>\n      <th>900</th>\n      <td>2020-04-28 17:40:52</td>\n      <td>RPM</td>\n      <td>3010</td>\n      <td>dev-1</td>\n    </tr>\n    <tr>\n      <th>904</th>\n      <td>2020-04-28 17:40:53</td>\n      <td>RPM</td>\n      <td>3044</td>\n      <td>dev-1</td>\n    </tr>\n    <tr>\n      <th>908</th>\n      <td>2020-04-28 17:40:54</td>\n      <td>RPM</td>\n      <td>4060</td>\n      <td>dev-1</td>\n    </tr>\n    <tr>\n      <th>912</th>\n      <td>2020-04-28 17:40:55</td>\n      <td>RPM</td>\n      <td>4388</td>\n      <td>dev-1</td>\n    </tr>\n    <tr>\n      <th>916</th>\n      <td>2020-04-28 17:40:56</td>\n      <td>RPM</td>\n      <td>2753</td>\n      <td>dev-1</td>\n    </tr>\n    <tr>\n      <th>920</th>\n      <td>2020-04-28 17:40:57</td>\n      <td>RPM</td>\n      <td>2788</td>\n      <td>dev-1</td>\n    </tr>\n    <tr>\n      <th>924</th>\n      <td>2020-04-28 17:40:59</td>\n      <td>RPM</td>\n      <td>2937</td>\n      <td>dev-1</td>\n    </tr>\n    <tr>\n      <th>928</th>\n      <td>2020-04-28 17:41:00</td>\n      <td>RPM</td>\n      <td>2996</td>\n      <td>dev-1</td>\n    </tr>\n    <tr>\n      <th>932</th>\n      <td>2020-04-28 17:41:01</td>\n      <td>RPM</td>\n      <td>2828</td>\n      <td>dev-1</td>\n    </tr>\n    <tr>\n      <th>936</th>\n      <td>2020-04-28 17:41:02</td>\n      <td>RPM</td>\n      <td>3296</td>\n      <td>dev-1</td>\n    </tr>\n    <tr>\n      <th>940</th>\n      <td>2020-04-28 17:41:03</td>\n      <td>RPM</td>\n      <td>3227</td>\n      <td>dev-1</td>\n    </tr>\n    <tr>\n      <th>944</th>\n      <td>2020-04-28 17:41:04</td>\n      <td>RPM</td>\n      <td>2981</td>\n      <td>dev-1</td>\n    </tr>\n    <tr>\n      <th>948</th>\n      <td>2020-04-28 17:41:05</td>\n      <td>RPM</td>\n      <td>3242</td>\n      <td>dev-1</td>\n    </tr>\n    <tr>\n      <th>952</th>\n      <td>2020-04-28 17:41:06</td>\n      <td>RPM</td>\n      <td>2873</td>\n      <td>dev-1</td>\n    </tr>\n    <tr>\n      <th>956</th>\n      <td>2020-04-28 17:41:07</td>\n      <td>RPM</td>\n      <td>3256</td>\n      <td>dev-1</td>\n    </tr>\n    <tr>\n      <th>960</th>\n      <td>2020-04-28 17:41:08</td>\n      <td>RPM</td>\n      <td>2716</td>\n      <td>dev-1</td>\n    </tr>\n    <tr>\n      <th>964</th>\n      <td>2020-04-28 17:41:09</td>\n      <td>RPM</td>\n      <td>3000</td>\n      <td>dev-1</td>\n    </tr>\n    <tr>\n      <th>968</th>\n      <td>2020-04-28 17:41:10</td>\n      <td>RPM</td>\n      <td>3246</td>\n      <td>dev-1</td>\n    </tr>\n    <tr>\n      <th>972</th>\n      <td>2020-04-28 17:41:11</td>\n      <td>RPM</td>\n      <td>2805</td>\n      <td>dev-1</td>\n    </tr>\n    <tr>\n      <th>976</th>\n      <td>2020-04-28 17:41:12</td>\n      <td>RPM</td>\n      <td>3138</td>\n      <td>dev-1</td>\n    </tr>\n    <tr>\n      <th>980</th>\n      <td>2020-04-28 17:41:13</td>\n      <td>RPM</td>\n      <td>2787</td>\n      <td>dev-1</td>\n    </tr>\n    <tr>\n      <th>984</th>\n      <td>2020-04-28 17:41:14</td>\n      <td>RPM</td>\n      <td>3167</td>\n      <td>dev-1</td>\n    </tr>\n    <tr>\n      <th>988</th>\n      <td>2020-04-28 17:41:15</td>\n      <td>RPM</td>\n      <td>3248</td>\n      <td>dev-1</td>\n    </tr>\n    <tr>\n      <th>992</th>\n      <td>2020-04-28 17:41:16</td>\n      <td>RPM</td>\n      <td>2893</td>\n      <td>dev-1</td>\n    </tr>\n    <tr>\n      <th>996</th>\n      <td>2020-04-28 17:41:17</td>\n      <td>RPM</td>\n      <td>3027</td>\n      <td>dev-1</td>\n    </tr>\n  </tbody>\n</table>\n</div>",
            "text/plain": "                dateTime unitSymbol  measureValue deviceId\n0    2020-04-28 17:36:57        RPM          3048    dev-1\n4    2020-04-28 17:36:58        RPM          2930    dev-1\n8    2020-04-28 17:36:59        RPM          3221    dev-1\n12   2020-04-28 17:37:00        RPM          2939    dev-1\n16   2020-04-28 17:37:01        RPM          3047    dev-1\n20   2020-04-28 17:37:02        RPM          2826    dev-1\n24   2020-04-28 17:37:03        RPM          3111    dev-1\n28   2020-04-28 17:37:04        RPM          3126    dev-1\n32   2020-04-28 17:37:05        RPM          3242    dev-1\n36   2020-04-28 17:37:06        RPM          2903    dev-1\n40   2020-04-28 17:37:07        RPM          3046    dev-1\n44   2020-04-28 17:37:08        RPM          2937    dev-1\n48   2020-04-28 17:37:10        RPM          2754    dev-1\n52   2020-04-28 17:37:11        RPM          2825    dev-1\n56   2020-04-28 17:37:12        RPM          2857    dev-1\n60   2020-04-28 17:37:13        RPM          3060    dev-1\n64   2020-04-28 17:37:14        RPM          3092    dev-1\n68   2020-04-28 17:37:15        RPM          3145    dev-1\n72   2020-04-28 17:37:16        RPM          3132    dev-1\n76   2020-04-28 17:37:17        RPM          2902    dev-1\n80   2020-04-28 17:37:18        RPM          3153    dev-1\n84   2020-04-28 17:37:19        RPM          2754    dev-1\n88   2020-04-28 17:37:20        RPM          2799    dev-1\n92   2020-04-28 17:37:21        RPM          2705    dev-1\n96   2020-04-28 17:37:22        RPM          2780    dev-1\n100  2020-04-28 17:37:23        RPM          3065    dev-1\n104  2020-04-28 17:37:24        RPM          3022    dev-1\n108  2020-04-28 17:37:25        RPM          3132    dev-1\n112  2020-04-28 17:37:26        RPM          2732    dev-1\n116  2020-04-28 17:37:27        RPM          2972    dev-1\n120  2020-04-28 17:37:29        RPM          2947    dev-1\n124  2020-04-28 17:37:30        RPM          3039    dev-1\n128  2020-04-28 17:37:31        RPM          3249    dev-1\n132  2020-04-28 17:37:32        RPM          2717    dev-1\n136  2020-04-28 17:37:33        RPM          2881    dev-1\n140  2020-04-28 17:37:34        RPM          3259    dev-1\n144  2020-04-28 17:37:35        RPM          2749    dev-1\n148  2020-04-28 17:37:36        RPM          2792    dev-1\n152  2020-04-28 17:37:37        RPM          4003    dev-1\n156  2020-04-28 17:37:38        RPM          2735    dev-1\n160  2020-04-28 17:37:39        RPM          3044    dev-1\n164  2020-04-28 17:37:40        RPM          2793    dev-1\n168  2020-04-28 17:37:41        RPM          2740    dev-1\n172  2020-04-28 17:37:42        RPM          3116    dev-1\n176  2020-04-28 17:37:43        RPM          2880    dev-1\n180  2020-04-28 17:37:44        RPM          2803    dev-1\n184  2020-04-28 17:37:45        RPM          3291    dev-1\n188  2020-04-28 17:37:46        RPM          3124    dev-1\n192  2020-04-28 17:37:47        RPM          2952    dev-1\n196  2020-04-28 17:37:49        RPM          3196    dev-1\n200  2020-04-28 17:37:50        RPM          2817    dev-1\n204  2020-04-28 17:37:51        RPM          2946    dev-1\n208  2020-04-28 17:37:52        RPM          3232    dev-1\n212  2020-04-28 17:37:53        RPM          2985    dev-1\n216  2020-04-28 17:37:54        RPM          3254    dev-1\n220  2020-04-28 17:37:55        RPM          3005    dev-1\n224  2020-04-28 17:37:56        RPM          2719    dev-1\n228  2020-04-28 17:37:57        RPM          2776    dev-1\n232  2020-04-28 17:37:58        RPM          2841    dev-1\n236  2020-04-28 17:37:59        RPM          3178    dev-1\n240  2020-04-28 17:38:00        RPM          2862    dev-1\n244  2020-04-28 17:38:01        RPM          2918    dev-1\n248  2020-04-28 17:38:02        RPM          3049    dev-1\n252  2020-04-28 17:38:03        RPM          2886    dev-1\n256  2020-04-28 17:38:04        RPM          3258    dev-1\n260  2020-04-28 17:38:05        RPM          2761    dev-1\n264  2020-04-28 17:38:06        RPM          3147    dev-1\n268  2020-04-28 17:38:07        RPM          3180    dev-1\n272  2020-04-28 17:38:08        RPM          2800    dev-1\n276  2020-04-28 17:38:10        RPM          3129    dev-1\n280  2020-04-28 17:38:11        RPM          4310    dev-1\n284  2020-04-28 17:38:12        RPM          2703    dev-1\n288  2020-04-28 17:38:13        RPM          2794    dev-1\n292  2020-04-28 17:38:14        RPM          2891    dev-1\n296  2020-04-28 17:38:15        RPM          3091    dev-1\n300  2020-04-28 17:38:16        RPM          3222    dev-1\n304  2020-04-28 17:38:17        RPM          2926    dev-1\n308  2020-04-28 17:38:18        RPM          3146    dev-1\n312  2020-04-28 17:38:19        RPM          3020    dev-1\n316  2020-04-28 17:38:20        RPM          2988    dev-1\n320  2020-04-28 17:38:21        RPM          3016    dev-1\n324  2020-04-28 17:38:22        RPM          3123    dev-1\n328  2020-04-28 17:38:23        RPM          2802    dev-1\n332  2020-04-28 17:38:24        RPM          3229    dev-1\n336  2020-04-28 17:38:25        RPM          3054    dev-1\n340  2020-04-28 17:38:26        RPM          2942    dev-1\n344  2020-04-28 17:38:27        RPM          2884    dev-1\n348  2020-04-28 17:38:28        RPM          3256    dev-1\n352  2020-04-28 17:38:30        RPM          3120    dev-1\n356  2020-04-28 17:38:31        RPM          2715    dev-1\n360  2020-04-28 17:38:32        RPM          2764    dev-1\n364  2020-04-28 17:38:33        RPM          2732    dev-1\n368  2020-04-28 17:38:34        RPM          3111    dev-1\n372  2020-04-28 17:38:35        RPM          3277    dev-1\n376  2020-04-28 17:38:36        RPM          3221    dev-1\n380  2020-04-28 17:38:37        RPM          3055    dev-1\n384  2020-04-28 17:38:38        RPM          2702    dev-1\n388  2020-04-28 17:38:39        RPM          3077    dev-1\n392  2020-04-28 17:38:40        RPM          2880    dev-1\n396  2020-04-28 17:38:41        RPM          2987    dev-1\n400  2020-04-28 17:38:42        RPM          2880    dev-1\n404  2020-04-28 17:38:43        RPM          2913    dev-1\n408  2020-04-28 17:38:44        RPM          2903    dev-1\n412  2020-04-28 17:38:45        RPM          2764    dev-1\n416  2020-04-28 17:38:46        RPM          2974    dev-1\n420  2020-04-28 17:38:47        RPM          3238    dev-1\n424  2020-04-28 17:38:48        RPM          2839    dev-1\n428  2020-04-28 17:38:49        RPM          2720    dev-1\n432  2020-04-28 17:38:50        RPM          3280    dev-1\n436  2020-04-28 17:38:51        RPM          2828    dev-1\n440  2020-04-28 17:38:53        RPM          2740    dev-1\n444  2020-04-28 17:38:54        RPM          3104    dev-1\n448  2020-04-28 17:38:55        RPM          2850    dev-1\n452  2020-04-28 17:38:56        RPM          2931    dev-1\n456  2020-04-28 17:38:57        RPM          2787    dev-1\n460  2020-04-28 17:38:58        RPM          3159    dev-1\n464  2020-04-28 17:38:59        RPM          3224    dev-1\n468  2020-04-28 17:39:00        RPM          2738    dev-1\n472  2020-04-28 17:39:01        RPM          2805    dev-1\n476  2020-04-28 17:39:02        RPM          3232    dev-1\n480  2020-04-28 17:39:03        RPM          3030    dev-1\n484  2020-04-28 17:39:04        RPM          2871    dev-1\n488  2020-04-28 17:39:05        RPM          2911    dev-1\n492  2020-04-28 17:39:06        RPM          2700    dev-1\n496  2020-04-28 17:39:07        RPM          3008    dev-1\n500  2020-04-28 17:39:08        RPM          3012    dev-1\n504  2020-04-28 17:39:09        RPM          3246    dev-1\n508  2020-04-28 17:39:10        RPM          3034    dev-1\n512  2020-04-28 17:39:11        RPM          2891    dev-1\n516  2020-04-28 17:39:12        RPM          2713    dev-1\n520  2020-04-28 17:39:13        RPM          2821    dev-1\n524  2020-04-28 17:39:14        RPM          3231    dev-1\n528  2020-04-28 17:39:15        RPM          2946    dev-1\n532  2020-04-28 17:39:16        RPM          2752    dev-1\n536  2020-04-28 17:39:17        RPM          3248    dev-1\n540  2020-04-28 17:39:18        RPM          2771    dev-1\n544  2020-04-28 17:39:20        RPM          3052    dev-1\n548  2020-04-28 17:39:21        RPM          3290    dev-1\n552  2020-04-28 17:39:22        RPM          2922    dev-1\n556  2020-04-28 17:39:23        RPM          3090    dev-1\n560  2020-04-28 17:39:24        RPM          3185    dev-1\n564  2020-04-28 17:39:25        RPM          3252    dev-1\n568  2020-04-28 17:39:26        RPM          3216    dev-1\n572  2020-04-28 17:39:27        RPM          2710    dev-1\n576  2020-04-28 17:39:28        RPM          2826    dev-1\n580  2020-04-28 17:39:29        RPM          2731    dev-1\n584  2020-04-28 17:39:30        RPM          3006    dev-1\n588  2020-04-28 17:39:31        RPM          3173    dev-1\n592  2020-04-28 17:39:32        RPM          3210    dev-1\n596  2020-04-28 17:39:33        RPM          2715    dev-1\n600  2020-04-28 17:39:34        RPM          2843    dev-1\n604  2020-04-28 17:39:35        RPM          4367    dev-1\n608  2020-04-28 17:39:36        RPM          2984    dev-1\n612  2020-04-28 17:39:37        RPM          3266    dev-1\n616  2020-04-28 17:39:38        RPM          3214    dev-1\n620  2020-04-28 17:39:39        RPM          2886    dev-1\n624  2020-04-28 17:39:40        RPM          2796    dev-1\n628  2020-04-28 17:39:41        RPM          2805    dev-1\n632  2020-04-28 17:39:42        RPM          3247    dev-1\n636  2020-04-28 17:39:44        RPM          2810    dev-1\n640  2020-04-28 17:39:45        RPM          3288    dev-1\n644  2020-04-28 17:39:46        RPM          2729    dev-1\n648  2020-04-28 17:39:47        RPM          3120    dev-1\n652  2020-04-28 17:39:48        RPM          3066    dev-1\n656  2020-04-28 17:39:49        RPM          3159    dev-1\n660  2020-04-28 17:39:50        RPM          2768    dev-1\n664  2020-04-28 17:39:51        RPM          3105    dev-1\n668  2020-04-28 17:39:52        RPM          2971    dev-1\n672  2020-04-28 17:39:53        RPM          2957    dev-1\n676  2020-04-28 17:39:54        RPM          3083    dev-1\n680  2020-04-28 17:39:55        RPM          3233    dev-1\n684  2020-04-28 17:39:56        RPM          2781    dev-1\n688  2020-04-28 17:39:57        RPM          3078    dev-1\n692  2020-04-28 17:39:58        RPM          2793    dev-1\n696  2020-04-28 17:39:59        RPM          2888    dev-1\n700  2020-04-28 17:40:00        RPM          2826    dev-1\n704  2020-04-28 17:40:01        RPM          3238    dev-1\n708  2020-04-28 17:40:02        RPM          3115    dev-1\n712  2020-04-28 17:40:03        RPM          2723    dev-1\n716  2020-04-28 17:40:04        RPM          2884    dev-1\n720  2020-04-28 17:40:05        RPM          2784    dev-1\n724  2020-04-28 17:40:06        RPM          3240    dev-1\n728  2020-04-28 17:40:07        RPM          2706    dev-1\n732  2020-04-28 17:40:09        RPM          3190    dev-1\n736  2020-04-28 17:40:10        RPM          3038    dev-1\n740  2020-04-28 17:40:11        RPM          3058    dev-1\n744  2020-04-28 17:40:12        RPM          2819    dev-1\n748  2020-04-28 17:40:13        RPM          2954    dev-1\n752  2020-04-28 17:40:14        RPM          2706    dev-1\n756  2020-04-28 17:40:15        RPM          2954    dev-1\n760  2020-04-28 17:40:16        RPM          2937    dev-1\n764  2020-04-28 17:40:17        RPM          3110    dev-1\n768  2020-04-28 17:40:18        RPM          3085    dev-1\n772  2020-04-28 17:40:19        RPM          3091    dev-1\n776  2020-04-28 17:40:20        RPM          2978    dev-1\n780  2020-04-28 17:40:21        RPM          3189    dev-1\n784  2020-04-28 17:40:22        RPM          3190    dev-1\n788  2020-04-28 17:40:23        RPM          2719    dev-1\n792  2020-04-28 17:40:24        RPM          2978    dev-1\n796  2020-04-28 17:40:25        RPM          2846    dev-1\n800  2020-04-28 17:40:26        RPM          3170    dev-1\n804  2020-04-28 17:40:27        RPM          3101    dev-1\n808  2020-04-28 17:40:28        RPM          3195    dev-1\n812  2020-04-28 17:40:29        RPM          4391    dev-1\n816  2020-04-28 17:40:30        RPM          3170    dev-1\n820  2020-04-28 17:40:31        RPM          2790    dev-1\n824  2020-04-28 17:40:33        RPM          3046    dev-1\n828  2020-04-28 17:40:34        RPM          2960    dev-1\n832  2020-04-28 17:40:35        RPM          2946    dev-1\n836  2020-04-28 17:40:36        RPM          3085    dev-1\n840  2020-04-28 17:40:37        RPM          3039    dev-1\n844  2020-04-28 17:40:38        RPM          3233    dev-1\n848  2020-04-28 17:40:39        RPM          3114    dev-1\n852  2020-04-28 17:40:40        RPM          3019    dev-1\n856  2020-04-28 17:40:41        RPM          2904    dev-1\n860  2020-04-28 17:40:42        RPM          3060    dev-1\n864  2020-04-28 17:40:43        RPM          3151    dev-1\n868  2020-04-28 17:40:44        RPM          2722    dev-1\n872  2020-04-28 17:40:45        RPM          2944    dev-1\n876  2020-04-28 17:40:46        RPM          2981    dev-1\n880  2020-04-28 17:40:47        RPM          3074    dev-1\n884  2020-04-28 17:40:48        RPM          2935    dev-1\n888  2020-04-28 17:40:49        RPM          2993    dev-1\n892  2020-04-28 17:40:50        RPM          3098    dev-1\n896  2020-04-28 17:40:51        RPM          2799    dev-1\n900  2020-04-28 17:40:52        RPM          3010    dev-1\n904  2020-04-28 17:40:53        RPM          3044    dev-1\n908  2020-04-28 17:40:54        RPM          4060    dev-1\n912  2020-04-28 17:40:55        RPM          4388    dev-1\n916  2020-04-28 17:40:56        RPM          2753    dev-1\n920  2020-04-28 17:40:57        RPM          2788    dev-1\n924  2020-04-28 17:40:59        RPM          2937    dev-1\n928  2020-04-28 17:41:00        RPM          2996    dev-1\n932  2020-04-28 17:41:01        RPM          2828    dev-1\n936  2020-04-28 17:41:02        RPM          3296    dev-1\n940  2020-04-28 17:41:03        RPM          3227    dev-1\n944  2020-04-28 17:41:04        RPM          2981    dev-1\n948  2020-04-28 17:41:05        RPM          3242    dev-1\n952  2020-04-28 17:41:06        RPM          2873    dev-1\n956  2020-04-28 17:41:07        RPM          3256    dev-1\n960  2020-04-28 17:41:08        RPM          2716    dev-1\n964  2020-04-28 17:41:09        RPM          3000    dev-1\n968  2020-04-28 17:41:10        RPM          3246    dev-1\n972  2020-04-28 17:41:11        RPM          2805    dev-1\n976  2020-04-28 17:41:12        RPM          3138    dev-1\n980  2020-04-28 17:41:13        RPM          2787    dev-1\n984  2020-04-28 17:41:14        RPM          3167    dev-1\n988  2020-04-28 17:41:15        RPM          3248    dev-1\n992  2020-04-28 17:41:16        RPM          2893    dev-1\n996  2020-04-28 17:41:17        RPM          3027    dev-1"
          },
          "execution_count": 18,
          "metadata": {
            "application/vnd.dataresource+json": {
              "__altered": false,
              "_root": {
                "entries": [
                  [
                    "__altered",
                    false
                  ],
                  [
                    "_root",
                    {
                      "entries": [
                        [
                          "__altered",
                          false
                        ],
                        [
                          "_root",
                          {
                            "entries": [
                              [
                                "__altered",
                                false
                              ],
                              [
                                "_root",
                                {
                                  "entries": [
                                    [
                                      "__altered",
                                      false
                                    ],
                                    [
                                      "_root",
                                      {
                                        "entries": [
                                          [
                                            "dx",
                                            {
                                              "areaType": "hexbin",
                                              "barGrouping": "Clustered",
                                              "chart": {
                                                "dim1": "unitSymbol",
                                                "dim2": "deviceId",
                                                "dim3": "none",
                                                "metric1": "measureValue",
                                                "metric2": "none",
                                                "metric3": "none",
                                                "metric4": "none",
                                                "networkLabel": "none",
                                                "timeseriesSort": "array-order"
                                              },
                                              "colors": [
                                                "#DA752E",
                                                "#E5C209",
                                                "#1441A0",
                                                "#B86117",
                                                "#4D430C",
                                                "#1DB390",
                                                "#B3331D",
                                                "#088EB2",
                                                "#417505",
                                                "#E479A8",
                                                "#F9F39E",
                                                "#5782DC",
                                                "#EBA97B",
                                                "#A2AB60",
                                                "#B291CF",
                                                "#8DD2C2",
                                                "#E6A19F",
                                                "#3DC7E0",
                                                "#98CE5B"
                                              ],
                                              "hierarchyType": "dendrogram",
                                              "lineType": "line",
                                              "marginalGraphics": "none",
                                              "networkType": "force",
                                              "pieceType": "bar",
                                              "selectedDimensions": [
                                                "unitSymbol"
                                              ],
                                              "selectedMetrics": [],
                                              "summaryType": "violin",
                                              "trendLine": "none",
                                              "view": "line"
                                            }
                                          ]
                                        ],
                                        "ownerID": {}
                                      }
                                    ],
                                    [
                                      "dx",
                                      {
                                        "areaType": "hexbin",
                                        "barGrouping": "Clustered",
                                        "chart": {
                                          "dim1": "unitSymbol",
                                          "dim2": "deviceId",
                                          "dim3": "none",
                                          "metric1": "measureValue",
                                          "metric2": "none",
                                          "metric3": "none",
                                          "metric4": "none",
                                          "networkLabel": "none",
                                          "timeseriesSort": "array-order"
                                        },
                                        "colors": [
                                          "#DA752E",
                                          "#E5C209",
                                          "#1441A0",
                                          "#B86117",
                                          "#4D430C",
                                          "#1DB390",
                                          "#B3331D",
                                          "#088EB2",
                                          "#417505",
                                          "#E479A8",
                                          "#F9F39E",
                                          "#5782DC",
                                          "#EBA97B",
                                          "#A2AB60",
                                          "#B291CF",
                                          "#8DD2C2",
                                          "#E6A19F",
                                          "#3DC7E0",
                                          "#98CE5B"
                                        ],
                                        "hierarchyType": "dendrogram",
                                        "lineType": "line",
                                        "marginalGraphics": "none",
                                        "networkType": "force",
                                        "pieceType": "bar",
                                        "selectedDimensions": [
                                          "unitSymbol"
                                        ],
                                        "selectedMetrics": [],
                                        "summaryType": "violin",
                                        "trendLine": "none",
                                        "view": "grid"
                                      }
                                    ],
                                    [
                                      "size",
                                      1
                                    ]
                                  ],
                                  "ownerID": {}
                                }
                              ],
                              [
                                "dx",
                                {
                                  "areaType": "hexbin",
                                  "barGrouping": "Clustered",
                                  "chart": {
                                    "dim1": "unitSymbol",
                                    "dim2": "deviceId",
                                    "dim3": "none",
                                    "metric1": "measureValue",
                                    "metric2": "none",
                                    "metric3": "none",
                                    "metric4": "none",
                                    "networkLabel": "none",
                                    "timeseriesSort": "array-order"
                                  },
                                  "colors": [
                                    "#DA752E",
                                    "#E5C209",
                                    "#1441A0",
                                    "#B86117",
                                    "#4D430C",
                                    "#1DB390",
                                    "#B3331D",
                                    "#088EB2",
                                    "#417505",
                                    "#E479A8",
                                    "#F9F39E",
                                    "#5782DC",
                                    "#EBA97B",
                                    "#A2AB60",
                                    "#B291CF",
                                    "#8DD2C2",
                                    "#E6A19F",
                                    "#3DC7E0",
                                    "#98CE5B"
                                  ],
                                  "hierarchyType": "dendrogram",
                                  "lineType": "line",
                                  "marginalGraphics": "none",
                                  "networkType": "force",
                                  "pieceType": "bar",
                                  "selectedDimensions": [
                                    "unitSymbol"
                                  ],
                                  "selectedMetrics": [],
                                  "summaryType": "violin",
                                  "trendLine": "none",
                                  "view": "grid"
                                }
                              ],
                              [
                                "size",
                                4
                              ]
                            ],
                            "ownerID": {}
                          }
                        ],
                        [
                          "dx",
                          {
                            "areaType": "hexbin",
                            "barGrouping": "Clustered",
                            "chart": {
                              "dim1": "unitSymbol",
                              "dim2": "deviceId",
                              "dim3": "none",
                              "metric1": "measureValue",
                              "metric2": "none",
                              "metric3": "none",
                              "metric4": "none",
                              "networkLabel": "none",
                              "timeseriesSort": "array-order"
                            },
                            "colors": [
                              "#DA752E",
                              "#E5C209",
                              "#1441A0",
                              "#B86117",
                              "#4D430C",
                              "#1DB390",
                              "#B3331D",
                              "#088EB2",
                              "#417505",
                              "#E479A8",
                              "#F9F39E",
                              "#5782DC",
                              "#EBA97B",
                              "#A2AB60",
                              "#B291CF",
                              "#8DD2C2",
                              "#E6A19F",
                              "#3DC7E0",
                              "#98CE5B"
                            ],
                            "hierarchyType": "dendrogram",
                            "lineType": "line",
                            "marginalGraphics": "none",
                            "networkType": "force",
                            "pieceType": "bar",
                            "selectedDimensions": [
                              "unitSymbol"
                            ],
                            "selectedMetrics": [],
                            "summaryType": "violin",
                            "trendLine": "none",
                            "view": "grid"
                          }
                        ],
                        [
                          "size",
                          4
                        ]
                      ],
                      "ownerID": {}
                    }
                  ],
                  [
                    "dx",
                    {
                      "areaType": "hexbin",
                      "barGrouping": "Clustered",
                      "chart": {
                        "dim1": "unitSymbol",
                        "dim2": "deviceId",
                        "dim3": "none",
                        "metric1": "measureValue",
                        "metric2": "none",
                        "metric3": "none",
                        "metric4": "none",
                        "networkLabel": "none",
                        "timeseriesSort": "array-order"
                      },
                      "colors": [
                        "#DA752E",
                        "#E5C209",
                        "#1441A0",
                        "#B86117",
                        "#4D430C",
                        "#1DB390",
                        "#B3331D",
                        "#088EB2",
                        "#417505",
                        "#E479A8",
                        "#F9F39E",
                        "#5782DC",
                        "#EBA97B",
                        "#A2AB60",
                        "#B291CF",
                        "#8DD2C2",
                        "#E6A19F",
                        "#3DC7E0",
                        "#98CE5B"
                      ],
                      "hierarchyType": "dendrogram",
                      "lineType": "line",
                      "marginalGraphics": "none",
                      "networkType": "force",
                      "pieceType": "bar",
                      "selectedDimensions": [
                        "unitSymbol"
                      ],
                      "selectedMetrics": [],
                      "summaryType": "violin",
                      "trendLine": "none",
                      "view": "grid"
                    }
                  ],
                  [
                    "size",
                    4
                  ]
                ],
                "ownerID": {}
              },
              "dx": {
                "areaType": "hexbin",
                "barGrouping": "Clustered",
                "chart": {
                  "dim1": "unitSymbol",
                  "dim2": "deviceId",
                  "dim3": "none",
                  "metric1": "measureValue",
                  "metric2": "none",
                  "metric3": "none",
                  "metric4": "none",
                  "networkLabel": "none",
                  "timeseriesSort": "array-order"
                },
                "colors": [
                  "#DA752E",
                  "#E5C209",
                  "#1441A0",
                  "#B86117",
                  "#4D430C",
                  "#1DB390",
                  "#B3331D",
                  "#088EB2",
                  "#417505",
                  "#E479A8",
                  "#F9F39E",
                  "#5782DC",
                  "#EBA97B",
                  "#A2AB60",
                  "#B291CF",
                  "#8DD2C2",
                  "#E6A19F",
                  "#3DC7E0",
                  "#98CE5B"
                ],
                "hierarchyType": "dendrogram",
                "lineType": "line",
                "marginalGraphics": "none",
                "networkType": "force",
                "pieceType": "bar",
                "selectedDimensions": [
                  "unitSymbol"
                ],
                "selectedMetrics": [],
                "summaryType": "violin",
                "trendLine": "none",
                "view": "grid"
              },
              "size": 4
            }
          },
          "output_type": "execute_result"
        }
      ],
      "source": "# Turning on the visualization options\npd.options.display.html.table_schema = True\npd.options.display.max_rows = None\n\n# Example: let's see what we loaded from Cosmos Db\n# df_IotData.head(10)\ndf_IotData[(df_IotData.unitSymbol == \"RPM\") & (df_IotData.deviceId == \"dev-1\")]"
    },
    {
      "cell_type": "markdown",
      "metadata": {
        "nteract": {
          "transient": {
            "deleting": false
          }
        }
      },
      "source": "## Step 7 - Data Preparation and Advanced Data Visualization\n\nBut filtering is not ideal and many other data manipulations will be necessary to reach our objective. That's why we will do some data preparation in the next steps. **We need to:**\n\n&nbsp;\n\n1. Pivot the DataFrame to have one column for each metric, avoiding the mistake to compare different measures. This is also a required process for data science projects, a process called featurization. All columns can be used as input for a machine learning model, that's why the table must be pivoted.\n1. The pivoted DataFrame index will be the ```dateTime``` column. But we need it as a regular column.\n1. Remove missing data, what is caused by metrics created in different seconds. \n\n&nbsp;\n\n<img src=\"https://cosmosnotebooksdata.blob.core.windows.net/notebookdata/iot-ai-notebook-2.PNG\" alt=\"Built-in nteract \" width=\"75%\"/>\n\n&nbsp;\n\n\n>**Did you know?** Data preparation is a [key phase](https://docs.microsoft.com/en-us/azure/machine-learning/team-data-science-process/lifecycle-modeling) of data science projects and may include [data engineering](https://docs.microsoft.com/en-us/learn/certifications/roles/data-engineer), [data featurization](https://docs.microsoft.com/en-us/azure/machine-learning/studio-module-reference/data-transformation-learning-with-counts), [data cleaning (or cleansing)](https://en.wikipedia.org/wiki/Data_cleansing), and more. It may take up to 80% of the all project!\n\n\n"
    },
    {
      "cell_type": "code",
      "execution_count": 19,
      "metadata": {
        "collapsed": false,
        "execution": {
          "iopub.execute_input": "2020-04-29T16:02:16.042Z",
          "iopub.status.busy": "2020-04-29T16:02:16.033Z",
          "iopub.status.idle": "2020-04-29T16:02:16.601Z",
          "shell.execute_reply": "2020-04-29T16:02:16.617Z"
        },
        "jupyter": {
          "outputs_hidden": false,
          "source_hidden": false
        },
        "nteract": {
          "transient": {
            "deleting": false
          }
        },
        "trusted": false
      },
      "outputs": [
        {
          "data": {
            "image/png": "[encoded data removed]",
            "text/plain": "<Figure size 1440x360 with 1 Axes>"
          },
          "metadata": {
            "needs_background": "light"
          },
          "output_type": "display_data"
        },
        {
          "data": {
            "image/png": "[encoded data removed]",
            "text/plain": "<Figure size 1440x360 with 1 Axes>"
          },
          "metadata": {
            "needs_background": "light"
          },
          "output_type": "display_data"
        }
      ],
      "source": "import pandas as pd\nimport matplotlib.pyplot as plt\n\n###########################################################################################\n# Data Preparation\n###########################################################################################\n\n# Lets keep df_IotData as is, so we will never change it. All changes will happen in the new DataFrame.\n# Pivoting the original data for 1 device into a new one, with one column per unit.\nnew_df = df_IotData[(df_IotData.deviceId == \"dev-1\")]\nnew_df=new_df.pivot(index='dateTime', columns = 'unitSymbol' , values =  'measureValue')\n\n# Removing lines with missing data. \nnew_df=new_df.dropna()\n\n# The pivot will create a df where the dataTime column is the index. \n# But for the Anomaly detection, we need a column with that content called timestamp\nnew_df['timestamp']=new_df.index\n\n# We also need a sequential id, to join the dataframes in the end of the process\nnew_df['index']=list(range(len(new_df)))\n\n# Now let's make the sequential the index of the dataframe\nnew_df.set_index('index',inplace=True)\n\n\n###########################################################################################\n# Plotting the Data\n###########################################################################################\n# One chart per unit.\n# If you change or add the units, from now on you need to customize the code.\nnew_df.plot(y='MW', x= 'timestamp', color='green',figsize=(20,5), label = 'Output MW')\nplt.title('MW TimeSeries')\nnew_df.plot(y='RPM', x= 'timestamp', color='red', figsize=(20,5), label = 'RPM')\nplt.title('RPM TimeSeries')\nplt.legend(loc = 'best')\nplt.show()\n"
    },
    {
      "cell_type": "markdown",
      "metadata": {
        "nteract": {
          "transient": {
            "deleting": false
          }
        }
      },
      "source": "## Step 8 - Anomaly Detection\n\nThe chart above are very clear about the outliers. But can we predict them? Are there variation margins? Let's use AI to do it, leveraging the [Microsoft Azure Anomaly Detector API](https://docs.microsoft.com/en-us/azure/cognitive-services/anomaly-detector/quickstarts/detect-data-anomalies-python?tabs=linux).\n\n&nbsp;\n\nYou must have a [Cognitive Services API account](https://docs.microsoft.com/en-us/azure/cognitive-services/cognitive-services-apis-create-account?tabs=multiservice%2Clinux) with access to the Anomaly Detector API. You can get your subscription key from the Azure portal after creating your account.\n\n&nbsp;\n\nThe API accepts json files with 2 elements, ```timestamp``` and ```value```. These names are mandatory, and we can't mix the units for detection. That's why we create 2 customized DataFrames in the code below, right before the Anomaly Detection execution, one for each unit. Also, we should avoid mixing devices in the same analysis, since they may have different behavior.\n\n&nbsp;\n\nThe output includes, for each unit, the expected value, the lower and upper margin values, and if it was an anomaly or not. With the margins, you can monitor in real time if a value is getting close to the margins.\n\n&nbsp;\n\n**DON'T FORGET TO ADD YOUR ANOMALY DETECTOR API KEY TO THE CODE BELOW!! JUST SEARCH FOR 'paste-your-key-here' AND REPLACE THE TEXT WITH YOUR KEY, THAT YOU CAN GET/COPY FROM THE AZURE PORTAL.**\n\n&nbsp;\n\n>**Did you know?** Anomaly Detector API has 2 endpoints, for 2 different capabilities: Real time and Batch detection. Real time will detect anomalies for every 10 data points. The Batch module will analyze up to 8046 datapoints, and since we already have the data, that's what we will use.\n\n&nbsp;\n\n>**Did you know?** An Azure Cognitive Services account gives you access to multiple cognitive services like Text Analytics and Computer Vision APIs.\n\n&nbsp;\n\n>**Did you know?** \"Secondly\" granularity is not documented yet, but it works and that's exactly what we need for this analysis. Also, the API limit is 8046 datapoints, but we will submit only 1000. \n"
    },
    {
      "cell_type": "markdown",
      "metadata": {
        "nteract": {
          "transient": {
            "deleting": false
          }
        }
      },
      "source": "## Step 9 - Creating the Anomaly Detection Function\n\n**PLEASE ADD YOUR ANOMALY DETECTOR KEY - LINE 10**"
    },
    {
      "cell_type": "code",
      "execution_count": 22,
      "metadata": {
        "collapsed": false,
        "execution": {
          "iopub.execute_input": "2020-04-29T16:06:23.767Z",
          "iopub.status.busy": "2020-04-29T16:06:23.760Z",
          "iopub.status.idle": "2020-04-29T16:06:23.795Z",
          "shell.execute_reply": "2020-04-29T16:06:23.807Z"
        },
        "jupyter": {
          "outputs_hidden": false,
          "source_hidden": false
        },
        "nteract": {
          "transient": {
            "deleting": false
          }
        },
        "trusted": false
      },
      "outputs": [
        {
          "name": "stdout",
          "output_type": "stream",
          "text": "Function anomalyDetector() ok\n"
        }
      ],
      "source": "import http.client, urllib.request, urllib.parse, urllib.error, base64\n\n###########################################################################################\n# The Anomaly Detection Function\n###########################################################################################\ndef anomalyDetector (myJson):\n    headers = {\n        # Request headers\n        'Content-Type': 'application/json',\n        'Ocp-Apim-Subscription-Key': 'your-key-here', # <<---- Paste your key here!!!!\n    }\n\n    params = urllib.parse.urlencode({\n    })\n   \n    \n    try:\n        conn = http.client.HTTPSConnection('westus2.api.cognitive.microsoft.com')\n        conn.request(\"POST\", \"/anomalydetector/v1.0/timeseries/entire/detect?%s\" % params, myJson, headers)\n        response = conn.getresponse()\n        data = response.read()\n        return(data)\n        conn.close()\n    except Exception as e:\n        print(\"[Errno {0}] {1}\".format(e.errno, e.strerror))\n \n\nprint ('Function anomalyDetector() ok')"
    },
    {
      "cell_type": "markdown",
      "metadata": {
        "nteract": {
          "transient": {
            "deleting": false
          }
        }
      },
      "source": "## Step 10 - Detecting Anomalies\n\nThis step will submit the data of each device to the batch endpoint of the API. It also requires some data preparation. **We need to:**\n\n&nbsp;\n\n1. Format the json file that is submitted to the API, separating the data of each unit and each device.\n1. Create a new DataFrame with the most granular results for each device and each unit, in the API required format.\n1. Accumulate all temporary data in an output DataFrame.\n1. Clean missing data again.\n1. Transform the lower and upper margins in values for plotting.\n"
    },
    {
      "cell_type": "code",
      "execution_count": 23,
      "metadata": {
        "collapsed": false,
        "execution": {
          "iopub.execute_input": "2020-04-29T16:06:27.627Z",
          "iopub.status.busy": "2020-04-29T16:06:27.618Z",
          "iopub.status.idle": "2020-04-29T16:06:28.163Z",
          "shell.execute_reply": "2020-04-29T16:06:28.177Z"
        },
        "jupyter": {
          "outputs_hidden": false,
          "source_hidden": false
        },
        "nteract": {
          "transient": {
            "deleting": false
          }
        },
        "trusted": false
      },
      "outputs": [
        {
          "name": "stdout",
          "output_type": "stream",
          "text": "Processing device:  dev-1\nRows processed:  244  for device  dev-1\nProcessing device:  dev-2\nRows processed:  249  for device  dev-2\n"
        }
      ],
      "source": "###########################################################################################\n# The main funciton, that will process per device\n###########################################################################################\n\n# Let's use the same DataFrame of the first analysis to get data the devices ids.\ndevicesArray = df_IotData.deviceId.unique()\n\n# Creating Output dataframe\noutput_df = pd.DataFrame()\n\n# Let's process per device\nfor deviceId in devicesArray:\n    print ('Processing device: ',deviceId)\n    \n    # Same data preparation we had for data visualization, but for each device.\n    new_df = df_IotData[(df_IotData.deviceId == deviceId)]\n    # The pivot below will remove deviceId column. We will add it back later.\n    new_df=new_df.pivot(index='dateTime', columns = 'unitSymbol' , values =  'measureValue')\n    new_df=new_df.dropna()\n    \n    # The pivot will create a df where the dataTime column is the index. \n    # But for the Anomaly detection, we need a column with that content called timestamp\n    new_df['timestamp']=new_df.index\n\n    # We also need a sequential id, to join the dataframes in the end of the process\n    new_df['index']=list(range(len(new_df)))\n\n    # Now let's make the sequential the index of the dataframe\n    new_df.set_index('index',inplace=True)\n\n    #### RPM\n    # Creating a DataFrame in the API format. We need a timestamp and a value columns\n    new_df_RPM=new_df[['timestamp','RPM']]\n    new_df_RPM.rename(columns={\"RPM\":\"value\"},inplace=True)\n    # Creating json string\n    myJson= '{\"granularity\":\"secondly\",\"series\": '\n    myJson = myJson+ new_df_RPM.to_json(orient = 'records')+'}'\n    # Running and saving the results in a new dataframe\n    rpmAnomalies= anomalyDetector (myJson)\n    new_df_RPM_results = pd.read_json(rpmAnomalies)\n    \n    ### MW\n    # Creating a DataFrame in the API format. We need a timestamp and a value columns\n    new_df_MW=new_df[['timestamp','MW']]\n    new_df_MW.rename(columns={\"MW\":\"value\"},inplace=True)\n    # Creating json string\n    myJson= '{\"granularity\":\"secondly\",\"series\": '\n    myJson = myJson+ new_df_RPM.to_json(orient = 'records')+'}'\n    # Running and saving the results in a new dataframe\n    mwAnomalies= anomalyDetector (myJson)\n    new_df_MW_results = pd.read_json(mwAnomalies)\n\n    # Checking the results. Number of rows should be exactly the same.\n    rpmCount = new_df_RPM_results.shape[0]  # gives number of row count\n    mwCount = new_df_MW_results.shape[0]  # gives number of row count\n    \n    if (rpmCount != mwCount):\n        print('Something went wrong, total rows in the results should be the same.')\n        print ('rpmCount: ',rpmCount)\n        print ('mwCount: ',mwCount)\n    else:\n        # Preparing the margin values for plotting\n        new_df_RPM_results['lowerMargins'] = new_df_RPM_results['expectedValues'] - new_df_RPM_results['lowerMargins']\n        new_df_RPM_results['upperMargins'] = new_df_RPM_results['expectedValues'] + new_df_RPM_results['upperMargins']\n        new_df_MW_results['lowerMargins'] = new_df_MW_results['expectedValues'] - new_df_MW_results['lowerMargins']\n        new_df_MW_results['upperMargins'] = new_df_MW_results['expectedValues'] + new_df_MW_results['upperMargins']\n        # Merging original (we need the timestamp/datetime) + results\n        new_df_RPM = new_df_RPM.join(new_df_RPM_results,lsuffix='Original',rsuffix='Results')\n        new_df_MW = new_df_MW.join(new_df_MW_results,lsuffix='Original',rsuffix='Results')\n        # Merging in temp DataFrame just to add the deviceId\n        temp_df = new_df_RPM.join(new_df_MW,lsuffix='RPM',rsuffix='MW')\n        temp_df['deviceId'] = deviceId\n        if (output_df.size == 0): #First execution\n            output_df = temp_df\n        else:\n            output_df = output_df.append(temp_df)\n    print ('Rows processed: ',mwCount,' for device ',deviceId)    \n\n"
    },
    {
      "cell_type": "markdown",
      "metadata": {
        "nteract": {
          "transient": {
            "deleting": false
          }
        }
      },
      "source": "## Step 11 - Anomalies Visualization\n\nNow let's use the built-in visualizations to analyze the data. The suggestion is to test all options, so you can analyze all data we created using data preparation and AI.\n\n&nbsp;\n\n\n>**Did you know?** All resulted properties from the Anomaly Detector API are listed [here](https://docs.microsoft.com/en-us/dotnet/api/microsoft.azure.cognitiveservices.anomalydetector.models.entiredetectresponse?view=azure-dotnet-preview). You may want to check this information to create better visualizations."
    },
    {
      "cell_type": "markdown",
      "metadata": {
        "nteract": {
          "transient": {
            "deleting": false
          }
        }
      },
      "source": "### Final Data Visualization\n\nYou should be able to see interesting line charts, like this image below. Compare all 4 coluns for each unit separated, that't why we pivoted the data. Please notice that in many situations the original value is beyond the margins. The expected value is the base line and you can also check how it compares with the original value.\n\n&nbsp;\n\n<img src=\"https://cosmosnotebooksdata.blob.core.windows.net/notebookdata/iot-ai-notebook-3.PNG\" alt=\"Built-in nteract \" width=\"100%\"/>\n"
    },
    {
      "cell_type": "code",
      "execution_count": 24,
      "metadata": {
        "collapsed": false,
        "execution": {
          "iopub.execute_input": "2020-04-29T16:06:47.778Z",
          "iopub.status.busy": "2020-04-29T16:06:47.771Z",
          "iopub.status.idle": "2020-04-29T16:06:47.882Z",
          "shell.execute_reply": "2020-04-29T16:06:47.971Z"
        },
        "jupyter": {
          "outputs_hidden": false,
          "source_hidden": false
        },
        "nteract": {
          "transient": {
            "deleting": false
          }
        },
        "trusted": false
      },
      "outputs": [
        {
          "data": {
            "application/vnd.dataresource+json": {
              "data": [
                {
                  "deviceId": "dev-1",
                  "expectedValuesMW": 3048,
                  "expectedValuesRPM": 3048,
                  "index": 0,
                  "isAnomalyMW": false,
                  "isAnomalyRPM": false,
                  "isNegativeAnomalyMW": false,
                  "isNegativeAnomalyRPM": false,
                  "isPositiveAnomalyMW": false,
                  "isPositiveAnomalyRPM": false,
                  "lowerMarginsMW": 3042.38,
                  "lowerMarginsRPM": 3042.38,
                  "periodMW": 0,
                  "periodRPM": 0,
                  "timestampMW": "2020-04-28 17:36:57",
                  "timestampRPM": "2020-04-28 17:36:57",
                  "upperMarginsMW": 3053.62,
                  "upperMarginsRPM": 3053.62,
                  "valueMW": 1590,
                  "valueRPM": 3048
                },
                {
                  "deviceId": "dev-1",
                  "expectedValuesMW": 2989,
                  "expectedValuesRPM": 2989,
                  "index": 1,
                  "isAnomalyMW": false,
                  "isAnomalyRPM": false,
                  "isNegativeAnomalyMW": false,
                  "isNegativeAnomalyRPM": false,
                  "isPositiveAnomalyMW": false,
                  "isPositiveAnomalyRPM": false,
                  "lowerMarginsMW": 2929.41,
                  "lowerMarginsRPM": 2929.41,
                  "periodMW": 0,
                  "periodRPM": 0,
                  "timestampMW": "2020-04-28 17:36:58",
                  "timestampRPM": "2020-04-28 17:36:58",
                  "upperMarginsMW": 3048.59,
                  "upperMarginsRPM": 3048.59,
                  "valueMW": 1510,
                  "valueRPM": 2930
                },
                {
                  "deviceId": "dev-1",
                  "expectedValuesMW": 2969.3333333333,
                  "expectedValuesRPM": 2969.3333333333,
                  "index": 2,
                  "isAnomalyMW": false,
                  "isAnomalyRPM": false,
                  "isNegativeAnomalyMW": false,
                  "isNegativeAnomalyRPM": false,
                  "isPositiveAnomalyMW": false,
                  "isPositiveAnomalyRPM": false,
                  "lowerMarginsMW": 2715.15,
                  "lowerMarginsRPM": 2715.15,
                  "periodMW": 0,
                  "periodRPM": 0,
                  "timestampMW": "2020-04-28 17:36:59",
                  "timestampRPM": "2020-04-28 17:36:59",
                  "upperMarginsMW": 3223.5166666667,
                  "upperMarginsRPM": 3223.5166666667,
                  "valueMW": 1648,
                  "valueRPM": 3221
                },
                {
                  "deviceId": "dev-1",
                  "expectedValuesMW": 2961.75,
                  "expectedValuesRPM": 2961.75,
                  "index": 3,
                  "isAnomalyMW": false,
                  "isAnomalyRPM": false,
                  "isNegativeAnomalyMW": false,
                  "isNegativeAnomalyRPM": false,
                  "isPositiveAnomalyMW": false,
                  "isPositiveAnomalyRPM": false,
                  "lowerMarginsMW": 2938.7725,
                  "lowerMarginsRPM": 2938.7725,
                  "periodMW": 0,
                  "periodRPM": 0,
                  "timestampMW": "2020-04-28 17:37:00",
                  "timestampRPM": "2020-04-28 17:37:00",
                  "upperMarginsMW": 2984.7275,
                  "upperMarginsRPM": 2984.7275,
                  "valueMW": 1622,
                  "valueRPM": 2939
                },
                {
                  "deviceId": "dev-1",
                  "expectedValuesMW": 2978.8,
                  "expectedValuesRPM": 2978.8,
                  "index": 4,
                  "isAnomalyMW": false,
                  "isAnomalyRPM": false,
                  "isNegativeAnomalyMW": false,
                  "isNegativeAnomalyRPM": false,
                  "isPositiveAnomalyMW": false,
                  "isPositiveAnomalyRPM": false,
                  "lowerMarginsMW": 2909.918,
                  "lowerMarginsRPM": 2909.918,
                  "periodMW": 0,
                  "periodRPM": 0,
                  "timestampMW": "2020-04-28 17:37:01",
                  "timestampRPM": "2020-04-28 17:37:01",
                  "upperMarginsMW": 3047.682,
                  "upperMarginsRPM": 3047.682,
                  "valueMW": 1629,
                  "valueRPM": 3047
                },
                {
                  "deviceId": "dev-1",
                  "expectedValuesMW": 2934.4,
                  "expectedValuesRPM": 2934.4,
                  "index": 5,
                  "isAnomalyMW": false,
                  "isAnomalyRPM": false,
                  "isNegativeAnomalyMW": false,
                  "isNegativeAnomalyRPM": false,
                  "isPositiveAnomalyMW": false,
                  "isPositiveAnomalyRPM": false,
                  "lowerMarginsMW": 2824.916,
                  "lowerMarginsRPM": 2824.916,
                  "periodMW": 0,
                  "periodRPM": 0,
                  "timestampMW": "2020-04-28 17:37:02",
                  "timestampRPM": "2020-04-28 17:37:02",
                  "upperMarginsMW": 3043.884,
                  "upperMarginsRPM": 3043.884,
                  "valueMW": 1467,
                  "valueRPM": 2826
                },
                {
                  "deviceId": "dev-1",
                  "expectedValuesMW": 2970.6,
                  "expectedValuesRPM": 2970.6,
                  "index": 6,
                  "isAnomalyMW": false,
                  "isAnomalyRPM": false,
                  "isNegativeAnomalyMW": false,
                  "isNegativeAnomalyRPM": false,
                  "isPositiveAnomalyMW": false,
                  "isPositiveAnomalyRPM": false,
                  "lowerMarginsMW": 2828.796,
                  "lowerMarginsRPM": 2828.796,
                  "periodMW": 0,
                  "periodRPM": 0,
                  "timestampMW": "2020-04-28 17:37:03",
                  "timestampRPM": "2020-04-28 17:37:03",
                  "upperMarginsMW": 3112.404,
                  "upperMarginsRPM": 3112.404,
                  "valueMW": 1603,
                  "valueRPM": 3111
                },
                {
                  "deviceId": "dev-1",
                  "expectedValuesMW": 3009.8,
                  "expectedValuesRPM": 3009.8,
                  "index": 7,
                  "isAnomalyMW": false,
                  "isAnomalyRPM": false,
                  "isNegativeAnomalyMW": false,
                  "isNegativeAnomalyRPM": false,
                  "isPositiveAnomalyMW": false,
                  "isPositiveAnomalyRPM": false,
                  "lowerMarginsMW": 2892.438,
                  "lowerMarginsRPM": 2892.438,
                  "periodMW": 0,
                  "periodRPM": 0,
                  "timestampMW": "2020-04-28 17:37:04",
                  "timestampRPM": "2020-04-28 17:37:04",
                  "upperMarginsMW": 3127.162,
                  "upperMarginsRPM": 3127.162,
                  "valueMW": 1469,
                  "valueRPM": 3126
                },
                {
                  "deviceId": "dev-1",
                  "expectedValuesMW": 3070.4,
                  "expectedValuesRPM": 3070.4,
                  "index": 8,
                  "isAnomalyMW": false,
                  "isAnomalyRPM": false,
                  "isNegativeAnomalyMW": false,
                  "isNegativeAnomalyRPM": false,
                  "isPositiveAnomalyMW": false,
                  "isPositiveAnomalyRPM": false,
                  "lowerMarginsMW": 2897.084,
                  "lowerMarginsRPM": 2897.084,
                  "periodMW": 0,
                  "periodRPM": 0,
                  "timestampMW": "2020-04-28 17:37:05",
                  "timestampRPM": "2020-04-28 17:37:05",
                  "upperMarginsMW": 3243.716,
                  "upperMarginsRPM": 3243.716,
                  "valueMW": 1475,
                  "valueRPM": 3242
                },
                {
                  "deviceId": "dev-1",
                  "expectedValuesMW": 3041.6,
                  "expectedValuesRPM": 3041.6,
                  "index": 9,
                  "isAnomalyMW": false,
                  "isAnomalyRPM": false,
                  "isNegativeAnomalyMW": false,
                  "isNegativeAnomalyRPM": false,
                  "isPositiveAnomalyMW": false,
                  "isPositiveAnomalyRPM": false,
                  "lowerMarginsMW": 2901.614,
                  "lowerMarginsRPM": 2901.614,
                  "periodMW": 0,
                  "periodRPM": 0,
                  "timestampMW": "2020-04-28 17:37:06",
                  "timestampRPM": "2020-04-28 17:37:06",
                  "upperMarginsMW": 3181.586,
                  "upperMarginsRPM": 3181.586,
                  "valueMW": 1387,
                  "valueRPM": 2903
                },
                {
                  "deviceId": "dev-1",
                  "expectedValuesMW": 3085.6,
                  "expectedValuesRPM": 3085.6,
                  "index": 10,
                  "isAnomalyMW": false,
                  "isAnomalyRPM": false,
                  "isNegativeAnomalyMW": false,
                  "isNegativeAnomalyRPM": false,
                  "isPositiveAnomalyMW": false,
                  "isPositiveAnomalyRPM": false,
                  "lowerMarginsMW": 3045.604,
                  "lowerMarginsRPM": 3045.604,
                  "periodMW": 0,
                  "periodRPM": 0,
                  "timestampMW": "2020-04-28 17:37:07",
                  "timestampRPM": "2020-04-28 17:37:07",
                  "upperMarginsMW": 3125.596,
                  "upperMarginsRPM": 3125.596,
                  "valueMW": 1583,
                  "valueRPM": 3046
                },
                {
                  "deviceId": "dev-1",
                  "expectedValuesMW": 3014.2,
                  "expectedValuesRPM": 3014.2,
                  "index": 11,
                  "isAnomalyMW": false,
                  "isAnomalyRPM": false,
                  "isNegativeAnomalyMW": false,
                  "isNegativeAnomalyRPM": false,
                  "isPositiveAnomalyMW": false,
                  "isPositiveAnomalyRPM": false,
                  "lowerMarginsMW": 2751.398,
                  "lowerMarginsRPM": 2751.398,
                  "periodMW": 0,
                  "periodRPM": 0,
                  "timestampMW": "2020-04-28 17:37:10",
                  "timestampRPM": "2020-04-28 17:37:10",
                  "upperMarginsMW": 3277.002,
                  "upperMarginsRPM": 3277.002,
                  "valueMW": 1526,
                  "valueRPM": 2754
                },
                {
                  "deviceId": "dev-1",
                  "expectedValuesMW": 2954,
                  "expectedValuesRPM": 2954,
                  "index": 12,
                  "isAnomalyMW": false,
                  "isAnomalyRPM": false,
                  "isNegativeAnomalyMW": false,
                  "isNegativeAnomalyRPM": false,
                  "isPositiveAnomalyMW": false,
                  "isPositiveAnomalyRPM": false,
                  "lowerMarginsMW": 2823.71,
                  "lowerMarginsRPM": 2823.71,
                  "periodMW": 0,
                  "periodRPM": 0,
                  "timestampMW": "2020-04-28 17:37:11",
                  "timestampRPM": "2020-04-28 17:37:11",
                  "upperMarginsMW": 3084.29,
                  "upperMarginsRPM": 3084.29,
                  "valueMW": 1619,
                  "valueRPM": 2825
                },
                {
                  "deviceId": "dev-1",
                  "expectedValuesMW": 2877,
                  "expectedValuesRPM": 2877,
                  "index": 13,
                  "isAnomalyMW": false,
                  "isAnomalyRPM": false,
                  "isNegativeAnomalyMW": false,
                  "isNegativeAnomalyRPM": false,
                  "isPositiveAnomalyMW": false,
                  "isPositiveAnomalyRPM": false,
                  "lowerMarginsMW": 2856.8,
                  "lowerMarginsRPM": 2856.8,
                  "periodMW": 0,
                  "periodRPM": 0,
                  "timestampMW": "2020-04-28 17:37:12",
                  "timestampRPM": "2020-04-28 17:37:12",
                  "upperMarginsMW": 2897.2,
                  "upperMarginsRPM": 2897.2,
                  "valueMW": 1628,
                  "valueRPM": 2857
                },
                {
                  "deviceId": "dev-1",
                  "expectedValuesMW": 2908.4,
                  "expectedValuesRPM": 2908.4,
                  "index": 14,
                  "isAnomalyMW": false,
                  "isAnomalyRPM": false,
                  "isNegativeAnomalyMW": false,
                  "isNegativeAnomalyRPM": false,
                  "isPositiveAnomalyMW": false,
                  "isPositiveAnomalyRPM": false,
                  "lowerMarginsMW": 2755.284,
                  "lowerMarginsRPM": 2755.284,
                  "periodMW": 0,
                  "periodRPM": 0,
                  "timestampMW": "2020-04-28 17:37:13",
                  "timestampRPM": "2020-04-28 17:37:13",
                  "upperMarginsMW": 3061.516,
                  "upperMarginsRPM": 3061.516,
                  "valueMW": 1571,
                  "valueRPM": 3060
                },
                {
                  "deviceId": "dev-1",
                  "expectedValuesMW": 2917.6,
                  "expectedValuesRPM": 2917.6,
                  "index": 15,
                  "isAnomalyMW": false,
                  "isAnomalyRPM": false,
                  "isNegativeAnomalyMW": false,
                  "isNegativeAnomalyRPM": false,
                  "isPositiveAnomalyMW": false,
                  "isPositiveAnomalyRPM": false,
                  "lowerMarginsMW": 2741.456,
                  "lowerMarginsRPM": 2741.456,
                  "periodMW": 0,
                  "periodRPM": 0,
                  "timestampMW": "2020-04-28 17:37:14",
                  "timestampRPM": "2020-04-28 17:37:14",
                  "upperMarginsMW": 3093.744,
                  "upperMarginsRPM": 3093.744,
                  "valueMW": 1612,
                  "valueRPM": 3092
                },
                {
                  "deviceId": "dev-1",
                  "expectedValuesMW": 2995.8,
                  "expectedValuesRPM": 2995.8,
                  "index": 16,
                  "isAnomalyMW": false,
                  "isAnomalyRPM": false,
                  "isNegativeAnomalyMW": false,
                  "isNegativeAnomalyRPM": false,
                  "isPositiveAnomalyMW": false,
                  "isPositiveAnomalyRPM": false,
                  "lowerMarginsMW": 2845.108,
                  "lowerMarginsRPM": 2845.108,
                  "periodMW": 0,
                  "periodRPM": 0,
                  "timestampMW": "2020-04-28 17:37:15",
                  "timestampRPM": "2020-04-28 17:37:15",
                  "upperMarginsMW": 3146.492,
                  "upperMarginsRPM": 3146.492,
                  "valueMW": 1614,
                  "valueRPM": 3145
                },
                {
                  "deviceId": "dev-1",
                  "expectedValuesMW": 3057.2,
                  "expectedValuesRPM": 3057.2,
                  "index": 17,
                  "isAnomalyMW": false,
                  "isAnomalyRPM": false,
                  "isNegativeAnomalyMW": false,
                  "isNegativeAnomalyRPM": false,
                  "isPositiveAnomalyMW": false,
                  "isPositiveAnomalyRPM": false,
                  "lowerMarginsMW": 2981.652,
                  "lowerMarginsRPM": 2981.652,
                  "periodMW": 0,
                  "periodRPM": 0,
                  "timestampMW": "2020-04-28 17:37:16",
                  "timestampRPM": "2020-04-28 17:37:16",
                  "upperMarginsMW": 3132.748,
                  "upperMarginsRPM": 3132.748,
                  "valueMW": 1554,
                  "valueRPM": 3132
                },
                {
                  "deviceId": "dev-1",
                  "expectedValuesMW": 3066.2,
                  "expectedValuesRPM": 3066.2,
                  "index": 18,
                  "isAnomalyMW": false,
                  "isAnomalyRPM": false,
                  "isNegativeAnomalyMW": false,
                  "isNegativeAnomalyRPM": false,
                  "isPositiveAnomalyMW": false,
                  "isPositiveAnomalyRPM": false,
                  "lowerMarginsMW": 2900.358,
                  "lowerMarginsRPM": 2900.358,
                  "periodMW": 0,
                  "periodRPM": 0,
                  "timestampMW": "2020-04-28 17:37:17",
                  "timestampRPM": "2020-04-28 17:37:17",
                  "upperMarginsMW": 3232.042,
                  "upperMarginsRPM": 3232.042,
                  "valueMW": 1475,
                  "valueRPM": 2902
                },
                {
                  "deviceId": "dev-1",
                  "expectedValuesMW": 3084.8,
                  "expectedValuesRPM": 3084.8,
                  "index": 19,
                  "isAnomalyMW": false,
                  "isAnomalyRPM": false,
                  "isNegativeAnomalyMW": false,
                  "isNegativeAnomalyRPM": false,
                  "isPositiveAnomalyMW": false,
                  "isPositiveAnomalyRPM": false,
                  "lowerMarginsMW": 3015.918,
                  "lowerMarginsRPM": 3015.918,
                  "periodMW": 0,
                  "periodRPM": 0,
                  "timestampMW": "2020-04-28 17:37:18",
                  "timestampRPM": "2020-04-28 17:37:18",
                  "upperMarginsMW": 3153.682,
                  "upperMarginsRPM": 3153.682,
                  "valueMW": 1619,
                  "valueRPM": 3153
                },
                {
                  "deviceId": "dev-1",
                  "expectedValuesMW": 3017.2,
                  "expectedValuesRPM": 3017.2,
                  "index": 20,
                  "isAnomalyMW": false,
                  "isAnomalyRPM": false,
                  "isNegativeAnomalyMW": false,
                  "isNegativeAnomalyRPM": false,
                  "isPositiveAnomalyMW": false,
                  "isPositiveAnomalyRPM": false,
                  "lowerMarginsMW": 2751.368,
                  "lowerMarginsRPM": 2751.368,
                  "periodMW": 0,
                  "periodRPM": 0,
                  "timestampMW": "2020-04-28 17:37:19",
                  "timestampRPM": "2020-04-28 17:37:19",
                  "upperMarginsMW": 3283.032,
                  "upperMarginsRPM": 3283.032,
                  "valueMW": 1596,
                  "valueRPM": 2754
                },
                {
                  "deviceId": "dev-1",
                  "expectedValuesMW": 2948,
                  "expectedValuesRPM": 2948,
                  "index": 21,
                  "isAnomalyMW": false,
                  "isAnomalyRPM": false,
                  "isNegativeAnomalyMW": false,
                  "isNegativeAnomalyRPM": false,
                  "isPositiveAnomalyMW": false,
                  "isPositiveAnomalyRPM": false,
                  "lowerMarginsMW": 2797.51,
                  "lowerMarginsRPM": 2797.51,
                  "periodMW": 0,
                  "periodRPM": 0,
                  "timestampMW": "2020-04-28 17:37:20",
                  "timestampRPM": "2020-04-28 17:37:20",
                  "upperMarginsMW": 3098.49,
                  "upperMarginsRPM": 3098.49,
                  "valueMW": 1574,
                  "valueRPM": 2799
                },
                {
                  "deviceId": "dev-1",
                  "expectedValuesMW": 2862.6,
                  "expectedValuesRPM": 2862.6,
                  "index": 22,
                  "isAnomalyMW": false,
                  "isAnomalyRPM": false,
                  "isNegativeAnomalyMW": false,
                  "isNegativeAnomalyRPM": false,
                  "isPositiveAnomalyMW": false,
                  "isPositiveAnomalyRPM": false,
                  "lowerMarginsMW": 2703.424,
                  "lowerMarginsRPM": 2703.424,
                  "periodMW": 0,
                  "periodRPM": 0,
                  "timestampMW": "2020-04-28 17:37:21",
                  "timestampRPM": "2020-04-28 17:37:21",
                  "upperMarginsMW": 3021.776,
                  "upperMarginsRPM": 3021.776,
                  "valueMW": 1357,
                  "valueRPM": 2705
                },
                {
                  "deviceId": "dev-1",
                  "expectedValuesMW": 2838.2,
                  "expectedValuesRPM": 2838.2,
                  "index": 23,
                  "isAnomalyMW": false,
                  "isAnomalyRPM": false,
                  "isNegativeAnomalyMW": false,
                  "isNegativeAnomalyRPM": false,
                  "isPositiveAnomalyMW": false,
                  "isPositiveAnomalyRPM": false,
                  "lowerMarginsMW": 2779.418,
                  "lowerMarginsRPM": 2779.418,
                  "periodMW": 0,
                  "periodRPM": 0,
                  "timestampMW": "2020-04-28 17:37:22",
                  "timestampRPM": "2020-04-28 17:37:22",
                  "upperMarginsMW": 2896.982,
                  "upperMarginsRPM": 2896.982,
                  "valueMW": 1415,
                  "valueRPM": 2780
                },
                {
                  "deviceId": "dev-1",
                  "expectedValuesMW": 2820.6,
                  "expectedValuesRPM": 2820.6,
                  "index": 24,
                  "isAnomalyMW": false,
                  "isAnomalyRPM": false,
                  "isNegativeAnomalyMW": false,
                  "isNegativeAnomalyRPM": false,
                  "isPositiveAnomalyMW": false,
                  "isPositiveAnomalyRPM": false,
                  "lowerMarginsMW": 2573.756,
                  "lowerMarginsRPM": 2573.756,
                  "periodMW": 0,
                  "periodRPM": 0,
                  "timestampMW": "2020-04-28 17:37:23",
                  "timestampRPM": "2020-04-28 17:37:23",
                  "upperMarginsMW": 3067.444,
                  "upperMarginsRPM": 3067.444,
                  "valueMW": 1383,
                  "valueRPM": 3065
                },
                {
                  "deviceId": "dev-1",
                  "expectedValuesMW": 2874.2,
                  "expectedValuesRPM": 2874.2,
                  "index": 25,
                  "isAnomalyMW": false,
                  "isAnomalyRPM": false,
                  "isNegativeAnomalyMW": false,
                  "isNegativeAnomalyRPM": false,
                  "isPositiveAnomalyMW": false,
                  "isPositiveAnomalyRPM": false,
                  "lowerMarginsMW": 2724.922,
                  "lowerMarginsRPM": 2724.922,
                  "periodMW": 0,
                  "periodRPM": 0,
                  "timestampMW": "2020-04-28 17:37:24",
                  "timestampRPM": "2020-04-28 17:37:24",
                  "upperMarginsMW": 3023.478,
                  "upperMarginsRPM": 3023.478,
                  "valueMW": 1593,
                  "valueRPM": 3022
                },
                {
                  "deviceId": "dev-1",
                  "expectedValuesMW": 2940.8,
                  "expectedValuesRPM": 2940.8,
                  "index": 26,
                  "isAnomalyMW": false,
                  "isAnomalyRPM": false,
                  "isNegativeAnomalyMW": false,
                  "isNegativeAnomalyRPM": false,
                  "isPositiveAnomalyMW": false,
                  "isPositiveAnomalyRPM": false,
                  "lowerMarginsMW": 2747.688,
                  "lowerMarginsRPM": 2747.688,
                  "periodMW": 0,
                  "periodRPM": 0,
                  "timestampMW": "2020-04-28 17:37:25",
                  "timestampRPM": "2020-04-28 17:37:25",
                  "upperMarginsMW": 3133.912,
                  "upperMarginsRPM": 3133.912,
                  "valueMW": 1597,
                  "valueRPM": 3132
                },
                {
                  "deviceId": "dev-1",
                  "expectedValuesMW": 2946.2,
                  "expectedValuesRPM": 2946.2,
                  "index": 27,
                  "isAnomalyMW": false,
                  "isAnomalyRPM": false,
                  "isNegativeAnomalyMW": false,
                  "isNegativeAnomalyRPM": false,
                  "isPositiveAnomalyMW": false,
                  "isPositiveAnomalyRPM": false,
                  "lowerMarginsMW": 2729.858,
                  "lowerMarginsRPM": 2729.858,
                  "periodMW": 0,
                  "periodRPM": 0,
                  "timestampMW": "2020-04-28 17:37:26",
                  "timestampRPM": "2020-04-28 17:37:26",
                  "upperMarginsMW": 3162.542,
                  "upperMarginsRPM": 3162.542,
                  "valueMW": 1538,
                  "valueRPM": 2732
                },
                {
                  "deviceId": "dev-1",
                  "expectedValuesMW": 2984.6,
                  "expectedValuesRPM": 2984.6,
                  "index": 28,
                  "isAnomalyMW": false,
                  "isAnomalyRPM": false,
                  "isNegativeAnomalyMW": false,
                  "isNegativeAnomalyRPM": false,
                  "isPositiveAnomalyMW": false,
                  "isPositiveAnomalyRPM": false,
                  "lowerMarginsMW": 2971.874,
                  "lowerMarginsRPM": 2971.874,
                  "periodMW": 0,
                  "periodRPM": 0,
                  "timestampMW": "2020-04-28 17:37:27",
                  "timestampRPM": "2020-04-28 17:37:27",
                  "upperMarginsMW": 2997.326,
                  "upperMarginsRPM": 2997.326,
                  "valueMW": 1432,
                  "valueRPM": 2972
                },
                {
                  "deviceId": "dev-1",
                  "expectedValuesMW": 2961,
                  "expectedValuesRPM": 2961,
                  "index": 29,
                  "isAnomalyMW": false,
                  "isAnomalyRPM": false,
                  "isNegativeAnomalyMW": false,
                  "isNegativeAnomalyRPM": false,
                  "isPositiveAnomalyMW": false,
                  "isPositiveAnomalyRPM": false,
                  "lowerMarginsMW": 2946.86,
                  "lowerMarginsRPM": 2946.86,
                  "periodMW": 0,
                  "periodRPM": 0,
                  "timestampMW": "2020-04-28 17:37:29",
                  "timestampRPM": "2020-04-28 17:37:29",
                  "upperMarginsMW": 2975.14,
                  "upperMarginsRPM": 2975.14,
                  "valueMW": 1354,
                  "valueRPM": 2947
                },
                {
                  "deviceId": "dev-1",
                  "expectedValuesMW": 2964.4,
                  "expectedValuesRPM": 2964.4,
                  "index": 30,
                  "isAnomalyMW": false,
                  "isAnomalyRPM": false,
                  "isNegativeAnomalyMW": false,
                  "isNegativeAnomalyRPM": false,
                  "isPositiveAnomalyMW": false,
                  "isPositiveAnomalyRPM": false,
                  "lowerMarginsMW": 2889.054,
                  "lowerMarginsRPM": 2889.054,
                  "periodMW": 0,
                  "periodRPM": 0,
                  "timestampMW": "2020-04-28 17:37:30",
                  "timestampRPM": "2020-04-28 17:37:30",
                  "upperMarginsMW": 3039.746,
                  "upperMarginsRPM": 3039.746,
                  "valueMW": 1649,
                  "valueRPM": 3039
                },
                {
                  "deviceId": "dev-1",
                  "expectedValuesMW": 2987.8,
                  "expectedValuesRPM": 2987.8,
                  "index": 31,
                  "isAnomalyMW": false,
                  "isAnomalyRPM": false,
                  "isNegativeAnomalyMW": false,
                  "isNegativeAnomalyRPM": false,
                  "isPositiveAnomalyMW": false,
                  "isPositiveAnomalyRPM": false,
                  "lowerMarginsMW": 2723.988,
                  "lowerMarginsRPM": 2723.988,
                  "periodMW": 0,
                  "periodRPM": 0,
                  "timestampMW": "2020-04-28 17:37:31",
                  "timestampRPM": "2020-04-28 17:37:31",
                  "upperMarginsMW": 3251.612,
                  "upperMarginsRPM": 3251.612,
                  "valueMW": 1604,
                  "valueRPM": 3249
                },
                {
                  "deviceId": "dev-1",
                  "expectedValuesMW": 2984.8,
                  "expectedValuesRPM": 2984.8,
                  "index": 32,
                  "isAnomalyMW": false,
                  "isAnomalyRPM": false,
                  "isNegativeAnomalyMW": false,
                  "isNegativeAnomalyRPM": false,
                  "isPositiveAnomalyMW": false,
                  "isPositiveAnomalyRPM": false,
                  "lowerMarginsMW": 2714.322,
                  "lowerMarginsRPM": 2714.322,
                  "periodMW": 0,
                  "periodRPM": 0,
                  "timestampMW": "2020-04-28 17:37:32",
                  "timestampRPM": "2020-04-28 17:37:32",
                  "upperMarginsMW": 3255.278,
                  "upperMarginsRPM": 3255.278,
                  "valueMW": 1456,
                  "valueRPM": 2717
                },
                {
                  "deviceId": "dev-1",
                  "expectedValuesMW": 2966.6,
                  "expectedValuesRPM": 2966.6,
                  "index": 33,
                  "isAnomalyMW": false,
                  "isAnomalyRPM": false,
                  "isNegativeAnomalyMW": false,
                  "isNegativeAnomalyRPM": false,
                  "isPositiveAnomalyMW": false,
                  "isPositiveAnomalyRPM": false,
                  "lowerMarginsMW": 2880.144,
                  "lowerMarginsRPM": 2880.144,
                  "periodMW": 0,
                  "periodRPM": 0,
                  "timestampMW": "2020-04-28 17:37:33",
                  "timestampRPM": "2020-04-28 17:37:33",
                  "upperMarginsMW": 3053.056,
                  "upperMarginsRPM": 3053.056,
                  "valueMW": 1504,
                  "valueRPM": 2881
                },
                {
                  "deviceId": "dev-1",
                  "expectedValuesMW": 3029,
                  "expectedValuesRPM": 3029,
                  "index": 34,
                  "isAnomalyMW": false,
                  "isAnomalyRPM": false,
                  "isNegativeAnomalyMW": false,
                  "isNegativeAnomalyRPM": false,
                  "isPositiveAnomalyMW": false,
                  "isPositiveAnomalyRPM": false,
                  "lowerMarginsMW": 2796.7,
                  "lowerMarginsRPM": 2796.7,
                  "periodMW": 0,
                  "periodRPM": 0,
                  "timestampMW": "2020-04-28 17:37:34",
                  "timestampRPM": "2020-04-28 17:37:34",
                  "upperMarginsMW": 3261.3,
                  "upperMarginsRPM": 3261.3,
                  "valueMW": 1515,
                  "valueRPM": 3259
                },
                {
                  "deviceId": "dev-1",
                  "expectedValuesMW": 2971,
                  "expectedValuesRPM": 2971,
                  "index": 35,
                  "isAnomalyMW": false,
                  "isAnomalyRPM": false,
                  "isNegativeAnomalyMW": false,
                  "isNegativeAnomalyRPM": false,
                  "isPositiveAnomalyMW": false,
                  "isPositiveAnomalyRPM": false,
                  "lowerMarginsMW": 2746.78,
                  "lowerMarginsRPM": 2746.78,
                  "periodMW": 0,
                  "periodRPM": 0,
                  "timestampMW": "2020-04-28 17:37:35",
                  "timestampRPM": "2020-04-28 17:37:35",
                  "upperMarginsMW": 3195.22,
                  "upperMarginsRPM": 3195.22,
                  "valueMW": 1384,
                  "valueRPM": 2749
                },
                {
                  "deviceId": "dev-1",
                  "expectedValuesMW": 2879.6,
                  "expectedValuesRPM": 2879.6,
                  "index": 36,
                  "isAnomalyMW": false,
                  "isAnomalyRPM": false,
                  "isNegativeAnomalyMW": false,
                  "isNegativeAnomalyRPM": false,
                  "isPositiveAnomalyMW": false,
                  "isPositiveAnomalyRPM": false,
                  "lowerMarginsMW": 2791.124,
                  "lowerMarginsRPM": 2791.124,
                  "periodMW": 0,
                  "periodRPM": 0,
                  "timestampMW": "2020-04-28 17:37:36",
                  "timestampRPM": "2020-04-28 17:37:36",
                  "upperMarginsMW": 2968.076,
                  "upperMarginsRPM": 2968.076,
                  "valueMW": 1476,
                  "valueRPM": 2792
                },
                {
                  "deviceId": "dev-1",
                  "expectedValuesMW": 2921.9789473684,
                  "expectedValuesRPM": 2921.9789473684,
                  "index": 37,
                  "isAnomalyMW": true,
                  "isAnomalyRPM": true,
                  "isNegativeAnomalyMW": false,
                  "isNegativeAnomalyRPM": false,
                  "isPositiveAnomalyMW": true,
                  "isPositiveAnomalyRPM": true,
                  "lowerMarginsMW": 2911.1687368421,
                  "lowerMarginsRPM": 2911.1687368421,
                  "periodMW": 0,
                  "periodRPM": 0,
                  "timestampMW": "2020-04-28 17:37:37",
                  "timestampRPM": "2020-04-28 17:37:37",
                  "upperMarginsMW": 2932.7891578947,
                  "upperMarginsRPM": 2932.7891578947,
                  "valueMW": 956,
                  "valueRPM": 4003
                },
                {
                  "deviceId": "dev-1",
                  "expectedValuesMW": 2892.7789473684,
                  "expectedValuesRPM": 2892.7789473684,
                  "index": 38,
                  "isAnomalyMW": false,
                  "isAnomalyRPM": false,
                  "isNegativeAnomalyMW": false,
                  "isNegativeAnomalyRPM": false,
                  "isPositiveAnomalyMW": false,
                  "isPositiveAnomalyRPM": false,
                  "lowerMarginsMW": 2733.4222105263,
                  "lowerMarginsRPM": 2733.4222105263,
                  "periodMW": 0,
                  "periodRPM": 0,
                  "timestampMW": "2020-04-28 17:37:38",
                  "timestampRPM": "2020-04-28 17:37:38",
                  "upperMarginsMW": 3052.1356842105,
                  "upperMarginsRPM": 3052.1356842105,
                  "valueMW": 1430,
                  "valueRPM": 2735
                },
                {
                  "deviceId": "dev-1",
                  "expectedValuesMW": 2849.7789473684,
                  "expectedValuesRPM": 2849.7789473684,
                  "index": 39,
                  "isAnomalyMW": false,
                  "isAnomalyRPM": false,
                  "isNegativeAnomalyMW": false,
                  "isNegativeAnomalyRPM": false,
                  "isPositiveAnomalyMW": false,
                  "isPositiveAnomalyRPM": false,
                  "lowerMarginsMW": 2653.6156842105,
                  "lowerMarginsRPM": 2653.6156842105,
                  "periodMW": 0,
                  "periodRPM": 0,
                  "timestampMW": "2020-04-28 17:37:39",
                  "timestampRPM": "2020-04-28 17:37:39",
                  "upperMarginsMW": 3045.9422105263,
                  "upperMarginsRPM": 3045.9422105263,
                  "valueMW": 1455,
                  "valueRPM": 3044
                },
                {
                  "deviceId": "dev-1",
                  "expectedValuesMW": 2858.5789473684,
                  "expectedValuesRPM": 2858.5789473684,
                  "index": 40,
                  "isAnomalyMW": false,
                  "isAnomalyRPM": false,
                  "isNegativeAnomalyMW": false,
                  "isNegativeAnomalyRPM": false,
                  "isPositiveAnomalyMW": false,
                  "isPositiveAnomalyRPM": false,
                  "lowerMarginsMW": 2792.3442105263,
                  "lowerMarginsRPM": 2792.3442105263,
                  "periodMW": 0,
                  "periodRPM": 0,
                  "timestampMW": "2020-04-28 17:37:40",
                  "timestampRPM": "2020-04-28 17:37:40",
                  "upperMarginsMW": 2924.8136842105,
                  "upperMarginsRPM": 2924.8136842105,
                  "valueMW": 1448,
                  "valueRPM": 2793
                },
                {
                  "deviceId": "dev-1",
                  "expectedValuesMW": 2848.1789473684,
                  "expectedValuesRPM": 2848.1789473684,
                  "index": 41,
                  "isAnomalyMW": false,
                  "isAnomalyRPM": false,
                  "isNegativeAnomalyMW": false,
                  "isNegativeAnomalyRPM": false,
                  "isPositiveAnomalyMW": false,
                  "isPositiveAnomalyRPM": false,
                  "lowerMarginsMW": 2738.9182105263,
                  "lowerMarginsRPM": 2738.9182105263,
                  "periodMW": 0,
                  "periodRPM": 0,
                  "timestampMW": "2020-04-28 17:37:41",
                  "timestampRPM": "2020-04-28 17:37:41",
                  "upperMarginsMW": 2957.4396842105,
                  "upperMarginsRPM": 2957.4396842105,
                  "valueMW": 1587,
                  "valueRPM": 2740
                },
                {
                  "deviceId": "dev-1",
                  "expectedValuesMW": 2885.6,
                  "expectedValuesRPM": 2885.6,
                  "index": 42,
                  "isAnomalyMW": false,
                  "isAnomalyRPM": false,
                  "isNegativeAnomalyMW": false,
                  "isNegativeAnomalyRPM": false,
                  "isPositiveAnomalyMW": false,
                  "isPositiveAnomalyRPM": false,
                  "lowerMarginsMW": 2652.896,
                  "lowerMarginsRPM": 2652.896,
                  "periodMW": 0,
                  "periodRPM": 0,
                  "timestampMW": "2020-04-28 17:37:42",
                  "timestampRPM": "2020-04-28 17:37:42",
                  "upperMarginsMW": 3118.304,
                  "upperMarginsRPM": 3118.304,
                  "valueMW": 1385,
                  "valueRPM": 3116
                },
                {
                  "deviceId": "dev-1",
                  "expectedValuesMW": 2914.6,
                  "expectedValuesRPM": 2914.6,
                  "index": 43,
                  "isAnomalyMW": false,
                  "isAnomalyRPM": false,
                  "isNegativeAnomalyMW": false,
                  "isNegativeAnomalyRPM": false,
                  "isPositiveAnomalyMW": false,
                  "isPositiveAnomalyRPM": false,
                  "lowerMarginsMW": 2879.654,
                  "lowerMarginsRPM": 2879.654,
                  "periodMW": 0,
                  "periodRPM": 0,
                  "timestampMW": "2020-04-28 17:37:43",
                  "timestampRPM": "2020-04-28 17:37:43",
                  "upperMarginsMW": 2949.546,
                  "upperMarginsRPM": 2949.546,
                  "valueMW": 1580,
                  "valueRPM": 2880
                },
                {
                  "deviceId": "dev-1",
                  "expectedValuesMW": 2866.4,
                  "expectedValuesRPM": 2866.4,
                  "index": 44,
                  "isAnomalyMW": false,
                  "isAnomalyRPM": false,
                  "isNegativeAnomalyMW": false,
                  "isNegativeAnomalyRPM": false,
                  "isPositiveAnomalyMW": false,
                  "isPositiveAnomalyRPM": false,
                  "lowerMarginsMW": 2802.366,
                  "lowerMarginsRPM": 2802.366,
                  "periodMW": 0,
                  "periodRPM": 0,
                  "timestampMW": "2020-04-28 17:37:44",
                  "timestampRPM": "2020-04-28 17:37:44",
                  "upperMarginsMW": 2930.434,
                  "upperMarginsRPM": 2930.434,
                  "valueMW": 1432,
                  "valueRPM": 2803
                },
                {
                  "deviceId": "dev-1",
                  "expectedValuesMW": 2966,
                  "expectedValuesRPM": 2966,
                  "index": 45,
                  "isAnomalyMW": false,
                  "isAnomalyRPM": false,
                  "isNegativeAnomalyMW": false,
                  "isNegativeAnomalyRPM": false,
                  "isPositiveAnomalyMW": false,
                  "isPositiveAnomalyRPM": false,
                  "lowerMarginsMW": 2637.75,
                  "lowerMarginsRPM": 2637.75,
                  "periodMW": 0,
                  "periodRPM": 0,
                  "timestampMW": "2020-04-28 17:37:45",
                  "timestampRPM": "2020-04-28 17:37:45",
                  "upperMarginsMW": 3294.25,
                  "upperMarginsRPM": 3294.25,
                  "valueMW": 1394,
                  "valueRPM": 3291
                },
                {
                  "deviceId": "dev-1",
                  "expectedValuesMW": 3042.8,
                  "expectedValuesRPM": 3042.8,
                  "index": 46,
                  "isAnomalyMW": false,
                  "isAnomalyRPM": false,
                  "isNegativeAnomalyMW": false,
                  "isNegativeAnomalyRPM": false,
                  "isPositiveAnomalyMW": false,
                  "isPositiveAnomalyRPM": false,
                  "lowerMarginsMW": 2960.788,
                  "lowerMarginsRPM": 2960.788,
                  "periodMW": 0,
                  "periodRPM": 0,
                  "timestampMW": "2020-04-28 17:37:46",
                  "timestampRPM": "2020-04-28 17:37:46",
                  "upperMarginsMW": 3124.812,
                  "upperMarginsRPM": 3124.812,
                  "valueMW": 1480,
                  "valueRPM": 3124
                },
                {
                  "deviceId": "dev-1",
                  "expectedValuesMW": 3058.8,
                  "expectedValuesRPM": 3058.8,
                  "index": 47,
                  "isAnomalyMW": false,
                  "isAnomalyRPM": false,
                  "isNegativeAnomalyMW": false,
                  "isNegativeAnomalyRPM": false,
                  "isPositiveAnomalyMW": false,
                  "isPositiveAnomalyRPM": false,
                  "lowerMarginsMW": 2920.228,
                  "lowerMarginsRPM": 2920.228,
                  "periodMW": 0,
                  "periodRPM": 0,
                  "timestampMW": "2020-04-28 17:37:49",
                  "timestampRPM": "2020-04-28 17:37:49",
                  "upperMarginsMW": 3197.372,
                  "upperMarginsRPM": 3197.372,
                  "valueMW": 1624,
                  "valueRPM": 3196
                },
                {
                  "deviceId": "dev-1",
                  "expectedValuesMW": 3046.2,
                  "expectedValuesRPM": 3046.2,
                  "index": 48,
                  "isAnomalyMW": false,
                  "isAnomalyRPM": false,
                  "isNegativeAnomalyMW": false,
                  "isNegativeAnomalyRPM": false,
                  "isPositiveAnomalyMW": false,
                  "isPositiveAnomalyRPM": false,
                  "lowerMarginsMW": 2814.708,
                  "lowerMarginsRPM": 2814.708,
                  "periodMW": 0,
                  "periodRPM": 0,
                  "timestampMW": "2020-04-28 17:37:50",
                  "timestampRPM": "2020-04-28 17:37:50",
                  "upperMarginsMW": 3277.692,
                  "upperMarginsRPM": 3277.692,
                  "valueMW": 1645,
                  "valueRPM": 2817
                },
                {
                  "deviceId": "dev-1",
                  "expectedValuesMW": 3074.8,
                  "expectedValuesRPM": 3074.8,
                  "index": 49,
                  "isAnomalyMW": false,
                  "isAnomalyRPM": false,
                  "isNegativeAnomalyMW": false,
                  "isNegativeAnomalyRPM": false,
                  "isPositiveAnomalyMW": false,
                  "isPositiveAnomalyRPM": false,
                  "lowerMarginsMW": 2944.712,
                  "lowerMarginsRPM": 2944.712,
                  "periodMW": 0,
                  "periodRPM": 0,
                  "timestampMW": "2020-04-28 17:37:51",
                  "timestampRPM": "2020-04-28 17:37:51",
                  "upperMarginsMW": 3204.888,
                  "upperMarginsRPM": 3204.888,
                  "valueMW": 1507,
                  "valueRPM": 2946
                }
              ],
              "schema": {
                "fields": [
                  {
                    "name": "index",
                    "type": "integer"
                  },
                  {
                    "name": "timestampRPM",
                    "type": "string"
                  },
                  {
                    "name": "valueRPM",
                    "type": "number"
                  },
                  {
                    "name": "expectedValuesRPM",
                    "type": "number"
                  },
                  {
                    "name": "isAnomalyRPM",
                    "type": "boolean"
                  },
                  {
                    "name": "isNegativeAnomalyRPM",
                    "type": "boolean"
                  },
                  {
                    "name": "isPositiveAnomalyRPM",
                    "type": "boolean"
                  },
                  {
                    "name": "lowerMarginsRPM",
                    "type": "number"
                  },
                  {
                    "name": "periodRPM",
                    "type": "integer"
                  },
                  {
                    "name": "upperMarginsRPM",
                    "type": "number"
                  },
                  {
                    "name": "timestampMW",
                    "type": "string"
                  },
                  {
                    "name": "valueMW",
                    "type": "number"
                  },
                  {
                    "name": "expectedValuesMW",
                    "type": "number"
                  },
                  {
                    "name": "isAnomalyMW",
                    "type": "boolean"
                  },
                  {
                    "name": "isNegativeAnomalyMW",
                    "type": "boolean"
                  },
                  {
                    "name": "isPositiveAnomalyMW",
                    "type": "boolean"
                  },
                  {
                    "name": "lowerMarginsMW",
                    "type": "number"
                  },
                  {
                    "name": "periodMW",
                    "type": "integer"
                  },
                  {
                    "name": "upperMarginsMW",
                    "type": "number"
                  },
                  {
                    "name": "deviceId",
                    "type": "string"
                  }
                ],
                "pandas_version": "0.20.0",
                "primaryKey": [
                  "index"
                ]
              }
            },
            "text/html": "<div>\n<style scoped>\n    .dataframe tbody tr th:only-of-type {\n        vertical-align: middle;\n    }\n\n    .dataframe tbody tr th {\n        vertical-align: top;\n    }\n\n    .dataframe thead th {\n        text-align: right;\n    }\n</style>\n<table border=\"1\" class=\"dataframe\">\n  <thead>\n    <tr style=\"text-align: right;\">\n      <th></th>\n      <th>timestampRPM</th>\n      <th>valueRPM</th>\n      <th>expectedValuesRPM</th>\n      <th>isAnomalyRPM</th>\n      <th>isNegativeAnomalyRPM</th>\n      <th>isPositiveAnomalyRPM</th>\n      <th>lowerMarginsRPM</th>\n      <th>periodRPM</th>\n      <th>upperMarginsRPM</th>\n      <th>timestampMW</th>\n      <th>valueMW</th>\n      <th>expectedValuesMW</th>\n      <th>isAnomalyMW</th>\n      <th>isNegativeAnomalyMW</th>\n      <th>isPositiveAnomalyMW</th>\n      <th>lowerMarginsMW</th>\n      <th>periodMW</th>\n      <th>upperMarginsMW</th>\n      <th>deviceId</th>\n    </tr>\n    <tr>\n      <th>index</th>\n      <th></th>\n      <th></th>\n      <th></th>\n      <th></th>\n      <th></th>\n      <th></th>\n      <th></th>\n      <th></th>\n      <th></th>\n      <th></th>\n      <th></th>\n      <th></th>\n      <th></th>\n      <th></th>\n      <th></th>\n      <th></th>\n      <th></th>\n      <th></th>\n      <th></th>\n    </tr>\n  </thead>\n  <tbody>\n    <tr>\n      <th>0</th>\n      <td>2020-04-28 17:36:57</td>\n      <td>3048.0</td>\n      <td>3048.000000</td>\n      <td>False</td>\n      <td>False</td>\n      <td>False</td>\n      <td>3042.380000</td>\n      <td>0</td>\n      <td>3053.620000</td>\n      <td>2020-04-28 17:36:57</td>\n      <td>1590.0</td>\n      <td>3048.000000</td>\n      <td>False</td>\n      <td>False</td>\n      <td>False</td>\n      <td>3042.380000</td>\n      <td>0</td>\n      <td>3053.620000</td>\n      <td>dev-1</td>\n    </tr>\n    <tr>\n      <th>1</th>\n      <td>2020-04-28 17:36:58</td>\n      <td>2930.0</td>\n      <td>2989.000000</td>\n      <td>False</td>\n      <td>False</td>\n      <td>False</td>\n      <td>2929.410000</td>\n      <td>0</td>\n      <td>3048.590000</td>\n      <td>2020-04-28 17:36:58</td>\n      <td>1510.0</td>\n      <td>2989.000000</td>\n      <td>False</td>\n      <td>False</td>\n      <td>False</td>\n      <td>2929.410000</td>\n      <td>0</td>\n      <td>3048.590000</td>\n      <td>dev-1</td>\n    </tr>\n    <tr>\n      <th>2</th>\n      <td>2020-04-28 17:36:59</td>\n      <td>3221.0</td>\n      <td>2969.333333</td>\n      <td>False</td>\n      <td>False</td>\n      <td>False</td>\n      <td>2715.150000</td>\n      <td>0</td>\n      <td>3223.516667</td>\n      <td>2020-04-28 17:36:59</td>\n      <td>1648.0</td>\n      <td>2969.333333</td>\n      <td>False</td>\n      <td>False</td>\n      <td>False</td>\n      <td>2715.150000</td>\n      <td>0</td>\n      <td>3223.516667</td>\n      <td>dev-1</td>\n    </tr>\n    <tr>\n      <th>3</th>\n      <td>2020-04-28 17:37:00</td>\n      <td>2939.0</td>\n      <td>2961.750000</td>\n      <td>False</td>\n      <td>False</td>\n      <td>False</td>\n      <td>2938.772500</td>\n      <td>0</td>\n      <td>2984.727500</td>\n      <td>2020-04-28 17:37:00</td>\n      <td>1622.0</td>\n      <td>2961.750000</td>\n      <td>False</td>\n      <td>False</td>\n      <td>False</td>\n      <td>2938.772500</td>\n      <td>0</td>\n      <td>2984.727500</td>\n      <td>dev-1</td>\n    </tr>\n    <tr>\n      <th>4</th>\n      <td>2020-04-28 17:37:01</td>\n      <td>3047.0</td>\n      <td>2978.800000</td>\n      <td>False</td>\n      <td>False</td>\n      <td>False</td>\n      <td>2909.918000</td>\n      <td>0</td>\n      <td>3047.682000</td>\n      <td>2020-04-28 17:37:01</td>\n      <td>1629.0</td>\n      <td>2978.800000</td>\n      <td>False</td>\n      <td>False</td>\n      <td>False</td>\n      <td>2909.918000</td>\n      <td>0</td>\n      <td>3047.682000</td>\n      <td>dev-1</td>\n    </tr>\n    <tr>\n      <th>5</th>\n      <td>2020-04-28 17:37:02</td>\n      <td>2826.0</td>\n      <td>2934.400000</td>\n      <td>False</td>\n      <td>False</td>\n      <td>False</td>\n      <td>2824.916000</td>\n      <td>0</td>\n      <td>3043.884000</td>\n      <td>2020-04-28 17:37:02</td>\n      <td>1467.0</td>\n      <td>2934.400000</td>\n      <td>False</td>\n      <td>False</td>\n      <td>False</td>\n      <td>2824.916000</td>\n      <td>0</td>\n      <td>3043.884000</td>\n      <td>dev-1</td>\n    </tr>\n    <tr>\n      <th>6</th>\n      <td>2020-04-28 17:37:03</td>\n      <td>3111.0</td>\n      <td>2970.600000</td>\n      <td>False</td>\n      <td>False</td>\n      <td>False</td>\n      <td>2828.796000</td>\n      <td>0</td>\n      <td>3112.404000</td>\n      <td>2020-04-28 17:37:03</td>\n      <td>1603.0</td>\n      <td>2970.600000</td>\n      <td>False</td>\n      <td>False</td>\n      <td>False</td>\n      <td>2828.796000</td>\n      <td>0</td>\n      <td>3112.404000</td>\n      <td>dev-1</td>\n    </tr>\n    <tr>\n      <th>7</th>\n      <td>2020-04-28 17:37:04</td>\n      <td>3126.0</td>\n      <td>3009.800000</td>\n      <td>False</td>\n      <td>False</td>\n      <td>False</td>\n      <td>2892.438000</td>\n      <td>0</td>\n      <td>3127.162000</td>\n      <td>2020-04-28 17:37:04</td>\n      <td>1469.0</td>\n      <td>3009.800000</td>\n      <td>False</td>\n      <td>False</td>\n      <td>False</td>\n      <td>2892.438000</td>\n      <td>0</td>\n      <td>3127.162000</td>\n      <td>dev-1</td>\n    </tr>\n    <tr>\n      <th>8</th>\n      <td>2020-04-28 17:37:05</td>\n      <td>3242.0</td>\n      <td>3070.400000</td>\n      <td>False</td>\n      <td>False</td>\n      <td>False</td>\n      <td>2897.084000</td>\n      <td>0</td>\n      <td>3243.716000</td>\n      <td>2020-04-28 17:37:05</td>\n      <td>1475.0</td>\n      <td>3070.400000</td>\n      <td>False</td>\n      <td>False</td>\n      <td>False</td>\n      <td>2897.084000</td>\n      <td>0</td>\n      <td>3243.716000</td>\n      <td>dev-1</td>\n    </tr>\n    <tr>\n      <th>9</th>\n      <td>2020-04-28 17:37:06</td>\n      <td>2903.0</td>\n      <td>3041.600000</td>\n      <td>False</td>\n      <td>False</td>\n      <td>False</td>\n      <td>2901.614000</td>\n      <td>0</td>\n      <td>3181.586000</td>\n      <td>2020-04-28 17:37:06</td>\n      <td>1387.0</td>\n      <td>3041.600000</td>\n      <td>False</td>\n      <td>False</td>\n      <td>False</td>\n      <td>2901.614000</td>\n      <td>0</td>\n      <td>3181.586000</td>\n      <td>dev-1</td>\n    </tr>\n    <tr>\n      <th>10</th>\n      <td>2020-04-28 17:37:07</td>\n      <td>3046.0</td>\n      <td>3085.600000</td>\n      <td>False</td>\n      <td>False</td>\n      <td>False</td>\n      <td>3045.604000</td>\n      <td>0</td>\n      <td>3125.596000</td>\n      <td>2020-04-28 17:37:07</td>\n      <td>1583.0</td>\n      <td>3085.600000</td>\n      <td>False</td>\n      <td>False</td>\n      <td>False</td>\n      <td>3045.604000</td>\n      <td>0</td>\n      <td>3125.596000</td>\n      <td>dev-1</td>\n    </tr>\n    <tr>\n      <th>11</th>\n      <td>2020-04-28 17:37:10</td>\n      <td>2754.0</td>\n      <td>3014.200000</td>\n      <td>False</td>\n      <td>False</td>\n      <td>False</td>\n      <td>2751.398000</td>\n      <td>0</td>\n      <td>3277.002000</td>\n      <td>2020-04-28 17:37:10</td>\n      <td>1526.0</td>\n      <td>3014.200000</td>\n      <td>False</td>\n      <td>False</td>\n      <td>False</td>\n      <td>2751.398000</td>\n      <td>0</td>\n      <td>3277.002000</td>\n      <td>dev-1</td>\n    </tr>\n    <tr>\n      <th>12</th>\n      <td>2020-04-28 17:37:11</td>\n      <td>2825.0</td>\n      <td>2954.000000</td>\n      <td>False</td>\n      <td>False</td>\n      <td>False</td>\n      <td>2823.710000</td>\n      <td>0</td>\n      <td>3084.290000</td>\n      <td>2020-04-28 17:37:11</td>\n      <td>1619.0</td>\n      <td>2954.000000</td>\n      <td>False</td>\n      <td>False</td>\n      <td>False</td>\n      <td>2823.710000</td>\n      <td>0</td>\n      <td>3084.290000</td>\n      <td>dev-1</td>\n    </tr>\n    <tr>\n      <th>13</th>\n      <td>2020-04-28 17:37:12</td>\n      <td>2857.0</td>\n      <td>2877.000000</td>\n      <td>False</td>\n      <td>False</td>\n      <td>False</td>\n      <td>2856.800000</td>\n      <td>0</td>\n      <td>2897.200000</td>\n      <td>2020-04-28 17:37:12</td>\n      <td>1628.0</td>\n      <td>2877.000000</td>\n      <td>False</td>\n      <td>False</td>\n      <td>False</td>\n      <td>2856.800000</td>\n      <td>0</td>\n      <td>2897.200000</td>\n      <td>dev-1</td>\n    </tr>\n    <tr>\n      <th>14</th>\n      <td>2020-04-28 17:37:13</td>\n      <td>3060.0</td>\n      <td>2908.400000</td>\n      <td>False</td>\n      <td>False</td>\n      <td>False</td>\n      <td>2755.284000</td>\n      <td>0</td>\n      <td>3061.516000</td>\n      <td>2020-04-28 17:37:13</td>\n      <td>1571.0</td>\n      <td>2908.400000</td>\n      <td>False</td>\n      <td>False</td>\n      <td>False</td>\n      <td>2755.284000</td>\n      <td>0</td>\n      <td>3061.516000</td>\n      <td>dev-1</td>\n    </tr>\n    <tr>\n      <th>15</th>\n      <td>2020-04-28 17:37:14</td>\n      <td>3092.0</td>\n      <td>2917.600000</td>\n      <td>False</td>\n      <td>False</td>\n      <td>False</td>\n      <td>2741.456000</td>\n      <td>0</td>\n      <td>3093.744000</td>\n      <td>2020-04-28 17:37:14</td>\n      <td>1612.0</td>\n      <td>2917.600000</td>\n      <td>False</td>\n      <td>False</td>\n      <td>False</td>\n      <td>2741.456000</td>\n      <td>0</td>\n      <td>3093.744000</td>\n      <td>dev-1</td>\n    </tr>\n    <tr>\n      <th>16</th>\n      <td>2020-04-28 17:37:15</td>\n      <td>3145.0</td>\n      <td>2995.800000</td>\n      <td>False</td>\n      <td>False</td>\n      <td>False</td>\n      <td>2845.108000</td>\n      <td>0</td>\n      <td>3146.492000</td>\n      <td>2020-04-28 17:37:15</td>\n      <td>1614.0</td>\n      <td>2995.800000</td>\n      <td>False</td>\n      <td>False</td>\n      <td>False</td>\n      <td>2845.108000</td>\n      <td>0</td>\n      <td>3146.492000</td>\n      <td>dev-1</td>\n    </tr>\n    <tr>\n      <th>17</th>\n      <td>2020-04-28 17:37:16</td>\n      <td>3132.0</td>\n      <td>3057.200000</td>\n      <td>False</td>\n      <td>False</td>\n      <td>False</td>\n      <td>2981.652000</td>\n      <td>0</td>\n      <td>3132.748000</td>\n      <td>2020-04-28 17:37:16</td>\n      <td>1554.0</td>\n      <td>3057.200000</td>\n      <td>False</td>\n      <td>False</td>\n      <td>False</td>\n      <td>2981.652000</td>\n      <td>0</td>\n      <td>3132.748000</td>\n      <td>dev-1</td>\n    </tr>\n    <tr>\n      <th>18</th>\n      <td>2020-04-28 17:37:17</td>\n      <td>2902.0</td>\n      <td>3066.200000</td>\n      <td>False</td>\n      <td>False</td>\n      <td>False</td>\n      <td>2900.358000</td>\n      <td>0</td>\n      <td>3232.042000</td>\n      <td>2020-04-28 17:37:17</td>\n      <td>1475.0</td>\n      <td>3066.200000</td>\n      <td>False</td>\n      <td>False</td>\n      <td>False</td>\n      <td>2900.358000</td>\n      <td>0</td>\n      <td>3232.042000</td>\n      <td>dev-1</td>\n    </tr>\n    <tr>\n      <th>19</th>\n      <td>2020-04-28 17:37:18</td>\n      <td>3153.0</td>\n      <td>3084.800000</td>\n      <td>False</td>\n      <td>False</td>\n      <td>False</td>\n      <td>3015.918000</td>\n      <td>0</td>\n      <td>3153.682000</td>\n      <td>2020-04-28 17:37:18</td>\n      <td>1619.0</td>\n      <td>3084.800000</td>\n      <td>False</td>\n      <td>False</td>\n      <td>False</td>\n      <td>3015.918000</td>\n      <td>0</td>\n      <td>3153.682000</td>\n      <td>dev-1</td>\n    </tr>\n    <tr>\n      <th>20</th>\n      <td>2020-04-28 17:37:19</td>\n      <td>2754.0</td>\n      <td>3017.200000</td>\n      <td>False</td>\n      <td>False</td>\n      <td>False</td>\n      <td>2751.368000</td>\n      <td>0</td>\n      <td>3283.032000</td>\n      <td>2020-04-28 17:37:19</td>\n      <td>1596.0</td>\n      <td>3017.200000</td>\n      <td>False</td>\n      <td>False</td>\n      <td>False</td>\n      <td>2751.368000</td>\n      <td>0</td>\n      <td>3283.032000</td>\n      <td>dev-1</td>\n    </tr>\n    <tr>\n      <th>21</th>\n      <td>2020-04-28 17:37:20</td>\n      <td>2799.0</td>\n      <td>2948.000000</td>\n      <td>False</td>\n      <td>False</td>\n      <td>False</td>\n      <td>2797.510000</td>\n      <td>0</td>\n      <td>3098.490000</td>\n      <td>2020-04-28 17:37:20</td>\n      <td>1574.0</td>\n      <td>2948.000000</td>\n      <td>False</td>\n      <td>False</td>\n      <td>False</td>\n      <td>2797.510000</td>\n      <td>0</td>\n      <td>3098.490000</td>\n      <td>dev-1</td>\n    </tr>\n    <tr>\n      <th>22</th>\n      <td>2020-04-28 17:37:21</td>\n      <td>2705.0</td>\n      <td>2862.600000</td>\n      <td>False</td>\n      <td>False</td>\n      <td>False</td>\n      <td>2703.424000</td>\n      <td>0</td>\n      <td>3021.776000</td>\n      <td>2020-04-28 17:37:21</td>\n      <td>1357.0</td>\n      <td>2862.600000</td>\n      <td>False</td>\n      <td>False</td>\n      <td>False</td>\n      <td>2703.424000</td>\n      <td>0</td>\n      <td>3021.776000</td>\n      <td>dev-1</td>\n    </tr>\n    <tr>\n      <th>23</th>\n      <td>2020-04-28 17:37:22</td>\n      <td>2780.0</td>\n      <td>2838.200000</td>\n      <td>False</td>\n      <td>False</td>\n      <td>False</td>\n      <td>2779.418000</td>\n      <td>0</td>\n      <td>2896.982000</td>\n      <td>2020-04-28 17:37:22</td>\n      <td>1415.0</td>\n      <td>2838.200000</td>\n      <td>False</td>\n      <td>False</td>\n      <td>False</td>\n      <td>2779.418000</td>\n      <td>0</td>\n      <td>2896.982000</td>\n      <td>dev-1</td>\n    </tr>\n    <tr>\n      <th>24</th>\n      <td>2020-04-28 17:37:23</td>\n      <td>3065.0</td>\n      <td>2820.600000</td>\n      <td>False</td>\n      <td>False</td>\n      <td>False</td>\n      <td>2573.756000</td>\n      <td>0</td>\n      <td>3067.444000</td>\n      <td>2020-04-28 17:37:23</td>\n      <td>1383.0</td>\n      <td>2820.600000</td>\n      <td>False</td>\n      <td>False</td>\n      <td>False</td>\n      <td>2573.756000</td>\n      <td>0</td>\n      <td>3067.444000</td>\n      <td>dev-1</td>\n    </tr>\n    <tr>\n      <th>25</th>\n      <td>2020-04-28 17:37:24</td>\n      <td>3022.0</td>\n      <td>2874.200000</td>\n      <td>False</td>\n      <td>False</td>\n      <td>False</td>\n      <td>2724.922000</td>\n      <td>0</td>\n      <td>3023.478000</td>\n      <td>2020-04-28 17:37:24</td>\n      <td>1593.0</td>\n      <td>2874.200000</td>\n      <td>False</td>\n      <td>False</td>\n      <td>False</td>\n      <td>2724.922000</td>\n      <td>0</td>\n      <td>3023.478000</td>\n      <td>dev-1</td>\n    </tr>\n    <tr>\n      <th>26</th>\n      <td>2020-04-28 17:37:25</td>\n      <td>3132.0</td>\n      <td>2940.800000</td>\n      <td>False</td>\n      <td>False</td>\n      <td>False</td>\n      <td>2747.688000</td>\n      <td>0</td>\n      <td>3133.912000</td>\n      <td>2020-04-28 17:37:25</td>\n      <td>1597.0</td>\n      <td>2940.800000</td>\n      <td>False</td>\n      <td>False</td>\n      <td>False</td>\n      <td>2747.688000</td>\n      <td>0</td>\n      <td>3133.912000</td>\n      <td>dev-1</td>\n    </tr>\n    <tr>\n      <th>27</th>\n      <td>2020-04-28 17:37:26</td>\n      <td>2732.0</td>\n      <td>2946.200000</td>\n      <td>False</td>\n      <td>False</td>\n      <td>False</td>\n      <td>2729.858000</td>\n      <td>0</td>\n      <td>3162.542000</td>\n      <td>2020-04-28 17:37:26</td>\n      <td>1538.0</td>\n      <td>2946.200000</td>\n      <td>False</td>\n      <td>False</td>\n      <td>False</td>\n      <td>2729.858000</td>\n      <td>0</td>\n      <td>3162.542000</td>\n      <td>dev-1</td>\n    </tr>\n    <tr>\n      <th>28</th>\n      <td>2020-04-28 17:37:27</td>\n      <td>2972.0</td>\n      <td>2984.600000</td>\n      <td>False</td>\n      <td>False</td>\n      <td>False</td>\n      <td>2971.874000</td>\n      <td>0</td>\n      <td>2997.326000</td>\n      <td>2020-04-28 17:37:27</td>\n      <td>1432.0</td>\n      <td>2984.600000</td>\n      <td>False</td>\n      <td>False</td>\n      <td>False</td>\n      <td>2971.874000</td>\n      <td>0</td>\n      <td>2997.326000</td>\n      <td>dev-1</td>\n    </tr>\n    <tr>\n      <th>29</th>\n      <td>2020-04-28 17:37:29</td>\n      <td>2947.0</td>\n      <td>2961.000000</td>\n      <td>False</td>\n      <td>False</td>\n      <td>False</td>\n      <td>2946.860000</td>\n      <td>0</td>\n      <td>2975.140000</td>\n      <td>2020-04-28 17:37:29</td>\n      <td>1354.0</td>\n      <td>2961.000000</td>\n      <td>False</td>\n      <td>False</td>\n      <td>False</td>\n      <td>2946.860000</td>\n      <td>0</td>\n      <td>2975.140000</td>\n      <td>dev-1</td>\n    </tr>\n    <tr>\n      <th>30</th>\n      <td>2020-04-28 17:37:30</td>\n      <td>3039.0</td>\n      <td>2964.400000</td>\n      <td>False</td>\n      <td>False</td>\n      <td>False</td>\n      <td>2889.054000</td>\n      <td>0</td>\n      <td>3039.746000</td>\n      <td>2020-04-28 17:37:30</td>\n      <td>1649.0</td>\n      <td>2964.400000</td>\n      <td>False</td>\n      <td>False</td>\n      <td>False</td>\n      <td>2889.054000</td>\n      <td>0</td>\n      <td>3039.746000</td>\n      <td>dev-1</td>\n    </tr>\n    <tr>\n      <th>31</th>\n      <td>2020-04-28 17:37:31</td>\n      <td>3249.0</td>\n      <td>2987.800000</td>\n      <td>False</td>\n      <td>False</td>\n      <td>False</td>\n      <td>2723.988000</td>\n      <td>0</td>\n      <td>3251.612000</td>\n      <td>2020-04-28 17:37:31</td>\n      <td>1604.0</td>\n      <td>2987.800000</td>\n      <td>False</td>\n      <td>False</td>\n      <td>False</td>\n      <td>2723.988000</td>\n      <td>0</td>\n      <td>3251.612000</td>\n      <td>dev-1</td>\n    </tr>\n    <tr>\n      <th>32</th>\n      <td>2020-04-28 17:37:32</td>\n      <td>2717.0</td>\n      <td>2984.800000</td>\n      <td>False</td>\n      <td>False</td>\n      <td>False</td>\n      <td>2714.322000</td>\n      <td>0</td>\n      <td>3255.278000</td>\n      <td>2020-04-28 17:37:32</td>\n      <td>1456.0</td>\n      <td>2984.800000</td>\n      <td>False</td>\n      <td>False</td>\n      <td>False</td>\n      <td>2714.322000</td>\n      <td>0</td>\n      <td>3255.278000</td>\n      <td>dev-1</td>\n    </tr>\n    <tr>\n      <th>33</th>\n      <td>2020-04-28 17:37:33</td>\n      <td>2881.0</td>\n      <td>2966.600000</td>\n      <td>False</td>\n      <td>False</td>\n      <td>False</td>\n      <td>2880.144000</td>\n      <td>0</td>\n      <td>3053.056000</td>\n      <td>2020-04-28 17:37:33</td>\n      <td>1504.0</td>\n      <td>2966.600000</td>\n      <td>False</td>\n      <td>False</td>\n      <td>False</td>\n      <td>2880.144000</td>\n      <td>0</td>\n      <td>3053.056000</td>\n      <td>dev-1</td>\n    </tr>\n    <tr>\n      <th>34</th>\n      <td>2020-04-28 17:37:34</td>\n      <td>3259.0</td>\n      <td>3029.000000</td>\n      <td>False</td>\n      <td>False</td>\n      <td>False</td>\n      <td>2796.700000</td>\n      <td>0</td>\n      <td>3261.300000</td>\n      <td>2020-04-28 17:37:34</td>\n      <td>1515.0</td>\n      <td>3029.000000</td>\n      <td>False</td>\n      <td>False</td>\n      <td>False</td>\n      <td>2796.700000</td>\n      <td>0</td>\n      <td>3261.300000</td>\n      <td>dev-1</td>\n    </tr>\n    <tr>\n      <th>35</th>\n      <td>2020-04-28 17:37:35</td>\n      <td>2749.0</td>\n      <td>2971.000000</td>\n      <td>False</td>\n      <td>False</td>\n      <td>False</td>\n      <td>2746.780000</td>\n      <td>0</td>\n      <td>3195.220000</td>\n      <td>2020-04-28 17:37:35</td>\n      <td>1384.0</td>\n      <td>2971.000000</td>\n      <td>False</td>\n      <td>False</td>\n      <td>False</td>\n      <td>2746.780000</td>\n      <td>0</td>\n      <td>3195.220000</td>\n      <td>dev-1</td>\n    </tr>\n    <tr>\n      <th>36</th>\n      <td>2020-04-28 17:37:36</td>\n      <td>2792.0</td>\n      <td>2879.600000</td>\n      <td>False</td>\n      <td>False</td>\n      <td>False</td>\n      <td>2791.124000</td>\n      <td>0</td>\n      <td>2968.076000</td>\n      <td>2020-04-28 17:37:36</td>\n      <td>1476.0</td>\n      <td>2879.600000</td>\n      <td>False</td>\n      <td>False</td>\n      <td>False</td>\n      <td>2791.124000</td>\n      <td>0</td>\n      <td>2968.076000</td>\n      <td>dev-1</td>\n    </tr>\n    <tr>\n      <th>37</th>\n      <td>2020-04-28 17:37:37</td>\n      <td>4003.0</td>\n      <td>2921.978947</td>\n      <td>True</td>\n      <td>False</td>\n      <td>True</td>\n      <td>2911.168737</td>\n      <td>0</td>\n      <td>2932.789158</td>\n      <td>2020-04-28 17:37:37</td>\n      <td>956.0</td>\n      <td>2921.978947</td>\n      <td>True</td>\n      <td>False</td>\n      <td>True</td>\n      <td>2911.168737</td>\n      <td>0</td>\n      <td>2932.789158</td>\n      <td>dev-1</td>\n    </tr>\n    <tr>\n      <th>38</th>\n      <td>2020-04-28 17:37:38</td>\n      <td>2735.0</td>\n      <td>2892.778947</td>\n      <td>False</td>\n      <td>False</td>\n      <td>False</td>\n      <td>2733.422211</td>\n      <td>0</td>\n      <td>3052.135684</td>\n      <td>2020-04-28 17:37:38</td>\n      <td>1430.0</td>\n      <td>2892.778947</td>\n      <td>False</td>\n      <td>False</td>\n      <td>False</td>\n      <td>2733.422211</td>\n      <td>0</td>\n      <td>3052.135684</td>\n      <td>dev-1</td>\n    </tr>\n    <tr>\n      <th>39</th>\n      <td>2020-04-28 17:37:39</td>\n      <td>3044.0</td>\n      <td>2849.778947</td>\n      <td>False</td>\n      <td>False</td>\n      <td>False</td>\n      <td>2653.615684</td>\n      <td>0</td>\n      <td>3045.942211</td>\n      <td>2020-04-28 17:37:39</td>\n      <td>1455.0</td>\n      <td>2849.778947</td>\n      <td>False</td>\n      <td>False</td>\n      <td>False</td>\n      <td>2653.615684</td>\n      <td>0</td>\n      <td>3045.942211</td>\n      <td>dev-1</td>\n    </tr>\n    <tr>\n      <th>40</th>\n      <td>2020-04-28 17:37:40</td>\n      <td>2793.0</td>\n      <td>2858.578947</td>\n      <td>False</td>\n      <td>False</td>\n      <td>False</td>\n      <td>2792.344211</td>\n      <td>0</td>\n      <td>2924.813684</td>\n      <td>2020-04-28 17:37:40</td>\n      <td>1448.0</td>\n      <td>2858.578947</td>\n      <td>False</td>\n      <td>False</td>\n      <td>False</td>\n      <td>2792.344211</td>\n      <td>0</td>\n      <td>2924.813684</td>\n      <td>dev-1</td>\n    </tr>\n    <tr>\n      <th>41</th>\n      <td>2020-04-28 17:37:41</td>\n      <td>2740.0</td>\n      <td>2848.178947</td>\n      <td>False</td>\n      <td>False</td>\n      <td>False</td>\n      <td>2738.918211</td>\n      <td>0</td>\n      <td>2957.439684</td>\n      <td>2020-04-28 17:37:41</td>\n      <td>1587.0</td>\n      <td>2848.178947</td>\n      <td>False</td>\n      <td>False</td>\n      <td>False</td>\n      <td>2738.918211</td>\n      <td>0</td>\n      <td>2957.439684</td>\n      <td>dev-1</td>\n    </tr>\n    <tr>\n      <th>42</th>\n      <td>2020-04-28 17:37:42</td>\n      <td>3116.0</td>\n      <td>2885.600000</td>\n      <td>False</td>\n      <td>False</td>\n      <td>False</td>\n      <td>2652.896000</td>\n      <td>0</td>\n      <td>3118.304000</td>\n      <td>2020-04-28 17:37:42</td>\n      <td>1385.0</td>\n      <td>2885.600000</td>\n      <td>False</td>\n      <td>False</td>\n      <td>False</td>\n      <td>2652.896000</td>\n      <td>0</td>\n      <td>3118.304000</td>\n      <td>dev-1</td>\n    </tr>\n    <tr>\n      <th>43</th>\n      <td>2020-04-28 17:37:43</td>\n      <td>2880.0</td>\n      <td>2914.600000</td>\n      <td>False</td>\n      <td>False</td>\n      <td>False</td>\n      <td>2879.654000</td>\n      <td>0</td>\n      <td>2949.546000</td>\n      <td>2020-04-28 17:37:43</td>\n      <td>1580.0</td>\n      <td>2914.600000</td>\n      <td>False</td>\n      <td>False</td>\n      <td>False</td>\n      <td>2879.654000</td>\n      <td>0</td>\n      <td>2949.546000</td>\n      <td>dev-1</td>\n    </tr>\n    <tr>\n      <th>44</th>\n      <td>2020-04-28 17:37:44</td>\n      <td>2803.0</td>\n      <td>2866.400000</td>\n      <td>False</td>\n      <td>False</td>\n      <td>False</td>\n      <td>2802.366000</td>\n      <td>0</td>\n      <td>2930.434000</td>\n      <td>2020-04-28 17:37:44</td>\n      <td>1432.0</td>\n      <td>2866.400000</td>\n      <td>False</td>\n      <td>False</td>\n      <td>False</td>\n      <td>2802.366000</td>\n      <td>0</td>\n      <td>2930.434000</td>\n      <td>dev-1</td>\n    </tr>\n    <tr>\n      <th>45</th>\n      <td>2020-04-28 17:37:45</td>\n      <td>3291.0</td>\n      <td>2966.000000</td>\n      <td>False</td>\n      <td>False</td>\n      <td>False</td>\n      <td>2637.750000</td>\n      <td>0</td>\n      <td>3294.250000</td>\n      <td>2020-04-28 17:37:45</td>\n      <td>1394.0</td>\n      <td>2966.000000</td>\n      <td>False</td>\n      <td>False</td>\n      <td>False</td>\n      <td>2637.750000</td>\n      <td>0</td>\n      <td>3294.250000</td>\n      <td>dev-1</td>\n    </tr>\n    <tr>\n      <th>46</th>\n      <td>2020-04-28 17:37:46</td>\n      <td>3124.0</td>\n      <td>3042.800000</td>\n      <td>False</td>\n      <td>False</td>\n      <td>False</td>\n      <td>2960.788000</td>\n      <td>0</td>\n      <td>3124.812000</td>\n      <td>2020-04-28 17:37:46</td>\n      <td>1480.0</td>\n      <td>3042.800000</td>\n      <td>False</td>\n      <td>False</td>\n      <td>False</td>\n      <td>2960.788000</td>\n      <td>0</td>\n      <td>3124.812000</td>\n      <td>dev-1</td>\n    </tr>\n    <tr>\n      <th>47</th>\n      <td>2020-04-28 17:37:49</td>\n      <td>3196.0</td>\n      <td>3058.800000</td>\n      <td>False</td>\n      <td>False</td>\n      <td>False</td>\n      <td>2920.228000</td>\n      <td>0</td>\n      <td>3197.372000</td>\n      <td>2020-04-28 17:37:49</td>\n      <td>1624.0</td>\n      <td>3058.800000</td>\n      <td>False</td>\n      <td>False</td>\n      <td>False</td>\n      <td>2920.228000</td>\n      <td>0</td>\n      <td>3197.372000</td>\n      <td>dev-1</td>\n    </tr>\n    <tr>\n      <th>48</th>\n      <td>2020-04-28 17:37:50</td>\n      <td>2817.0</td>\n      <td>3046.200000</td>\n      <td>False</td>\n      <td>False</td>\n      <td>False</td>\n      <td>2814.708000</td>\n      <td>0</td>\n      <td>3277.692000</td>\n      <td>2020-04-28 17:37:50</td>\n      <td>1645.0</td>\n      <td>3046.200000</td>\n      <td>False</td>\n      <td>False</td>\n      <td>False</td>\n      <td>2814.708000</td>\n      <td>0</td>\n      <td>3277.692000</td>\n      <td>dev-1</td>\n    </tr>\n    <tr>\n      <th>49</th>\n      <td>2020-04-28 17:37:51</td>\n      <td>2946.0</td>\n      <td>3074.800000</td>\n      <td>False</td>\n      <td>False</td>\n      <td>False</td>\n      <td>2944.712000</td>\n      <td>0</td>\n      <td>3204.888000</td>\n      <td>2020-04-28 17:37:51</td>\n      <td>1507.0</td>\n      <td>3074.800000</td>\n      <td>False</td>\n      <td>False</td>\n      <td>False</td>\n      <td>2944.712000</td>\n      <td>0</td>\n      <td>3204.888000</td>\n      <td>dev-1</td>\n    </tr>\n  </tbody>\n</table>\n</div>",
            "text/plain": "              timestampRPM  valueRPM  expectedValuesRPM  isAnomalyRPM  \\\nindex                                                                   \n0      2020-04-28 17:36:57    3048.0        3048.000000         False   \n1      2020-04-28 17:36:58    2930.0        2989.000000         False   \n2      2020-04-28 17:36:59    3221.0        2969.333333         False   \n3      2020-04-28 17:37:00    2939.0        2961.750000         False   \n4      2020-04-28 17:37:01    3047.0        2978.800000         False   \n5      2020-04-28 17:37:02    2826.0        2934.400000         False   \n6      2020-04-28 17:37:03    3111.0        2970.600000         False   \n7      2020-04-28 17:37:04    3126.0        3009.800000         False   \n8      2020-04-28 17:37:05    3242.0        3070.400000         False   \n9      2020-04-28 17:37:06    2903.0        3041.600000         False   \n10     2020-04-28 17:37:07    3046.0        3085.600000         False   \n11     2020-04-28 17:37:10    2754.0        3014.200000         False   \n12     2020-04-28 17:37:11    2825.0        2954.000000         False   \n13     2020-04-28 17:37:12    2857.0        2877.000000         False   \n14     2020-04-28 17:37:13    3060.0        2908.400000         False   \n15     2020-04-28 17:37:14    3092.0        2917.600000         False   \n16     2020-04-28 17:37:15    3145.0        2995.800000         False   \n17     2020-04-28 17:37:16    3132.0        3057.200000         False   \n18     2020-04-28 17:37:17    2902.0        3066.200000         False   \n19     2020-04-28 17:37:18    3153.0        3084.800000         False   \n20     2020-04-28 17:37:19    2754.0        3017.200000         False   \n21     2020-04-28 17:37:20    2799.0        2948.000000         False   \n22     2020-04-28 17:37:21    2705.0        2862.600000         False   \n23     2020-04-28 17:37:22    2780.0        2838.200000         False   \n24     2020-04-28 17:37:23    3065.0        2820.600000         False   \n25     2020-04-28 17:37:24    3022.0        2874.200000         False   \n26     2020-04-28 17:37:25    3132.0        2940.800000         False   \n27     2020-04-28 17:37:26    2732.0        2946.200000         False   \n28     2020-04-28 17:37:27    2972.0        2984.600000         False   \n29     2020-04-28 17:37:29    2947.0        2961.000000         False   \n30     2020-04-28 17:37:30    3039.0        2964.400000         False   \n31     2020-04-28 17:37:31    3249.0        2987.800000         False   \n32     2020-04-28 17:37:32    2717.0        2984.800000         False   \n33     2020-04-28 17:37:33    2881.0        2966.600000         False   \n34     2020-04-28 17:37:34    3259.0        3029.000000         False   \n35     2020-04-28 17:37:35    2749.0        2971.000000         False   \n36     2020-04-28 17:37:36    2792.0        2879.600000         False   \n37     2020-04-28 17:37:37    4003.0        2921.978947          True   \n38     2020-04-28 17:37:38    2735.0        2892.778947         False   \n39     2020-04-28 17:37:39    3044.0        2849.778947         False   \n40     2020-04-28 17:37:40    2793.0        2858.578947         False   \n41     2020-04-28 17:37:41    2740.0        2848.178947         False   \n42     2020-04-28 17:37:42    3116.0        2885.600000         False   \n43     2020-04-28 17:37:43    2880.0        2914.600000         False   \n44     2020-04-28 17:37:44    2803.0        2866.400000         False   \n45     2020-04-28 17:37:45    3291.0        2966.000000         False   \n46     2020-04-28 17:37:46    3124.0        3042.800000         False   \n47     2020-04-28 17:37:49    3196.0        3058.800000         False   \n48     2020-04-28 17:37:50    2817.0        3046.200000         False   \n49     2020-04-28 17:37:51    2946.0        3074.800000         False   \n\n       isNegativeAnomalyRPM  isPositiveAnomalyRPM  lowerMarginsRPM  periodRPM  \\\nindex                                                                           \n0                     False                 False      3042.380000          0   \n1                     False                 False      2929.410000          0   \n2                     False                 False      2715.150000          0   \n3                     False                 False      2938.772500          0   \n4                     False                 False      2909.918000          0   \n5                     False                 False      2824.916000          0   \n6                     False                 False      2828.796000          0   \n7                     False                 False      2892.438000          0   \n8                     False                 False      2897.084000          0   \n9                     False                 False      2901.614000          0   \n10                    False                 False      3045.604000          0   \n11                    False                 False      2751.398000          0   \n12                    False                 False      2823.710000          0   \n13                    False                 False      2856.800000          0   \n14                    False                 False      2755.284000          0   \n15                    False                 False      2741.456000          0   \n16                    False                 False      2845.108000          0   \n17                    False                 False      2981.652000          0   \n18                    False                 False      2900.358000          0   \n19                    False                 False      3015.918000          0   \n20                    False                 False      2751.368000          0   \n21                    False                 False      2797.510000          0   \n22                    False                 False      2703.424000          0   \n23                    False                 False      2779.418000          0   \n24                    False                 False      2573.756000          0   \n25                    False                 False      2724.922000          0   \n26                    False                 False      2747.688000          0   \n27                    False                 False      2729.858000          0   \n28                    False                 False      2971.874000          0   \n29                    False                 False      2946.860000          0   \n30                    False                 False      2889.054000          0   \n31                    False                 False      2723.988000          0   \n32                    False                 False      2714.322000          0   \n33                    False                 False      2880.144000          0   \n34                    False                 False      2796.700000          0   \n35                    False                 False      2746.780000          0   \n36                    False                 False      2791.124000          0   \n37                    False                  True      2911.168737          0   \n38                    False                 False      2733.422211          0   \n39                    False                 False      2653.615684          0   \n40                    False                 False      2792.344211          0   \n41                    False                 False      2738.918211          0   \n42                    False                 False      2652.896000          0   \n43                    False                 False      2879.654000          0   \n44                    False                 False      2802.366000          0   \n45                    False                 False      2637.750000          0   \n46                    False                 False      2960.788000          0   \n47                    False                 False      2920.228000          0   \n48                    False                 False      2814.708000          0   \n49                    False                 False      2944.712000          0   \n\n       upperMarginsRPM          timestampMW  valueMW  expectedValuesMW  \\\nindex                                                                    \n0          3053.620000  2020-04-28 17:36:57   1590.0       3048.000000   \n1          3048.590000  2020-04-28 17:36:58   1510.0       2989.000000   \n2          3223.516667  2020-04-28 17:36:59   1648.0       2969.333333   \n3          2984.727500  2020-04-28 17:37:00   1622.0       2961.750000   \n4          3047.682000  2020-04-28 17:37:01   1629.0       2978.800000   \n5          3043.884000  2020-04-28 17:37:02   1467.0       2934.400000   \n6          3112.404000  2020-04-28 17:37:03   1603.0       2970.600000   \n7          3127.162000  2020-04-28 17:37:04   1469.0       3009.800000   \n8          3243.716000  2020-04-28 17:37:05   1475.0       3070.400000   \n9          3181.586000  2020-04-28 17:37:06   1387.0       3041.600000   \n10         3125.596000  2020-04-28 17:37:07   1583.0       3085.600000   \n11         3277.002000  2020-04-28 17:37:10   1526.0       3014.200000   \n12         3084.290000  2020-04-28 17:37:11   1619.0       2954.000000   \n13         2897.200000  2020-04-28 17:37:12   1628.0       2877.000000   \n14         3061.516000  2020-04-28 17:37:13   1571.0       2908.400000   \n15         3093.744000  2020-04-28 17:37:14   1612.0       2917.600000   \n16         3146.492000  2020-04-28 17:37:15   1614.0       2995.800000   \n17         3132.748000  2020-04-28 17:37:16   1554.0       3057.200000   \n18         3232.042000  2020-04-28 17:37:17   1475.0       3066.200000   \n19         3153.682000  2020-04-28 17:37:18   1619.0       3084.800000   \n20         3283.032000  2020-04-28 17:37:19   1596.0       3017.200000   \n21         3098.490000  2020-04-28 17:37:20   1574.0       2948.000000   \n22         3021.776000  2020-04-28 17:37:21   1357.0       2862.600000   \n23         2896.982000  2020-04-28 17:37:22   1415.0       2838.200000   \n24         3067.444000  2020-04-28 17:37:23   1383.0       2820.600000   \n25         3023.478000  2020-04-28 17:37:24   1593.0       2874.200000   \n26         3133.912000  2020-04-28 17:37:25   1597.0       2940.800000   \n27         3162.542000  2020-04-28 17:37:26   1538.0       2946.200000   \n28         2997.326000  2020-04-28 17:37:27   1432.0       2984.600000   \n29         2975.140000  2020-04-28 17:37:29   1354.0       2961.000000   \n30         3039.746000  2020-04-28 17:37:30   1649.0       2964.400000   \n31         3251.612000  2020-04-28 17:37:31   1604.0       2987.800000   \n32         3255.278000  2020-04-28 17:37:32   1456.0       2984.800000   \n33         3053.056000  2020-04-28 17:37:33   1504.0       2966.600000   \n34         3261.300000  2020-04-28 17:37:34   1515.0       3029.000000   \n35         3195.220000  2020-04-28 17:37:35   1384.0       2971.000000   \n36         2968.076000  2020-04-28 17:37:36   1476.0       2879.600000   \n37         2932.789158  2020-04-28 17:37:37    956.0       2921.978947   \n38         3052.135684  2020-04-28 17:37:38   1430.0       2892.778947   \n39         3045.942211  2020-04-28 17:37:39   1455.0       2849.778947   \n40         2924.813684  2020-04-28 17:37:40   1448.0       2858.578947   \n41         2957.439684  2020-04-28 17:37:41   1587.0       2848.178947   \n42         3118.304000  2020-04-28 17:37:42   1385.0       2885.600000   \n43         2949.546000  2020-04-28 17:37:43   1580.0       2914.600000   \n44         2930.434000  2020-04-28 17:37:44   1432.0       2866.400000   \n45         3294.250000  2020-04-28 17:37:45   1394.0       2966.000000   \n46         3124.812000  2020-04-28 17:37:46   1480.0       3042.800000   \n47         3197.372000  2020-04-28 17:37:49   1624.0       3058.800000   \n48         3277.692000  2020-04-28 17:37:50   1645.0       3046.200000   \n49         3204.888000  2020-04-28 17:37:51   1507.0       3074.800000   \n\n       isAnomalyMW  isNegativeAnomalyMW  isPositiveAnomalyMW  lowerMarginsMW  \\\nindex                                                                          \n0            False                False                False     3042.380000   \n1            False                False                False     2929.410000   \n2            False                False                False     2715.150000   \n3            False                False                False     2938.772500   \n4            False                False                False     2909.918000   \n5            False                False                False     2824.916000   \n6            False                False                False     2828.796000   \n7            False                False                False     2892.438000   \n8            False                False                False     2897.084000   \n9            False                False                False     2901.614000   \n10           False                False                False     3045.604000   \n11           False                False                False     2751.398000   \n12           False                False                False     2823.710000   \n13           False                False                False     2856.800000   \n14           False                False                False     2755.284000   \n15           False                False                False     2741.456000   \n16           False                False                False     2845.108000   \n17           False                False                False     2981.652000   \n18           False                False                False     2900.358000   \n19           False                False                False     3015.918000   \n20           False                False                False     2751.368000   \n21           False                False                False     2797.510000   \n22           False                False                False     2703.424000   \n23           False                False                False     2779.418000   \n24           False                False                False     2573.756000   \n25           False                False                False     2724.922000   \n26           False                False                False     2747.688000   \n27           False                False                False     2729.858000   \n28           False                False                False     2971.874000   \n29           False                False                False     2946.860000   \n30           False                False                False     2889.054000   \n31           False                False                False     2723.988000   \n32           False                False                False     2714.322000   \n33           False                False                False     2880.144000   \n34           False                False                False     2796.700000   \n35           False                False                False     2746.780000   \n36           False                False                False     2791.124000   \n37            True                False                 True     2911.168737   \n38           False                False                False     2733.422211   \n39           False                False                False     2653.615684   \n40           False                False                False     2792.344211   \n41           False                False                False     2738.918211   \n42           False                False                False     2652.896000   \n43           False                False                False     2879.654000   \n44           False                False                False     2802.366000   \n45           False                False                False     2637.750000   \n46           False                False                False     2960.788000   \n47           False                False                False     2920.228000   \n48           False                False                False     2814.708000   \n49           False                False                False     2944.712000   \n\n       periodMW  upperMarginsMW deviceId  \nindex                                     \n0             0     3053.620000    dev-1  \n1             0     3048.590000    dev-1  \n2             0     3223.516667    dev-1  \n3             0     2984.727500    dev-1  \n4             0     3047.682000    dev-1  \n5             0     3043.884000    dev-1  \n6             0     3112.404000    dev-1  \n7             0     3127.162000    dev-1  \n8             0     3243.716000    dev-1  \n9             0     3181.586000    dev-1  \n10            0     3125.596000    dev-1  \n11            0     3277.002000    dev-1  \n12            0     3084.290000    dev-1  \n13            0     2897.200000    dev-1  \n14            0     3061.516000    dev-1  \n15            0     3093.744000    dev-1  \n16            0     3146.492000    dev-1  \n17            0     3132.748000    dev-1  \n18            0     3232.042000    dev-1  \n19            0     3153.682000    dev-1  \n20            0     3283.032000    dev-1  \n21            0     3098.490000    dev-1  \n22            0     3021.776000    dev-1  \n23            0     2896.982000    dev-1  \n24            0     3067.444000    dev-1  \n25            0     3023.478000    dev-1  \n26            0     3133.912000    dev-1  \n27            0     3162.542000    dev-1  \n28            0     2997.326000    dev-1  \n29            0     2975.140000    dev-1  \n30            0     3039.746000    dev-1  \n31            0     3251.612000    dev-1  \n32            0     3255.278000    dev-1  \n33            0     3053.056000    dev-1  \n34            0     3261.300000    dev-1  \n35            0     3195.220000    dev-1  \n36            0     2968.076000    dev-1  \n37            0     2932.789158    dev-1  \n38            0     3052.135684    dev-1  \n39            0     3045.942211    dev-1  \n40            0     2924.813684    dev-1  \n41            0     2957.439684    dev-1  \n42            0     3118.304000    dev-1  \n43            0     2949.546000    dev-1  \n44            0     2930.434000    dev-1  \n45            0     3294.250000    dev-1  \n46            0     3124.812000    dev-1  \n47            0     3197.372000    dev-1  \n48            0     3277.692000    dev-1  \n49            0     3204.888000    dev-1  "
          },
          "execution_count": 24,
          "metadata": {
            "application/vnd.dataresource+json": {
              "__altered": false,
              "_root": {
                "entries": [
                  [
                    "__altered",
                    false
                  ],
                  [
                    "_root",
                    {
                      "entries": [
                        [
                          "__altered",
                          false
                        ],
                        [
                          "_root",
                          {
                            "entries": [
                              [
                                "__altered",
                                false
                              ],
                              [
                                "_root",
                                {
                                  "entries": [
                                    [
                                      "__altered",
                                      false
                                    ],
                                    [
                                      "_root",
                                      {
                                        "entries": [
                                          [
                                            "dx",
                                            {
                                              "areaType": "hexbin",
                                              "barGrouping": "Clustered",
                                              "chart": {
                                                "dim1": "isNegativeAnomalyRPM",
                                                "dim2": "isNegativeAnomalyMW",
                                                "dim3": "none",
                                                "metric1": "valueRPM",
                                                "metric2": "expectedValuesRPM",
                                                "metric3": "none",
                                                "metric4": "none",
                                                "networkLabel": "none",
                                                "timeseriesSort": "array-order"
                                              },
                                              "colors": [
                                                "#DA752E",
                                                "#E5C209",
                                                "#1441A0",
                                                "#B86117",
                                                "#4D430C",
                                                "#1DB390",
                                                "#B3331D",
                                                "#088EB2",
                                                "#417505",
                                                "#E479A8",
                                                "#F9F39E",
                                                "#5782DC",
                                                "#EBA97B",
                                                "#A2AB60",
                                                "#B291CF",
                                                "#8DD2C2",
                                                "#E6A19F",
                                                "#3DC7E0",
                                                "#98CE5B"
                                              ],
                                              "hierarchyType": "dendrogram",
                                              "lineType": "line",
                                              "marginalGraphics": "none",
                                              "networkType": "force",
                                              "pieceType": "bar",
                                              "selectedDimensions": [
                                                "isNegativeAnomalyRPM"
                                              ],
                                              "selectedMetrics": [
                                                "valueRPM",
                                                "expectedValuesRPM",
                                                "lowerMarginsRPM",
                                                "upperMarginsRPM"
                                              ],
                                              "summaryType": "violin",
                                              "trendLine": "none",
                                              "view": "grid"
                                            }
                                          ]
                                        ],
                                        "ownerID": {}
                                      }
                                    ],
                                    [
                                      "dx",
                                      {
                                        "areaType": "hexbin",
                                        "barGrouping": "Clustered",
                                        "chart": {
                                          "dim1": "isNegativeAnomalyRPM",
                                          "dim2": "isNegativeAnomalyMW",
                                          "dim3": "none",
                                          "metric1": "valueRPM",
                                          "metric2": "expectedValuesRPM",
                                          "metric3": "none",
                                          "metric4": "none",
                                          "networkLabel": "none",
                                          "timeseriesSort": "array-order"
                                        },
                                        "colors": [
                                          "#DA752E",
                                          "#E5C209",
                                          "#1441A0",
                                          "#B86117",
                                          "#4D430C",
                                          "#1DB390",
                                          "#B3331D",
                                          "#088EB2",
                                          "#417505",
                                          "#E479A8",
                                          "#F9F39E",
                                          "#5782DC",
                                          "#EBA97B",
                                          "#A2AB60",
                                          "#B291CF",
                                          "#8DD2C2",
                                          "#E6A19F",
                                          "#3DC7E0",
                                          "#98CE5B"
                                        ],
                                        "hierarchyType": "dendrogram",
                                        "lineType": "line",
                                        "marginalGraphics": "none",
                                        "networkType": "force",
                                        "pieceType": "bar",
                                        "selectedDimensions": [
                                          "isNegativeAnomalyRPM"
                                        ],
                                        "selectedMetrics": [],
                                        "summaryType": "violin",
                                        "trendLine": "none",
                                        "view": "grid"
                                      }
                                    ],
                                    [
                                      "size",
                                      1
                                    ]
                                  ],
                                  "ownerID": {}
                                }
                              ],
                              [
                                "dx",
                                {
                                  "areaType": "hexbin",
                                  "barGrouping": "Clustered",
                                  "chart": {
                                    "dim1": "isNegativeAnomalyRPM",
                                    "dim2": "isNegativeAnomalyMW",
                                    "dim3": "none",
                                    "metric1": "valueRPM",
                                    "metric2": "expectedValuesRPM",
                                    "metric3": "none",
                                    "metric4": "none",
                                    "networkLabel": "none",
                                    "timeseriesSort": "array-order"
                                  },
                                  "colors": [
                                    "#DA752E",
                                    "#E5C209",
                                    "#1441A0",
                                    "#B86117",
                                    "#4D430C",
                                    "#1DB390",
                                    "#B3331D",
                                    "#088EB2",
                                    "#417505",
                                    "#E479A8",
                                    "#F9F39E",
                                    "#5782DC",
                                    "#EBA97B",
                                    "#A2AB60",
                                    "#B291CF",
                                    "#8DD2C2",
                                    "#E6A19F",
                                    "#3DC7E0",
                                    "#98CE5B"
                                  ],
                                  "hierarchyType": "dendrogram",
                                  "lineType": "line",
                                  "marginalGraphics": "none",
                                  "networkType": "force",
                                  "pieceType": "bar",
                                  "selectedDimensions": [
                                    "isNegativeAnomalyRPM"
                                  ],
                                  "selectedMetrics": [],
                                  "summaryType": "violin",
                                  "trendLine": "none",
                                  "view": "grid"
                                }
                              ],
                              [
                                "size",
                                4
                              ]
                            ],
                            "ownerID": {}
                          }
                        ],
                        [
                          "dx",
                          {
                            "areaType": "hexbin",
                            "barGrouping": "Clustered",
                            "chart": {
                              "dim1": "isNegativeAnomalyRPM",
                              "dim2": "isNegativeAnomalyMW",
                              "dim3": "none",
                              "metric1": "valueRPM",
                              "metric2": "expectedValuesRPM",
                              "metric3": "none",
                              "metric4": "none",
                              "networkLabel": "none",
                              "timeseriesSort": "array-order"
                            },
                            "colors": [
                              "#DA752E",
                              "#E5C209",
                              "#1441A0",
                              "#B86117",
                              "#4D430C",
                              "#1DB390",
                              "#B3331D",
                              "#088EB2",
                              "#417505",
                              "#E479A8",
                              "#F9F39E",
                              "#5782DC",
                              "#EBA97B",
                              "#A2AB60",
                              "#B291CF",
                              "#8DD2C2",
                              "#E6A19F",
                              "#3DC7E0",
                              "#98CE5B"
                            ],
                            "hierarchyType": "dendrogram",
                            "lineType": "line",
                            "marginalGraphics": "none",
                            "networkType": "force",
                            "pieceType": "bar",
                            "selectedDimensions": [
                              "isNegativeAnomalyRPM"
                            ],
                            "selectedMetrics": [],
                            "summaryType": "violin",
                            "trendLine": "none",
                            "view": "grid"
                          }
                        ],
                        [
                          "size",
                          4
                        ]
                      ],
                      "ownerID": {}
                    }
                  ],
                  [
                    "dx",
                    {
                      "areaType": "hexbin",
                      "barGrouping": "Clustered",
                      "chart": {
                        "dim1": "isNegativeAnomalyRPM",
                        "dim2": "isNegativeAnomalyMW",
                        "dim3": "none",
                        "metric1": "valueRPM",
                        "metric2": "expectedValuesRPM",
                        "metric3": "none",
                        "metric4": "none",
                        "networkLabel": "none",
                        "timeseriesSort": "array-order"
                      },
                      "colors": [
                        "#DA752E",
                        "#E5C209",
                        "#1441A0",
                        "#B86117",
                        "#4D430C",
                        "#1DB390",
                        "#B3331D",
                        "#088EB2",
                        "#417505",
                        "#E479A8",
                        "#F9F39E",
                        "#5782DC",
                        "#EBA97B",
                        "#A2AB60",
                        "#B291CF",
                        "#8DD2C2",
                        "#E6A19F",
                        "#3DC7E0",
                        "#98CE5B"
                      ],
                      "hierarchyType": "dendrogram",
                      "lineType": "line",
                      "marginalGraphics": "none",
                      "networkType": "force",
                      "pieceType": "bar",
                      "selectedDimensions": [
                        "isNegativeAnomalyRPM"
                      ],
                      "selectedMetrics": [],
                      "summaryType": "violin",
                      "trendLine": "none",
                      "view": "grid"
                    }
                  ],
                  [
                    "size",
                    4
                  ]
                ],
                "ownerID": {}
              },
              "dx": {
                "areaType": "hexbin",
                "barGrouping": "Clustered",
                "chart": {
                  "dim1": "isNegativeAnomalyRPM",
                  "dim2": "isNegativeAnomalyMW",
                  "dim3": "none",
                  "metric1": "valueRPM",
                  "metric2": "expectedValuesRPM",
                  "metric3": "none",
                  "metric4": "none",
                  "networkLabel": "none",
                  "timeseriesSort": "array-order"
                },
                "colors": [
                  "#DA752E",
                  "#E5C209",
                  "#1441A0",
                  "#B86117",
                  "#4D430C",
                  "#1DB390",
                  "#B3331D",
                  "#088EB2",
                  "#417505",
                  "#E479A8",
                  "#F9F39E",
                  "#5782DC",
                  "#EBA97B",
                  "#A2AB60",
                  "#B291CF",
                  "#8DD2C2",
                  "#E6A19F",
                  "#3DC7E0",
                  "#98CE5B"
                ],
                "hierarchyType": "dendrogram",
                "lineType": "line",
                "marginalGraphics": "none",
                "networkType": "force",
                "pieceType": "bar",
                "selectedDimensions": [
                  "isNegativeAnomalyRPM"
                ],
                "selectedMetrics": [],
                "summaryType": "violin",
                "trendLine": "none",
                "view": "grid"
              },
              "size": 4
            }
          },
          "output_type": "execute_result"
        }
      ],
      "source": "output_df.head(50)\n"
    },
    {
      "cell_type": "markdown",
      "metadata": {
        "nteract": {
          "transient": {
            "deleting": false
          }
        }
      },
      "source": "## Step 12 - Loading the Anomalies into Azure Cosmos DB\n\nNow let's load the results into Azure Cosmos Db, for archiving and future analysis. \n\n&nbsp;\n\n>**Did you know?** Azure Cosmos DB guarantees less than 10-ms latencies for reads and writes at the 99th percentile, all around the world. [Learn more](https://docs.microsoft.com/en-us/azure/cosmos-db/introduction#guaranteed-low-latency-at-99th-percentile-worldwide).\n\n\n**THIS FUNCTION DOESN'T TEST IF THE SAME DATA WAS UPLOADED BEFORE.**"
    },
    {
      "cell_type": "code",
      "execution_count": 25,
      "metadata": {
        "collapsed": false,
        "execution": {
          "iopub.execute_input": "2020-04-29T16:06:53.334Z",
          "iopub.status.busy": "2020-04-29T16:06:53.327Z",
          "iopub.status.idle": "2020-04-29T16:07:06.239Z",
          "shell.execute_reply": "2020-04-29T16:07:06.252Z"
        },
        "jupyter": {
          "outputs_hidden": false,
          "source_hidden": false
        },
        "nteract": {
          "transient": {
            "deleting": false
          }
        },
        "trusted": false
      },
      "outputs": [
        {
          "name": "stdout",
          "output_type": "stream",
          "text": "<DatabaseProxy [dbs/CosmosAnalyticsDemoDb]> ok\n<ContainerProxy [dbs/CosmosAnalyticsDemoDb/colls/IotAnomalies]> ok\nNumber of docs uploaded:  10\nNumber of docs uploaded:  20\nNumber of docs uploaded:  30\nNumber of docs uploaded:  40\nNumber of docs uploaded:  50\nNumber of docs uploaded:  60\nNumber of docs uploaded:  70\nNumber of docs uploaded:  80\nNumber of docs uploaded:  90\nNumber of docs uploaded:  100\nNumber of docs uploaded:  110\nNumber of docs uploaded:  120\nNumber of docs uploaded:  130\nNumber of docs uploaded:  140\nNumber of docs uploaded:  150\nNumber of docs uploaded:  160\nNumber of docs uploaded:  170\nNumber of docs uploaded:  180\nNumber of docs uploaded:  190\nNumber of docs uploaded:  200\nNumber of docs uploaded:  210\nNumber of docs uploaded:  220\nNumber of docs uploaded:  230\nNumber of docs uploaded:  240\nNumber of docs uploaded:  250\nNumber of docs uploaded:  260\nNumber of docs uploaded:  270\nNumber of docs uploaded:  280\nNumber of docs uploaded:  290\nNumber of docs uploaded:  300\nNumber of docs uploaded:  310\nNumber of docs uploaded:  320\nNumber of docs uploaded:  330\nNumber of docs uploaded:  340\nNumber of docs uploaded:  350\nNumber of docs uploaded:  360\nNumber of docs uploaded:  370\nNumber of docs uploaded:  380\nNumber of docs uploaded:  390\nNumber of docs uploaded:  400\nNumber of docs uploaded:  410\nNumber of docs uploaded:  420\nNumber of docs uploaded:  430\nNumber of docs uploaded:  440\nNumber of docs uploaded:  450\nNumber of docs uploaded:  460\nNumber of docs uploaded:  470\nNumber of docs uploaded:  480\nNumber of docs uploaded:  490\n"
        }
      ],
      "source": "###########################################################################################\n# Loading the Data into Azure Cosmos DB\n###########################################################################################\n\n#  Initialization\ndb_name = \"CosmosAnalyticsDemoDb\"\ncontainer_name = \"IotAnomalies\"\npartition_key_value = \"/deviceId\" #Thinking that in the future you will have multiple devices.Also, data will probably analyzed per device.\n\n# Key Objects Creation\n\ndatabase_client = cosmos_client.create_database_if_not_exists(db_name)\nprint(database_client, 'ok')\n\ncontainer_client = database_client.create_container_if_not_exists(id=container_name, partition_key=PartitionKey(path=partition_key_value),offer_throughput=400)\nprint(container_client, 'ok')\n\nfor i in range(0, len(output_df)):\n    \n    if (i % 10 == 0 ) and (i > 0): #let's report the progress for each 10 docs uploaded\n        print ('Number of docs uploaded: ', i)\n   \n    adMetaData = {\n    'id' : str(uuid.uuid4()),\n    'deviceId' :output_df.iloc[i]['deviceId'], \n    'timestamp' : output_df.iloc[i]['timestampRPM'], #Doesn't matter, for this column RPM = MW\n    'originalMWValue' : int(output_df.iloc[i]['valueMW']),\n    'expectedValuesMW' : int(output_df.iloc[i]['expectedValuesMW']), # Keeping 'values', plural as the original name.\n    'output_df' : str(output_df.iloc[i]['isAnomalyMW']).lower(),\n    'isNegativeAnomalyMW' : str(output_df.iloc[i]['isNegativeAnomalyMW']).lower(),\n    'isPositiveAnomalyMW' : str(output_df.iloc[i]['isPositiveAnomalyMW']).lower(),\n    'lowerMarginsMW' : int(output_df.iloc[i]['lowerMarginsMW']),\n    'upperMarginsMW' : int(output_df.iloc[i]['upperMarginsMW']),\n    'periodMW' : int(output_df.iloc[i]['periodMW']),\n    'originalRPMValue' : output_df.iloc[i]['valueRPM'],\n    'expectedValuesRPM' : output_df.iloc[i]['expectedValuesRPM'], # Keeping 'values', plural as the original name.\n    'isAnomalyRPM' : str(output_df.iloc[i]['isAnomalyRPM']).lower(),\n    'isNegativeAnomalyRPM' : str(output_df.iloc[i]['isNegativeAnomalyRPM']).lower(),\n    'isPositiveAnomalyRPM' : str(output_df.iloc[i]['isPositiveAnomalyRPM']).lower(),\n    'lowerMarginsRPM' : int(output_df.iloc[i]['lowerMarginsRPM']),\n    'upperMarginsRPM' : int(output_df.iloc[i]['upperMarginsRPM']),\n    'periodRPM' : int(output_df.iloc[i]['periodRPM'])\n    }\n    container_client.create_item(body=adMetaData)"
    },
    {
      "cell_type": "markdown",
      "metadata": {
        "nteract": {
          "transient": {
            "deleting": false
          }
        }
      },
      "source": "## Step 13 - Checking the Anomalies Container\n\nLet's check the documents we uploaded to the container."
    },
    {
      "cell_type": "code",
      "execution_count": 28,
      "metadata": {
        "collapsed": false,
        "execution": {
          "iopub.status.busy": "2020-04-29T16:07:11.557Z",
          "iopub.status.idle": "2020-04-29T16:07:11.600Z",
          "shell.execute_reply": "2020-04-29T16:07:11.615Z"
        },
        "jupyter": {
          "outputs_hidden": false,
          "source_hidden": false
        },
        "nteract": {
          "transient": {
            "deleting": false
          }
        },
        "trusted": false
      },
      "outputs": [],
      "source": "%container IotAnomalies"
    },
    {
      "cell_type": "code",
      "execution_count": 29,
      "metadata": {
        "collapsed": false,
        "execution": {
          "iopub.status.busy": "2020-04-29T16:07:13.993Z",
          "iopub.status.idle": "2020-04-29T16:07:14.036Z",
          "shell.execute_reply": "2020-04-29T16:07:14.052Z"
        },
        "jupyter": {
          "outputs_hidden": false,
          "source_hidden": false
        },
        "nteract": {
          "transient": {
            "deleting": false
          }
        },
        "trusted": false
      },
      "outputs": [],
      "source": "%database CosmosAnalyticsDemoDb"
    },
    {
      "cell_type": "code",
      "execution_count": 26,
      "metadata": {
        "collapsed": false,
        "execution": {
          "iopub.execute_input": "2020-04-29T16:07:16.251Z",
          "iopub.status.busy": "2020-04-29T16:07:16.240Z",
          "iopub.status.idle": "2020-04-29T16:07:16.298Z",
          "shell.execute_reply": "2020-04-29T16:07:16.310Z"
        },
        "jupyter": {
          "outputs_hidden": false,
          "source_hidden": false
        },
        "nteract": {
          "transient": {
            "deleting": false
          }
        },
        "trusted": false
      },
      "outputs": [
        {
          "data": {
            "text/html": "\r\n<div>\r\n  <style type='text/css' scoped>\r\n.collapsible {\r\n  background-color: #fff;\r\n  color: #0078D4;\r\n  cursor: pointer;\r\n  padding: 10px;\r\n  border: none;\r\n  text-align: left;\r\n  outline: none;\r\n  font-size: 15px;\r\n  border-radius: 5px;\r\n  margin: 5px\r\n}\r\n\r\n.active, .collapsible:hover {\r\n  color: #4db2ff;\r\n}\r\n\r\n.content {\r\n  margin: 2px;\r\n  padding: 0 18px;\r\n  overflow: hidden;\r\n  background-color: #fff;\r\n  height: 0px;\r\n  -moz-transition: height .2s ease-out;\r\n  -ms-transition: height .2s ease-out;\r\n  -o-transition: height .2s ease-out;\r\n  -webkit-transition: height .2s ease-out;\r\n  transition: height .2s ease-out;\r\n}\r\n</style>\r\n\r\n<button type='button' class='collapsible'>▶ View Query Metrics</button>\r\n  \r\n<div class='content'>\r\n  <div class='measuringWrapper'>\r\n    <span style=\"color:#0078D4\"><b>totalExecutionTimeInMs    </b>:    0.61<br/><b>queryCompileTimeInMs    </b>:    0.12<br/><b>queryLogicalPlanBuildTimeInMs    </b>:    0.04<br/><b>queryPhysicalPlanBuildTimeInMs    </b>:    0.05<br/><b>queryOptimizationTimeInMs    </b>:    0<br/><b>VMExecutionTimeInMs    </b>:    0.21<br/><b>indexLookupTimeInMs    </b>:    0.19<br/><b>documentLoadTimeInMs    </b>:    0<br/><b>systemFunctionExecuteTimeInMs    </b>:    0<br/><b>userFunctionExecuteTimeInMs    </b>:    0<br/><b>retrievedDocumentCount    </b>:    0<br/><b>retrievedDocumentSize    </b>:    0<br/><b>outputDocumentCount    </b>:    1<br/><b>outputDocumentSize    </b>:    81<br/><b>writeOutputTimeInMs    </b>:    0<br/><b>averageIndexUtilizationRation    </b>:    1<br/></span>\r\n  </div>\r\n</div>\r\n\r\n<script>\r\nvar coll = document.getElementsByClassName('collapsible');\r\nvar i;\r\n\r\nfor (i = 0; i < coll.length; i++) {\r\n  \r\n  coll[i].addEventListener('click', function() {\r\n    this.classList.toggle('active');\r\n    var content = this.nextElementSibling;\r\n    \r\n    if (content.clientHeight != 0) {\r\n      this.textContent = '▶ View Query Metrics';\r\n      content.style.height = '0px';\r\n    }\r\n    else {\r\n      this.textContent = '▼ Hide Query Metrics';\r\n      content.style.height = content.children[0].clientHeight + 'px';\r\n    }\r\n  });\r\n}\r\n</script>\r\n</div>"
          },
          "metadata": {
            "application/vnd.dataresource+json": {
              "dx": {
                "areaType": "hexbin",
                "barGrouping": "Clustered",
                "chart": {
                  "dim1": "none",
                  "dim2": "none",
                  "dim3": "none",
                  "metric1": "$1",
                  "metric2": "none",
                  "metric3": "none",
                  "metric4": "none",
                  "networkLabel": "none",
                  "timeseriesSort": "array-order"
                },
                "colors": [
                  "#DA752E",
                  "#E5C209",
                  "#1441A0",
                  "#B86117",
                  "#4D430C",
                  "#1DB390",
                  "#B3331D",
                  "#088EB2",
                  "#417505",
                  "#E479A8",
                  "#F9F39E",
                  "#5782DC",
                  "#EBA97B",
                  "#A2AB60",
                  "#B291CF",
                  "#8DD2C2",
                  "#E6A19F",
                  "#3DC7E0",
                  "#98CE5B"
                ],
                "hierarchyType": "dendrogram",
                "lineType": "line",
                "marginalGraphics": "none",
                "networkType": "force",
                "pieceType": "bar",
                "selectedDimensions": [],
                "selectedMetrics": [],
                "summaryType": "violin",
                "trendLine": "none",
                "view": "grid"
              }
            }
          },
          "output_type": "display_data"
        },
        {
          "data": {
            "application/vnd.dataresource+json": {
              "data": [
                {
                  "$1": 1978,
                  "index": 0
                }
              ],
              "schema": {
                "fields": [
                  {
                    "name": "index",
                    "type": "integer"
                  },
                  {
                    "name": "$1",
                    "type": "integer"
                  }
                ],
                "pandas_version": "0.20.0",
                "primaryKey": [
                  "index"
                ]
              }
            },
            "text/html": "<div>\n<style scoped>\n    .dataframe tbody tr th:only-of-type {\n        vertical-align: middle;\n    }\n\n    .dataframe tbody tr th {\n        vertical-align: top;\n    }\n\n    .dataframe thead th {\n        text-align: right;\n    }\n</style>\n<table border=\"1\" class=\"dataframe\">\n  <thead>\n    <tr style=\"text-align: right;\">\n      <th></th>\n      <th>$1</th>\n    </tr>\n  </thead>\n  <tbody>\n    <tr>\n      <th>0</th>\n      <td>1978</td>\n    </tr>\n  </tbody>\n</table>\n</div>",
            "text/plain": "     $1\n0  1978"
          },
          "execution_count": 26,
          "metadata": {},
          "output_type": "execute_result"
        }
      ],
      "source": "%%sql \nSELECT count(1) FROM c "
    },
    {
      "cell_type": "code",
      "execution_count": 27,
      "metadata": {
        "collapsed": true,
        "execution": {
          "iopub.execute_input": "2020-04-29T16:07:23.412Z",
          "iopub.status.busy": "2020-04-29T16:07:23.401Z",
          "iopub.status.idle": "2020-04-29T16:07:23.638Z",
          "shell.execute_reply": "2020-04-29T16:07:23.666Z"
        },
        "jupyter": {
          "outputs_hidden": false,
          "source_hidden": false
        },
        "nteract": {
          "transient": {
            "deleting": false
          }
        },
        "outputExpanded": false,
        "trusted": false
      },
      "outputs": [
        {
          "data": {
            "text/html": "\r\n<div>\r\n  <style type='text/css' scoped>\r\n.collapsible {\r\n  background-color: #fff;\r\n  color: #0078D4;\r\n  cursor: pointer;\r\n  padding: 10px;\r\n  border: none;\r\n  text-align: left;\r\n  outline: none;\r\n  font-size: 15px;\r\n  border-radius: 5px;\r\n  margin: 5px\r\n}\r\n\r\n.active, .collapsible:hover {\r\n  color: #4db2ff;\r\n}\r\n\r\n.content {\r\n  margin: 2px;\r\n  padding: 0 18px;\r\n  overflow: hidden;\r\n  background-color: #fff;\r\n  height: 0px;\r\n  -moz-transition: height .2s ease-out;\r\n  -ms-transition: height .2s ease-out;\r\n  -o-transition: height .2s ease-out;\r\n  -webkit-transition: height .2s ease-out;\r\n  transition: height .2s ease-out;\r\n}\r\n</style>\r\n\r\n<button type='button' class='collapsible'>▶ View Query Metrics</button>\r\n  \r\n<div class='content'>\r\n  <div class='measuringWrapper'>\r\n    <span style=\"color:#0078D4\"><b>totalExecutionTimeInMs    </b>:    2.98<br/><b>queryCompileTimeInMs    </b>:    0.12<br/><b>queryLogicalPlanBuildTimeInMs    </b>:    0.04<br/><b>queryPhysicalPlanBuildTimeInMs    </b>:    0.07<br/><b>queryOptimizationTimeInMs    </b>:    0<br/><b>VMExecutionTimeInMs    </b>:    2.5<br/><b>indexLookupTimeInMs    </b>:    0.35<br/><b>documentLoadTimeInMs    </b>:    1.68<br/><b>systemFunctionExecuteTimeInMs    </b>:    0<br/><b>userFunctionExecuteTimeInMs    </b>:    0<br/><b>retrievedDocumentCount    </b>:    32<br/><b>retrievedDocumentSize    </b>:    22287<br/><b>outputDocumentCount    </b>:    32<br/><b>outputDocumentSize    </b>:    4512<br/><b>writeOutputTimeInMs    </b>:    0.2<br/><b>averageIndexUtilizationRation    </b>:    1<br/></span>\r\n  </div>\r\n</div>\r\n\r\n<script>\r\nvar coll = document.getElementsByClassName('collapsible');\r\nvar i;\r\n\r\nfor (i = 0; i < coll.length; i++) {\r\n  \r\n  coll[i].addEventListener('click', function() {\r\n    this.classList.toggle('active');\r\n    var content = this.nextElementSibling;\r\n    \r\n    if (content.clientHeight != 0) {\r\n      this.textContent = '▶ View Query Metrics';\r\n      content.style.height = '0px';\r\n    }\r\n    else {\r\n      this.textContent = '▼ Hide Query Metrics';\r\n      content.style.height = content.children[0].clientHeight + 'px';\r\n    }\r\n  });\r\n}\r\n</script>\r\n</div>"
          },
          "metadata": {
            "application/vnd.dataresource+json": {
              "dx": {
                "areaType": "hexbin",
                "barGrouping": "Clustered",
                "chart": {
                  "dim1": "isAnomalyRPM",
                  "dim2": "deviceId",
                  "dim3": "none",
                  "metric1": "originalRPMValue",
                  "metric2": "expectedValuesRPM",
                  "metric3": "none",
                  "metric4": "none",
                  "networkLabel": "none",
                  "timeseriesSort": "array-order"
                },
                "colors": [
                  "#DA752E",
                  "#E5C209",
                  "#1441A0",
                  "#B86117",
                  "#4D430C",
                  "#1DB390",
                  "#B3331D",
                  "#088EB2",
                  "#417505",
                  "#E479A8",
                  "#F9F39E",
                  "#5782DC",
                  "#EBA97B",
                  "#A2AB60",
                  "#B291CF",
                  "#8DD2C2",
                  "#E6A19F",
                  "#3DC7E0",
                  "#98CE5B"
                ],
                "hierarchyType": "dendrogram",
                "lineType": "line",
                "marginalGraphics": "none",
                "networkType": "force",
                "pieceType": "bar",
                "selectedDimensions": [
                  "isAnomalyRPM"
                ],
                "selectedMetrics": [],
                "summaryType": "violin",
                "trendLine": "none",
                "view": "grid"
              }
            }
          },
          "output_type": "display_data"
        },
        {
          "data": {
            "application/vnd.dataresource+json": {
              "data": [
                {
                  "deviceId": "dev-1",
                  "expectedValuesRPM": 2857.8142857143,
                  "index": 0,
                  "isAnomalyRPM": "true",
                  "originalRPMValue": 4156,
                  "timestamp": "2020-04-17 18:03:07"
                },
                {
                  "deviceId": "dev-1",
                  "expectedValuesRPM": 3050.0444444444,
                  "index": 1,
                  "isAnomalyRPM": "true",
                  "originalRPMValue": 4223,
                  "timestamp": "2020-04-17 18:04:34"
                },
                {
                  "deviceId": "dev-1",
                  "expectedValuesRPM": 3054.2847058824,
                  "index": 2,
                  "isAnomalyRPM": "true",
                  "originalRPMValue": 3941,
                  "timestamp": "2020-04-17 18:05:41"
                },
                {
                  "deviceId": "dev-1",
                  "expectedValuesRPM": 2936.75625,
                  "index": 3,
                  "isAnomalyRPM": "true",
                  "originalRPMValue": 4091,
                  "timestamp": "2020-04-17 18:06:07"
                },
                {
                  "deviceId": "dev-2",
                  "expectedValuesRPM": 2910.1571428571,
                  "index": 4,
                  "isAnomalyRPM": "true",
                  "originalRPMValue": 3906,
                  "timestamp": "2020-04-17 18:03:07"
                },
                {
                  "deviceId": "dev-2",
                  "expectedValuesRPM": 3040.3283018868,
                  "index": 5,
                  "isAnomalyRPM": "true",
                  "originalRPMValue": 4070,
                  "timestamp": "2020-04-17 18:04:34"
                },
                {
                  "deviceId": "dev-2",
                  "expectedValuesRPM": 2966.7119047619,
                  "index": 6,
                  "isAnomalyRPM": "true",
                  "originalRPMValue": 3979,
                  "timestamp": "2020-04-17 18:05:41"
                },
                {
                  "deviceId": "dev-2",
                  "expectedValuesRPM": 2968.0354166667,
                  "index": 7,
                  "isAnomalyRPM": "true",
                  "originalRPMValue": 4009,
                  "timestamp": "2020-04-17 18:06:07"
                },
                {
                  "deviceId": "dev-1",
                  "expectedValuesRPM": 2857.8142857143,
                  "index": 8,
                  "isAnomalyRPM": "true",
                  "originalRPMValue": 4156,
                  "timestamp": "2020-04-17 18:03:07"
                },
                {
                  "deviceId": "dev-1",
                  "expectedValuesRPM": 3050.0444444444,
                  "index": 9,
                  "isAnomalyRPM": "true",
                  "originalRPMValue": 4223,
                  "timestamp": "2020-04-17 18:04:34"
                },
                {
                  "deviceId": "dev-1",
                  "expectedValuesRPM": 3054.2847058824,
                  "index": 10,
                  "isAnomalyRPM": "true",
                  "originalRPMValue": 3941,
                  "timestamp": "2020-04-17 18:05:41"
                },
                {
                  "deviceId": "dev-1",
                  "expectedValuesRPM": 2936.75625,
                  "index": 11,
                  "isAnomalyRPM": "true",
                  "originalRPMValue": 4091,
                  "timestamp": "2020-04-17 18:06:07"
                },
                {
                  "deviceId": "dev-2",
                  "expectedValuesRPM": 2910.1571428571,
                  "index": 12,
                  "isAnomalyRPM": "true",
                  "originalRPMValue": 3906,
                  "timestamp": "2020-04-17 18:03:07"
                },
                {
                  "deviceId": "dev-2",
                  "expectedValuesRPM": 3040.3283018868,
                  "index": 13,
                  "isAnomalyRPM": "true",
                  "originalRPMValue": 4070,
                  "timestamp": "2020-04-17 18:04:34"
                },
                {
                  "deviceId": "dev-2",
                  "expectedValuesRPM": 2966.7119047619,
                  "index": 14,
                  "isAnomalyRPM": "true",
                  "originalRPMValue": 3979,
                  "timestamp": "2020-04-17 18:05:41"
                },
                {
                  "deviceId": "dev-2",
                  "expectedValuesRPM": 2968.0354166667,
                  "index": 15,
                  "isAnomalyRPM": "true",
                  "originalRPMValue": 4009,
                  "timestamp": "2020-04-17 18:06:07"
                },
                {
                  "deviceId": "dev-1",
                  "expectedValuesRPM": 3014.6367346939,
                  "index": 16,
                  "isAnomalyRPM": "true",
                  "originalRPMValue": 4275,
                  "timestamp": "2020-04-21 19:04:26"
                },
                {
                  "deviceId": "dev-1",
                  "expectedValuesRPM": 3064.4035714286,
                  "index": 17,
                  "isAnomalyRPM": "true",
                  "originalRPMValue": 4268,
                  "timestamp": "2020-04-21 19:04:42"
                },
                {
                  "deviceId": "dev-1",
                  "expectedValuesRPM": 3038.1352941176,
                  "index": 18,
                  "isAnomalyRPM": "true",
                  "originalRPMValue": 4070,
                  "timestamp": "2020-04-21 19:06:15"
                },
                {
                  "deviceId": "dev-2",
                  "expectedValuesRPM": 2966.2742837177,
                  "index": 19,
                  "isAnomalyRPM": "true",
                  "originalRPMValue": 4372,
                  "timestamp": "2020-04-21 19:04:42"
                },
                {
                  "deviceId": "dev-2",
                  "expectedValuesRPM": 2956.4222222222,
                  "index": 20,
                  "isAnomalyRPM": "true",
                  "originalRPMValue": 4335,
                  "timestamp": "2020-04-21 19:06:15"
                },
                {
                  "deviceId": "dev-1",
                  "expectedValuesRPM": 2921.9789473684,
                  "index": 21,
                  "isAnomalyRPM": "true",
                  "originalRPMValue": 4003,
                  "timestamp": "2020-04-28 17:37:37"
                },
                {
                  "deviceId": "dev-1",
                  "expectedValuesRPM": 3046.7454545455,
                  "index": 22,
                  "isAnomalyRPM": "true",
                  "originalRPMValue": 4310,
                  "timestamp": "2020-04-28 17:38:11"
                },
                {
                  "deviceId": "dev-1",
                  "expectedValuesRPM": 2984.3378378378,
                  "index": 23,
                  "isAnomalyRPM": "true",
                  "originalRPMValue": 4367,
                  "timestamp": "2020-04-28 17:39:35"
                },
                {
                  "deviceId": "dev-1",
                  "expectedValuesRPM": 3060.4163265306,
                  "index": 24,
                  "isAnomalyRPM": "true",
                  "originalRPMValue": 4391,
                  "timestamp": "2020-04-28 17:40:29"
                },
                {
                  "deviceId": "dev-1",
                  "expectedValuesRPM": 2990.5740740741,
                  "index": 25,
                  "isAnomalyRPM": "true",
                  "originalRPMValue": 4060,
                  "timestamp": "2020-04-28 17:40:54"
                },
                {
                  "deviceId": "dev-1",
                  "expectedValuesRPM": 2971.3481481481,
                  "index": 26,
                  "isAnomalyRPM": "true",
                  "originalRPMValue": 4388,
                  "timestamp": "2020-04-28 17:40:55"
                },
                {
                  "deviceId": "dev-2",
                  "expectedValuesRPM": 2922.5473684211,
                  "index": 27,
                  "isAnomalyRPM": "true",
                  "originalRPMValue": 4080,
                  "timestamp": "2020-04-28 17:37:37"
                },
                {
                  "deviceId": "dev-2",
                  "expectedValuesRPM": 3125.1705882353,
                  "index": 28,
                  "isAnomalyRPM": "true",
                  "originalRPMValue": 4389,
                  "timestamp": "2020-04-28 17:38:11"
                },
                {
                  "deviceId": "dev-2",
                  "expectedValuesRPM": 2876.8351351351,
                  "index": 29,
                  "isAnomalyRPM": "true",
                  "originalRPMValue": 4325,
                  "timestamp": "2020-04-28 17:39:35"
                },
                {
                  "deviceId": "dev-2",
                  "expectedValuesRPM": 3090.7535353535,
                  "index": 30,
                  "isAnomalyRPM": "true",
                  "originalRPMValue": 4170,
                  "timestamp": "2020-04-28 17:40:29"
                },
                {
                  "deviceId": "dev-2",
                  "expectedValuesRPM": 3029.0854545454,
                  "index": 31,
                  "isAnomalyRPM": "true",
                  "originalRPMValue": 4322,
                  "timestamp": "2020-04-28 17:40:54"
                }
              ],
              "schema": {
                "fields": [
                  {
                    "name": "index",
                    "type": "integer"
                  },
                  {
                    "name": "timestamp",
                    "type": "string"
                  },
                  {
                    "name": "deviceId",
                    "type": "string"
                  },
                  {
                    "name": "isAnomalyRPM",
                    "type": "string"
                  },
                  {
                    "name": "originalRPMValue",
                    "type": "integer"
                  },
                  {
                    "name": "expectedValuesRPM",
                    "type": "number"
                  }
                ],
                "pandas_version": "0.20.0",
                "primaryKey": [
                  "index"
                ]
              }
            },
            "text/html": "<div>\n<style scoped>\n    .dataframe tbody tr th:only-of-type {\n        vertical-align: middle;\n    }\n\n    .dataframe tbody tr th {\n        vertical-align: top;\n    }\n\n    .dataframe thead th {\n        text-align: right;\n    }\n</style>\n<table border=\"1\" class=\"dataframe\">\n  <thead>\n    <tr style=\"text-align: right;\">\n      <th></th>\n      <th>timestamp</th>\n      <th>deviceId</th>\n      <th>isAnomalyRPM</th>\n      <th>originalRPMValue</th>\n      <th>expectedValuesRPM</th>\n    </tr>\n  </thead>\n  <tbody>\n    <tr>\n      <th>0</th>\n      <td>2020-04-17 18:03:07</td>\n      <td>dev-1</td>\n      <td>true</td>\n      <td>4156</td>\n      <td>2857.814286</td>\n    </tr>\n    <tr>\n      <th>1</th>\n      <td>2020-04-17 18:04:34</td>\n      <td>dev-1</td>\n      <td>true</td>\n      <td>4223</td>\n      <td>3050.044444</td>\n    </tr>\n    <tr>\n      <th>2</th>\n      <td>2020-04-17 18:05:41</td>\n      <td>dev-1</td>\n      <td>true</td>\n      <td>3941</td>\n      <td>3054.284706</td>\n    </tr>\n    <tr>\n      <th>3</th>\n      <td>2020-04-17 18:06:07</td>\n      <td>dev-1</td>\n      <td>true</td>\n      <td>4091</td>\n      <td>2936.756250</td>\n    </tr>\n    <tr>\n      <th>4</th>\n      <td>2020-04-17 18:03:07</td>\n      <td>dev-2</td>\n      <td>true</td>\n      <td>3906</td>\n      <td>2910.157143</td>\n    </tr>\n    <tr>\n      <th>5</th>\n      <td>2020-04-17 18:04:34</td>\n      <td>dev-2</td>\n      <td>true</td>\n      <td>4070</td>\n      <td>3040.328302</td>\n    </tr>\n    <tr>\n      <th>6</th>\n      <td>2020-04-17 18:05:41</td>\n      <td>dev-2</td>\n      <td>true</td>\n      <td>3979</td>\n      <td>2966.711905</td>\n    </tr>\n    <tr>\n      <th>7</th>\n      <td>2020-04-17 18:06:07</td>\n      <td>dev-2</td>\n      <td>true</td>\n      <td>4009</td>\n      <td>2968.035417</td>\n    </tr>\n    <tr>\n      <th>8</th>\n      <td>2020-04-17 18:03:07</td>\n      <td>dev-1</td>\n      <td>true</td>\n      <td>4156</td>\n      <td>2857.814286</td>\n    </tr>\n    <tr>\n      <th>9</th>\n      <td>2020-04-17 18:04:34</td>\n      <td>dev-1</td>\n      <td>true</td>\n      <td>4223</td>\n      <td>3050.044444</td>\n    </tr>\n    <tr>\n      <th>10</th>\n      <td>2020-04-17 18:05:41</td>\n      <td>dev-1</td>\n      <td>true</td>\n      <td>3941</td>\n      <td>3054.284706</td>\n    </tr>\n    <tr>\n      <th>11</th>\n      <td>2020-04-17 18:06:07</td>\n      <td>dev-1</td>\n      <td>true</td>\n      <td>4091</td>\n      <td>2936.756250</td>\n    </tr>\n    <tr>\n      <th>12</th>\n      <td>2020-04-17 18:03:07</td>\n      <td>dev-2</td>\n      <td>true</td>\n      <td>3906</td>\n      <td>2910.157143</td>\n    </tr>\n    <tr>\n      <th>13</th>\n      <td>2020-04-17 18:04:34</td>\n      <td>dev-2</td>\n      <td>true</td>\n      <td>4070</td>\n      <td>3040.328302</td>\n    </tr>\n    <tr>\n      <th>14</th>\n      <td>2020-04-17 18:05:41</td>\n      <td>dev-2</td>\n      <td>true</td>\n      <td>3979</td>\n      <td>2966.711905</td>\n    </tr>\n    <tr>\n      <th>15</th>\n      <td>2020-04-17 18:06:07</td>\n      <td>dev-2</td>\n      <td>true</td>\n      <td>4009</td>\n      <td>2968.035417</td>\n    </tr>\n    <tr>\n      <th>16</th>\n      <td>2020-04-21 19:04:26</td>\n      <td>dev-1</td>\n      <td>true</td>\n      <td>4275</td>\n      <td>3014.636735</td>\n    </tr>\n    <tr>\n      <th>17</th>\n      <td>2020-04-21 19:04:42</td>\n      <td>dev-1</td>\n      <td>true</td>\n      <td>4268</td>\n      <td>3064.403571</td>\n    </tr>\n    <tr>\n      <th>18</th>\n      <td>2020-04-21 19:06:15</td>\n      <td>dev-1</td>\n      <td>true</td>\n      <td>4070</td>\n      <td>3038.135294</td>\n    </tr>\n    <tr>\n      <th>19</th>\n      <td>2020-04-21 19:04:42</td>\n      <td>dev-2</td>\n      <td>true</td>\n      <td>4372</td>\n      <td>2966.274284</td>\n    </tr>\n    <tr>\n      <th>20</th>\n      <td>2020-04-21 19:06:15</td>\n      <td>dev-2</td>\n      <td>true</td>\n      <td>4335</td>\n      <td>2956.422222</td>\n    </tr>\n    <tr>\n      <th>21</th>\n      <td>2020-04-28 17:37:37</td>\n      <td>dev-1</td>\n      <td>true</td>\n      <td>4003</td>\n      <td>2921.978947</td>\n    </tr>\n    <tr>\n      <th>22</th>\n      <td>2020-04-28 17:38:11</td>\n      <td>dev-1</td>\n      <td>true</td>\n      <td>4310</td>\n      <td>3046.745455</td>\n    </tr>\n    <tr>\n      <th>23</th>\n      <td>2020-04-28 17:39:35</td>\n      <td>dev-1</td>\n      <td>true</td>\n      <td>4367</td>\n      <td>2984.337838</td>\n    </tr>\n    <tr>\n      <th>24</th>\n      <td>2020-04-28 17:40:29</td>\n      <td>dev-1</td>\n      <td>true</td>\n      <td>4391</td>\n      <td>3060.416327</td>\n    </tr>\n    <tr>\n      <th>25</th>\n      <td>2020-04-28 17:40:54</td>\n      <td>dev-1</td>\n      <td>true</td>\n      <td>4060</td>\n      <td>2990.574074</td>\n    </tr>\n    <tr>\n      <th>26</th>\n      <td>2020-04-28 17:40:55</td>\n      <td>dev-1</td>\n      <td>true</td>\n      <td>4388</td>\n      <td>2971.348148</td>\n    </tr>\n    <tr>\n      <th>27</th>\n      <td>2020-04-28 17:37:37</td>\n      <td>dev-2</td>\n      <td>true</td>\n      <td>4080</td>\n      <td>2922.547368</td>\n    </tr>\n    <tr>\n      <th>28</th>\n      <td>2020-04-28 17:38:11</td>\n      <td>dev-2</td>\n      <td>true</td>\n      <td>4389</td>\n      <td>3125.170588</td>\n    </tr>\n    <tr>\n      <th>29</th>\n      <td>2020-04-28 17:39:35</td>\n      <td>dev-2</td>\n      <td>true</td>\n      <td>4325</td>\n      <td>2876.835135</td>\n    </tr>\n    <tr>\n      <th>30</th>\n      <td>2020-04-28 17:40:29</td>\n      <td>dev-2</td>\n      <td>true</td>\n      <td>4170</td>\n      <td>3090.753535</td>\n    </tr>\n    <tr>\n      <th>31</th>\n      <td>2020-04-28 17:40:54</td>\n      <td>dev-2</td>\n      <td>true</td>\n      <td>4322</td>\n      <td>3029.085455</td>\n    </tr>\n  </tbody>\n</table>\n</div>",
            "text/plain": "              timestamp deviceId isAnomalyRPM  originalRPMValue  \\\n0   2020-04-17 18:03:07    dev-1         true              4156   \n1   2020-04-17 18:04:34    dev-1         true              4223   \n2   2020-04-17 18:05:41    dev-1         true              3941   \n3   2020-04-17 18:06:07    dev-1         true              4091   \n4   2020-04-17 18:03:07    dev-2         true              3906   \n5   2020-04-17 18:04:34    dev-2         true              4070   \n6   2020-04-17 18:05:41    dev-2         true              3979   \n7   2020-04-17 18:06:07    dev-2         true              4009   \n8   2020-04-17 18:03:07    dev-1         true              4156   \n9   2020-04-17 18:04:34    dev-1         true              4223   \n10  2020-04-17 18:05:41    dev-1         true              3941   \n11  2020-04-17 18:06:07    dev-1         true              4091   \n12  2020-04-17 18:03:07    dev-2         true              3906   \n13  2020-04-17 18:04:34    dev-2         true              4070   \n14  2020-04-17 18:05:41    dev-2         true              3979   \n15  2020-04-17 18:06:07    dev-2         true              4009   \n16  2020-04-21 19:04:26    dev-1         true              4275   \n17  2020-04-21 19:04:42    dev-1         true              4268   \n18  2020-04-21 19:06:15    dev-1         true              4070   \n19  2020-04-21 19:04:42    dev-2         true              4372   \n20  2020-04-21 19:06:15    dev-2         true              4335   \n21  2020-04-28 17:37:37    dev-1         true              4003   \n22  2020-04-28 17:38:11    dev-1         true              4310   \n23  2020-04-28 17:39:35    dev-1         true              4367   \n24  2020-04-28 17:40:29    dev-1         true              4391   \n25  2020-04-28 17:40:54    dev-1         true              4060   \n26  2020-04-28 17:40:55    dev-1         true              4388   \n27  2020-04-28 17:37:37    dev-2         true              4080   \n28  2020-04-28 17:38:11    dev-2         true              4389   \n29  2020-04-28 17:39:35    dev-2         true              4325   \n30  2020-04-28 17:40:29    dev-2         true              4170   \n31  2020-04-28 17:40:54    dev-2         true              4322   \n\n    expectedValuesRPM  \n0         2857.814286  \n1         3050.044444  \n2         3054.284706  \n3         2936.756250  \n4         2910.157143  \n5         3040.328302  \n6         2966.711905  \n7         2968.035417  \n8         2857.814286  \n9         3050.044444  \n10        3054.284706  \n11        2936.756250  \n12        2910.157143  \n13        3040.328302  \n14        2966.711905  \n15        2968.035417  \n16        3014.636735  \n17        3064.403571  \n18        3038.135294  \n19        2966.274284  \n20        2956.422222  \n21        2921.978947  \n22        3046.745455  \n23        2984.337838  \n24        3060.416327  \n25        2990.574074  \n26        2971.348148  \n27        2922.547368  \n28        3125.170588  \n29        2876.835135  \n30        3090.753535  \n31        3029.085455  "
          },
          "execution_count": 27,
          "metadata": {},
          "output_type": "execute_result"
        }
      ],
      "source": "%%sql \nSELECT c.timestamp, c.deviceId, c.isAnomalyRPM,c.originalRPMValue, c.expectedValuesRPM FROM c where  c.isAnomalyRPM = \"true\" "
    },
    {
      "cell_type": "markdown",
      "metadata": {
        "nteract": {
          "transient": {
            "deleting": false
          }
        }
      },
      "source": "## Next Steps\n\n&nbsp\n\nSuggested next steps are:\n\n&nbsp\n\n+ Use Power BI to [create dashboards](https://docs.microsoft.com/en-us/azure/cosmos-db/powerbi-visualize) on with BOTH containers data we created. Their combination is very powerful.\n+ Try our other Sample Notebooks.\n+ Send us your feedback or contribution in our [GitHub repo](https://github.com/Azure-Samples/cosmos-notebooks)."
    }
  ],
  "metadata": {
    "kernelspec": {
      "displayName": "Python 3",
      "language": "python",
      "name": "python3"
    },
    "language_info": {
      "file_extension": "ipynb",
      "mimetype": "application/json",
      "name": "python",
      "version": "3.7"
    },
    "nteract": {
      "version": "dataExplorer 1.0"
    }
  },
  "nbformat": 4,
  "nbformat_minor": 4
}